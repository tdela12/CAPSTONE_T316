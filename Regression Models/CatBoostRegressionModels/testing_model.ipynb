{
 "cells": [
  {
   "cell_type": "markdown",
   "id": "2f7e1b05",
   "metadata": {},
   "source": [
    "## Import Statements"
   ]
  },
  {
   "cell_type": "code",
   "execution_count": 1,
   "id": "3e4670d3",
   "metadata": {},
   "outputs": [],
   "source": [
    "import pandas as pd\n",
    "from sklearn.model_selection import train_test_split\n",
    "import numpy as np\n",
    "import matplotlib.pyplot as plt\n",
    "from sklearn.model_selection import GridSearchCV, RandomizedSearchCV\n",
    "from catboost import CatBoostRegressor\n"
   ]
  },
  {
   "cell_type": "markdown",
   "id": "a52d2b89",
   "metadata": {},
   "source": [
    "## Read in Data"
   ]
  },
  {
   "cell_type": "code",
   "execution_count": 2,
   "id": "04320f19",
   "metadata": {},
   "outputs": [
    {
     "data": {
      "text/html": [
       "<div>\n",
       "<style scoped>\n",
       "    .dataframe tbody tr th:only-of-type {\n",
       "        vertical-align: middle;\n",
       "    }\n",
       "\n",
       "    .dataframe tbody tr th {\n",
       "        vertical-align: top;\n",
       "    }\n",
       "\n",
       "    .dataframe thead th {\n",
       "        text-align: right;\n",
       "    }\n",
       "</style>\n",
       "<table border=\"1\" class=\"dataframe\">\n",
       "  <thead>\n",
       "    <tr style=\"text-align: right;\">\n",
       "      <th></th>\n",
       "      <th>Make</th>\n",
       "      <th>Model</th>\n",
       "      <th>Year</th>\n",
       "      <th>FuelType</th>\n",
       "      <th>EngineSize</th>\n",
       "      <th>DriveType</th>\n",
       "      <th>Distance</th>\n",
       "      <th>Months</th>\n",
       "      <th>AdjustedPrice</th>\n",
       "    </tr>\n",
       "  </thead>\n",
       "  <tbody>\n",
       "    <tr>\n",
       "      <th>1</th>\n",
       "      <td>SKODA</td>\n",
       "      <td>SKODA FABIA III</td>\n",
       "      <td>2017</td>\n",
       "      <td>Petrol</td>\n",
       "      <td>1.0</td>\n",
       "      <td>NaN</td>\n",
       "      <td>75000.0</td>\n",
       "      <td>60.0</td>\n",
       "      <td>703.0</td>\n",
       "    </tr>\n",
       "    <tr>\n",
       "      <th>4</th>\n",
       "      <td>MAZDA</td>\n",
       "      <td>MAZDA CX-9</td>\n",
       "      <td>2018</td>\n",
       "      <td>Petrol</td>\n",
       "      <td>2.5</td>\n",
       "      <td>2WD</td>\n",
       "      <td>80000.0</td>\n",
       "      <td>96.0</td>\n",
       "      <td>581.0</td>\n",
       "    </tr>\n",
       "    <tr>\n",
       "      <th>5</th>\n",
       "      <td>MAZDA</td>\n",
       "      <td>MAZDA 3</td>\n",
       "      <td>2017</td>\n",
       "      <td>Petrol</td>\n",
       "      <td>2.0</td>\n",
       "      <td>NaN</td>\n",
       "      <td>60000.0</td>\n",
       "      <td>72.0</td>\n",
       "      <td>380.0</td>\n",
       "    </tr>\n",
       "    <tr>\n",
       "      <th>6</th>\n",
       "      <td>TOYOTA</td>\n",
       "      <td>TOYOTA HILUX</td>\n",
       "      <td>2015</td>\n",
       "      <td>Diesel</td>\n",
       "      <td>2.8</td>\n",
       "      <td>4WD</td>\n",
       "      <td>60000.0</td>\n",
       "      <td>36.0</td>\n",
       "      <td>473.0</td>\n",
       "    </tr>\n",
       "    <tr>\n",
       "      <th>8</th>\n",
       "      <td>FORD</td>\n",
       "      <td>FORD RANGER</td>\n",
       "      <td>2021</td>\n",
       "      <td>Diesel</td>\n",
       "      <td>2.0</td>\n",
       "      <td>4WD</td>\n",
       "      <td>45000.0</td>\n",
       "      <td>36.0</td>\n",
       "      <td>650.0</td>\n",
       "    </tr>\n",
       "  </tbody>\n",
       "</table>\n",
       "</div>"
      ],
      "text/plain": [
       "     Make            Model  Year FuelType  EngineSize DriveType  Distance  \\\n",
       "1   SKODA  SKODA FABIA III  2017   Petrol         1.0       NaN   75000.0   \n",
       "4   MAZDA       MAZDA CX-9  2018   Petrol         2.5       2WD   80000.0   \n",
       "5   MAZDA          MAZDA 3  2017   Petrol         2.0       NaN   60000.0   \n",
       "6  TOYOTA     TOYOTA HILUX  2015   Diesel         2.8       4WD   60000.0   \n",
       "8    FORD      FORD RANGER  2021   Diesel         2.0       4WD   45000.0   \n",
       "\n",
       "   Months  AdjustedPrice  \n",
       "1    60.0          703.0  \n",
       "4    96.0          581.0  \n",
       "5    72.0          380.0  \n",
       "6    36.0          473.0  \n",
       "8    36.0          650.0  "
      ]
     },
     "execution_count": 2,
     "metadata": {},
     "output_type": "execute_result"
    }
   ],
   "source": [
    "df = pd.read_csv('../../data/preprocessed_log_data.csv')\n",
    "df = df[df['Label'] == 1];\n",
    "df.drop(columns=['Label', 'TaskName', 'IsHybrid', 'Transmission', 'Odometer'], inplace=True) # Drop TaskName as all are 'Logbook'\n",
    "df.head()"
   ]
  },
  {
   "cell_type": "code",
   "execution_count": 3,
   "id": "570343e3",
   "metadata": {},
   "outputs": [],
   "source": [
    "X = df.drop(columns=[\"AdjustedPrice\"])  \n",
    "y = df[\"AdjustedPrice\"]       "
   ]
  },
  {
   "cell_type": "code",
   "execution_count": null,
   "id": "1947689e",
   "metadata": {},
   "outputs": [],
   "source": [
    "X_train, X_test, y_train, y_test = train_test_split(\n",
    "    X, y, test_size=0.2, random_state=42\n",
    ")"
   ]
  },
  {
   "cell_type": "code",
   "execution_count": 70,
   "id": "f4b5d356",
   "metadata": {},
   "outputs": [
    {
     "name": "stdout",
     "output_type": "stream",
     "text": [
      "271\n"
     ]
    }
   ],
   "source": [
    "print(X_test['Model'].unique().size)"
   ]
  },
  {
   "cell_type": "code",
   "execution_count": 20,
   "id": "e93dffdc",
   "metadata": {},
   "outputs": [
    {
     "name": "stdout",
     "output_type": "stream",
     "text": [
      "Index(['Make', 'Model', 'FuelType', 'DriveType'], dtype='object')\n"
     ]
    }
   ],
   "source": [
    "# Identify feature types\n",
    "cat_features = X_train.select_dtypes(include=[\"object\", \"category\"]).columns\n",
    "print(cat_features)"
   ]
  },
  {
   "cell_type": "code",
   "execution_count": null,
   "id": "63b026b0",
   "metadata": {},
   "outputs": [],
   "source": [
    "for col in X_train.select_dtypes(include='object').columns:\n",
    "     X_train[col] = X_train[col].fillna(\"missing\")\n",
    "\n",
    "for col in X_test.select_dtypes(include='object').columns:\n",
    "     X_test[col] = X_test[col].fillna(\"missing\")"
   ]
  },
  {
   "cell_type": "code",
   "execution_count": 7,
   "id": "86e2a4a8",
   "metadata": {},
   "outputs": [],
   "source": [
    "def mean_absolute_percentage_error(y_true, y_pred):\n",
    "    y_true, y_pred = np.array(y_true), np.array(y_pred)\n",
    "    # Avoid division by zero\n",
    "    nonzero_mask = y_true != 0\n",
    "    return np.mean(np.abs((y_true[nonzero_mask] - y_pred[nonzero_mask]) / y_true[nonzero_mask])) * 100"
   ]
  },
  {
   "cell_type": "code",
   "execution_count": 9,
   "id": "750324f4",
   "metadata": {},
   "outputs": [
    {
     "data": {
      "text/plain": [
       "<catboost.core.CatBoostRegressor at 0x227ade10950>"
      ]
     },
     "execution_count": 9,
     "metadata": {},
     "output_type": "execute_result"
    }
   ],
   "source": [
    "cat_feature_indices = [0, 1, 3, 5]\n",
    "\n",
    "model = CatBoostRegressor(\n",
    "    cat_features=cat_feature_indices,\n",
    "    eval_metric='MAPE',\n",
    "    od_type='Iter',\n",
    "    od_wait=50,\n",
    "    random_seed=42,\n",
    "    verbose=100\n",
    ")\n",
    "\n",
    "model.fit(X_train, y_train, \n",
    "                  verbose=False)\n",
    "\n"
   ]
  },
  {
   "cell_type": "code",
   "execution_count": null,
   "id": "9278415b",
   "metadata": {},
   "outputs": [],
   "source": [
    "y_pred = model.predict(X_test)\n",
    "\n",
    "def top_n_accuracy(y_true, y_pred):\n",
    "    \n",
    "    errors = np.abs(y_true - y_pred)\n",
    "\n",
    "    results = pd.DataFrame({\n",
    "        \"y_true\": y_true,\n",
    "        \"y_pred\": y_pred,\n",
    "        \"error\": errors  })\n",
    "\n",
    "    sorted_results = results.sort_values(by=\"error\")\n",
    "    top5_accurate = sorted_results.head(5)\n",
    "    top5_inaccurate = sorted_results.tail(5)\n",
    "\n",
    "    print(\"Top 5 Most Accurate Predictions:\")\n",
    "    print(top5_accurate)\n",
    "\n",
    "    print(\"\\nTop 5 Least Accurate Predictions:\")\n",
    "    print(top5_inaccurate)"
   ]
  },
  {
   "cell_type": "code",
   "execution_count": 51,
   "id": "1ad5d832",
   "metadata": {},
   "outputs": [],
   "source": [
    "def top_n_categories(y_true, y_pred, features_df, feature_col, top_n=5, error_type=\"mae\"):\n",
    "    \n",
    "    df = pd.DataFrame({\n",
    "      \"y_true\": y_true,\n",
    "      \"y_pred\": y_pred,\n",
    "      \"error\": y_true - y_pred\n",
    "    })\n",
    "\n",
    "    df[feature_col] = features_df[feature_col].values\n",
    "    if error_type == \"mae\":\n",
    "      df[\"err\"] = df[\"error\"].abs()\n",
    "\n",
    "\n",
    "    if error_type == \"mse\":\n",
    "      df[\"err\"] = df[\"error\"]**2\n",
    "      \n",
    "\n",
    "\n",
    "    grouped = df.groupby(feature_col).aggregate(avg_error=(\"err\", \"mean\"),frequency=(\"err\", \"count\"))\n",
    "\n",
    "    sorted = grouped.sort_values(\"avg_error\")\n",
    "    best = sorted.head(top_n).reset_index()\n",
    "    worst = sorted.tail(top_n).reset_index()\n",
    "    \n",
    "    print(\"Top 5 Best Categories:\")\n",
    "    print(best)\n",
    "\n",
    "    print(\"\\nTop 5 Least Accurate Predictions:\")\n",
    "    print(worst)      \n",
    "\n"
   ]
  },
  {
   "cell_type": "code",
   "execution_count": null,
   "id": "ef4c8e1d",
   "metadata": {},
   "outputs": [
    {
     "name": "stdout",
     "output_type": "stream",
     "text": [
      "Top 5 Most Accurate Predictions:\n",
      "        y_true      y_pred     error\n",
      "68449    529.0  529.001588  0.001588\n",
      "13400    496.0  495.996001  0.003999\n",
      "100114   415.0  414.989110  0.010890\n",
      "156062   292.0  291.986736  0.013264\n",
      "139094   425.0  425.018201  0.018201\n",
      "\n",
      "Top 5 Least Accurate Predictions:\n",
      "        y_true       y_pred        error\n",
      "58212   2455.0   765.506541  1689.493459\n",
      "145775  2770.0  1019.252963  1750.747037\n",
      "106482  2431.0   622.072874  1808.927126\n",
      "38900   2805.0   864.464091  1940.535909\n",
      "129390  2593.0   498.311130  2094.688870\n",
      "Top 5 Best Categories:\n",
      "               Model   avg_error  frequency\n",
      "0  VOLKSWAGEN BEETLE   94.976182          2\n",
      "1       PEUGEOT 4008  112.846922          1\n",
      "2        MAZDA MX-30  173.916596          1\n",
      "3      SUBARU LEVORG  253.493087          3\n",
      "4   SKODA OCTAVIA IV  592.653619          1\n",
      "\n",
      "Top 5 Least Accurate Predictions:\n",
      "                   Model     avg_error  frequency\n",
      "0                 BMW X5  4.020226e+05         10\n",
      "1   LAND ROVER DISCOVERY  4.202741e+05          1\n",
      "2          JEEP RENEGADE  4.560684e+05          7\n",
      "3  MITSUBISHI CHALLENGER  4.983955e+05          2\n",
      "4            PEUGEOT 208  1.983975e+06          1\n"
     ]
    }
   ],
   "source": [
    "top_n_accuracy(y_test, y_pred)\n",
    "top_n_categories(y_test, y_pred, X_test, 'Model', error_type=\"mse\")"
   ]
  },
  {
   "cell_type": "code",
   "execution_count": 9,
   "id": "2f9941ac",
   "metadata": {},
   "outputs": [
    {
     "name": "stdout",
     "output_type": "stream",
     "text": [
      "0:\tlearn: 0.3803721\ttotal: 30.3ms\tremaining: 30.3s\n",
      "100:\tlearn: 0.2685788\ttotal: 820ms\tremaining: 7.29s\n",
      "200:\tlearn: 0.2430811\ttotal: 1.74s\tremaining: 6.93s\n",
      "300:\tlearn: 0.2303668\ttotal: 2.67s\tremaining: 6.21s\n",
      "400:\tlearn: 0.2217592\ttotal: 3.51s\tremaining: 5.24s\n",
      "500:\tlearn: 0.2158310\ttotal: 4.36s\tremaining: 4.34s\n",
      "600:\tlearn: 0.2121797\ttotal: 5.18s\tremaining: 3.44s\n",
      "700:\tlearn: 0.2088783\ttotal: 6.01s\tremaining: 2.56s\n",
      "800:\tlearn: 0.2063680\ttotal: 6.88s\tremaining: 1.71s\n",
      "900:\tlearn: 0.2038619\ttotal: 7.73s\tremaining: 850ms\n",
      "999:\tlearn: 0.2019836\ttotal: 8.57s\tremaining: 0us\n",
      "MAE: 105.20374040609427\n",
      "RMSE: 166.22007275030643\n",
      "MAPE: 19.99%\n"
     ]
    }
   ],
   "source": [
    "\n",
    "\n",
    "from sklearn.metrics import mean_absolute_error, mean_squared_error\n",
    "import numpy as np\n",
    "best_model.fit(X_train, y_train)\n",
    "\n",
    "y_pred = best_model.predict(X_test)\n",
    "print(\"MAE:\", mean_absolute_error(y_test, y_pred))\n",
    "print(\"RMSE:\", np.sqrt(mean_squared_error(y_test, y_pred)))\n",
    "mape = mean_absolute_percentage_error(y_test, y_pred)\n",
    "print(f\"MAPE: {mape:.2f}%\")\n"
   ]
  },
  {
   "cell_type": "code",
   "execution_count": 10,
   "id": "56cc106b",
   "metadata": {},
   "outputs": [
    {
     "data": {
      "image/png": "[encoded data removed]",
      "text/plain": [
       "<Figure size 1000x600 with 1 Axes>"
      ]
     },
     "metadata": {},
     "output_type": "display_data"
    }
   ],
   "source": [
    "importance = best_model.get_feature_importance()\n",
    "feature_names = X_train.columns  # or your list of feature names\n",
    "\n",
    "plt.figure(figsize=(10,6))\n",
    "plt.barh(feature_names, importance)\n",
    "plt.xlabel('Feature Importance')\n",
    "plt.title('CatBoost Feature Importance')\n",
    "plt.show()"
   ]
  }
 ],
 "metadata": {
  "kernelspec": {
   "display_name": ".venv",
   "language": "python",
   "name": "python3"
  },
  "language_info": {
   "codemirror_mode": {
    "name": "ipython",
    "version": 3
   },
   "file_extension": ".py",
   "mimetype": "text/x-python",
   "name": "python",
   "nbconvert_exporter": "python",
   "pygments_lexer": "ipython3",
   "version": "3.12.0"
  }
 },
 "nbformat": 4,
 "nbformat_minor": 5
}
