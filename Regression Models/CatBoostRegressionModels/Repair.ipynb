{
 "cells": [
  {
   "cell_type": "markdown",
   "id": "2f7e1b05",
   "metadata": {},
   "source": [
    "## Import Statements"
   ]
  },
  {
   "cell_type": "code",
   "execution_count": 1,
   "id": "3e4670d3",
   "metadata": {},
   "outputs": [],
   "source": [
    "import pandas as pd\n",
    "from sklearn.model_selection import train_test_split\n",
    "import numpy as np\n",
    "import matplotlib.pyplot as plt\n",
    "from sklearn.model_selection import GridSearchCV, RandomizedSearchCV\n",
    "from catboost import CatBoostRegressor\n"
   ]
  },
  {
   "cell_type": "markdown",
   "id": "a52d2b89",
   "metadata": {},
   "source": [
    "## Read in Data"
   ]
  },
  {
   "cell_type": "code",
   "execution_count": 2,
   "id": "04320f19",
   "metadata": {},
   "outputs": [
    {
     "data": {
      "text/html": [
       "<div>\n",
       "<style scoped>\n",
       "    .dataframe tbody tr th:only-of-type {\n",
       "        vertical-align: middle;\n",
       "    }\n",
       "\n",
       "    .dataframe tbody tr th {\n",
       "        vertical-align: top;\n",
       "    }\n",
       "\n",
       "    .dataframe thead th {\n",
       "        text-align: right;\n",
       "    }\n",
       "</style>\n",
       "<table border=\"1\" class=\"dataframe\">\n",
       "  <thead>\n",
       "    <tr style=\"text-align: right;\">\n",
       "      <th></th>\n",
       "      <th>TaskName</th>\n",
       "      <th>Make</th>\n",
       "      <th>Model</th>\n",
       "      <th>Year</th>\n",
       "      <th>FuelType</th>\n",
       "      <th>EngineSize</th>\n",
       "      <th>Transmission</th>\n",
       "      <th>DriveType</th>\n",
       "      <th>IsHybrid</th>\n",
       "      <th>AdjustedPrice</th>\n",
       "    </tr>\n",
       "  </thead>\n",
       "  <tbody>\n",
       "    <tr>\n",
       "      <th>0</th>\n",
       "      <td>Park Light Globe Replacement</td>\n",
       "      <td>HYUNDAI</td>\n",
       "      <td>HYUNDAI TUCSON</td>\n",
       "      <td>2019</td>\n",
       "      <td>Diesel</td>\n",
       "      <td>2.0</td>\n",
       "      <td>Auto</td>\n",
       "      <td>4WD</td>\n",
       "      <td>0.0</td>\n",
       "      <td>7.0</td>\n",
       "    </tr>\n",
       "    <tr>\n",
       "      <th>1</th>\n",
       "      <td>Roadworthy Inspection / Pink Slips</td>\n",
       "      <td>VOLKSWAGEN</td>\n",
       "      <td>VOLKSWAGEN TIGUAN</td>\n",
       "      <td>2018</td>\n",
       "      <td>Petrol</td>\n",
       "      <td>2.0</td>\n",
       "      <td>Auto</td>\n",
       "      <td>4WD</td>\n",
       "      <td>0.0</td>\n",
       "      <td>46.0</td>\n",
       "    </tr>\n",
       "    <tr>\n",
       "      <th>2</th>\n",
       "      <td>Replace Wiper Blades</td>\n",
       "      <td>VOLKSWAGEN</td>\n",
       "      <td>VOLKSWAGEN TIGUAN</td>\n",
       "      <td>2018</td>\n",
       "      <td>Petrol</td>\n",
       "      <td>2.0</td>\n",
       "      <td>Auto</td>\n",
       "      <td>4WD</td>\n",
       "      <td>0.0</td>\n",
       "      <td>29.0</td>\n",
       "    </tr>\n",
       "    <tr>\n",
       "      <th>3</th>\n",
       "      <td>Rear Brake Pad And Rotor Replacement</td>\n",
       "      <td>VOLKSWAGEN</td>\n",
       "      <td>VOLKSWAGEN TIGUAN</td>\n",
       "      <td>2018</td>\n",
       "      <td>Petrol</td>\n",
       "      <td>2.0</td>\n",
       "      <td>Auto</td>\n",
       "      <td>4WD</td>\n",
       "      <td>0.0</td>\n",
       "      <td>725.0</td>\n",
       "    </tr>\n",
       "    <tr>\n",
       "      <th>5</th>\n",
       "      <td>Replace Wiper Blades</td>\n",
       "      <td>KIA</td>\n",
       "      <td>KIA SELTOS</td>\n",
       "      <td>2020</td>\n",
       "      <td>Petrol</td>\n",
       "      <td>1.6</td>\n",
       "      <td>Auto</td>\n",
       "      <td>4WD</td>\n",
       "      <td>0.0</td>\n",
       "      <td>46.0</td>\n",
       "    </tr>\n",
       "  </tbody>\n",
       "</table>\n",
       "</div>"
      ],
      "text/plain": [
       "                               TaskName        Make              Model  Year  \\\n",
       "0          Park Light Globe Replacement     HYUNDAI     HYUNDAI TUCSON  2019   \n",
       "1    Roadworthy Inspection / Pink Slips  VOLKSWAGEN  VOLKSWAGEN TIGUAN  2018   \n",
       "2                  Replace Wiper Blades  VOLKSWAGEN  VOLKSWAGEN TIGUAN  2018   \n",
       "3  Rear Brake Pad And Rotor Replacement  VOLKSWAGEN  VOLKSWAGEN TIGUAN  2018   \n",
       "5                  Replace Wiper Blades         KIA         KIA SELTOS  2020   \n",
       "\n",
       "  FuelType  EngineSize Transmission DriveType  IsHybrid  AdjustedPrice  \n",
       "0   Diesel         2.0         Auto       4WD       0.0            7.0  \n",
       "1   Petrol         2.0         Auto       4WD       0.0           46.0  \n",
       "2   Petrol         2.0         Auto       4WD       0.0           29.0  \n",
       "3   Petrol         2.0         Auto       4WD       0.0          725.0  \n",
       "5   Petrol         1.6         Auto       4WD       0.0           46.0  "
      ]
     },
     "execution_count": 2,
     "metadata": {},
     "output_type": "execute_result"
    }
   ],
   "source": [
    "df = pd.read_csv('../../data/preprocessed_repair_data.csv')\n",
    "df = df[df['Label'] == 1];\n",
    "df.drop(columns=['Label', 'Distance', 'Months', 'Odometer'], inplace=True)\n",
    "df.head()"
   ]
  },
  {
   "cell_type": "code",
   "execution_count": 3,
   "id": "570343e3",
   "metadata": {},
   "outputs": [],
   "source": [
    "X = df.drop(columns=[\"AdjustedPrice\"])  \n",
    "y = df[\"AdjustedPrice\"]       "
   ]
  },
  {
   "cell_type": "code",
   "execution_count": 4,
   "id": "1947689e",
   "metadata": {},
   "outputs": [],
   "source": [
    "X_train, X_test, y_train, y_test = train_test_split(\n",
    "    X, y, test_size=0.2, random_state=42\n",
    ")"
   ]
  },
  {
   "cell_type": "code",
   "execution_count": 5,
   "id": "e93dffdc",
   "metadata": {},
   "outputs": [],
   "source": [
    "# Identify feature types\n",
    "cat_features = X_train.select_dtypes(include=[\"object\", \"category\"]).columns"
   ]
  },
  {
   "cell_type": "code",
   "execution_count": 6,
   "id": "63b026b0",
   "metadata": {},
   "outputs": [],
   "source": [
    "for col in X_train.select_dtypes(include='object').columns:\n",
    "     X_train[col] = X_train[col].fillna(\"missing\")\n",
    "\n",
    "for col in X_test.select_dtypes(include='object').columns:\n",
    "   X_test[col] = X_test[col].fillna(\"missing\")"
   ]
  },
  {
   "cell_type": "code",
   "execution_count": 7,
   "id": "86e2a4a8",
   "metadata": {},
   "outputs": [],
   "source": [
    "def mean_absolute_percentage_error(y_true, y_pred):\n",
    "    y_true, y_pred = np.array(y_true), np.array(y_pred)\n",
    "    # Avoid division by zero\n",
    "    nonzero_mask = y_true != 0\n",
    "    return np.mean(np.abs((y_true[nonzero_mask] - y_pred[nonzero_mask]) / y_true[nonzero_mask])) * 100"
   ]
  },
  {
   "cell_type": "code",
   "execution_count": 8,
   "id": "750324f4",
   "metadata": {},
   "outputs": [
    {
     "name": "stdout",
     "output_type": "stream",
     "text": [
      "Best params: {'subsample': 0.9, 'min_child_samples': 5, 'learning_rate': 0.05, 'l2_leaf_reg': 7, 'iterations': 1500, 'depth': 10, 'colsample_bylevel': 1.0}\n",
      "Best score: 4283652980967.7563\n"
     ]
    }
   ],
   "source": [
    "\n",
    "cat_feature_indices = [0, 1, 2, 4, 6, 7]\n",
    "param_grid = {\n",
    "    'depth': [6, 8, 10],\n",
    "    'learning_rate': [0.01, 0.03, 0.05, 0.1],\n",
    "    'l2_leaf_reg': [1, 3, 5, 7],\n",
    "    'iterations': [1000, 1500],\n",
    "    'subsample': [0.8, 0.9, 1.0],\n",
    "    'colsample_bylevel': [0.8, 0.9, 1.0],\n",
    "    'min_child_samples': [5, 10, 20]\n",
    "}\n",
    "\n",
    "model = CatBoostRegressor(\n",
    "    cat_features=cat_feature_indices,\n",
    "    eval_metric='MAPE',\n",
    "    od_type='Iter',\n",
    "    od_wait=50,\n",
    "    random_seed=42,\n",
    "    verbose=100\n",
    ")\n",
    "\n",
    "random_search = RandomizedSearchCV(model, param_distributions=param_grid, n_iter=25, cv=3, scoring='neg_mean_absolute_percentage_error')\n",
    "\n",
    "random_search.fit(X_train, y_train, \n",
    "                  verbose=False)\n",
    "\n",
    "best_model = random_search.best_estimator_\n",
    "\n",
    "print(\"Best params:\", random_search.best_params_)\n",
    "print(\"Best score:\", -random_search.best_score_)"
   ]
  },
  {
   "cell_type": "code",
   "execution_count": 9,
   "id": "2f9941ac",
   "metadata": {},
   "outputs": [
    {
     "name": "stdout",
     "output_type": "stream",
     "text": [
      "0:\tlearn: 2.9318115\ttotal: 51.3ms\tremaining: 1m 16s\n",
      "100:\tlearn: 0.9094934\ttotal: 5.98s\tremaining: 1m 22s\n",
      "200:\tlearn: 0.8589266\ttotal: 12.3s\tremaining: 1m 19s\n",
      "300:\tlearn: 0.8446935\ttotal: 18.4s\tremaining: 1m 13s\n",
      "400:\tlearn: 0.8391583\ttotal: 24s\tremaining: 1m 5s\n",
      "500:\tlearn: 0.8320309\ttotal: 31s\tremaining: 1m 1s\n",
      "600:\tlearn: 0.8266636\ttotal: 38.1s\tremaining: 57s\n",
      "700:\tlearn: 0.8207537\ttotal: 45.1s\tremaining: 51.4s\n",
      "800:\tlearn: 0.8163802\ttotal: 52.3s\tremaining: 45.6s\n",
      "900:\tlearn: 0.8124706\ttotal: 59.7s\tremaining: 39.7s\n",
      "1000:\tlearn: 0.8081842\ttotal: 1m 6s\tremaining: 33.4s\n",
      "1100:\tlearn: 0.8057335\ttotal: 1m 14s\tremaining: 26.9s\n",
      "1200:\tlearn: 0.8042610\ttotal: 1m 20s\tremaining: 20.1s\n",
      "1300:\tlearn: 0.8018536\ttotal: 1m 26s\tremaining: 13.3s\n",
      "1400:\tlearn: 0.8000327\ttotal: 1m 33s\tremaining: 6.62s\n",
      "1499:\tlearn: 0.7973399\ttotal: 1m 40s\tremaining: 0us\n",
      "MAE: 155.14731282803797\n",
      "RMSE: 487.0372432682987\n",
      "MAPE: 74.79%\n"
     ]
    }
   ],
   "source": [
    "\n",
    "\n",
    "from sklearn.metrics import mean_absolute_error, mean_squared_error\n",
    "import numpy as np\n",
    "best_model.fit(X_train, y_train)\n",
    "\n",
    "y_pred = best_model.predict(X_test)\n",
    "print(\"MAE:\", mean_absolute_error(y_test, y_pred))\n",
    "print(\"RMSE:\", np.sqrt(mean_squared_error(y_test, y_pred)))\n",
    "mape = mean_absolute_percentage_error(y_test, y_pred)\n",
    "print(f\"MAPE: {mape:.2f}%\")\n"
   ]
  },
  {
   "cell_type": "code",
   "execution_count": 10,
   "id": "56cc106b",
   "metadata": {},
   "outputs": [
    {
     "data": {
      "image/png": "[encoded data removed]",
      "text/plain": [
       "<Figure size 1000x600 with 1 Axes>"
      ]
     },
     "metadata": {},
     "output_type": "display_data"
    }
   ],
   "source": [
    "importance = best_model.get_feature_importance()\n",
    "feature_names = X_train.columns  # or your list of feature names\n",
    "\n",
    "plt.figure(figsize=(10,6))\n",
    "plt.barh(feature_names, importance)\n",
    "plt.xlabel('Feature Importance')\n",
    "plt.title('CatBoost Feature Importance')\n",
    "plt.show()"
   ]
  }
 ],
 "metadata": {
  "kernelspec": {
   "display_name": "venv",
   "language": "python",
   "name": "python3"
  },
  "language_info": {
   "codemirror_mode": {
    "name": "ipython",
    "version": 3
   },
   "file_extension": ".py",
   "mimetype": "text/x-python",
   "name": "python",
   "nbconvert_exporter": "python",
   "pygments_lexer": "ipython3",
   "version": "3.12.3"
  }
 },
 "nbformat": 4,
 "nbformat_minor": 5
}
