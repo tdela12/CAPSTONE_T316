{
 "cells": [
  {
   "cell_type": "markdown",
   "id": "013be7af",
   "metadata": {},
   "source": [
    "# Preprocessing Pipeline"
   ]
  },
  {
   "cell_type": "markdown",
   "id": "de599698",
   "metadata": {},
   "source": [
    "## Import Statements"
   ]
  },
  {
   "cell_type": "code",
   "execution_count": null,
   "id": "114b0833",
   "metadata": {},
   "outputs": [],
   "source": [
    "import pandas as pd\n",
    "pd.set_option('display.max_columns', None)\n",
    "pd.set_option('display.max_rows', None)\n",
    "import numpy as np"
   ]
  },
  {
   "cell_type": "markdown",
   "id": "bc31fcc1",
   "metadata": {},
   "source": [
    "## Functions"
   ]
  },
  {
   "cell_type": "code",
   "execution_count": null,
   "id": "030267b0",
   "metadata": {},
   "outputs": [],
   "source": [
    "def remove_outliers(df, group_by=\"TaskName\", value_col=\"price\"):\n",
    "    def filter_group(group):\n",
    "        Q1 = group[value_col].quantile(0.25)\n",
    "        Q3 = group[value_col].quantile(0.75)\n",
    "        IQR = Q3 - Q1\n",
    "        lower = Q1 - 1.5 * IQR\n",
    "        upper = Q3 + 1.5 * IQR\n",
    "        return group[(group[value_col] >= lower) & (group[value_col] <= upper)]\n",
    "    \n",
    "    return df.groupby(group_by, group_keys=False).apply(filter_group)"
   ]
  },
  {
   "cell_type": "code",
   "execution_count": null,
   "id": "3cebc73c",
   "metadata": {},
   "outputs": [],
   "source": [
    "def drop_rare(df, column, threshold, df_name=\"DataFrame\"):\n",
    "    print(f\"----Dropping Rare {column}s from {df_name}----\")\n",
    "    print(f\"{column}s before: {len(df[column].unique())}\")\n",
    "    counts = df[column].value_counts()\n",
    "    rare_values = counts[counts < threshold].index\n",
    "    df = df[~df[column].isin(rare_values)].copy()\n",
    "    print(f\"{column}s after: {len(df[column].unique())}\")\n",
    "    return df"
   ]
  },
  {
   "cell_type": "markdown",
   "id": "8214efef",
   "metadata": {},
   "source": [
    "## Read in Data"
   ]
  },
  {
   "cell_type": "code",
   "execution_count": null,
   "id": "80ea041e",
   "metadata": {},
   "outputs": [],
   "source": [
    "# CPI for price adjustment\n",
    "cpi_index = pd.read_csv('data/cpi.csv')\n",
    "cpi_index.head()"
   ]
  },
  {
   "cell_type": "code",
   "execution_count": null,
   "id": "40ab419b",
   "metadata": {},
   "outputs": [],
   "source": [
    "# Booking/Ticket data\n",
    "df = pd.read_csv('data/data.csv', encoding = 'windows-1252')\n",
    "df.head()"
   ]
  },
  {
   "cell_type": "markdown",
   "id": "8ac4f936",
   "metadata": {},
   "source": [
    "## Rename Columns"
   ]
  },
  {
   "cell_type": "code",
   "execution_count": null,
   "id": "65768c91",
   "metadata": {},
   "outputs": [],
   "source": [
    "df = df.rename(columns={\n",
    "    'cVMake': 'Make',\n",
    "    'cVMakeModel': 'Model',\n",
    "    'cVYear': 'Year',\n",
    "    'idFuel': 'FuelType',\n",
    "    'idLitres': 'EngineSize',\n",
    "    'idTransmission': 'Transmission',\n",
    "    'idDrive': 'DriveType',\n",
    "    'idIsHybrid': 'IsHybrid',\n",
    "    'BOdoNum' : 'Odometer',\n",
    "    })"
   ]
  },
  {
   "cell_type": "markdown",
   "id": "4e112f5e",
   "metadata": {},
   "source": [
    "## Drop Columns that will not be used"
   ]
  },
  {
   "cell_type": "code",
   "execution_count": null,
   "id": "2264d5af",
   "metadata": {},
   "outputs": [],
   "source": [
    "columns_to_drop = ['ï»¿FCID', 'BOdoText', 'VMid']\n",
    "df.drop(columns = columns_to_drop, inplace=True)\n",
    "df.head()"
   ]
  },
  {
   "cell_type": "markdown",
   "id": "7b4a9b4d",
   "metadata": {},
   "source": [
    "## Remove Rows\n"
   ]
  },
  {
   "cell_type": "code",
   "execution_count": null,
   "id": "a95dcb11",
   "metadata": {},
   "outputs": [],
   "source": [
    "# Remove custom services and repairs\n",
    "df = df[df['IsCustomService'] != '1']\n",
    "df = df[df['IsCustomRepair'] != '1']\n",
    "df = df[df['TaskName'] != 'Custom Repair']\n",
    "\n",
    "# Remove products and tyres as they are unpredictable without quantity information \n",
    "df = df[df['TaskName'] != '((Products))']\n",
    "df = df[df['TaskName'] != '((Tyres))']\n",
    "df = df[df['TaskName'] != 'Tyre Replacement']\n",
    "\n",
    "# Remove Rare ticket types\n",
    "df = df[df['BTicketType'] != 'OtherTicket']\n",
    "df = df[df['BTicketType'] != 'Custom']\n",
    "df = df[df['BTicketType'] != 'Basic']\n",
    "\n",
    "# Remove Tickets with zero or negative prices \n",
    "df = df[df['PriceIncGSTRaw'] > 0]"
   ]
  },
  {
   "cell_type": "markdown",
   "id": "f91623b6",
   "metadata": {},
   "source": [
    "## Create Months and Kilometer Columns from TicketType"
   ]
  },
  {
   "cell_type": "code",
   "execution_count": null,
   "id": "d54a0e47",
   "metadata": {},
   "outputs": [],
   "source": [
    "# Create Columns\n",
    "df['Distance'] = None\n",
    "df['Months'] = None\n",
    "\n",
    "mask = df['BTicketType'] == 'Log'\n",
    "split_1 = df.loc[mask, 'TaskName'].str.split(' - ', n=1, expand=True)\n",
    "df.loc[mask, 'TaskName'] = split_1[0]\n",
    "df.loc[mask, 'Rest'] = split_1[1].fillna('')\n",
    "\n",
    "split_2 = df.loc[mask, 'Rest'].str.split(' / ', n=1, expand=True)\n",
    "df.loc[mask, 'Distance'] = split_2[0]\n",
    "df.loc[mask, 'Months'] = split_2[1]\n",
    "\n",
    "mask = df['BTicketType'] == 'Capped'\n",
    "split_1 = df.loc[mask, 'TaskName'].str.split(' - ', n=1, expand=True)\n",
    "df.loc[mask, 'TaskName'] = split_1[0]\n",
    "df.loc[mask, 'Distance'] = split_1[1].fillna('')\n",
    "\n",
    "mask = df['BTicketType'] == 'Prescribed'\n",
    "split_1 = df.loc[mask, 'TaskName'].str.split(' - ', n=1, expand=True)\n",
    "df.loc[mask, 'TaskName'] = split_1[0]\n",
    "df.loc[mask, 'Distance'] = split_1[1].fillna('')\n",
    "\n",
    "df = df.drop(columns=['Rest'])"
   ]
  },
  {
   "cell_type": "code",
   "execution_count": null,
   "id": "8a585820",
   "metadata": {},
   "outputs": [],
   "source": [
    "# Format as Numeric\n",
    "df['Months'] = df['Months'].astype(str).str.extract(r'(\\d+)')\n",
    "df['Months'] = pd.to_numeric(df['Months'], errors='coerce')\n",
    "\n",
    "df['Distance'] = df['Distance'].astype(str).str.replace(',', '', regex=False)  \n",
    "df['Distance'] = df['Distance'].astype(str).str.extract(r'(\\d+)')\n",
    "df['Distance'] = pd.to_numeric(df['Distance'], errors='coerce')\n",
    "\n",
    "df.head()"
   ]
  },
  {
   "cell_type": "markdown",
   "id": "cda42906",
   "metadata": {},
   "source": [
    "## Create Adjusted Price based on CPI"
   ]
  },
  {
   "cell_type": "code",
   "execution_count": null,
   "id": "995177c7",
   "metadata": {},
   "outputs": [],
   "source": [
    "# 1. Create date column\n",
    "df['BCreatedDateAEST'] = pd.to_datetime(df['BCreatedDateAEST'], format='mixed', dayfirst=True);\n",
    "df['Date'] = df['BCreatedDateAEST'].dt.date"
   ]
  },
  {
   "cell_type": "code",
   "execution_count": null,
   "id": "2cfbfdc2",
   "metadata": {},
   "outputs": [],
   "source": [
    "# 2. Price Adjustment\n",
    "df = df[df['PriceIncGSTRaw'] != 0]\n",
    "df['Date'] = pd.to_datetime(df['Date']) # ensure 'date' is in datetime format\n",
    "df['Quarter'] = df['Date'].dt.to_period('Q').astype(str)\n",
    "df = df.merge(cpi_index, on='Quarter', how='left')\n",
    "base_cpi = cpi_index['CPI'].iloc[-1]\n",
    "df['AdjustedPrice'] = round(df['PriceIncGSTRaw'] * (base_cpi / df['CPI']), 2) # round to 2 decimal places for consistency\n",
    "df['AdjustedPrice'] = round(df['AdjustedPrice'].fillna(df['PriceIncGSTRaw'])) # use original price where CPI is missing (for current quarter which does not need adjustment)"
   ]
  },
  {
   "cell_type": "code",
   "execution_count": null,
   "id": "33806756",
   "metadata": {},
   "outputs": [],
   "source": [
    "df.head()"
   ]
  },
  {
   "cell_type": "markdown",
   "id": "96db04c4",
   "metadata": {},
   "source": [
    "## Remove Columns that will not be used"
   ]
  },
  {
   "cell_type": "code",
   "execution_count": null,
   "id": "9fd5fa11",
   "metadata": {},
   "outputs": [],
   "source": [
    "columns_to_drop = [ 'BCreatedDateAEST', 'CPI', 'Quarter', 'PriceIncGSTRaw' , 'BShopID', 'BShopRegionName', 'BShopPostcode', 'IsDeleted', 'BStatusFromDateTimeAEST', 'Date', 'BStatusFinal', ]\n",
    "df.drop(columns = columns_to_drop, inplace=True)\n",
    "df.head()"
   ]
  },
  {
   "cell_type": "markdown",
   "id": "bfec973a",
   "metadata": {},
   "source": [
    "## Remove Duplicate Rows"
   ]
  },
  {
   "cell_type": "code",
   "execution_count": null,
   "id": "ef6d2d2f",
   "metadata": {},
   "outputs": [],
   "source": [
    "# Duplicates can skew analysis and lead to incorrect conclusions, thus it is important each row is unique. Duplicates in this dataset are considered as rows that contain the same values across all columns other than the ID columns \n",
    "print(f\"size before: {df.shape}\" )\n",
    "df = df.drop_duplicates(subset=[col for col in df.columns if col not in ['BookingID', 'BTicketID', 'BCreatedDateAEST', 'BStatusFromDateTimeAEST']])\n",
    "print(f\"size after: {df.shape}\" )"
   ]
  },
  {
   "cell_type": "markdown",
   "id": "7bd69221",
   "metadata": {},
   "source": [
    "## Remove False Negatives "
   ]
  },
  {
   "cell_type": "code",
   "execution_count": null,
   "id": "b9e01155",
   "metadata": {},
   "outputs": [],
   "source": [
    "# False negatives are rows which have a status of '16. Requires Changes' when they should have a status of '33. Approved'. This occurs in the dataset as bookings contain multiple tickets. If a single ticket in a booking requires changes, the entire booking is marked as 'Requires Changes', thus marking tickets that do not require changes incorrectly. These false negatives can be detected and removed by checking if a duplicate entry exists where only the status changes.\n",
    "print(f\"size before: {df.shape}\" )\n",
    "df['StatusPriority'] = df['BStatusAfterSubmitted'].apply(lambda x: 0 if x == '33. Approved' else 1) # Assign priority: approved gets highest priority (lowest number)\n",
    "dedup_cols = [col for col in df.columns if col not in ['BStatusAfterSubmitted', 'StatusPriority','BCreatedDateAEST', 'BStatusFromDateTimeAEST', 'Date' ]] # Define columns to check for duplicates\n",
    "df = df.sort_values(by=dedup_cols + ['StatusPriority']) # Sort so approved status is first\n",
    "df = df.drop_duplicates(subset=dedup_cols, keep='first') # Keep the first occurrence (which is the approved status)\n",
    "df = df.drop(columns='StatusPriority') # drop the temporary column used for sorting\n",
    "\n",
    "df['Label'] = df['BStatusAfterSubmitted'].map({'33. Approved': 1, '16. Requires Changes': 0, '29. Rejected': 0}) # create label column for model training\n",
    "df = df.drop(columns=['BStatusAfterSubmitted'], axis=1) # drop the original status column as it is no longer needed\n",
    "print(f\"size after: {df.shape}\" ) "
   ]
  },
  {
   "cell_type": "markdown",
   "id": "a91350cc",
   "metadata": {},
   "source": [
    "## Remove Rejected Cases"
   ]
  },
  {
   "cell_type": "code",
   "execution_count": null,
   "id": "6242cca0",
   "metadata": {},
   "outputs": [],
   "source": [
    "df = df[df['Label'] == 1];"
   ]
  },
  {
   "cell_type": "markdown",
   "id": "8f96155c",
   "metadata": {},
   "source": [
    "## Fill in missing distances with odometer"
   ]
  },
  {
   "cell_type": "code",
   "execution_count": null,
   "id": "d4c1c249",
   "metadata": {},
   "outputs": [],
   "source": [
    "df[\"Distance\"] = df[\"Distance\"].fillna(df[\"Odometer\"])"
   ]
  },
  {
   "cell_type": "markdown",
   "id": "b735c41f",
   "metadata": {},
   "source": [
    "## Final Column Removal"
   ]
  },
  {
   "cell_type": "code",
   "execution_count": null,
   "id": "a5bfec5d",
   "metadata": {},
   "outputs": [],
   "source": [
    "\n",
    "columns_to_drop = ['BookingID', 'BTicketID', 'IsCustomService', 'IsCustomRepair', 'BShopRegionClass', 'BShopState', 'IsHybrid', 'Label', 'Odometer']\n",
    "df.drop(columns = columns_to_drop, inplace=True)\n",
    "df.head()"
   ]
  },
  {
   "cell_type": "markdown",
   "id": "909b1d94",
   "metadata": {},
   "source": [
    "## Split data Frame by Ticket Type"
   ]
  },
  {
   "cell_type": "code",
   "execution_count": null,
   "id": "e61d858e",
   "metadata": {},
   "outputs": [],
   "source": [
    "df_repair = df[df['BTicketType'] == 'Repair'].drop(columns=['BTicketType'])\n",
    "df_log = df[df['BTicketType'] == 'Log'].drop(columns=['BTicketType'])\n",
    "df_capped = df[df['BTicketType'] == 'Capped'].drop(columns=['BTicketType'])\n",
    "df_prescribed = df[df['BTicketType'] == 'Prescribed'].drop(columns=['BTicketType'])"
   ]
  },
  {
   "cell_type": "markdown",
   "id": "d4d2e69a",
   "metadata": {},
   "source": [
    "## Dropping Rare Cases"
   ]
  },
  {
   "cell_type": "code",
   "execution_count": null,
   "id": "1e0c6eec",
   "metadata": {},
   "outputs": [],
   "source": [
    "df_repair = drop_rare(df_repair, 'TaskName', 100, df_name=\"Repair DF\")\n",
    "df_log = drop_rare(df_log, 'Model', 20, df_name=\"Log DF\")\n",
    "df_capped = drop_rare(df_capped, 'Model', 20, df_name=\"Capped DF\")\n",
    "df_prescribed = drop_rare(df_prescribed, 'Model', 20, df_name=\"Prescribed DF\")"
   ]
  },
  {
   "cell_type": "code",
   "execution_count": null,
   "id": "8b68bc9a",
   "metadata": {},
   "outputs": [],
   "source": [
    "df_repair.to_csv('data/preprocessed_repair_data.csv', index=False)\n",
    "df_log.to_csv('data/preprocessed_log_data.csv', index=False)\n",
    "df_capped.to_csv('data/preprocessed_capped_data.csv', index=False)\n",
    "df_prescribed.to_csv('data/preprocessed_prescribed_data.csv', index=False)"
   ]
  }
 ],
 "metadata": {
  "kernelspec": {
   "display_name": "venv",
   "language": "python",
   "name": "python3"
  },
  "language_info": {
   "codemirror_mode": {
    "name": "ipython",
    "version": 3
   },
   "file_extension": ".py",
   "mimetype": "text/x-python",
   "name": "python",
   "nbconvert_exporter": "python",
   "pygments_lexer": "ipython3",
   "version": "3.12.3"
  }
 },
 "nbformat": 4,
 "nbformat_minor": 5
}
