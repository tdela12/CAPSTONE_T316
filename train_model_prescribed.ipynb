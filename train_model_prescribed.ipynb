{
 "cells": [
  {
   "cell_type": "markdown",
   "id": "2f7e1b05",
   "metadata": {},
   "source": [
    "## Import Statements"
   ]
  },
  {
   "cell_type": "code",
   "execution_count": 1,
   "id": "3e4670d3",
   "metadata": {},
   "outputs": [],
   "source": [
    "import pandas as pd\n",
    "from sklearn.model_selection import train_test_split\n",
    "import numpy as np\n",
    "import matplotlib.pyplot as plt\n",
    "from sklearn.model_selection import GridSearchCV, RandomizedSearchCV\n",
    "from catboost import CatBoostRegressor\n",
    "from sklearn.metrics import mean_absolute_error, mean_squared_error\n"
   ]
  },
  {
   "cell_type": "markdown",
   "id": "a52d2b89",
   "metadata": {},
   "source": [
    "## Read in Data"
   ]
  },
  {
   "cell_type": "code",
   "execution_count": null,
   "id": "04320f19",
   "metadata": {},
   "outputs": [
    {
     "data": {
      "text/html": [
       "<div>\n",
       "<style scoped>\n",
       "    .dataframe tbody tr th:only-of-type {\n",
       "        vertical-align: middle;\n",
       "    }\n",
       "\n",
       "    .dataframe tbody tr th {\n",
       "        vertical-align: top;\n",
       "    }\n",
       "\n",
       "    .dataframe thead th {\n",
       "        text-align: right;\n",
       "    }\n",
       "</style>\n",
       "<table border=\"1\" class=\"dataframe\">\n",
       "  <thead>\n",
       "    <tr style=\"text-align: right;\">\n",
       "      <th></th>\n",
       "      <th>Make</th>\n",
       "      <th>Model</th>\n",
       "      <th>Year</th>\n",
       "      <th>FuelType</th>\n",
       "      <th>EngineSize</th>\n",
       "      <th>Transmission</th>\n",
       "      <th>DriveType</th>\n",
       "      <th>Distance</th>\n",
       "      <th>Months</th>\n",
       "      <th>AdjustedPrice</th>\n",
       "    </tr>\n",
       "  </thead>\n",
       "  <tbody>\n",
       "    <tr>\n",
       "      <th>0</th>\n",
       "      <td>ISUZU</td>\n",
       "      <td>ISUZU F-SERIES</td>\n",
       "      <td>2018</td>\n",
       "      <td>Diesel</td>\n",
       "      <td>NaN</td>\n",
       "      <td>Auto</td>\n",
       "      <td>2WD</td>\n",
       "      <td>220000.0</td>\n",
       "      <td>NaN</td>\n",
       "      <td>1266.0</td>\n",
       "    </tr>\n",
       "    <tr>\n",
       "      <th>1</th>\n",
       "      <td>MAXICUBE</td>\n",
       "      <td>MAXICUBE 24 PALLET</td>\n",
       "      <td>2017</td>\n",
       "      <td>NaN</td>\n",
       "      <td>NaN</td>\n",
       "      <td>NaN</td>\n",
       "      <td>NaN</td>\n",
       "      <td>625000.0</td>\n",
       "      <td>NaN</td>\n",
       "      <td>288.0</td>\n",
       "    </tr>\n",
       "    <tr>\n",
       "      <th>2</th>\n",
       "      <td>FORD</td>\n",
       "      <td>FORD TRANSIT</td>\n",
       "      <td>2021</td>\n",
       "      <td>Diesel</td>\n",
       "      <td>2.0</td>\n",
       "      <td>Auto</td>\n",
       "      <td>2WD</td>\n",
       "      <td>90000.0</td>\n",
       "      <td>NaN</td>\n",
       "      <td>414.0</td>\n",
       "    </tr>\n",
       "    <tr>\n",
       "      <th>4</th>\n",
       "      <td>HINO</td>\n",
       "      <td>HINO 300</td>\n",
       "      <td>2021</td>\n",
       "      <td>Diesel</td>\n",
       "      <td>NaN</td>\n",
       "      <td>Auto</td>\n",
       "      <td>NaN</td>\n",
       "      <td>40000.0</td>\n",
       "      <td>NaN</td>\n",
       "      <td>1895.0</td>\n",
       "    </tr>\n",
       "    <tr>\n",
       "      <th>5</th>\n",
       "      <td>EQUIPMENT</td>\n",
       "      <td>EQUIPMENT VAWTRA</td>\n",
       "      <td>2014</td>\n",
       "      <td>NaN</td>\n",
       "      <td>NaN</td>\n",
       "      <td>NaN</td>\n",
       "      <td>4WD</td>\n",
       "      <td>740000.0</td>\n",
       "      <td>NaN</td>\n",
       "      <td>337.0</td>\n",
       "    </tr>\n",
       "  </tbody>\n",
       "</table>\n",
       "</div>"
      ],
      "text/plain": [
       "        Make               Model  Year FuelType  EngineSize Transmission  \\\n",
       "0      ISUZU      ISUZU F-SERIES  2018   Diesel         NaN         Auto   \n",
       "1   MAXICUBE  MAXICUBE 24 PALLET  2017      NaN         NaN          NaN   \n",
       "2       FORD        FORD TRANSIT  2021   Diesel         2.0         Auto   \n",
       "4       HINO            HINO 300  2021   Diesel         NaN         Auto   \n",
       "5  EQUIPMENT    EQUIPMENT VAWTRA  2014      NaN         NaN          NaN   \n",
       "\n",
       "  DriveType  Distance  Months  AdjustedPrice  \n",
       "0       2WD  220000.0     NaN         1266.0  \n",
       "1       NaN  625000.0     NaN          288.0  \n",
       "2       2WD   90000.0     NaN          414.0  \n",
       "4       NaN   40000.0     NaN         1895.0  \n",
       "5       4WD  740000.0     NaN          337.0  "
      ]
     },
     "execution_count": 2,
     "metadata": {},
     "output_type": "execute_result"
    }
   ],
   "source": [
    "df = pd.read_csv('data/preprocessed_prescribed_data.csv')\n",
    "df = df[df['Label'] == 1];\n",
    "df.drop(columns=['Label', 'TaskName', 'Odometer', 'IsHybrid', 'Months'], inplace=True)\n",
    "df.head()"
   ]
  },
  {
   "cell_type": "code",
   "execution_count": null,
   "id": "570343e3",
   "metadata": {},
   "outputs": [],
   "source": [
    "X = df.drop(columns=[\"AdjustedPrice\"])  \n",
    "y = df[\"AdjustedPrice\"]     \n",
    "cat_feature_indices = [0, 1, 3, 5, 6]  "
   ]
  },
  {
   "cell_type": "code",
   "execution_count": null,
   "id": "1947689e",
   "metadata": {},
   "outputs": [],
   "source": [
    "X_train, X_temp, y_train, y_temp = train_test_split(\n",
    "    X, y, test_size=0.3, random_state=42\n",
    ")\n",
    "X_test, X_val, y_test, y_val = train_test_split(\n",
    "    X_temp, y_temp, test_size=0.5, random_state=42\n",
    ")"
   ]
  },
  {
   "cell_type": "code",
   "execution_count": null,
   "id": "63b026b0",
   "metadata": {},
   "outputs": [],
   "source": [
    "for col in X_train.select_dtypes(include='object').columns:\n",
    "     X_train[col] = X_train[col].fillna(\"missing\")\n",
    "\n",
    "for col in X_val.select_dtypes(include='object').columns:\n",
    "   X_val[col] = X_val[col].fillna(\"missing\")\n",
    "\n",
    "for col in X_test.select_dtypes(include='object').columns:\n",
    "   X_test[col] = X_test[col].fillna(\"missing\")"
   ]
  },
  {
   "cell_type": "code",
   "execution_count": null,
   "id": "86e2a4a8",
   "metadata": {},
   "outputs": [],
   "source": [
    "def mean_absolute_percentage_error(y_true, y_pred):\n",
    "    y_true, y_pred = np.array(y_true), np.array(y_pred)\n",
    "    # Avoid division by zero\n",
    "    nonzero_mask = y_true != 0\n",
    "    return np.mean(np.abs((y_true[nonzero_mask] - y_pred[nonzero_mask]) / y_true[nonzero_mask])) * 100"
   ]
  },
  {
   "cell_type": "code",
   "execution_count": null,
   "id": "750324f4",
   "metadata": {},
   "outputs": [],
   "source": [
    "model = CatBoostRegressor(\n",
    "    eval_metric='MAPE',\n",
    "    loss_function='RMSEWithUncertainty',\n",
    "    od_type='Iter',\n",
    "    od_wait=50,\n",
    "    random_seed=42,\n",
    "    verbose=0,\n",
    "    thread_count=4\n",
    ")\n",
    "\n",
    "param_grid = {\n",
    "    'depth': [6, 8, 10],\n",
    "    'learning_rate': [0.01, 0.03, 0.05, 0.1],\n",
    "    'l2_leaf_reg': [1, 3, 5, 7],\n",
    "    'iterations': [1000, 1500],\n",
    "    'subsample': [0.8, 0.9, 1.0],\n",
    "    'colsample_bylevel': [0.8, 0.9, 1.0],\n",
    "    'min_child_samples': [5, 10, 20],\n",
    "}\n",
    "\n",
    "\n",
    "random_search = RandomizedSearchCV(\n",
    "    model,\n",
    "    param_distributions=param_grid,\n",
    "    n_iter=25,            \n",
    "    cv=3,                 \n",
    "    scoring='neg_mean_absolute_percentage_error',\n",
    "    random_state=42,\n",
    "    verbose=2,\n",
    "    n_jobs=-1\n",
    ")"
   ]
  },
  {
   "cell_type": "code",
   "execution_count": null,
   "id": "2f9941ac",
   "metadata": {},
   "outputs": [],
   "source": [
    "random_search.fit(\n",
    "    X_train, y_train,\n",
    "    cat_features=cat_feature_indices,\n",
    "    early_stopping_rounds=200\n",
    ")\n",
    "\n",
    "print(\"Best params:\", random_search.best_params_)\n",
    "print(\"Best CV score (MAPE):\", -random_search.best_score_)"
   ]
  },
  {
   "cell_type": "code",
   "execution_count": null,
   "id": "56cc106b",
   "metadata": {},
   "outputs": [],
   "source": [
    "best_params = random_search.best_params_\n",
    "\n",
    "best_model = CatBoostRegressor(\n",
    "    **best_params,\n",
    "    cat_features=cat_feature_indices,\n",
    "    eval_metric='MAPE',\n",
    "    random_seed=42,\n",
    "    verbose=100\n",
    ")\n",
    "\n",
    "best_model.fit(\n",
    "    X_train, y_train,\n",
    "    eval_set=(X_val, y_val),\n",
    "    use_best_model=True,\n",
    "    early_stopping_rounds=200\n",
    ")"
   ]
  },
  {
   "cell_type": "code",
   "execution_count": null,
   "id": "6a8cd54e",
   "metadata": {},
   "outputs": [],
   "source": [
    "y_pred = best_model.predict(X_test)\n",
    "print(\"MAE:\", mean_absolute_error(y_test, y_pred))\n",
    "print(\"RMSE:\", np.sqrt(mean_squared_error(y_test, y_pred)))\n",
    "mape = mean_absolute_percentage_error(y_test, y_pred)\n",
    "print(f\"MAPE: {mape:.2f}%\")"
   ]
  },
  {
   "cell_type": "code",
   "execution_count": null,
   "id": "53c582b2",
   "metadata": {},
   "outputs": [],
   "source": [
    "evals_result = best_model.get_evals_result()\n",
    "\n",
    "# Plot loss curves\n",
    "plt.figure(figsize=(8,5))\n",
    "plt.plot(evals_result['learn']['RMSE'], label='Training loss')\n",
    "plt.plot(evals_result['validation']['RMSE'], label='Validation loss')\n",
    "plt.xlabel('Iterations')\n",
    "plt.ylabel('RMSE')\n",
    "plt.legend()\n",
    "plt.title('Training vs Validation Loss')\n",
    "plt.show()"
   ]
  },
  {
   "cell_type": "code",
   "execution_count": null,
   "id": "97df1f43",
   "metadata": {},
   "outputs": [],
   "source": [
    "residuals = y_test - y_pred\n",
    "plt.figure(figsize=(8,6))\n",
    "plt.scatter(y_pred, residuals, alpha=0.5)\n",
    "plt.axhline(0, color='red', linestyle='--')\n",
    "plt.xlabel(\"Predicted Price\")\n",
    "plt.ylabel(\"Residual (Actual - Predicted)\")\n",
    "plt.title(\"Residual Plot\")\n",
    "plt.show()"
   ]
  },
  {
   "cell_type": "code",
   "execution_count": null,
   "id": "034d35ec",
   "metadata": {},
   "outputs": [],
   "source": [
    "plt.figure(figsize=(8,6))\n",
    "plt.hist(residuals, bins=50, edgecolor='k', alpha=0.7)\n",
    "plt.axvline(0, color='red', linestyle='--')\n",
    "plt.xlabel(\"Error\")\n",
    "plt.ylabel(\"Frequency\")\n",
    "plt.title(\"Distribution of Prediction Errors\")\n",
    "plt.show()"
   ]
  },
  {
   "cell_type": "code",
   "execution_count": null,
   "id": "6423311d",
   "metadata": {},
   "outputs": [],
   "source": [
    "importance = best_model.get_feature_importance()\n",
    "feature_names = X_train.columns  # or your list of feature names\n",
    "\n",
    "plt.figure(figsize=(10,6))\n",
    "plt.barh(feature_names, importance)\n",
    "plt.xlabel('Feature Importance')\n",
    "plt.title('CatBoost Feature Importance')\n",
    "plt.show()"
   ]
  },
  {
   "cell_type": "code",
   "execution_count": null,
   "id": "1bc5a796",
   "metadata": {},
   "outputs": [],
   "source": [
    "import shap\n",
    "\n",
    "explainer = shap.TreeExplainer(best_model)\n",
    "shap_values = explainer.shap_values(X_test)\n",
    "\n",
    "shap.summary_plot(shap_values, X_test)"
   ]
  },
  {
   "cell_type": "code",
   "execution_count": null,
   "id": "34be18b4",
   "metadata": {},
   "outputs": [],
   "source": [
    "best_model.save_model('models/prescribed_model.cbm')"
   ]
  }
 ],
 "metadata": {
  "kernelspec": {
   "display_name": "venv",
   "language": "python",
   "name": "python3"
  },
  "language_info": {
   "codemirror_mode": {
    "name": "ipython",
    "version": 3
   },
   "file_extension": ".py",
   "mimetype": "text/x-python",
   "name": "python",
   "nbconvert_exporter": "python",
   "pygments_lexer": "ipython3",
   "version": "3.12.3"
  }
 },
 "nbformat": 4,
 "nbformat_minor": 5
}
