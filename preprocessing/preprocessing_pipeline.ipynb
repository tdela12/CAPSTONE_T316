{
 "cells": [
  {
   "cell_type": "markdown",
   "id": "013be7af",
   "metadata": {},
   "source": [
    "# Preprocessing Pipeline"
   ]
  },
  {
   "cell_type": "markdown",
   "id": "de599698",
   "metadata": {},
   "source": [
    "## Import Statements"
   ]
  },
  {
   "cell_type": "code",
   "execution_count": 1,
   "id": "114b0833",
   "metadata": {},
   "outputs": [],
   "source": [
    "import pandas as pd\n",
    "pd.set_option('display.max_columns', None)\n",
    "pd.set_option('display.max_rows', None)\n",
    "import numpy as np"
   ]
  },
  {
   "cell_type": "markdown",
   "id": "bc31fcc1",
   "metadata": {},
   "source": [
    "## Functions"
   ]
  },
  {
   "cell_type": "code",
   "execution_count": 2,
   "id": "030267b0",
   "metadata": {},
   "outputs": [],
   "source": [
    "def remove_outliers(df, group_by=\"TaskName\", value_col=\"price\"):\n",
    "    def filter_group(group):\n",
    "        Q1 = group[value_col].quantile(0.25)\n",
    "        Q3 = group[value_col].quantile(0.75)\n",
    "        IQR = Q3 - Q1\n",
    "        lower = Q1 - 1.5 * IQR\n",
    "        upper = Q3 + 1.5 * IQR\n",
    "        return group[(group[value_col] >= lower) & (group[value_col] <= upper)]\n",
    "    \n",
    "    return df.groupby(group_by, group_keys=False).apply(filter_group)"
   ]
  },
  {
   "cell_type": "code",
   "execution_count": 3,
   "id": "3cebc73c",
   "metadata": {},
   "outputs": [],
   "source": [
    "def drop_rare(df, column, threshold, df_name=\"DataFrame\"):\n",
    "    print(f\"----Dropping Rare {column}s from {df_name}----\")\n",
    "    print(f\"{column}s before: {len(df[column].unique())}\")\n",
    "    counts = df[column].value_counts()\n",
    "    rare_values = counts[counts < threshold].index\n",
    "    df = df[~df[column].isin(rare_values)].copy()\n",
    "    print(f\"{column}s after: {len(df[column].unique())}\")\n",
    "    return df"
   ]
  },
  {
   "cell_type": "markdown",
   "id": "8214efef",
   "metadata": {},
   "source": [
    "## Read in Data"
   ]
  },
  {
   "cell_type": "code",
   "execution_count": 4,
   "id": "80ea041e",
   "metadata": {},
   "outputs": [
    {
     "ename": "FileNotFoundError",
     "evalue": "[Errno 2] No such file or directory: 'data/cpi_data.csv'",
     "output_type": "error",
     "traceback": [
      "\u001b[31m---------------------------------------------------------------------------\u001b[39m",
      "\u001b[31mFileNotFoundError\u001b[39m                         Traceback (most recent call last)",
      "\u001b[36mCell\u001b[39m\u001b[36m \u001b[39m\u001b[32mIn[4]\u001b[39m\u001b[32m, line 2\u001b[39m\n\u001b[32m      1\u001b[39m \u001b[38;5;66;03m# CPI for price adjustment\u001b[39;00m\n\u001b[32m----> \u001b[39m\u001b[32m2\u001b[39m cpi_index = \u001b[43mpd\u001b[49m\u001b[43m.\u001b[49m\u001b[43mread_csv\u001b[49m\u001b[43m(\u001b[49m\u001b[33;43m'\u001b[39;49m\u001b[33;43mdata/cpi_data.csv\u001b[39;49m\u001b[33;43m'\u001b[39;49m\u001b[43m)\u001b[49m\n\u001b[32m      3\u001b[39m cpi_index.head()\n",
      "\u001b[36mFile \u001b[39m\u001b[32mc:\\Users\\delac\\OneDrive\\QUTunits\\CAPSTONE\\CAPSTONE_T316\\.venv\\Lib\\site-packages\\pandas\\io\\parsers\\readers.py:1026\u001b[39m, in \u001b[36mread_csv\u001b[39m\u001b[34m(filepath_or_buffer, sep, delimiter, header, names, index_col, usecols, dtype, engine, converters, true_values, false_values, skipinitialspace, skiprows, skipfooter, nrows, na_values, keep_default_na, na_filter, verbose, skip_blank_lines, parse_dates, infer_datetime_format, keep_date_col, date_parser, date_format, dayfirst, cache_dates, iterator, chunksize, compression, thousands, decimal, lineterminator, quotechar, quoting, doublequote, escapechar, comment, encoding, encoding_errors, dialect, on_bad_lines, delim_whitespace, low_memory, memory_map, float_precision, storage_options, dtype_backend)\u001b[39m\n\u001b[32m   1013\u001b[39m kwds_defaults = _refine_defaults_read(\n\u001b[32m   1014\u001b[39m     dialect,\n\u001b[32m   1015\u001b[39m     delimiter,\n\u001b[32m   (...)\u001b[39m\u001b[32m   1022\u001b[39m     dtype_backend=dtype_backend,\n\u001b[32m   1023\u001b[39m )\n\u001b[32m   1024\u001b[39m kwds.update(kwds_defaults)\n\u001b[32m-> \u001b[39m\u001b[32m1026\u001b[39m \u001b[38;5;28;01mreturn\u001b[39;00m \u001b[43m_read\u001b[49m\u001b[43m(\u001b[49m\u001b[43mfilepath_or_buffer\u001b[49m\u001b[43m,\u001b[49m\u001b[43m \u001b[49m\u001b[43mkwds\u001b[49m\u001b[43m)\u001b[49m\n",
      "\u001b[36mFile \u001b[39m\u001b[32mc:\\Users\\delac\\OneDrive\\QUTunits\\CAPSTONE\\CAPSTONE_T316\\.venv\\Lib\\site-packages\\pandas\\io\\parsers\\readers.py:620\u001b[39m, in \u001b[36m_read\u001b[39m\u001b[34m(filepath_or_buffer, kwds)\u001b[39m\n\u001b[32m    617\u001b[39m _validate_names(kwds.get(\u001b[33m\"\u001b[39m\u001b[33mnames\u001b[39m\u001b[33m\"\u001b[39m, \u001b[38;5;28;01mNone\u001b[39;00m))\n\u001b[32m    619\u001b[39m \u001b[38;5;66;03m# Create the parser.\u001b[39;00m\n\u001b[32m--> \u001b[39m\u001b[32m620\u001b[39m parser = \u001b[43mTextFileReader\u001b[49m\u001b[43m(\u001b[49m\u001b[43mfilepath_or_buffer\u001b[49m\u001b[43m,\u001b[49m\u001b[43m \u001b[49m\u001b[43m*\u001b[49m\u001b[43m*\u001b[49m\u001b[43mkwds\u001b[49m\u001b[43m)\u001b[49m\n\u001b[32m    622\u001b[39m \u001b[38;5;28;01mif\u001b[39;00m chunksize \u001b[38;5;129;01mor\u001b[39;00m iterator:\n\u001b[32m    623\u001b[39m     \u001b[38;5;28;01mreturn\u001b[39;00m parser\n",
      "\u001b[36mFile \u001b[39m\u001b[32mc:\\Users\\delac\\OneDrive\\QUTunits\\CAPSTONE\\CAPSTONE_T316\\.venv\\Lib\\site-packages\\pandas\\io\\parsers\\readers.py:1620\u001b[39m, in \u001b[36mTextFileReader.__init__\u001b[39m\u001b[34m(self, f, engine, **kwds)\u001b[39m\n\u001b[32m   1617\u001b[39m     \u001b[38;5;28mself\u001b[39m.options[\u001b[33m\"\u001b[39m\u001b[33mhas_index_names\u001b[39m\u001b[33m\"\u001b[39m] = kwds[\u001b[33m\"\u001b[39m\u001b[33mhas_index_names\u001b[39m\u001b[33m\"\u001b[39m]\n\u001b[32m   1619\u001b[39m \u001b[38;5;28mself\u001b[39m.handles: IOHandles | \u001b[38;5;28;01mNone\u001b[39;00m = \u001b[38;5;28;01mNone\u001b[39;00m\n\u001b[32m-> \u001b[39m\u001b[32m1620\u001b[39m \u001b[38;5;28mself\u001b[39m._engine = \u001b[38;5;28;43mself\u001b[39;49m\u001b[43m.\u001b[49m\u001b[43m_make_engine\u001b[49m\u001b[43m(\u001b[49m\u001b[43mf\u001b[49m\u001b[43m,\u001b[49m\u001b[43m \u001b[49m\u001b[38;5;28;43mself\u001b[39;49m\u001b[43m.\u001b[49m\u001b[43mengine\u001b[49m\u001b[43m)\u001b[49m\n",
      "\u001b[36mFile \u001b[39m\u001b[32mc:\\Users\\delac\\OneDrive\\QUTunits\\CAPSTONE\\CAPSTONE_T316\\.venv\\Lib\\site-packages\\pandas\\io\\parsers\\readers.py:1880\u001b[39m, in \u001b[36mTextFileReader._make_engine\u001b[39m\u001b[34m(self, f, engine)\u001b[39m\n\u001b[32m   1878\u001b[39m     \u001b[38;5;28;01mif\u001b[39;00m \u001b[33m\"\u001b[39m\u001b[33mb\u001b[39m\u001b[33m\"\u001b[39m \u001b[38;5;129;01mnot\u001b[39;00m \u001b[38;5;129;01min\u001b[39;00m mode:\n\u001b[32m   1879\u001b[39m         mode += \u001b[33m\"\u001b[39m\u001b[33mb\u001b[39m\u001b[33m\"\u001b[39m\n\u001b[32m-> \u001b[39m\u001b[32m1880\u001b[39m \u001b[38;5;28mself\u001b[39m.handles = \u001b[43mget_handle\u001b[49m\u001b[43m(\u001b[49m\n\u001b[32m   1881\u001b[39m \u001b[43m    \u001b[49m\u001b[43mf\u001b[49m\u001b[43m,\u001b[49m\n\u001b[32m   1882\u001b[39m \u001b[43m    \u001b[49m\u001b[43mmode\u001b[49m\u001b[43m,\u001b[49m\n\u001b[32m   1883\u001b[39m \u001b[43m    \u001b[49m\u001b[43mencoding\u001b[49m\u001b[43m=\u001b[49m\u001b[38;5;28;43mself\u001b[39;49m\u001b[43m.\u001b[49m\u001b[43moptions\u001b[49m\u001b[43m.\u001b[49m\u001b[43mget\u001b[49m\u001b[43m(\u001b[49m\u001b[33;43m\"\u001b[39;49m\u001b[33;43mencoding\u001b[39;49m\u001b[33;43m\"\u001b[39;49m\u001b[43m,\u001b[49m\u001b[43m \u001b[49m\u001b[38;5;28;43;01mNone\u001b[39;49;00m\u001b[43m)\u001b[49m\u001b[43m,\u001b[49m\n\u001b[32m   1884\u001b[39m \u001b[43m    \u001b[49m\u001b[43mcompression\u001b[49m\u001b[43m=\u001b[49m\u001b[38;5;28;43mself\u001b[39;49m\u001b[43m.\u001b[49m\u001b[43moptions\u001b[49m\u001b[43m.\u001b[49m\u001b[43mget\u001b[49m\u001b[43m(\u001b[49m\u001b[33;43m\"\u001b[39;49m\u001b[33;43mcompression\u001b[39;49m\u001b[33;43m\"\u001b[39;49m\u001b[43m,\u001b[49m\u001b[43m \u001b[49m\u001b[38;5;28;43;01mNone\u001b[39;49;00m\u001b[43m)\u001b[49m\u001b[43m,\u001b[49m\n\u001b[32m   1885\u001b[39m \u001b[43m    \u001b[49m\u001b[43mmemory_map\u001b[49m\u001b[43m=\u001b[49m\u001b[38;5;28;43mself\u001b[39;49m\u001b[43m.\u001b[49m\u001b[43moptions\u001b[49m\u001b[43m.\u001b[49m\u001b[43mget\u001b[49m\u001b[43m(\u001b[49m\u001b[33;43m\"\u001b[39;49m\u001b[33;43mmemory_map\u001b[39;49m\u001b[33;43m\"\u001b[39;49m\u001b[43m,\u001b[49m\u001b[43m \u001b[49m\u001b[38;5;28;43;01mFalse\u001b[39;49;00m\u001b[43m)\u001b[49m\u001b[43m,\u001b[49m\n\u001b[32m   1886\u001b[39m \u001b[43m    \u001b[49m\u001b[43mis_text\u001b[49m\u001b[43m=\u001b[49m\u001b[43mis_text\u001b[49m\u001b[43m,\u001b[49m\n\u001b[32m   1887\u001b[39m \u001b[43m    \u001b[49m\u001b[43merrors\u001b[49m\u001b[43m=\u001b[49m\u001b[38;5;28;43mself\u001b[39;49m\u001b[43m.\u001b[49m\u001b[43moptions\u001b[49m\u001b[43m.\u001b[49m\u001b[43mget\u001b[49m\u001b[43m(\u001b[49m\u001b[33;43m\"\u001b[39;49m\u001b[33;43mencoding_errors\u001b[39;49m\u001b[33;43m\"\u001b[39;49m\u001b[43m,\u001b[49m\u001b[43m \u001b[49m\u001b[33;43m\"\u001b[39;49m\u001b[33;43mstrict\u001b[39;49m\u001b[33;43m\"\u001b[39;49m\u001b[43m)\u001b[49m\u001b[43m,\u001b[49m\n\u001b[32m   1888\u001b[39m \u001b[43m    \u001b[49m\u001b[43mstorage_options\u001b[49m\u001b[43m=\u001b[49m\u001b[38;5;28;43mself\u001b[39;49m\u001b[43m.\u001b[49m\u001b[43moptions\u001b[49m\u001b[43m.\u001b[49m\u001b[43mget\u001b[49m\u001b[43m(\u001b[49m\u001b[33;43m\"\u001b[39;49m\u001b[33;43mstorage_options\u001b[39;49m\u001b[33;43m\"\u001b[39;49m\u001b[43m,\u001b[49m\u001b[43m \u001b[49m\u001b[38;5;28;43;01mNone\u001b[39;49;00m\u001b[43m)\u001b[49m\u001b[43m,\u001b[49m\n\u001b[32m   1889\u001b[39m \u001b[43m\u001b[49m\u001b[43m)\u001b[49m\n\u001b[32m   1890\u001b[39m \u001b[38;5;28;01massert\u001b[39;00m \u001b[38;5;28mself\u001b[39m.handles \u001b[38;5;129;01mis\u001b[39;00m \u001b[38;5;129;01mnot\u001b[39;00m \u001b[38;5;28;01mNone\u001b[39;00m\n\u001b[32m   1891\u001b[39m f = \u001b[38;5;28mself\u001b[39m.handles.handle\n",
      "\u001b[36mFile \u001b[39m\u001b[32mc:\\Users\\delac\\OneDrive\\QUTunits\\CAPSTONE\\CAPSTONE_T316\\.venv\\Lib\\site-packages\\pandas\\io\\common.py:873\u001b[39m, in \u001b[36mget_handle\u001b[39m\u001b[34m(path_or_buf, mode, encoding, compression, memory_map, is_text, errors, storage_options)\u001b[39m\n\u001b[32m    868\u001b[39m \u001b[38;5;28;01melif\u001b[39;00m \u001b[38;5;28misinstance\u001b[39m(handle, \u001b[38;5;28mstr\u001b[39m):\n\u001b[32m    869\u001b[39m     \u001b[38;5;66;03m# Check whether the filename is to be opened in binary mode.\u001b[39;00m\n\u001b[32m    870\u001b[39m     \u001b[38;5;66;03m# Binary mode does not support 'encoding' and 'newline'.\u001b[39;00m\n\u001b[32m    871\u001b[39m     \u001b[38;5;28;01mif\u001b[39;00m ioargs.encoding \u001b[38;5;129;01mand\u001b[39;00m \u001b[33m\"\u001b[39m\u001b[33mb\u001b[39m\u001b[33m\"\u001b[39m \u001b[38;5;129;01mnot\u001b[39;00m \u001b[38;5;129;01min\u001b[39;00m ioargs.mode:\n\u001b[32m    872\u001b[39m         \u001b[38;5;66;03m# Encoding\u001b[39;00m\n\u001b[32m--> \u001b[39m\u001b[32m873\u001b[39m         handle = \u001b[38;5;28;43mopen\u001b[39;49m\u001b[43m(\u001b[49m\n\u001b[32m    874\u001b[39m \u001b[43m            \u001b[49m\u001b[43mhandle\u001b[49m\u001b[43m,\u001b[49m\n\u001b[32m    875\u001b[39m \u001b[43m            \u001b[49m\u001b[43mioargs\u001b[49m\u001b[43m.\u001b[49m\u001b[43mmode\u001b[49m\u001b[43m,\u001b[49m\n\u001b[32m    876\u001b[39m \u001b[43m            \u001b[49m\u001b[43mencoding\u001b[49m\u001b[43m=\u001b[49m\u001b[43mioargs\u001b[49m\u001b[43m.\u001b[49m\u001b[43mencoding\u001b[49m\u001b[43m,\u001b[49m\n\u001b[32m    877\u001b[39m \u001b[43m            \u001b[49m\u001b[43merrors\u001b[49m\u001b[43m=\u001b[49m\u001b[43merrors\u001b[49m\u001b[43m,\u001b[49m\n\u001b[32m    878\u001b[39m \u001b[43m            \u001b[49m\u001b[43mnewline\u001b[49m\u001b[43m=\u001b[49m\u001b[33;43m\"\u001b[39;49m\u001b[33;43m\"\u001b[39;49m\u001b[43m,\u001b[49m\n\u001b[32m    879\u001b[39m \u001b[43m        \u001b[49m\u001b[43m)\u001b[49m\n\u001b[32m    880\u001b[39m     \u001b[38;5;28;01melse\u001b[39;00m:\n\u001b[32m    881\u001b[39m         \u001b[38;5;66;03m# Binary mode\u001b[39;00m\n\u001b[32m    882\u001b[39m         handle = \u001b[38;5;28mopen\u001b[39m(handle, ioargs.mode)\n",
      "\u001b[31mFileNotFoundError\u001b[39m: [Errno 2] No such file or directory: 'data/cpi_data.csv'"
     ]
    }
   ],
   "source": [
    "# CPI for price adjustment\n",
    "cpi_index = pd.read_csv('data/cpi_data.csv')\n",
    "cpi_index.head()"
   ]
  },
  {
   "cell_type": "code",
   "execution_count": null,
   "id": "40ab419b",
   "metadata": {},
   "outputs": [],
   "source": [
    "# Booking/Ticket data\n",
    "df = pd.read_csv('data/ticket_data.csv', encoding = 'windows-1252')\n",
    "df.head()"
   ]
  },
  {
   "cell_type": "markdown",
   "id": "8ac4f936",
   "metadata": {},
   "source": [
    "## Rename Columns"
   ]
  },
  {
   "cell_type": "code",
   "execution_count": null,
   "id": "65768c91",
   "metadata": {},
   "outputs": [],
   "source": [
    "df = df.rename(columns={\n",
    "    'cVMake': 'Make',\n",
    "    'cVMakeModel': 'Model',\n",
    "    'cVYear': 'Year',\n",
    "    'idFuel': 'FuelType',\n",
    "    'idLitres': 'EngineSize',\n",
    "    'idTransmission': 'Transmission',\n",
    "    'idDrive': 'DriveType',\n",
    "    'idIsHybrid': 'IsHybrid',\n",
    "    'BOdoNum' : 'Odometer',\n",
    "    })"
   ]
  },
  {
   "cell_type": "markdown",
   "id": "4e112f5e",
   "metadata": {},
   "source": [
    "## Drop Columns that will not be used"
   ]
  },
  {
   "cell_type": "code",
   "execution_count": null,
   "id": "2264d5af",
   "metadata": {},
   "outputs": [],
   "source": [
    "columns_to_drop = ['ï»¿FCID', 'BOdoText', 'VMid']\n",
    "df.drop(columns = columns_to_drop, inplace=True)\n",
    "df.head()"
   ]
  },
  {
   "cell_type": "markdown",
   "id": "7b4a9b4d",
   "metadata": {},
   "source": [
    "## Remove Rows\n"
   ]
  },
  {
   "cell_type": "code",
   "execution_count": null,
   "id": "a95dcb11",
   "metadata": {},
   "outputs": [],
   "source": [
    "# Remove custom services and repairs\n",
    "df = df[df['IsCustomService'] != '1']\n",
    "df = df[df['IsCustomRepair'] != '1']\n",
    "df = df[df['TaskName'] != 'Custom Repair']\n",
    "\n",
    "# Remove products and tyres as they are unpredictable without quantity information \n",
    "df = df[df['TaskName'] != '((Products))']\n",
    "df = df[df['TaskName'] != '((Tyres))']\n",
    "df = df[df['TaskName'] != 'Tyre Replacement']\n",
    "\n",
    "# Remove Rare ticket types\n",
    "df = df[df['BTicketType'] != 'OtherTicket']\n",
    "df = df[df['BTicketType'] != 'Custom']\n",
    "df = df[df['BTicketType'] != 'Basic']\n",
    "\n",
    "# Remove Tickets with zero or negative prices \n",
    "df = df[df['PriceIncGSTRaw'] > 0]"
   ]
  },
  {
   "cell_type": "markdown",
   "id": "f91623b6",
   "metadata": {},
   "source": [
    "## Create Months and Kilometer Columns from TicketType"
   ]
  },
  {
   "cell_type": "code",
   "execution_count": null,
   "id": "d54a0e47",
   "metadata": {},
   "outputs": [],
   "source": [
    "# Create Columns\n",
    "df['Distance'] = None\n",
    "df['Months'] = None\n",
    "\n",
    "mask = df['BTicketType'] == 'Log'\n",
    "split_1 = df.loc[mask, 'TaskName'].str.split(' - ', n=1, expand=True)\n",
    "df.loc[mask, 'TaskName'] = split_1[0]\n",
    "df.loc[mask, 'Rest'] = split_1[1].fillna('')\n",
    "\n",
    "split_2 = df.loc[mask, 'Rest'].str.split(' / ', n=1, expand=True)\n",
    "df.loc[mask, 'Distance'] = split_2[0]\n",
    "df.loc[mask, 'Months'] = split_2[1]\n",
    "\n",
    "mask = df['BTicketType'] == 'Capped'\n",
    "split_1 = df.loc[mask, 'TaskName'].str.split(' - ', n=1, expand=True)\n",
    "df.loc[mask, 'TaskName'] = split_1[0]\n",
    "df.loc[mask, 'Distance'] = split_1[1].fillna('')\n",
    "\n",
    "mask = df['BTicketType'] == 'Prescribed'\n",
    "split_1 = df.loc[mask, 'TaskName'].str.split(' - ', n=1, expand=True)\n",
    "df.loc[mask, 'TaskName'] = split_1[0]\n",
    "df.loc[mask, 'Distance'] = split_1[1].fillna('')\n",
    "\n",
    "df = df.drop(columns=['Rest'])"
   ]
  },
  {
   "cell_type": "code",
   "execution_count": null,
   "id": "8a585820",
   "metadata": {},
   "outputs": [],
   "source": [
    "# Format as Numeric\n",
    "df['Months'] = df['Months'].astype(str).str.extract(r'(\\d+)')\n",
    "df['Months'] = pd.to_numeric(df['Months'], errors='coerce')\n",
    "\n",
    "df['Distance'] = df['Distance'].astype(str).str.replace(',', '', regex=False)  \n",
    "df['Distance'] = df['Distance'].astype(str).str.extract(r'(\\d+)')\n",
    "df['Distance'] = pd.to_numeric(df['Distance'], errors='coerce')\n",
    "\n",
    "df.head()"
   ]
  },
  {
   "cell_type": "markdown",
   "id": "cda42906",
   "metadata": {},
   "source": [
    "## Create Adjusted Price based on CPI"
   ]
  },
  {
   "cell_type": "code",
   "execution_count": null,
   "id": "995177c7",
   "metadata": {},
   "outputs": [],
   "source": [
    "# 1. Create date column\n",
    "df['BCreatedDateAEST'] = pd.to_datetime(df['BCreatedDateAEST'], format='mixed', dayfirst=True);\n",
    "df['Date'] = df['BCreatedDateAEST'].dt.date"
   ]
  },
  {
   "cell_type": "code",
   "execution_count": null,
   "id": "2cfbfdc2",
   "metadata": {},
   "outputs": [],
   "source": [
    "# 2. Price Adjustment\n",
    "df = df[df['PriceIncGSTRaw'] != 0]\n",
    "df['Date'] = pd.to_datetime(df['Date']) # ensure 'date' is in datetime format\n",
    "df['Quarter'] = df['Date'].dt.to_period('Q').astype(str)\n",
    "df = df.merge(cpi_index, on='Quarter', how='left')\n",
    "base_cpi = cpi_index['CPI'].iloc[-1]\n",
    "df['AdjustedPrice'] = round(df['PriceIncGSTRaw'] * (base_cpi / df['CPI']), 2) # round to 2 decimal places for consistency\n",
    "df['AdjustedPrice'] = round(df['AdjustedPrice'].fillna(df['PriceIncGSTRaw'])) # use original price where CPI is missing (for current quarter which does not need adjustment)"
   ]
  },
  {
   "cell_type": "code",
   "execution_count": null,
   "id": "33806756",
   "metadata": {},
   "outputs": [],
   "source": [
    "df.head()"
   ]
  },
  {
   "cell_type": "markdown",
   "id": "96db04c4",
   "metadata": {},
   "source": [
    "## Remove Columns that will not be used"
   ]
  },
  {
   "cell_type": "code",
   "execution_count": null,
   "id": "9fd5fa11",
   "metadata": {},
   "outputs": [],
   "source": [
    "columns_to_drop = [ 'BCreatedDateAEST', 'CPI', 'Quarter', 'PriceIncGSTRaw' , 'BShopID', 'BShopRegionName', 'BShopPostcode', 'IsDeleted', 'BStatusFromDateTimeAEST', 'Date', 'BStatusFinal', ]\n",
    "df.drop(columns = columns_to_drop, inplace=True)\n",
    "df.head()"
   ]
  },
  {
   "cell_type": "markdown",
   "id": "bfec973a",
   "metadata": {},
   "source": [
    "## Remove Duplicate Rows"
   ]
  },
  {
   "cell_type": "code",
   "execution_count": null,
   "id": "ef6d2d2f",
   "metadata": {},
   "outputs": [],
   "source": [
    "# Duplicates can skew analysis and lead to incorrect conclusions, thus it is important each row is unique. Duplicates in this dataset are considered as rows that contain the same values across all columns other than the ID columns \n",
    "print(f\"size before: {df.shape}\" )\n",
    "df = df.drop_duplicates(subset=[col for col in df.columns if col not in ['BookingID', 'BTicketID', 'BCreatedDateAEST', 'BStatusFromDateTimeAEST']])\n",
    "print(f\"size after: {df.shape}\" )"
   ]
  },
  {
   "cell_type": "markdown",
   "id": "7bd69221",
   "metadata": {},
   "source": [
    "## Remove False Negatives "
   ]
  },
  {
   "cell_type": "code",
   "execution_count": null,
   "id": "b9e01155",
   "metadata": {},
   "outputs": [],
   "source": [
    "# False negatives are rows which have a status of '16. Requires Changes' when they should have a status of '33. Approved'. This occurs in the dataset as bookings contain multiple tickets. If a single ticket in a booking requires changes, the entire booking is marked as 'Requires Changes', thus marking tickets that do not require changes incorrectly. These false negatives can be detected and removed by checking if a duplicate entry exists where only the status changes.\n",
    "print(f\"size before: {df.shape}\" )\n",
    "df['StatusPriority'] = df['BStatusAfterSubmitted'].apply(lambda x: 0 if x == '33. Approved' else 1) # Assign priority: approved gets highest priority (lowest number)\n",
    "dedup_cols = [col for col in df.columns if col not in ['BStatusAfterSubmitted', 'StatusPriority','BCreatedDateAEST', 'BStatusFromDateTimeAEST', 'Date' ]] # Define columns to check for duplicates\n",
    "df = df.sort_values(by=dedup_cols + ['StatusPriority']) # Sort so approved status is first\n",
    "df = df.drop_duplicates(subset=dedup_cols, keep='first') # Keep the first occurrence (which is the approved status)\n",
    "df = df.drop(columns='StatusPriority') # drop the temporary column used for sorting\n",
    "\n",
    "df['Label'] = df['BStatusAfterSubmitted'].map({'33. Approved': 1, '16. Requires Changes': 0, '29. Rejected': 0}) # create label column for model training\n",
    "df = df.drop(columns=['BStatusAfterSubmitted'], axis=1) # drop the original status column as it is no longer needed\n",
    "print(f\"size after: {df.shape}\" ) "
   ]
  },
  {
   "cell_type": "markdown",
   "id": "a91350cc",
   "metadata": {},
   "source": [
    "## Remove Rejected Cases"
   ]
  },
  {
   "cell_type": "code",
   "execution_count": null,
   "id": "6242cca0",
   "metadata": {},
   "outputs": [],
   "source": [
    "df = df[df['Label'] == 1];"
   ]
  },
  {
   "cell_type": "markdown",
   "id": "8f96155c",
   "metadata": {},
   "source": [
    "## Fill in missing distances with odometer"
   ]
  },
  {
   "cell_type": "code",
   "execution_count": null,
   "id": "d4c1c249",
   "metadata": {},
   "outputs": [],
   "source": [
    "df[\"Distance\"] = df[\"Distance\"].fillna(df[\"Odometer\"])"
   ]
  },
  {
   "cell_type": "markdown",
   "id": "b735c41f",
   "metadata": {},
   "source": [
    "## Final Column Removal"
   ]
  },
  {
   "cell_type": "code",
   "execution_count": null,
   "id": "a5bfec5d",
   "metadata": {},
   "outputs": [],
   "source": [
    "\n",
    "columns_to_drop = ['BookingID', 'BTicketID', 'IsCustomService', 'IsCustomRepair', 'BShopRegionClass', 'BShopState', 'IsHybrid', 'Label', 'Odometer']\n",
    "df.drop(columns = columns_to_drop, inplace=True)\n",
    "df.head()"
   ]
  },
  {
   "cell_type": "markdown",
   "id": "909b1d94",
   "metadata": {},
   "source": [
    "## Split data Frame by Ticket Type"
   ]
  },
  {
   "cell_type": "code",
   "execution_count": null,
   "id": "e61d858e",
   "metadata": {},
   "outputs": [],
   "source": [
    "df_repair = df[df['BTicketType'] == 'Repair'].drop(columns=['BTicketType'])\n",
    "df_log = df[df['BTicketType'] == 'Log'].drop(columns=['BTicketType'])\n",
    "df_capped = df[df['BTicketType'] == 'Capped'].drop(columns=['BTicketType'])\n",
    "df_prescribed = df[df['BTicketType'] == 'Prescribed'].drop(columns=['BTicketType'])"
   ]
  },
  {
   "cell_type": "markdown",
   "id": "d4d2e69a",
   "metadata": {},
   "source": [
    "## Dropping Rare Cases"
   ]
  },
  {
   "cell_type": "code",
   "execution_count": null,
   "id": "1e0c6eec",
   "metadata": {},
   "outputs": [],
   "source": [
    "df_repair = drop_rare(df_repair, 'TaskName', 100, df_name=\"Repair DF\")\n",
    "df_log = drop_rare(df_log, 'Model', 20, df_name=\"Log DF\")\n",
    "df_capped = drop_rare(df_capped, 'Model', 20, df_name=\"Capped DF\")\n",
    "df_prescribed = drop_rare(df_prescribed, 'Model', 20, df_name=\"Prescribed DF\")"
   ]
  },
  {
   "cell_type": "code",
   "execution_count": null,
   "id": "8b68bc9a",
   "metadata": {},
   "outputs": [],
   "source": [
    "import os\n",
    "\n",
    "# Define paths\n",
    "paths = {\n",
    "    \"repair\": \"../backend/data/preprocessed_repair_data.csv\",\n",
    "    \"log\": \"../backend/data/preprocessed_log_data.csv\",\n",
    "    \"capped\": \"../backend/data/preprocessed_capped_data.csv\",\n",
    "    \"prescribed\": \"../backend/data/preprocessed_prescribed_data.csv\",\n",
    "}\n",
    "\n",
    "# Make sure the directories exist\n",
    "for path in paths.values():\n",
    "    dir_path = os.path.dirname(path)\n",
    "    os.makedirs(dir_path, exist_ok=True)  \n",
    "\n",
    "# Save CSVs\n",
    "df_repair.to_csv(paths[\"repair\"], index=False)\n",
    "df_log.to_csv(paths[\"log\"], index=False)\n",
    "df_capped.to_csv(paths[\"capped\"], index=False)\n",
    "df_prescribed.to_csv(paths[\"prescribed\"], index=False)\n",
    "\n",
    "print(\"All files saved successfully:\")\n",
    "for name, path in paths.items():\n",
    "    print(f\"{name}: {os.path.abspath(path)}\")"
   ]
  }
 ],
 "metadata": {
  "kernelspec": {
   "display_name": "Python 3 (ipykernel)",
   "language": "python",
   "name": "python3"
  },
  "language_info": {
   "codemirror_mode": {
    "name": "ipython",
    "version": 3
   },
   "file_extension": ".py",
   "mimetype": "text/x-python",
   "name": "python",
   "nbconvert_exporter": "python",
   "pygments_lexer": "ipython3",
   "version": "3.12.0"
  }
 },
 "nbformat": 4,
 "nbformat_minor": 5
}
