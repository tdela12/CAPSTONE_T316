{
 "cells": [
  {
   "cell_type": "markdown",
   "id": "2f7e1b05",
   "metadata": {},
   "source": [
    "## Import Statements"
   ]
  },
  {
   "cell_type": "code",
   "execution_count": 19,
   "id": "3e4670d3",
   "metadata": {},
   "outputs": [],
   "source": [
    "import pandas as pd\n",
    "from sklearn.model_selection import train_test_split\n",
    "import numpy as np\n",
    "import matplotlib.pyplot as plt\n",
    "from sklearn.model_selection import GridSearchCV, RandomizedSearchCV\n",
    "from catboost import CatBoostRegressor\n",
    "from sklearn.metrics import mean_absolute_error, mean_squared_error\n"
   ]
  },
  {
   "cell_type": "markdown",
   "id": "a52d2b89",
   "metadata": {},
   "source": [
    "## Read in Data"
   ]
  },
  {
   "cell_type": "code",
   "execution_count": 10,
   "id": "04320f19",
   "metadata": {},
   "outputs": [
    {
     "data": {
      "text/html": [
       "<div>\n",
       "<style scoped>\n",
       "    .dataframe tbody tr th:only-of-type {\n",
       "        vertical-align: middle;\n",
       "    }\n",
       "\n",
       "    .dataframe tbody tr th {\n",
       "        vertical-align: top;\n",
       "    }\n",
       "\n",
       "    .dataframe thead th {\n",
       "        text-align: right;\n",
       "    }\n",
       "</style>\n",
       "<table border=\"1\" class=\"dataframe\">\n",
       "  <thead>\n",
       "    <tr style=\"text-align: right;\">\n",
       "      <th></th>\n",
       "      <th>TaskName</th>\n",
       "      <th>Make</th>\n",
       "      <th>Model</th>\n",
       "      <th>Year</th>\n",
       "      <th>FuelType</th>\n",
       "      <th>EngineSize</th>\n",
       "      <th>Transmission</th>\n",
       "      <th>DriveType</th>\n",
       "      <th>IsHybrid</th>\n",
       "      <th>AdjustedPrice</th>\n",
       "    </tr>\n",
       "  </thead>\n",
       "  <tbody>\n",
       "    <tr>\n",
       "      <th>0</th>\n",
       "      <td>Park Light Globe Replacement</td>\n",
       "      <td>HYUNDAI</td>\n",
       "      <td>HYUNDAI TUCSON</td>\n",
       "      <td>2019</td>\n",
       "      <td>Diesel</td>\n",
       "      <td>2.0</td>\n",
       "      <td>Auto</td>\n",
       "      <td>4WD</td>\n",
       "      <td>0.0</td>\n",
       "      <td>7.0</td>\n",
       "    </tr>\n",
       "    <tr>\n",
       "      <th>1</th>\n",
       "      <td>Roadworthy Inspection / Pink Slips</td>\n",
       "      <td>VOLKSWAGEN</td>\n",
       "      <td>VOLKSWAGEN TIGUAN</td>\n",
       "      <td>2018</td>\n",
       "      <td>Petrol</td>\n",
       "      <td>2.0</td>\n",
       "      <td>Auto</td>\n",
       "      <td>4WD</td>\n",
       "      <td>0.0</td>\n",
       "      <td>46.0</td>\n",
       "    </tr>\n",
       "    <tr>\n",
       "      <th>2</th>\n",
       "      <td>Replace Wiper Blades</td>\n",
       "      <td>VOLKSWAGEN</td>\n",
       "      <td>VOLKSWAGEN TIGUAN</td>\n",
       "      <td>2018</td>\n",
       "      <td>Petrol</td>\n",
       "      <td>2.0</td>\n",
       "      <td>Auto</td>\n",
       "      <td>4WD</td>\n",
       "      <td>0.0</td>\n",
       "      <td>29.0</td>\n",
       "    </tr>\n",
       "    <tr>\n",
       "      <th>3</th>\n",
       "      <td>Rear Brake Pad And Rotor Replacement</td>\n",
       "      <td>VOLKSWAGEN</td>\n",
       "      <td>VOLKSWAGEN TIGUAN</td>\n",
       "      <td>2018</td>\n",
       "      <td>Petrol</td>\n",
       "      <td>2.0</td>\n",
       "      <td>Auto</td>\n",
       "      <td>4WD</td>\n",
       "      <td>0.0</td>\n",
       "      <td>725.0</td>\n",
       "    </tr>\n",
       "    <tr>\n",
       "      <th>5</th>\n",
       "      <td>Replace Wiper Blades</td>\n",
       "      <td>KIA</td>\n",
       "      <td>KIA SELTOS</td>\n",
       "      <td>2020</td>\n",
       "      <td>Petrol</td>\n",
       "      <td>1.6</td>\n",
       "      <td>Auto</td>\n",
       "      <td>4WD</td>\n",
       "      <td>0.0</td>\n",
       "      <td>46.0</td>\n",
       "    </tr>\n",
       "  </tbody>\n",
       "</table>\n",
       "</div>"
      ],
      "text/plain": [
       "                               TaskName        Make              Model  Year  \\\n",
       "0          Park Light Globe Replacement     HYUNDAI     HYUNDAI TUCSON  2019   \n",
       "1    Roadworthy Inspection / Pink Slips  VOLKSWAGEN  VOLKSWAGEN TIGUAN  2018   \n",
       "2                  Replace Wiper Blades  VOLKSWAGEN  VOLKSWAGEN TIGUAN  2018   \n",
       "3  Rear Brake Pad And Rotor Replacement  VOLKSWAGEN  VOLKSWAGEN TIGUAN  2018   \n",
       "5                  Replace Wiper Blades         KIA         KIA SELTOS  2020   \n",
       "\n",
       "  FuelType  EngineSize Transmission DriveType  IsHybrid  AdjustedPrice  \n",
       "0   Diesel         2.0         Auto       4WD       0.0            7.0  \n",
       "1   Petrol         2.0         Auto       4WD       0.0           46.0  \n",
       "2   Petrol         2.0         Auto       4WD       0.0           29.0  \n",
       "3   Petrol         2.0         Auto       4WD       0.0          725.0  \n",
       "5   Petrol         1.6         Auto       4WD       0.0           46.0  "
      ]
     },
     "execution_count": 10,
     "metadata": {},
     "output_type": "execute_result"
    }
   ],
   "source": [
    "df = pd.read_csv('data/preprocessed_repair_data.csv')\n",
    "df = df[df['Label'] == 1];\n",
    "df.drop(columns=['Label', 'Distance', 'Months', 'Odometer'], inplace=True)\n",
    "df.head()"
   ]
  },
  {
   "cell_type": "code",
   "execution_count": 11,
   "id": "570343e3",
   "metadata": {},
   "outputs": [],
   "source": [
    "X = df.drop(columns=[\"AdjustedPrice\"])  \n",
    "y = df[\"AdjustedPrice\"]       \n",
    "\n",
    "cat_feature_indices = [0, 1, 2, 4, 6, 7]"
   ]
  },
  {
   "cell_type": "code",
   "execution_count": 12,
   "id": "1947689e",
   "metadata": {},
   "outputs": [],
   "source": [
    "X_train, X_temp, y_train, y_temp = train_test_split(\n",
    "    X, y, test_size=0.3, random_state=42\n",
    ")\n",
    "X_test, X_val, y_test, y_val = train_test_split(\n",
    "    X_temp, y_temp, test_size=0.5, random_state=42\n",
    ")"
   ]
  },
  {
   "cell_type": "code",
   "execution_count": 13,
   "id": "63b026b0",
   "metadata": {},
   "outputs": [],
   "source": [
    "for col in X_train.select_dtypes(include='object').columns:\n",
    "     X_train[col] = X_train[col].fillna(\"missing\")\n",
    "\n",
    "for col in X_val.select_dtypes(include='object').columns:\n",
    "   X_val[col] = X_val[col].fillna(\"missing\")\n",
    "\n",
    "for col in X_test.select_dtypes(include='object').columns:\n",
    "   X_test[col] = X_test[col].fillna(\"missing\")"
   ]
  },
  {
   "cell_type": "code",
   "execution_count": 14,
   "id": "86e2a4a8",
   "metadata": {},
   "outputs": [],
   "source": [
    "def mean_absolute_percentage_error(y_true, y_pred):\n",
    "    y_true, y_pred = np.array(y_true), np.array(y_pred)\n",
    "    # Avoid division by zero\n",
    "    nonzero_mask = y_true != 0\n",
    "    return np.mean(np.abs((y_true[nonzero_mask] - y_pred[nonzero_mask]) / y_true[nonzero_mask])) * 100"
   ]
  },
  {
   "cell_type": "code",
   "execution_count": 15,
   "id": "750324f4",
   "metadata": {},
   "outputs": [],
   "source": [
    "model = CatBoostRegressor(\n",
    "    eval_metric='MAPE',\n",
    "    loss_function='RMSEWithUncertainty',\n",
    "    od_type='Iter',\n",
    "    od_wait=50,\n",
    "    random_seed=42,\n",
    "    verbose=0,\n",
    "    thread_count=4\n",
    ")\n",
    "\n",
    "param_grid = {\n",
    "    'depth': [6, 8, 10],\n",
    "    'learning_rate': [0.01, 0.03, 0.05, 0.1],\n",
    "    'l2_leaf_reg': [1, 3, 5, 7],\n",
    "    'iterations': [1000, 1500],\n",
    "    'subsample': [0.8, 0.9, 1.0],\n",
    "    'colsample_bylevel': [0.8, 0.9, 1.0],\n",
    "    'min_child_samples': [5, 10, 20],\n",
    "}\n",
    "\n",
    "\n",
    "random_search = RandomizedSearchCV(\n",
    "    model,\n",
    "    param_distributions=param_grid,\n",
    "    n_iter=25,            \n",
    "    cv=3,                 \n",
    "    scoring='neg_mean_absolute_percentage_error',\n",
    "    random_state=42,\n",
    "    verbose=2,\n",
    "    n_jobs=-1\n",
    ")"
   ]
  },
  {
   "cell_type": "code",
   "execution_count": 16,
   "id": "5f44e76a",
   "metadata": {},
   "outputs": [
    {
     "name": "stdout",
     "output_type": "stream",
     "text": [
      "Fitting 3 folds for each of 25 candidates, totalling 75 fits\n",
      "[CV] END colsample_bylevel=0.9, depth=8, iterations=1000, l2_leaf_reg=7, learning_rate=0.1, min_child_samples=20, subsample=0.9; total time= 9.7min\n"
     ]
    },
    {
     "name": "stderr",
     "output_type": "stream",
     "text": [
      "/home/dylan/git/CAPSTONE_T316/venv/lib/python3.12/site-packages/sklearn/model_selection/_validation.py:953: UserWarning: Scoring failed. The score on this train-test partition for these parameters will be set to nan. Details: \n",
      "Traceback (most recent call last):\n",
      "  File \"/home/dylan/git/CAPSTONE_T316/venv/lib/python3.12/site-packages/sklearn/model_selection/_validation.py\", line 942, in _score\n",
      "    scores = scorer(estimator, X_test, y_test, **score_params)\n",
      "             ^^^^^^^^^^^^^^^^^^^^^^^^^^^^^^^^^^^^^^^^^^^^^^^^^\n",
      "  File \"/home/dylan/git/CAPSTONE_T316/venv/lib/python3.12/site-packages/sklearn/metrics/_scorer.py\", line 308, in __call__\n",
      "    return self._score(partial(_cached_call, None), estimator, X, y_true, **_kwargs)\n",
      "           ^^^^^^^^^^^^^^^^^^^^^^^^^^^^^^^^^^^^^^^^^^^^^^^^^^^^^^^^^^^^^^^^^^^^^^^^^\n",
      "  File \"/home/dylan/git/CAPSTONE_T316/venv/lib/python3.12/site-packages/sklearn/metrics/_scorer.py\", line 408, in _score\n",
      "    return self._sign * self._score_func(y_true, y_pred, **scoring_kwargs)\n",
      "                        ^^^^^^^^^^^^^^^^^^^^^^^^^^^^^^^^^^^^^^^^^^^^^^^^^^\n",
      "  File \"/home/dylan/git/CAPSTONE_T316/venv/lib/python3.12/site-packages/sklearn/utils/_param_validation.py\", line 218, in wrapper\n",
      "    return func(*args, **kwargs)\n",
      "           ^^^^^^^^^^^^^^^^^^^^^\n",
      "  File \"/home/dylan/git/CAPSTONE_T316/venv/lib/python3.12/site-packages/sklearn/metrics/_regression.py\", line 489, in mean_absolute_percentage_error\n",
      "    _check_reg_targets_with_floating_dtype(\n",
      "  File \"/home/dylan/git/CAPSTONE_T316/venv/lib/python3.12/site-packages/sklearn/metrics/_regression.py\", line 209, in _check_reg_targets_with_floating_dtype\n",
      "    y_type, y_true, y_pred, sample_weight, multioutput = _check_reg_targets(\n",
      "                                                         ^^^^^^^^^^^^^^^^^^^\n",
      "  File \"/home/dylan/git/CAPSTONE_T316/venv/lib/python3.12/site-packages/sklearn/metrics/_regression.py\", line 127, in _check_reg_targets\n",
      "    raise ValueError(\n",
      "ValueError: y_true and y_pred have different number of output (1!=2)\n",
      "\n",
      "  warnings.warn(\n",
      "/home/dylan/git/CAPSTONE_T316/venv/lib/python3.12/site-packages/sklearn/model_selection/_validation.py:953: UserWarning: Scoring failed. The score on this train-test partition for these parameters will be set to nan. Details: \n",
      "Traceback (most recent call last):\n",
      "  File \"/home/dylan/git/CAPSTONE_T316/venv/lib/python3.12/site-packages/sklearn/model_selection/_validation.py\", line 942, in _score\n",
      "    scores = scorer(estimator, X_test, y_test, **score_params)\n",
      "             ^^^^^^^^^^^^^^^^^^^^^^^^^^^^^^^^^^^^^^^^^^^^^^^^^\n",
      "  File \"/home/dylan/git/CAPSTONE_T316/venv/lib/python3.12/site-packages/sklearn/metrics/_scorer.py\", line 308, in __call__\n",
      "    return self._score(partial(_cached_call, None), estimator, X, y_true, **_kwargs)\n",
      "           ^^^^^^^^^^^^^^^^^^^^^^^^^^^^^^^^^^^^^^^^^^^^^^^^^^^^^^^^^^^^^^^^^^^^^^^^^\n",
      "  File \"/home/dylan/git/CAPSTONE_T316/venv/lib/python3.12/site-packages/sklearn/metrics/_scorer.py\", line 408, in _score\n",
      "    return self._sign * self._score_func(y_true, y_pred, **scoring_kwargs)\n",
      "                        ^^^^^^^^^^^^^^^^^^^^^^^^^^^^^^^^^^^^^^^^^^^^^^^^^^\n",
      "  File \"/home/dylan/git/CAPSTONE_T316/venv/lib/python3.12/site-packages/sklearn/utils/_param_validation.py\", line 218, in wrapper\n",
      "    return func(*args, **kwargs)\n",
      "           ^^^^^^^^^^^^^^^^^^^^^\n",
      "  File \"/home/dylan/git/CAPSTONE_T316/venv/lib/python3.12/site-packages/sklearn/metrics/_regression.py\", line 489, in mean_absolute_percentage_error\n",
      "    _check_reg_targets_with_floating_dtype(\n",
      "  File \"/home/dylan/git/CAPSTONE_T316/venv/lib/python3.12/site-packages/sklearn/metrics/_regression.py\", line 209, in _check_reg_targets_with_floating_dtype\n",
      "    y_type, y_true, y_pred, sample_weight, multioutput = _check_reg_targets(\n",
      "                                                         ^^^^^^^^^^^^^^^^^^^\n",
      "  File \"/home/dylan/git/CAPSTONE_T316/venv/lib/python3.12/site-packages/sklearn/metrics/_regression.py\", line 127, in _check_reg_targets\n",
      "    raise ValueError(\n",
      "ValueError: y_true and y_pred have different number of output (1!=2)\n",
      "\n",
      "  warnings.warn(\n"
     ]
    },
    {
     "name": "stdout",
     "output_type": "stream",
     "text": [
      "[CV] END colsample_bylevel=0.9, depth=8, iterations=1000, l2_leaf_reg=7, learning_rate=0.1, min_child_samples=20, subsample=0.9; total time= 9.9min\n"
     ]
    },
    {
     "name": "stderr",
     "output_type": "stream",
     "text": [
      "/home/dylan/git/CAPSTONE_T316/venv/lib/python3.12/site-packages/sklearn/model_selection/_validation.py:953: UserWarning: Scoring failed. The score on this train-test partition for these parameters will be set to nan. Details: \n",
      "Traceback (most recent call last):\n",
      "  File \"/home/dylan/git/CAPSTONE_T316/venv/lib/python3.12/site-packages/sklearn/model_selection/_validation.py\", line 942, in _score\n",
      "    scores = scorer(estimator, X_test, y_test, **score_params)\n",
      "             ^^^^^^^^^^^^^^^^^^^^^^^^^^^^^^^^^^^^^^^^^^^^^^^^^\n",
      "  File \"/home/dylan/git/CAPSTONE_T316/venv/lib/python3.12/site-packages/sklearn/metrics/_scorer.py\", line 308, in __call__\n",
      "    return self._score(partial(_cached_call, None), estimator, X, y_true, **_kwargs)\n",
      "           ^^^^^^^^^^^^^^^^^^^^^^^^^^^^^^^^^^^^^^^^^^^^^^^^^^^^^^^^^^^^^^^^^^^^^^^^^\n",
      "  File \"/home/dylan/git/CAPSTONE_T316/venv/lib/python3.12/site-packages/sklearn/metrics/_scorer.py\", line 408, in _score\n",
      "    return self._sign * self._score_func(y_true, y_pred, **scoring_kwargs)\n",
      "                        ^^^^^^^^^^^^^^^^^^^^^^^^^^^^^^^^^^^^^^^^^^^^^^^^^^\n",
      "  File \"/home/dylan/git/CAPSTONE_T316/venv/lib/python3.12/site-packages/sklearn/utils/_param_validation.py\", line 218, in wrapper\n",
      "    return func(*args, **kwargs)\n",
      "           ^^^^^^^^^^^^^^^^^^^^^\n",
      "  File \"/home/dylan/git/CAPSTONE_T316/venv/lib/python3.12/site-packages/sklearn/metrics/_regression.py\", line 489, in mean_absolute_percentage_error\n",
      "    _check_reg_targets_with_floating_dtype(\n",
      "  File \"/home/dylan/git/CAPSTONE_T316/venv/lib/python3.12/site-packages/sklearn/metrics/_regression.py\", line 209, in _check_reg_targets_with_floating_dtype\n",
      "    y_type, y_true, y_pred, sample_weight, multioutput = _check_reg_targets(\n",
      "                                                         ^^^^^^^^^^^^^^^^^^^\n",
      "  File \"/home/dylan/git/CAPSTONE_T316/venv/lib/python3.12/site-packages/sklearn/metrics/_regression.py\", line 127, in _check_reg_targets\n",
      "    raise ValueError(\n",
      "ValueError: y_true and y_pred have different number of output (1!=2)\n",
      "\n",
      "  warnings.warn(\n"
     ]
    },
    {
     "name": "stdout",
     "output_type": "stream",
     "text": [
      "[CV] END colsample_bylevel=0.9, depth=6, iterations=1500, l2_leaf_reg=7, learning_rate=0.03, min_child_samples=10, subsample=1.0; total time=10.1min\n"
     ]
    },
    {
     "name": "stderr",
     "output_type": "stream",
     "text": [
      "/home/dylan/git/CAPSTONE_T316/venv/lib/python3.12/site-packages/sklearn/model_selection/_validation.py:953: UserWarning: Scoring failed. The score on this train-test partition for these parameters will be set to nan. Details: \n",
      "Traceback (most recent call last):\n",
      "  File \"/home/dylan/git/CAPSTONE_T316/venv/lib/python3.12/site-packages/sklearn/model_selection/_validation.py\", line 942, in _score\n",
      "    scores = scorer(estimator, X_test, y_test, **score_params)\n",
      "             ^^^^^^^^^^^^^^^^^^^^^^^^^^^^^^^^^^^^^^^^^^^^^^^^^\n",
      "  File \"/home/dylan/git/CAPSTONE_T316/venv/lib/python3.12/site-packages/sklearn/metrics/_scorer.py\", line 308, in __call__\n",
      "    return self._score(partial(_cached_call, None), estimator, X, y_true, **_kwargs)\n",
      "           ^^^^^^^^^^^^^^^^^^^^^^^^^^^^^^^^^^^^^^^^^^^^^^^^^^^^^^^^^^^^^^^^^^^^^^^^^\n",
      "  File \"/home/dylan/git/CAPSTONE_T316/venv/lib/python3.12/site-packages/sklearn/metrics/_scorer.py\", line 408, in _score\n",
      "    return self._sign * self._score_func(y_true, y_pred, **scoring_kwargs)\n",
      "                        ^^^^^^^^^^^^^^^^^^^^^^^^^^^^^^^^^^^^^^^^^^^^^^^^^^\n",
      "  File \"/home/dylan/git/CAPSTONE_T316/venv/lib/python3.12/site-packages/sklearn/utils/_param_validation.py\", line 218, in wrapper\n",
      "    return func(*args, **kwargs)\n",
      "           ^^^^^^^^^^^^^^^^^^^^^\n",
      "  File \"/home/dylan/git/CAPSTONE_T316/venv/lib/python3.12/site-packages/sklearn/metrics/_regression.py\", line 489, in mean_absolute_percentage_error\n",
      "    _check_reg_targets_with_floating_dtype(\n",
      "  File \"/home/dylan/git/CAPSTONE_T316/venv/lib/python3.12/site-packages/sklearn/metrics/_regression.py\", line 209, in _check_reg_targets_with_floating_dtype\n",
      "    y_type, y_true, y_pred, sample_weight, multioutput = _check_reg_targets(\n",
      "                                                         ^^^^^^^^^^^^^^^^^^^\n",
      "  File \"/home/dylan/git/CAPSTONE_T316/venv/lib/python3.12/site-packages/sklearn/metrics/_regression.py\", line 127, in _check_reg_targets\n",
      "    raise ValueError(\n",
      "ValueError: y_true and y_pred have different number of output (1!=2)\n",
      "\n",
      "  warnings.warn(\n"
     ]
    },
    {
     "name": "stdout",
     "output_type": "stream",
     "text": [
      "[CV] END colsample_bylevel=0.9, depth=6, iterations=1500, l2_leaf_reg=5, learning_rate=0.03, min_child_samples=20, subsample=0.8; total time=10.1min\n",
      "[CV] END colsample_bylevel=0.9, depth=6, iterations=1500, l2_leaf_reg=5, learning_rate=0.03, min_child_samples=20, subsample=0.8; total time=10.2min\n"
     ]
    },
    {
     "name": "stderr",
     "output_type": "stream",
     "text": [
      "/home/dylan/git/CAPSTONE_T316/venv/lib/python3.12/site-packages/sklearn/model_selection/_validation.py:953: UserWarning: Scoring failed. The score on this train-test partition for these parameters will be set to nan. Details: \n",
      "Traceback (most recent call last):\n",
      "  File \"/home/dylan/git/CAPSTONE_T316/venv/lib/python3.12/site-packages/sklearn/model_selection/_validation.py\", line 942, in _score\n",
      "    scores = scorer(estimator, X_test, y_test, **score_params)\n",
      "             ^^^^^^^^^^^^^^^^^^^^^^^^^^^^^^^^^^^^^^^^^^^^^^^^^\n",
      "  File \"/home/dylan/git/CAPSTONE_T316/venv/lib/python3.12/site-packages/sklearn/metrics/_scorer.py\", line 308, in __call__\n",
      "    return self._score(partial(_cached_call, None), estimator, X, y_true, **_kwargs)\n",
      "           ^^^^^^^^^^^^^^^^^^^^^^^^^^^^^^^^^^^^^^^^^^^^^^^^^^^^^^^^^^^^^^^^^^^^^^^^^\n",
      "  File \"/home/dylan/git/CAPSTONE_T316/venv/lib/python3.12/site-packages/sklearn/metrics/_scorer.py\", line 408, in _score\n",
      "    return self._sign * self._score_func(y_true, y_pred, **scoring_kwargs)\n",
      "                        ^^^^^^^^^^^^^^^^^^^^^^^^^^^^^^^^^^^^^^^^^^^^^^^^^^\n",
      "  File \"/home/dylan/git/CAPSTONE_T316/venv/lib/python3.12/site-packages/sklearn/utils/_param_validation.py\", line 218, in wrapper\n",
      "    return func(*args, **kwargs)\n",
      "           ^^^^^^^^^^^^^^^^^^^^^\n",
      "  File \"/home/dylan/git/CAPSTONE_T316/venv/lib/python3.12/site-packages/sklearn/metrics/_regression.py\", line 489, in mean_absolute_percentage_error\n",
      "    _check_reg_targets_with_floating_dtype(\n",
      "  File \"/home/dylan/git/CAPSTONE_T316/venv/lib/python3.12/site-packages/sklearn/metrics/_regression.py\", line 209, in _check_reg_targets_with_floating_dtype\n",
      "    y_type, y_true, y_pred, sample_weight, multioutput = _check_reg_targets(\n",
      "                                                         ^^^^^^^^^^^^^^^^^^^\n",
      "  File \"/home/dylan/git/CAPSTONE_T316/venv/lib/python3.12/site-packages/sklearn/metrics/_regression.py\", line 127, in _check_reg_targets\n",
      "    raise ValueError(\n",
      "ValueError: y_true and y_pred have different number of output (1!=2)\n",
      "\n",
      "  warnings.warn(\n",
      "/home/dylan/git/CAPSTONE_T316/venv/lib/python3.12/site-packages/sklearn/model_selection/_validation.py:953: UserWarning: Scoring failed. The score on this train-test partition for these parameters will be set to nan. Details: \n",
      "Traceback (most recent call last):\n",
      "  File \"/home/dylan/git/CAPSTONE_T316/venv/lib/python3.12/site-packages/sklearn/model_selection/_validation.py\", line 942, in _score\n",
      "    scores = scorer(estimator, X_test, y_test, **score_params)\n",
      "             ^^^^^^^^^^^^^^^^^^^^^^^^^^^^^^^^^^^^^^^^^^^^^^^^^\n",
      "  File \"/home/dylan/git/CAPSTONE_T316/venv/lib/python3.12/site-packages/sklearn/metrics/_scorer.py\", line 308, in __call__\n",
      "    return self._score(partial(_cached_call, None), estimator, X, y_true, **_kwargs)\n",
      "           ^^^^^^^^^^^^^^^^^^^^^^^^^^^^^^^^^^^^^^^^^^^^^^^^^^^^^^^^^^^^^^^^^^^^^^^^^\n",
      "  File \"/home/dylan/git/CAPSTONE_T316/venv/lib/python3.12/site-packages/sklearn/metrics/_scorer.py\", line 408, in _score\n",
      "    return self._sign * self._score_func(y_true, y_pred, **scoring_kwargs)\n",
      "                        ^^^^^^^^^^^^^^^^^^^^^^^^^^^^^^^^^^^^^^^^^^^^^^^^^^\n",
      "  File \"/home/dylan/git/CAPSTONE_T316/venv/lib/python3.12/site-packages/sklearn/utils/_param_validation.py\", line 218, in wrapper\n",
      "    return func(*args, **kwargs)\n",
      "           ^^^^^^^^^^^^^^^^^^^^^\n",
      "  File \"/home/dylan/git/CAPSTONE_T316/venv/lib/python3.12/site-packages/sklearn/metrics/_regression.py\", line 489, in mean_absolute_percentage_error\n",
      "    _check_reg_targets_with_floating_dtype(\n",
      "  File \"/home/dylan/git/CAPSTONE_T316/venv/lib/python3.12/site-packages/sklearn/metrics/_regression.py\", line 209, in _check_reg_targets_with_floating_dtype\n",
      "    y_type, y_true, y_pred, sample_weight, multioutput = _check_reg_targets(\n",
      "                                                         ^^^^^^^^^^^^^^^^^^^\n",
      "  File \"/home/dylan/git/CAPSTONE_T316/venv/lib/python3.12/site-packages/sklearn/metrics/_regression.py\", line 127, in _check_reg_targets\n",
      "    raise ValueError(\n",
      "ValueError: y_true and y_pred have different number of output (1!=2)\n",
      "\n",
      "  warnings.warn(\n"
     ]
    },
    {
     "name": "stdout",
     "output_type": "stream",
     "text": [
      "[CV] END colsample_bylevel=0.9, depth=6, iterations=1500, l2_leaf_reg=7, learning_rate=0.03, min_child_samples=10, subsample=1.0; total time=10.2min\n"
     ]
    },
    {
     "name": "stderr",
     "output_type": "stream",
     "text": [
      "/home/dylan/git/CAPSTONE_T316/venv/lib/python3.12/site-packages/sklearn/model_selection/_validation.py:953: UserWarning: Scoring failed. The score on this train-test partition for these parameters will be set to nan. Details: \n",
      "Traceback (most recent call last):\n",
      "  File \"/home/dylan/git/CAPSTONE_T316/venv/lib/python3.12/site-packages/sklearn/model_selection/_validation.py\", line 942, in _score\n",
      "    scores = scorer(estimator, X_test, y_test, **score_params)\n",
      "             ^^^^^^^^^^^^^^^^^^^^^^^^^^^^^^^^^^^^^^^^^^^^^^^^^\n",
      "  File \"/home/dylan/git/CAPSTONE_T316/venv/lib/python3.12/site-packages/sklearn/metrics/_scorer.py\", line 308, in __call__\n",
      "    return self._score(partial(_cached_call, None), estimator, X, y_true, **_kwargs)\n",
      "           ^^^^^^^^^^^^^^^^^^^^^^^^^^^^^^^^^^^^^^^^^^^^^^^^^^^^^^^^^^^^^^^^^^^^^^^^^\n",
      "  File \"/home/dylan/git/CAPSTONE_T316/venv/lib/python3.12/site-packages/sklearn/metrics/_scorer.py\", line 408, in _score\n",
      "    return self._sign * self._score_func(y_true, y_pred, **scoring_kwargs)\n",
      "                        ^^^^^^^^^^^^^^^^^^^^^^^^^^^^^^^^^^^^^^^^^^^^^^^^^^\n",
      "  File \"/home/dylan/git/CAPSTONE_T316/venv/lib/python3.12/site-packages/sklearn/utils/_param_validation.py\", line 218, in wrapper\n",
      "    return func(*args, **kwargs)\n",
      "           ^^^^^^^^^^^^^^^^^^^^^\n",
      "  File \"/home/dylan/git/CAPSTONE_T316/venv/lib/python3.12/site-packages/sklearn/metrics/_regression.py\", line 489, in mean_absolute_percentage_error\n",
      "    _check_reg_targets_with_floating_dtype(\n",
      "  File \"/home/dylan/git/CAPSTONE_T316/venv/lib/python3.12/site-packages/sklearn/metrics/_regression.py\", line 209, in _check_reg_targets_with_floating_dtype\n",
      "    y_type, y_true, y_pred, sample_weight, multioutput = _check_reg_targets(\n",
      "                                                         ^^^^^^^^^^^^^^^^^^^\n",
      "  File \"/home/dylan/git/CAPSTONE_T316/venv/lib/python3.12/site-packages/sklearn/metrics/_regression.py\", line 127, in _check_reg_targets\n",
      "    raise ValueError(\n",
      "ValueError: y_true and y_pred have different number of output (1!=2)\n",
      "\n",
      "  warnings.warn(\n"
     ]
    },
    {
     "name": "stdout",
     "output_type": "stream",
     "text": [
      "[CV] END colsample_bylevel=0.9, depth=8, iterations=1000, l2_leaf_reg=7, learning_rate=0.1, min_child_samples=20, subsample=0.9; total time=10.2min\n"
     ]
    },
    {
     "name": "stderr",
     "output_type": "stream",
     "text": [
      "/home/dylan/git/CAPSTONE_T316/venv/lib/python3.12/site-packages/sklearn/model_selection/_validation.py:953: UserWarning: Scoring failed. The score on this train-test partition for these parameters will be set to nan. Details: \n",
      "Traceback (most recent call last):\n",
      "  File \"/home/dylan/git/CAPSTONE_T316/venv/lib/python3.12/site-packages/sklearn/model_selection/_validation.py\", line 942, in _score\n",
      "    scores = scorer(estimator, X_test, y_test, **score_params)\n",
      "             ^^^^^^^^^^^^^^^^^^^^^^^^^^^^^^^^^^^^^^^^^^^^^^^^^\n",
      "  File \"/home/dylan/git/CAPSTONE_T316/venv/lib/python3.12/site-packages/sklearn/metrics/_scorer.py\", line 308, in __call__\n",
      "    return self._score(partial(_cached_call, None), estimator, X, y_true, **_kwargs)\n",
      "           ^^^^^^^^^^^^^^^^^^^^^^^^^^^^^^^^^^^^^^^^^^^^^^^^^^^^^^^^^^^^^^^^^^^^^^^^^\n",
      "  File \"/home/dylan/git/CAPSTONE_T316/venv/lib/python3.12/site-packages/sklearn/metrics/_scorer.py\", line 408, in _score\n",
      "    return self._sign * self._score_func(y_true, y_pred, **scoring_kwargs)\n",
      "                        ^^^^^^^^^^^^^^^^^^^^^^^^^^^^^^^^^^^^^^^^^^^^^^^^^^\n",
      "  File \"/home/dylan/git/CAPSTONE_T316/venv/lib/python3.12/site-packages/sklearn/utils/_param_validation.py\", line 218, in wrapper\n",
      "    return func(*args, **kwargs)\n",
      "           ^^^^^^^^^^^^^^^^^^^^^\n",
      "  File \"/home/dylan/git/CAPSTONE_T316/venv/lib/python3.12/site-packages/sklearn/metrics/_regression.py\", line 489, in mean_absolute_percentage_error\n",
      "    _check_reg_targets_with_floating_dtype(\n",
      "  File \"/home/dylan/git/CAPSTONE_T316/venv/lib/python3.12/site-packages/sklearn/metrics/_regression.py\", line 209, in _check_reg_targets_with_floating_dtype\n",
      "    y_type, y_true, y_pred, sample_weight, multioutput = _check_reg_targets(\n",
      "                                                         ^^^^^^^^^^^^^^^^^^^\n",
      "  File \"/home/dylan/git/CAPSTONE_T316/venv/lib/python3.12/site-packages/sklearn/metrics/_regression.py\", line 127, in _check_reg_targets\n",
      "    raise ValueError(\n",
      "ValueError: y_true and y_pred have different number of output (1!=2)\n",
      "\n",
      "  warnings.warn(\n"
     ]
    },
    {
     "name": "stdout",
     "output_type": "stream",
     "text": [
      "[CV] END colsample_bylevel=0.9, depth=6, iterations=1500, l2_leaf_reg=7, learning_rate=0.03, min_child_samples=10, subsample=1.0; total time=10.3min\n"
     ]
    },
    {
     "name": "stderr",
     "output_type": "stream",
     "text": [
      "/home/dylan/git/CAPSTONE_T316/venv/lib/python3.12/site-packages/sklearn/model_selection/_validation.py:953: UserWarning: Scoring failed. The score on this train-test partition for these parameters will be set to nan. Details: \n",
      "Traceback (most recent call last):\n",
      "  File \"/home/dylan/git/CAPSTONE_T316/venv/lib/python3.12/site-packages/sklearn/model_selection/_validation.py\", line 942, in _score\n",
      "    scores = scorer(estimator, X_test, y_test, **score_params)\n",
      "             ^^^^^^^^^^^^^^^^^^^^^^^^^^^^^^^^^^^^^^^^^^^^^^^^^\n",
      "  File \"/home/dylan/git/CAPSTONE_T316/venv/lib/python3.12/site-packages/sklearn/metrics/_scorer.py\", line 308, in __call__\n",
      "    return self._score(partial(_cached_call, None), estimator, X, y_true, **_kwargs)\n",
      "           ^^^^^^^^^^^^^^^^^^^^^^^^^^^^^^^^^^^^^^^^^^^^^^^^^^^^^^^^^^^^^^^^^^^^^^^^^\n",
      "  File \"/home/dylan/git/CAPSTONE_T316/venv/lib/python3.12/site-packages/sklearn/metrics/_scorer.py\", line 408, in _score\n",
      "    return self._sign * self._score_func(y_true, y_pred, **scoring_kwargs)\n",
      "                        ^^^^^^^^^^^^^^^^^^^^^^^^^^^^^^^^^^^^^^^^^^^^^^^^^^\n",
      "  File \"/home/dylan/git/CAPSTONE_T316/venv/lib/python3.12/site-packages/sklearn/utils/_param_validation.py\", line 218, in wrapper\n",
      "    return func(*args, **kwargs)\n",
      "           ^^^^^^^^^^^^^^^^^^^^^\n",
      "  File \"/home/dylan/git/CAPSTONE_T316/venv/lib/python3.12/site-packages/sklearn/metrics/_regression.py\", line 489, in mean_absolute_percentage_error\n",
      "    _check_reg_targets_with_floating_dtype(\n",
      "  File \"/home/dylan/git/CAPSTONE_T316/venv/lib/python3.12/site-packages/sklearn/metrics/_regression.py\", line 209, in _check_reg_targets_with_floating_dtype\n",
      "    y_type, y_true, y_pred, sample_weight, multioutput = _check_reg_targets(\n",
      "                                                         ^^^^^^^^^^^^^^^^^^^\n",
      "  File \"/home/dylan/git/CAPSTONE_T316/venv/lib/python3.12/site-packages/sklearn/metrics/_regression.py\", line 127, in _check_reg_targets\n",
      "    raise ValueError(\n",
      "ValueError: y_true and y_pred have different number of output (1!=2)\n",
      "\n",
      "  warnings.warn(\n"
     ]
    },
    {
     "name": "stdout",
     "output_type": "stream",
     "text": [
      "[CV] END colsample_bylevel=0.9, depth=6, iterations=1500, l2_leaf_reg=5, learning_rate=0.03, min_child_samples=20, subsample=0.8; total time=10.7min\n"
     ]
    },
    {
     "name": "stderr",
     "output_type": "stream",
     "text": [
      "/home/dylan/git/CAPSTONE_T316/venv/lib/python3.12/site-packages/sklearn/model_selection/_validation.py:953: UserWarning: Scoring failed. The score on this train-test partition for these parameters will be set to nan. Details: \n",
      "Traceback (most recent call last):\n",
      "  File \"/home/dylan/git/CAPSTONE_T316/venv/lib/python3.12/site-packages/sklearn/model_selection/_validation.py\", line 942, in _score\n",
      "    scores = scorer(estimator, X_test, y_test, **score_params)\n",
      "             ^^^^^^^^^^^^^^^^^^^^^^^^^^^^^^^^^^^^^^^^^^^^^^^^^\n",
      "  File \"/home/dylan/git/CAPSTONE_T316/venv/lib/python3.12/site-packages/sklearn/metrics/_scorer.py\", line 308, in __call__\n",
      "    return self._score(partial(_cached_call, None), estimator, X, y_true, **_kwargs)\n",
      "           ^^^^^^^^^^^^^^^^^^^^^^^^^^^^^^^^^^^^^^^^^^^^^^^^^^^^^^^^^^^^^^^^^^^^^^^^^\n",
      "  File \"/home/dylan/git/CAPSTONE_T316/venv/lib/python3.12/site-packages/sklearn/metrics/_scorer.py\", line 408, in _score\n",
      "    return self._sign * self._score_func(y_true, y_pred, **scoring_kwargs)\n",
      "                        ^^^^^^^^^^^^^^^^^^^^^^^^^^^^^^^^^^^^^^^^^^^^^^^^^^\n",
      "  File \"/home/dylan/git/CAPSTONE_T316/venv/lib/python3.12/site-packages/sklearn/utils/_param_validation.py\", line 218, in wrapper\n",
      "    return func(*args, **kwargs)\n",
      "           ^^^^^^^^^^^^^^^^^^^^^\n",
      "  File \"/home/dylan/git/CAPSTONE_T316/venv/lib/python3.12/site-packages/sklearn/metrics/_regression.py\", line 489, in mean_absolute_percentage_error\n",
      "    _check_reg_targets_with_floating_dtype(\n",
      "  File \"/home/dylan/git/CAPSTONE_T316/venv/lib/python3.12/site-packages/sklearn/metrics/_regression.py\", line 209, in _check_reg_targets_with_floating_dtype\n",
      "    y_type, y_true, y_pred, sample_weight, multioutput = _check_reg_targets(\n",
      "                                                         ^^^^^^^^^^^^^^^^^^^\n",
      "  File \"/home/dylan/git/CAPSTONE_T316/venv/lib/python3.12/site-packages/sklearn/metrics/_regression.py\", line 127, in _check_reg_targets\n",
      "    raise ValueError(\n",
      "ValueError: y_true and y_pred have different number of output (1!=2)\n",
      "\n",
      "  warnings.warn(\n"
     ]
    },
    {
     "name": "stdout",
     "output_type": "stream",
     "text": [
      "[CV] END colsample_bylevel=1.0, depth=8, iterations=1500, l2_leaf_reg=1, learning_rate=0.03, min_child_samples=5, subsample=0.8; total time=15.7min\n"
     ]
    },
    {
     "name": "stderr",
     "output_type": "stream",
     "text": [
      "/home/dylan/git/CAPSTONE_T316/venv/lib/python3.12/site-packages/sklearn/model_selection/_validation.py:953: UserWarning: Scoring failed. The score on this train-test partition for these parameters will be set to nan. Details: \n",
      "Traceback (most recent call last):\n",
      "  File \"/home/dylan/git/CAPSTONE_T316/venv/lib/python3.12/site-packages/sklearn/model_selection/_validation.py\", line 942, in _score\n",
      "    scores = scorer(estimator, X_test, y_test, **score_params)\n",
      "             ^^^^^^^^^^^^^^^^^^^^^^^^^^^^^^^^^^^^^^^^^^^^^^^^^\n",
      "  File \"/home/dylan/git/CAPSTONE_T316/venv/lib/python3.12/site-packages/sklearn/metrics/_scorer.py\", line 308, in __call__\n",
      "    return self._score(partial(_cached_call, None), estimator, X, y_true, **_kwargs)\n",
      "           ^^^^^^^^^^^^^^^^^^^^^^^^^^^^^^^^^^^^^^^^^^^^^^^^^^^^^^^^^^^^^^^^^^^^^^^^^\n",
      "  File \"/home/dylan/git/CAPSTONE_T316/venv/lib/python3.12/site-packages/sklearn/metrics/_scorer.py\", line 408, in _score\n",
      "    return self._sign * self._score_func(y_true, y_pred, **scoring_kwargs)\n",
      "                        ^^^^^^^^^^^^^^^^^^^^^^^^^^^^^^^^^^^^^^^^^^^^^^^^^^\n",
      "  File \"/home/dylan/git/CAPSTONE_T316/venv/lib/python3.12/site-packages/sklearn/utils/_param_validation.py\", line 218, in wrapper\n",
      "    return func(*args, **kwargs)\n",
      "           ^^^^^^^^^^^^^^^^^^^^^\n",
      "  File \"/home/dylan/git/CAPSTONE_T316/venv/lib/python3.12/site-packages/sklearn/metrics/_regression.py\", line 489, in mean_absolute_percentage_error\n",
      "    _check_reg_targets_with_floating_dtype(\n",
      "  File \"/home/dylan/git/CAPSTONE_T316/venv/lib/python3.12/site-packages/sklearn/metrics/_regression.py\", line 209, in _check_reg_targets_with_floating_dtype\n",
      "    y_type, y_true, y_pred, sample_weight, multioutput = _check_reg_targets(\n",
      "                                                         ^^^^^^^^^^^^^^^^^^^\n",
      "  File \"/home/dylan/git/CAPSTONE_T316/venv/lib/python3.12/site-packages/sklearn/metrics/_regression.py\", line 127, in _check_reg_targets\n",
      "    raise ValueError(\n",
      "ValueError: y_true and y_pred have different number of output (1!=2)\n",
      "\n",
      "  warnings.warn(\n"
     ]
    },
    {
     "name": "stdout",
     "output_type": "stream",
     "text": [
      "[CV] END colsample_bylevel=0.9, depth=8, iterations=1000, l2_leaf_reg=5, learning_rate=0.03, min_child_samples=10, subsample=1.0; total time= 9.6min\n"
     ]
    },
    {
     "name": "stderr",
     "output_type": "stream",
     "text": [
      "/home/dylan/git/CAPSTONE_T316/venv/lib/python3.12/site-packages/sklearn/model_selection/_validation.py:953: UserWarning: Scoring failed. The score on this train-test partition for these parameters will be set to nan. Details: \n",
      "Traceback (most recent call last):\n",
      "  File \"/home/dylan/git/CAPSTONE_T316/venv/lib/python3.12/site-packages/sklearn/model_selection/_validation.py\", line 942, in _score\n",
      "    scores = scorer(estimator, X_test, y_test, **score_params)\n",
      "             ^^^^^^^^^^^^^^^^^^^^^^^^^^^^^^^^^^^^^^^^^^^^^^^^^\n",
      "  File \"/home/dylan/git/CAPSTONE_T316/venv/lib/python3.12/site-packages/sklearn/metrics/_scorer.py\", line 308, in __call__\n",
      "    return self._score(partial(_cached_call, None), estimator, X, y_true, **_kwargs)\n",
      "           ^^^^^^^^^^^^^^^^^^^^^^^^^^^^^^^^^^^^^^^^^^^^^^^^^^^^^^^^^^^^^^^^^^^^^^^^^\n",
      "  File \"/home/dylan/git/CAPSTONE_T316/venv/lib/python3.12/site-packages/sklearn/metrics/_scorer.py\", line 408, in _score\n",
      "    return self._sign * self._score_func(y_true, y_pred, **scoring_kwargs)\n",
      "                        ^^^^^^^^^^^^^^^^^^^^^^^^^^^^^^^^^^^^^^^^^^^^^^^^^^\n",
      "  File \"/home/dylan/git/CAPSTONE_T316/venv/lib/python3.12/site-packages/sklearn/utils/_param_validation.py\", line 218, in wrapper\n",
      "    return func(*args, **kwargs)\n",
      "           ^^^^^^^^^^^^^^^^^^^^^\n",
      "  File \"/home/dylan/git/CAPSTONE_T316/venv/lib/python3.12/site-packages/sklearn/metrics/_regression.py\", line 489, in mean_absolute_percentage_error\n",
      "    _check_reg_targets_with_floating_dtype(\n",
      "  File \"/home/dylan/git/CAPSTONE_T316/venv/lib/python3.12/site-packages/sklearn/metrics/_regression.py\", line 209, in _check_reg_targets_with_floating_dtype\n",
      "    y_type, y_true, y_pred, sample_weight, multioutput = _check_reg_targets(\n",
      "                                                         ^^^^^^^^^^^^^^^^^^^\n",
      "  File \"/home/dylan/git/CAPSTONE_T316/venv/lib/python3.12/site-packages/sklearn/metrics/_regression.py\", line 127, in _check_reg_targets\n",
      "    raise ValueError(\n",
      "ValueError: y_true and y_pred have different number of output (1!=2)\n",
      "\n",
      "  warnings.warn(\n"
     ]
    },
    {
     "name": "stdout",
     "output_type": "stream",
     "text": [
      "[CV] END colsample_bylevel=0.9, depth=8, iterations=1000, l2_leaf_reg=5, learning_rate=0.03, min_child_samples=10, subsample=1.0; total time= 9.7min\n"
     ]
    },
    {
     "name": "stderr",
     "output_type": "stream",
     "text": [
      "/home/dylan/git/CAPSTONE_T316/venv/lib/python3.12/site-packages/sklearn/model_selection/_validation.py:953: UserWarning: Scoring failed. The score on this train-test partition for these parameters will be set to nan. Details: \n",
      "Traceback (most recent call last):\n",
      "  File \"/home/dylan/git/CAPSTONE_T316/venv/lib/python3.12/site-packages/sklearn/model_selection/_validation.py\", line 942, in _score\n",
      "    scores = scorer(estimator, X_test, y_test, **score_params)\n",
      "             ^^^^^^^^^^^^^^^^^^^^^^^^^^^^^^^^^^^^^^^^^^^^^^^^^\n",
      "  File \"/home/dylan/git/CAPSTONE_T316/venv/lib/python3.12/site-packages/sklearn/metrics/_scorer.py\", line 308, in __call__\n",
      "    return self._score(partial(_cached_call, None), estimator, X, y_true, **_kwargs)\n",
      "           ^^^^^^^^^^^^^^^^^^^^^^^^^^^^^^^^^^^^^^^^^^^^^^^^^^^^^^^^^^^^^^^^^^^^^^^^^\n",
      "  File \"/home/dylan/git/CAPSTONE_T316/venv/lib/python3.12/site-packages/sklearn/metrics/_scorer.py\", line 408, in _score\n",
      "    return self._sign * self._score_func(y_true, y_pred, **scoring_kwargs)\n",
      "                        ^^^^^^^^^^^^^^^^^^^^^^^^^^^^^^^^^^^^^^^^^^^^^^^^^^\n",
      "  File \"/home/dylan/git/CAPSTONE_T316/venv/lib/python3.12/site-packages/sklearn/utils/_param_validation.py\", line 218, in wrapper\n",
      "    return func(*args, **kwargs)\n",
      "           ^^^^^^^^^^^^^^^^^^^^^\n",
      "  File \"/home/dylan/git/CAPSTONE_T316/venv/lib/python3.12/site-packages/sklearn/metrics/_regression.py\", line 489, in mean_absolute_percentage_error\n",
      "    _check_reg_targets_with_floating_dtype(\n",
      "  File \"/home/dylan/git/CAPSTONE_T316/venv/lib/python3.12/site-packages/sklearn/metrics/_regression.py\", line 209, in _check_reg_targets_with_floating_dtype\n",
      "    y_type, y_true, y_pred, sample_weight, multioutput = _check_reg_targets(\n",
      "                                                         ^^^^^^^^^^^^^^^^^^^\n",
      "  File \"/home/dylan/git/CAPSTONE_T316/venv/lib/python3.12/site-packages/sklearn/metrics/_regression.py\", line 127, in _check_reg_targets\n",
      "    raise ValueError(\n",
      "ValueError: y_true and y_pred have different number of output (1!=2)\n",
      "\n",
      "  warnings.warn(\n"
     ]
    },
    {
     "name": "stdout",
     "output_type": "stream",
     "text": [
      "[CV] END colsample_bylevel=0.8, depth=8, iterations=1000, l2_leaf_reg=3, learning_rate=0.01, min_child_samples=20, subsample=0.8; total time= 9.2min\n"
     ]
    },
    {
     "name": "stderr",
     "output_type": "stream",
     "text": [
      "/home/dylan/git/CAPSTONE_T316/venv/lib/python3.12/site-packages/sklearn/model_selection/_validation.py:953: UserWarning: Scoring failed. The score on this train-test partition for these parameters will be set to nan. Details: \n",
      "Traceback (most recent call last):\n",
      "  File \"/home/dylan/git/CAPSTONE_T316/venv/lib/python3.12/site-packages/sklearn/model_selection/_validation.py\", line 942, in _score\n",
      "    scores = scorer(estimator, X_test, y_test, **score_params)\n",
      "             ^^^^^^^^^^^^^^^^^^^^^^^^^^^^^^^^^^^^^^^^^^^^^^^^^\n",
      "  File \"/home/dylan/git/CAPSTONE_T316/venv/lib/python3.12/site-packages/sklearn/metrics/_scorer.py\", line 308, in __call__\n",
      "    return self._score(partial(_cached_call, None), estimator, X, y_true, **_kwargs)\n",
      "           ^^^^^^^^^^^^^^^^^^^^^^^^^^^^^^^^^^^^^^^^^^^^^^^^^^^^^^^^^^^^^^^^^^^^^^^^^\n",
      "  File \"/home/dylan/git/CAPSTONE_T316/venv/lib/python3.12/site-packages/sklearn/metrics/_scorer.py\", line 408, in _score\n",
      "    return self._sign * self._score_func(y_true, y_pred, **scoring_kwargs)\n",
      "                        ^^^^^^^^^^^^^^^^^^^^^^^^^^^^^^^^^^^^^^^^^^^^^^^^^^\n",
      "  File \"/home/dylan/git/CAPSTONE_T316/venv/lib/python3.12/site-packages/sklearn/utils/_param_validation.py\", line 218, in wrapper\n",
      "    return func(*args, **kwargs)\n",
      "           ^^^^^^^^^^^^^^^^^^^^^\n",
      "  File \"/home/dylan/git/CAPSTONE_T316/venv/lib/python3.12/site-packages/sklearn/metrics/_regression.py\", line 489, in mean_absolute_percentage_error\n",
      "    _check_reg_targets_with_floating_dtype(\n",
      "  File \"/home/dylan/git/CAPSTONE_T316/venv/lib/python3.12/site-packages/sklearn/metrics/_regression.py\", line 209, in _check_reg_targets_with_floating_dtype\n",
      "    y_type, y_true, y_pred, sample_weight, multioutput = _check_reg_targets(\n",
      "                                                         ^^^^^^^^^^^^^^^^^^^\n",
      "  File \"/home/dylan/git/CAPSTONE_T316/venv/lib/python3.12/site-packages/sklearn/metrics/_regression.py\", line 127, in _check_reg_targets\n",
      "    raise ValueError(\n",
      "ValueError: y_true and y_pred have different number of output (1!=2)\n",
      "\n",
      "  warnings.warn(\n"
     ]
    },
    {
     "name": "stdout",
     "output_type": "stream",
     "text": [
      "[CV] END colsample_bylevel=0.9, depth=8, iterations=1000, l2_leaf_reg=5, learning_rate=0.03, min_child_samples=10, subsample=1.0; total time= 9.7min\n"
     ]
    },
    {
     "name": "stderr",
     "output_type": "stream",
     "text": [
      "/home/dylan/git/CAPSTONE_T316/venv/lib/python3.12/site-packages/sklearn/model_selection/_validation.py:953: UserWarning: Scoring failed. The score on this train-test partition for these parameters will be set to nan. Details: \n",
      "Traceback (most recent call last):\n",
      "  File \"/home/dylan/git/CAPSTONE_T316/venv/lib/python3.12/site-packages/sklearn/model_selection/_validation.py\", line 942, in _score\n",
      "    scores = scorer(estimator, X_test, y_test, **score_params)\n",
      "             ^^^^^^^^^^^^^^^^^^^^^^^^^^^^^^^^^^^^^^^^^^^^^^^^^\n",
      "  File \"/home/dylan/git/CAPSTONE_T316/venv/lib/python3.12/site-packages/sklearn/metrics/_scorer.py\", line 308, in __call__\n",
      "    return self._score(partial(_cached_call, None), estimator, X, y_true, **_kwargs)\n",
      "           ^^^^^^^^^^^^^^^^^^^^^^^^^^^^^^^^^^^^^^^^^^^^^^^^^^^^^^^^^^^^^^^^^^^^^^^^^\n",
      "  File \"/home/dylan/git/CAPSTONE_T316/venv/lib/python3.12/site-packages/sklearn/metrics/_scorer.py\", line 408, in _score\n",
      "    return self._sign * self._score_func(y_true, y_pred, **scoring_kwargs)\n",
      "                        ^^^^^^^^^^^^^^^^^^^^^^^^^^^^^^^^^^^^^^^^^^^^^^^^^^\n",
      "  File \"/home/dylan/git/CAPSTONE_T316/venv/lib/python3.12/site-packages/sklearn/utils/_param_validation.py\", line 218, in wrapper\n",
      "    return func(*args, **kwargs)\n",
      "           ^^^^^^^^^^^^^^^^^^^^^\n",
      "  File \"/home/dylan/git/CAPSTONE_T316/venv/lib/python3.12/site-packages/sklearn/metrics/_regression.py\", line 489, in mean_absolute_percentage_error\n",
      "    _check_reg_targets_with_floating_dtype(\n",
      "  File \"/home/dylan/git/CAPSTONE_T316/venv/lib/python3.12/site-packages/sklearn/metrics/_regression.py\", line 209, in _check_reg_targets_with_floating_dtype\n",
      "    y_type, y_true, y_pred, sample_weight, multioutput = _check_reg_targets(\n",
      "                                                         ^^^^^^^^^^^^^^^^^^^\n",
      "  File \"/home/dylan/git/CAPSTONE_T316/venv/lib/python3.12/site-packages/sklearn/metrics/_regression.py\", line 127, in _check_reg_targets\n",
      "    raise ValueError(\n",
      "ValueError: y_true and y_pred have different number of output (1!=2)\n",
      "\n",
      "  warnings.warn(\n"
     ]
    },
    {
     "name": "stdout",
     "output_type": "stream",
     "text": [
      "[CV] END colsample_bylevel=0.8, depth=10, iterations=1500, l2_leaf_reg=7, learning_rate=0.1, min_child_samples=10, subsample=1.0; total time=22.2min\n"
     ]
    },
    {
     "name": "stderr",
     "output_type": "stream",
     "text": [
      "/home/dylan/git/CAPSTONE_T316/venv/lib/python3.12/site-packages/sklearn/model_selection/_validation.py:953: UserWarning: Scoring failed. The score on this train-test partition for these parameters will be set to nan. Details: \n",
      "Traceback (most recent call last):\n",
      "  File \"/home/dylan/git/CAPSTONE_T316/venv/lib/python3.12/site-packages/sklearn/model_selection/_validation.py\", line 942, in _score\n",
      "    scores = scorer(estimator, X_test, y_test, **score_params)\n",
      "             ^^^^^^^^^^^^^^^^^^^^^^^^^^^^^^^^^^^^^^^^^^^^^^^^^\n",
      "  File \"/home/dylan/git/CAPSTONE_T316/venv/lib/python3.12/site-packages/sklearn/metrics/_scorer.py\", line 308, in __call__\n",
      "    return self._score(partial(_cached_call, None), estimator, X, y_true, **_kwargs)\n",
      "           ^^^^^^^^^^^^^^^^^^^^^^^^^^^^^^^^^^^^^^^^^^^^^^^^^^^^^^^^^^^^^^^^^^^^^^^^^\n",
      "  File \"/home/dylan/git/CAPSTONE_T316/venv/lib/python3.12/site-packages/sklearn/metrics/_scorer.py\", line 408, in _score\n",
      "    return self._sign * self._score_func(y_true, y_pred, **scoring_kwargs)\n",
      "                        ^^^^^^^^^^^^^^^^^^^^^^^^^^^^^^^^^^^^^^^^^^^^^^^^^^\n",
      "  File \"/home/dylan/git/CAPSTONE_T316/venv/lib/python3.12/site-packages/sklearn/utils/_param_validation.py\", line 218, in wrapper\n",
      "    return func(*args, **kwargs)\n",
      "           ^^^^^^^^^^^^^^^^^^^^^\n",
      "  File \"/home/dylan/git/CAPSTONE_T316/venv/lib/python3.12/site-packages/sklearn/metrics/_regression.py\", line 489, in mean_absolute_percentage_error\n",
      "    _check_reg_targets_with_floating_dtype(\n",
      "  File \"/home/dylan/git/CAPSTONE_T316/venv/lib/python3.12/site-packages/sklearn/metrics/_regression.py\", line 209, in _check_reg_targets_with_floating_dtype\n",
      "    y_type, y_true, y_pred, sample_weight, multioutput = _check_reg_targets(\n",
      "                                                         ^^^^^^^^^^^^^^^^^^^\n",
      "  File \"/home/dylan/git/CAPSTONE_T316/venv/lib/python3.12/site-packages/sklearn/metrics/_regression.py\", line 127, in _check_reg_targets\n",
      "    raise ValueError(\n",
      "ValueError: y_true and y_pred have different number of output (1!=2)\n",
      "\n",
      "  warnings.warn(\n"
     ]
    },
    {
     "name": "stdout",
     "output_type": "stream",
     "text": [
      "[CV] END colsample_bylevel=0.8, depth=10, iterations=1500, l2_leaf_reg=7, learning_rate=0.1, min_child_samples=10, subsample=1.0; total time=22.2min\n"
     ]
    },
    {
     "name": "stderr",
     "output_type": "stream",
     "text": [
      "/home/dylan/git/CAPSTONE_T316/venv/lib/python3.12/site-packages/sklearn/model_selection/_validation.py:953: UserWarning: Scoring failed. The score on this train-test partition for these parameters will be set to nan. Details: \n",
      "Traceback (most recent call last):\n",
      "  File \"/home/dylan/git/CAPSTONE_T316/venv/lib/python3.12/site-packages/sklearn/model_selection/_validation.py\", line 942, in _score\n",
      "    scores = scorer(estimator, X_test, y_test, **score_params)\n",
      "             ^^^^^^^^^^^^^^^^^^^^^^^^^^^^^^^^^^^^^^^^^^^^^^^^^\n",
      "  File \"/home/dylan/git/CAPSTONE_T316/venv/lib/python3.12/site-packages/sklearn/metrics/_scorer.py\", line 308, in __call__\n",
      "    return self._score(partial(_cached_call, None), estimator, X, y_true, **_kwargs)\n",
      "           ^^^^^^^^^^^^^^^^^^^^^^^^^^^^^^^^^^^^^^^^^^^^^^^^^^^^^^^^^^^^^^^^^^^^^^^^^\n",
      "  File \"/home/dylan/git/CAPSTONE_T316/venv/lib/python3.12/site-packages/sklearn/metrics/_scorer.py\", line 408, in _score\n",
      "    return self._sign * self._score_func(y_true, y_pred, **scoring_kwargs)\n",
      "                        ^^^^^^^^^^^^^^^^^^^^^^^^^^^^^^^^^^^^^^^^^^^^^^^^^^\n",
      "  File \"/home/dylan/git/CAPSTONE_T316/venv/lib/python3.12/site-packages/sklearn/utils/_param_validation.py\", line 218, in wrapper\n",
      "    return func(*args, **kwargs)\n",
      "           ^^^^^^^^^^^^^^^^^^^^^\n",
      "  File \"/home/dylan/git/CAPSTONE_T316/venv/lib/python3.12/site-packages/sklearn/metrics/_regression.py\", line 489, in mean_absolute_percentage_error\n",
      "    _check_reg_targets_with_floating_dtype(\n",
      "  File \"/home/dylan/git/CAPSTONE_T316/venv/lib/python3.12/site-packages/sklearn/metrics/_regression.py\", line 209, in _check_reg_targets_with_floating_dtype\n",
      "    y_type, y_true, y_pred, sample_weight, multioutput = _check_reg_targets(\n",
      "                                                         ^^^^^^^^^^^^^^^^^^^\n",
      "  File \"/home/dylan/git/CAPSTONE_T316/venv/lib/python3.12/site-packages/sklearn/metrics/_regression.py\", line 127, in _check_reg_targets\n",
      "    raise ValueError(\n",
      "ValueError: y_true and y_pred have different number of output (1!=2)\n",
      "\n",
      "  warnings.warn(\n"
     ]
    },
    {
     "name": "stdout",
     "output_type": "stream",
     "text": [
      "[CV] END colsample_bylevel=0.8, depth=10, iterations=1500, l2_leaf_reg=7, learning_rate=0.1, min_child_samples=10, subsample=1.0; total time=22.4min\n"
     ]
    },
    {
     "name": "stderr",
     "output_type": "stream",
     "text": [
      "/home/dylan/git/CAPSTONE_T316/venv/lib/python3.12/site-packages/sklearn/model_selection/_validation.py:953: UserWarning: Scoring failed. The score on this train-test partition for these parameters will be set to nan. Details: \n",
      "Traceback (most recent call last):\n",
      "  File \"/home/dylan/git/CAPSTONE_T316/venv/lib/python3.12/site-packages/sklearn/model_selection/_validation.py\", line 942, in _score\n",
      "    scores = scorer(estimator, X_test, y_test, **score_params)\n",
      "             ^^^^^^^^^^^^^^^^^^^^^^^^^^^^^^^^^^^^^^^^^^^^^^^^^\n",
      "  File \"/home/dylan/git/CAPSTONE_T316/venv/lib/python3.12/site-packages/sklearn/metrics/_scorer.py\", line 308, in __call__\n",
      "    return self._score(partial(_cached_call, None), estimator, X, y_true, **_kwargs)\n",
      "           ^^^^^^^^^^^^^^^^^^^^^^^^^^^^^^^^^^^^^^^^^^^^^^^^^^^^^^^^^^^^^^^^^^^^^^^^^\n",
      "  File \"/home/dylan/git/CAPSTONE_T316/venv/lib/python3.12/site-packages/sklearn/metrics/_scorer.py\", line 408, in _score\n",
      "    return self._sign * self._score_func(y_true, y_pred, **scoring_kwargs)\n",
      "                        ^^^^^^^^^^^^^^^^^^^^^^^^^^^^^^^^^^^^^^^^^^^^^^^^^^\n",
      "  File \"/home/dylan/git/CAPSTONE_T316/venv/lib/python3.12/site-packages/sklearn/utils/_param_validation.py\", line 218, in wrapper\n",
      "    return func(*args, **kwargs)\n",
      "           ^^^^^^^^^^^^^^^^^^^^^\n",
      "  File \"/home/dylan/git/CAPSTONE_T316/venv/lib/python3.12/site-packages/sklearn/metrics/_regression.py\", line 489, in mean_absolute_percentage_error\n",
      "    _check_reg_targets_with_floating_dtype(\n",
      "  File \"/home/dylan/git/CAPSTONE_T316/venv/lib/python3.12/site-packages/sklearn/metrics/_regression.py\", line 209, in _check_reg_targets_with_floating_dtype\n",
      "    y_type, y_true, y_pred, sample_weight, multioutput = _check_reg_targets(\n",
      "                                                         ^^^^^^^^^^^^^^^^^^^\n",
      "  File \"/home/dylan/git/CAPSTONE_T316/venv/lib/python3.12/site-packages/sklearn/metrics/_regression.py\", line 127, in _check_reg_targets\n",
      "    raise ValueError(\n",
      "ValueError: y_true and y_pred have different number of output (1!=2)\n",
      "\n",
      "  warnings.warn(\n"
     ]
    },
    {
     "name": "stdout",
     "output_type": "stream",
     "text": [
      "[CV] END colsample_bylevel=0.9, depth=10, iterations=1500, l2_leaf_reg=3, learning_rate=0.05, min_child_samples=5, subsample=0.8; total time=22.5min\n"
     ]
    },
    {
     "name": "stderr",
     "output_type": "stream",
     "text": [
      "/home/dylan/git/CAPSTONE_T316/venv/lib/python3.12/site-packages/sklearn/model_selection/_validation.py:953: UserWarning: Scoring failed. The score on this train-test partition for these parameters will be set to nan. Details: \n",
      "Traceback (most recent call last):\n",
      "  File \"/home/dylan/git/CAPSTONE_T316/venv/lib/python3.12/site-packages/sklearn/model_selection/_validation.py\", line 942, in _score\n",
      "    scores = scorer(estimator, X_test, y_test, **score_params)\n",
      "             ^^^^^^^^^^^^^^^^^^^^^^^^^^^^^^^^^^^^^^^^^^^^^^^^^\n",
      "  File \"/home/dylan/git/CAPSTONE_T316/venv/lib/python3.12/site-packages/sklearn/metrics/_scorer.py\", line 308, in __call__\n",
      "    return self._score(partial(_cached_call, None), estimator, X, y_true, **_kwargs)\n",
      "           ^^^^^^^^^^^^^^^^^^^^^^^^^^^^^^^^^^^^^^^^^^^^^^^^^^^^^^^^^^^^^^^^^^^^^^^^^\n",
      "  File \"/home/dylan/git/CAPSTONE_T316/venv/lib/python3.12/site-packages/sklearn/metrics/_scorer.py\", line 408, in _score\n",
      "    return self._sign * self._score_func(y_true, y_pred, **scoring_kwargs)\n",
      "                        ^^^^^^^^^^^^^^^^^^^^^^^^^^^^^^^^^^^^^^^^^^^^^^^^^^\n",
      "  File \"/home/dylan/git/CAPSTONE_T316/venv/lib/python3.12/site-packages/sklearn/utils/_param_validation.py\", line 218, in wrapper\n",
      "    return func(*args, **kwargs)\n",
      "           ^^^^^^^^^^^^^^^^^^^^^\n",
      "  File \"/home/dylan/git/CAPSTONE_T316/venv/lib/python3.12/site-packages/sklearn/metrics/_regression.py\", line 489, in mean_absolute_percentage_error\n",
      "    _check_reg_targets_with_floating_dtype(\n",
      "  File \"/home/dylan/git/CAPSTONE_T316/venv/lib/python3.12/site-packages/sklearn/metrics/_regression.py\", line 209, in _check_reg_targets_with_floating_dtype\n",
      "    y_type, y_true, y_pred, sample_weight, multioutput = _check_reg_targets(\n",
      "                                                         ^^^^^^^^^^^^^^^^^^^\n",
      "  File \"/home/dylan/git/CAPSTONE_T316/venv/lib/python3.12/site-packages/sklearn/metrics/_regression.py\", line 127, in _check_reg_targets\n",
      "    raise ValueError(\n",
      "ValueError: y_true and y_pred have different number of output (1!=2)\n",
      "\n",
      "  warnings.warn(\n"
     ]
    },
    {
     "name": "stdout",
     "output_type": "stream",
     "text": [
      "[CV] END colsample_bylevel=0.9, depth=10, iterations=1500, l2_leaf_reg=3, learning_rate=0.05, min_child_samples=5, subsample=0.8; total time=22.8min\n"
     ]
    },
    {
     "name": "stderr",
     "output_type": "stream",
     "text": [
      "/home/dylan/git/CAPSTONE_T316/venv/lib/python3.12/site-packages/sklearn/model_selection/_validation.py:953: UserWarning: Scoring failed. The score on this train-test partition for these parameters will be set to nan. Details: \n",
      "Traceback (most recent call last):\n",
      "  File \"/home/dylan/git/CAPSTONE_T316/venv/lib/python3.12/site-packages/sklearn/model_selection/_validation.py\", line 942, in _score\n",
      "    scores = scorer(estimator, X_test, y_test, **score_params)\n",
      "             ^^^^^^^^^^^^^^^^^^^^^^^^^^^^^^^^^^^^^^^^^^^^^^^^^\n",
      "  File \"/home/dylan/git/CAPSTONE_T316/venv/lib/python3.12/site-packages/sklearn/metrics/_scorer.py\", line 308, in __call__\n",
      "    return self._score(partial(_cached_call, None), estimator, X, y_true, **_kwargs)\n",
      "           ^^^^^^^^^^^^^^^^^^^^^^^^^^^^^^^^^^^^^^^^^^^^^^^^^^^^^^^^^^^^^^^^^^^^^^^^^\n",
      "  File \"/home/dylan/git/CAPSTONE_T316/venv/lib/python3.12/site-packages/sklearn/metrics/_scorer.py\", line 408, in _score\n",
      "    return self._sign * self._score_func(y_true, y_pred, **scoring_kwargs)\n",
      "                        ^^^^^^^^^^^^^^^^^^^^^^^^^^^^^^^^^^^^^^^^^^^^^^^^^^\n",
      "  File \"/home/dylan/git/CAPSTONE_T316/venv/lib/python3.12/site-packages/sklearn/utils/_param_validation.py\", line 218, in wrapper\n",
      "    return func(*args, **kwargs)\n",
      "           ^^^^^^^^^^^^^^^^^^^^^\n",
      "  File \"/home/dylan/git/CAPSTONE_T316/venv/lib/python3.12/site-packages/sklearn/metrics/_regression.py\", line 489, in mean_absolute_percentage_error\n",
      "    _check_reg_targets_with_floating_dtype(\n",
      "  File \"/home/dylan/git/CAPSTONE_T316/venv/lib/python3.12/site-packages/sklearn/metrics/_regression.py\", line 209, in _check_reg_targets_with_floating_dtype\n",
      "    y_type, y_true, y_pred, sample_weight, multioutput = _check_reg_targets(\n",
      "                                                         ^^^^^^^^^^^^^^^^^^^\n",
      "  File \"/home/dylan/git/CAPSTONE_T316/venv/lib/python3.12/site-packages/sklearn/metrics/_regression.py\", line 127, in _check_reg_targets\n",
      "    raise ValueError(\n",
      "ValueError: y_true and y_pred have different number of output (1!=2)\n",
      "\n",
      "  warnings.warn(\n"
     ]
    },
    {
     "name": "stdout",
     "output_type": "stream",
     "text": [
      "[CV] END colsample_bylevel=0.9, depth=10, iterations=1500, l2_leaf_reg=3, learning_rate=0.05, min_child_samples=5, subsample=0.8; total time=22.8min\n"
     ]
    },
    {
     "name": "stderr",
     "output_type": "stream",
     "text": [
      "/home/dylan/git/CAPSTONE_T316/venv/lib/python3.12/site-packages/sklearn/model_selection/_validation.py:953: UserWarning: Scoring failed. The score on this train-test partition for these parameters will be set to nan. Details: \n",
      "Traceback (most recent call last):\n",
      "  File \"/home/dylan/git/CAPSTONE_T316/venv/lib/python3.12/site-packages/sklearn/model_selection/_validation.py\", line 942, in _score\n",
      "    scores = scorer(estimator, X_test, y_test, **score_params)\n",
      "             ^^^^^^^^^^^^^^^^^^^^^^^^^^^^^^^^^^^^^^^^^^^^^^^^^\n",
      "  File \"/home/dylan/git/CAPSTONE_T316/venv/lib/python3.12/site-packages/sklearn/metrics/_scorer.py\", line 308, in __call__\n",
      "    return self._score(partial(_cached_call, None), estimator, X, y_true, **_kwargs)\n",
      "           ^^^^^^^^^^^^^^^^^^^^^^^^^^^^^^^^^^^^^^^^^^^^^^^^^^^^^^^^^^^^^^^^^^^^^^^^^\n",
      "  File \"/home/dylan/git/CAPSTONE_T316/venv/lib/python3.12/site-packages/sklearn/metrics/_scorer.py\", line 408, in _score\n",
      "    return self._sign * self._score_func(y_true, y_pred, **scoring_kwargs)\n",
      "                        ^^^^^^^^^^^^^^^^^^^^^^^^^^^^^^^^^^^^^^^^^^^^^^^^^^\n",
      "  File \"/home/dylan/git/CAPSTONE_T316/venv/lib/python3.12/site-packages/sklearn/utils/_param_validation.py\", line 218, in wrapper\n",
      "    return func(*args, **kwargs)\n",
      "           ^^^^^^^^^^^^^^^^^^^^^\n",
      "  File \"/home/dylan/git/CAPSTONE_T316/venv/lib/python3.12/site-packages/sklearn/metrics/_regression.py\", line 489, in mean_absolute_percentage_error\n",
      "    _check_reg_targets_with_floating_dtype(\n",
      "  File \"/home/dylan/git/CAPSTONE_T316/venv/lib/python3.12/site-packages/sklearn/metrics/_regression.py\", line 209, in _check_reg_targets_with_floating_dtype\n",
      "    y_type, y_true, y_pred, sample_weight, multioutput = _check_reg_targets(\n",
      "                                                         ^^^^^^^^^^^^^^^^^^^\n",
      "  File \"/home/dylan/git/CAPSTONE_T316/venv/lib/python3.12/site-packages/sklearn/metrics/_regression.py\", line 127, in _check_reg_targets\n",
      "    raise ValueError(\n",
      "ValueError: y_true and y_pred have different number of output (1!=2)\n",
      "\n",
      "  warnings.warn(\n"
     ]
    },
    {
     "name": "stdout",
     "output_type": "stream",
     "text": [
      "[CV] END colsample_bylevel=0.8, depth=8, iterations=1000, l2_leaf_reg=3, learning_rate=0.01, min_child_samples=20, subsample=0.8; total time= 9.3min\n"
     ]
    },
    {
     "name": "stderr",
     "output_type": "stream",
     "text": [
      "/home/dylan/git/CAPSTONE_T316/venv/lib/python3.12/site-packages/sklearn/model_selection/_validation.py:953: UserWarning: Scoring failed. The score on this train-test partition for these parameters will be set to nan. Details: \n",
      "Traceback (most recent call last):\n",
      "  File \"/home/dylan/git/CAPSTONE_T316/venv/lib/python3.12/site-packages/sklearn/model_selection/_validation.py\", line 942, in _score\n",
      "    scores = scorer(estimator, X_test, y_test, **score_params)\n",
      "             ^^^^^^^^^^^^^^^^^^^^^^^^^^^^^^^^^^^^^^^^^^^^^^^^^\n",
      "  File \"/home/dylan/git/CAPSTONE_T316/venv/lib/python3.12/site-packages/sklearn/metrics/_scorer.py\", line 308, in __call__\n",
      "    return self._score(partial(_cached_call, None), estimator, X, y_true, **_kwargs)\n",
      "           ^^^^^^^^^^^^^^^^^^^^^^^^^^^^^^^^^^^^^^^^^^^^^^^^^^^^^^^^^^^^^^^^^^^^^^^^^\n",
      "  File \"/home/dylan/git/CAPSTONE_T316/venv/lib/python3.12/site-packages/sklearn/metrics/_scorer.py\", line 408, in _score\n",
      "    return self._sign * self._score_func(y_true, y_pred, **scoring_kwargs)\n",
      "                        ^^^^^^^^^^^^^^^^^^^^^^^^^^^^^^^^^^^^^^^^^^^^^^^^^^\n",
      "  File \"/home/dylan/git/CAPSTONE_T316/venv/lib/python3.12/site-packages/sklearn/utils/_param_validation.py\", line 218, in wrapper\n",
      "    return func(*args, **kwargs)\n",
      "           ^^^^^^^^^^^^^^^^^^^^^\n",
      "  File \"/home/dylan/git/CAPSTONE_T316/venv/lib/python3.12/site-packages/sklearn/metrics/_regression.py\", line 489, in mean_absolute_percentage_error\n",
      "    _check_reg_targets_with_floating_dtype(\n",
      "  File \"/home/dylan/git/CAPSTONE_T316/venv/lib/python3.12/site-packages/sklearn/metrics/_regression.py\", line 209, in _check_reg_targets_with_floating_dtype\n",
      "    y_type, y_true, y_pred, sample_weight, multioutput = _check_reg_targets(\n",
      "                                                         ^^^^^^^^^^^^^^^^^^^\n",
      "  File \"/home/dylan/git/CAPSTONE_T316/venv/lib/python3.12/site-packages/sklearn/metrics/_regression.py\", line 127, in _check_reg_targets\n",
      "    raise ValueError(\n",
      "ValueError: y_true and y_pred have different number of output (1!=2)\n",
      "\n",
      "  warnings.warn(\n"
     ]
    },
    {
     "name": "stdout",
     "output_type": "stream",
     "text": [
      "[CV] END colsample_bylevel=1.0, depth=8, iterations=1500, l2_leaf_reg=1, learning_rate=0.03, min_child_samples=5, subsample=0.8; total time=15.5min\n"
     ]
    },
    {
     "name": "stderr",
     "output_type": "stream",
     "text": [
      "/home/dylan/git/CAPSTONE_T316/venv/lib/python3.12/site-packages/sklearn/model_selection/_validation.py:953: UserWarning: Scoring failed. The score on this train-test partition for these parameters will be set to nan. Details: \n",
      "Traceback (most recent call last):\n",
      "  File \"/home/dylan/git/CAPSTONE_T316/venv/lib/python3.12/site-packages/sklearn/model_selection/_validation.py\", line 942, in _score\n",
      "    scores = scorer(estimator, X_test, y_test, **score_params)\n",
      "             ^^^^^^^^^^^^^^^^^^^^^^^^^^^^^^^^^^^^^^^^^^^^^^^^^\n",
      "  File \"/home/dylan/git/CAPSTONE_T316/venv/lib/python3.12/site-packages/sklearn/metrics/_scorer.py\", line 308, in __call__\n",
      "    return self._score(partial(_cached_call, None), estimator, X, y_true, **_kwargs)\n",
      "           ^^^^^^^^^^^^^^^^^^^^^^^^^^^^^^^^^^^^^^^^^^^^^^^^^^^^^^^^^^^^^^^^^^^^^^^^^\n",
      "  File \"/home/dylan/git/CAPSTONE_T316/venv/lib/python3.12/site-packages/sklearn/metrics/_scorer.py\", line 408, in _score\n",
      "    return self._sign * self._score_func(y_true, y_pred, **scoring_kwargs)\n",
      "                        ^^^^^^^^^^^^^^^^^^^^^^^^^^^^^^^^^^^^^^^^^^^^^^^^^^\n",
      "  File \"/home/dylan/git/CAPSTONE_T316/venv/lib/python3.12/site-packages/sklearn/utils/_param_validation.py\", line 218, in wrapper\n",
      "    return func(*args, **kwargs)\n",
      "           ^^^^^^^^^^^^^^^^^^^^^\n",
      "  File \"/home/dylan/git/CAPSTONE_T316/venv/lib/python3.12/site-packages/sklearn/metrics/_regression.py\", line 489, in mean_absolute_percentage_error\n",
      "    _check_reg_targets_with_floating_dtype(\n",
      "  File \"/home/dylan/git/CAPSTONE_T316/venv/lib/python3.12/site-packages/sklearn/metrics/_regression.py\", line 209, in _check_reg_targets_with_floating_dtype\n",
      "    y_type, y_true, y_pred, sample_weight, multioutput = _check_reg_targets(\n",
      "                                                         ^^^^^^^^^^^^^^^^^^^\n",
      "  File \"/home/dylan/git/CAPSTONE_T316/venv/lib/python3.12/site-packages/sklearn/metrics/_regression.py\", line 127, in _check_reg_targets\n",
      "    raise ValueError(\n",
      "ValueError: y_true and y_pred have different number of output (1!=2)\n",
      "\n",
      "  warnings.warn(\n"
     ]
    },
    {
     "name": "stdout",
     "output_type": "stream",
     "text": [
      "[CV] END colsample_bylevel=1.0, depth=8, iterations=1500, l2_leaf_reg=1, learning_rate=0.03, min_child_samples=5, subsample=0.8; total time=15.5min\n"
     ]
    },
    {
     "name": "stderr",
     "output_type": "stream",
     "text": [
      "/home/dylan/git/CAPSTONE_T316/venv/lib/python3.12/site-packages/sklearn/model_selection/_validation.py:953: UserWarning: Scoring failed. The score on this train-test partition for these parameters will be set to nan. Details: \n",
      "Traceback (most recent call last):\n",
      "  File \"/home/dylan/git/CAPSTONE_T316/venv/lib/python3.12/site-packages/sklearn/model_selection/_validation.py\", line 942, in _score\n",
      "    scores = scorer(estimator, X_test, y_test, **score_params)\n",
      "             ^^^^^^^^^^^^^^^^^^^^^^^^^^^^^^^^^^^^^^^^^^^^^^^^^\n",
      "  File \"/home/dylan/git/CAPSTONE_T316/venv/lib/python3.12/site-packages/sklearn/metrics/_scorer.py\", line 308, in __call__\n",
      "    return self._score(partial(_cached_call, None), estimator, X, y_true, **_kwargs)\n",
      "           ^^^^^^^^^^^^^^^^^^^^^^^^^^^^^^^^^^^^^^^^^^^^^^^^^^^^^^^^^^^^^^^^^^^^^^^^^\n",
      "  File \"/home/dylan/git/CAPSTONE_T316/venv/lib/python3.12/site-packages/sklearn/metrics/_scorer.py\", line 408, in _score\n",
      "    return self._sign * self._score_func(y_true, y_pred, **scoring_kwargs)\n",
      "                        ^^^^^^^^^^^^^^^^^^^^^^^^^^^^^^^^^^^^^^^^^^^^^^^^^^\n",
      "  File \"/home/dylan/git/CAPSTONE_T316/venv/lib/python3.12/site-packages/sklearn/utils/_param_validation.py\", line 218, in wrapper\n",
      "    return func(*args, **kwargs)\n",
      "           ^^^^^^^^^^^^^^^^^^^^^\n",
      "  File \"/home/dylan/git/CAPSTONE_T316/venv/lib/python3.12/site-packages/sklearn/metrics/_regression.py\", line 489, in mean_absolute_percentage_error\n",
      "    _check_reg_targets_with_floating_dtype(\n",
      "  File \"/home/dylan/git/CAPSTONE_T316/venv/lib/python3.12/site-packages/sklearn/metrics/_regression.py\", line 209, in _check_reg_targets_with_floating_dtype\n",
      "    y_type, y_true, y_pred, sample_weight, multioutput = _check_reg_targets(\n",
      "                                                         ^^^^^^^^^^^^^^^^^^^\n",
      "  File \"/home/dylan/git/CAPSTONE_T316/venv/lib/python3.12/site-packages/sklearn/metrics/_regression.py\", line 127, in _check_reg_targets\n",
      "    raise ValueError(\n",
      "ValueError: y_true and y_pred have different number of output (1!=2)\n",
      "\n",
      "  warnings.warn(\n"
     ]
    },
    {
     "name": "stdout",
     "output_type": "stream",
     "text": [
      "[CV] END colsample_bylevel=0.8, depth=8, iterations=1500, l2_leaf_reg=1, learning_rate=0.1, min_child_samples=20, subsample=0.9; total time=15.7min\n"
     ]
    },
    {
     "name": "stderr",
     "output_type": "stream",
     "text": [
      "/home/dylan/git/CAPSTONE_T316/venv/lib/python3.12/site-packages/sklearn/model_selection/_validation.py:953: UserWarning: Scoring failed. The score on this train-test partition for these parameters will be set to nan. Details: \n",
      "Traceback (most recent call last):\n",
      "  File \"/home/dylan/git/CAPSTONE_T316/venv/lib/python3.12/site-packages/sklearn/model_selection/_validation.py\", line 942, in _score\n",
      "    scores = scorer(estimator, X_test, y_test, **score_params)\n",
      "             ^^^^^^^^^^^^^^^^^^^^^^^^^^^^^^^^^^^^^^^^^^^^^^^^^\n",
      "  File \"/home/dylan/git/CAPSTONE_T316/venv/lib/python3.12/site-packages/sklearn/metrics/_scorer.py\", line 308, in __call__\n",
      "    return self._score(partial(_cached_call, None), estimator, X, y_true, **_kwargs)\n",
      "           ^^^^^^^^^^^^^^^^^^^^^^^^^^^^^^^^^^^^^^^^^^^^^^^^^^^^^^^^^^^^^^^^^^^^^^^^^\n",
      "  File \"/home/dylan/git/CAPSTONE_T316/venv/lib/python3.12/site-packages/sklearn/metrics/_scorer.py\", line 408, in _score\n",
      "    return self._sign * self._score_func(y_true, y_pred, **scoring_kwargs)\n",
      "                        ^^^^^^^^^^^^^^^^^^^^^^^^^^^^^^^^^^^^^^^^^^^^^^^^^^\n",
      "  File \"/home/dylan/git/CAPSTONE_T316/venv/lib/python3.12/site-packages/sklearn/utils/_param_validation.py\", line 218, in wrapper\n",
      "    return func(*args, **kwargs)\n",
      "           ^^^^^^^^^^^^^^^^^^^^^\n",
      "  File \"/home/dylan/git/CAPSTONE_T316/venv/lib/python3.12/site-packages/sklearn/metrics/_regression.py\", line 489, in mean_absolute_percentage_error\n",
      "    _check_reg_targets_with_floating_dtype(\n",
      "  File \"/home/dylan/git/CAPSTONE_T316/venv/lib/python3.12/site-packages/sklearn/metrics/_regression.py\", line 209, in _check_reg_targets_with_floating_dtype\n",
      "    y_type, y_true, y_pred, sample_weight, multioutput = _check_reg_targets(\n",
      "                                                         ^^^^^^^^^^^^^^^^^^^\n",
      "  File \"/home/dylan/git/CAPSTONE_T316/venv/lib/python3.12/site-packages/sklearn/metrics/_regression.py\", line 127, in _check_reg_targets\n",
      "    raise ValueError(\n",
      "ValueError: y_true and y_pred have different number of output (1!=2)\n",
      "\n",
      "  warnings.warn(\n"
     ]
    },
    {
     "name": "stdout",
     "output_type": "stream",
     "text": [
      "[CV] END colsample_bylevel=0.8, depth=8, iterations=1500, l2_leaf_reg=1, learning_rate=0.1, min_child_samples=20, subsample=0.9; total time=15.9min\n"
     ]
    },
    {
     "name": "stderr",
     "output_type": "stream",
     "text": [
      "/home/dylan/git/CAPSTONE_T316/venv/lib/python3.12/site-packages/sklearn/model_selection/_validation.py:953: UserWarning: Scoring failed. The score on this train-test partition for these parameters will be set to nan. Details: \n",
      "Traceback (most recent call last):\n",
      "  File \"/home/dylan/git/CAPSTONE_T316/venv/lib/python3.12/site-packages/sklearn/model_selection/_validation.py\", line 942, in _score\n",
      "    scores = scorer(estimator, X_test, y_test, **score_params)\n",
      "             ^^^^^^^^^^^^^^^^^^^^^^^^^^^^^^^^^^^^^^^^^^^^^^^^^\n",
      "  File \"/home/dylan/git/CAPSTONE_T316/venv/lib/python3.12/site-packages/sklearn/metrics/_scorer.py\", line 308, in __call__\n",
      "    return self._score(partial(_cached_call, None), estimator, X, y_true, **_kwargs)\n",
      "           ^^^^^^^^^^^^^^^^^^^^^^^^^^^^^^^^^^^^^^^^^^^^^^^^^^^^^^^^^^^^^^^^^^^^^^^^^\n",
      "  File \"/home/dylan/git/CAPSTONE_T316/venv/lib/python3.12/site-packages/sklearn/metrics/_scorer.py\", line 408, in _score\n",
      "    return self._sign * self._score_func(y_true, y_pred, **scoring_kwargs)\n",
      "                        ^^^^^^^^^^^^^^^^^^^^^^^^^^^^^^^^^^^^^^^^^^^^^^^^^^\n",
      "  File \"/home/dylan/git/CAPSTONE_T316/venv/lib/python3.12/site-packages/sklearn/utils/_param_validation.py\", line 218, in wrapper\n",
      "    return func(*args, **kwargs)\n",
      "           ^^^^^^^^^^^^^^^^^^^^^\n",
      "  File \"/home/dylan/git/CAPSTONE_T316/venv/lib/python3.12/site-packages/sklearn/metrics/_regression.py\", line 489, in mean_absolute_percentage_error\n",
      "    _check_reg_targets_with_floating_dtype(\n",
      "  File \"/home/dylan/git/CAPSTONE_T316/venv/lib/python3.12/site-packages/sklearn/metrics/_regression.py\", line 209, in _check_reg_targets_with_floating_dtype\n",
      "    y_type, y_true, y_pred, sample_weight, multioutput = _check_reg_targets(\n",
      "                                                         ^^^^^^^^^^^^^^^^^^^\n",
      "  File \"/home/dylan/git/CAPSTONE_T316/venv/lib/python3.12/site-packages/sklearn/metrics/_regression.py\", line 127, in _check_reg_targets\n",
      "    raise ValueError(\n",
      "ValueError: y_true and y_pred have different number of output (1!=2)\n",
      "\n",
      "  warnings.warn(\n"
     ]
    },
    {
     "name": "stdout",
     "output_type": "stream",
     "text": [
      "[CV] END colsample_bylevel=0.8, depth=8, iterations=1500, l2_leaf_reg=1, learning_rate=0.1, min_child_samples=20, subsample=0.9; total time=15.9min\n"
     ]
    },
    {
     "name": "stderr",
     "output_type": "stream",
     "text": [
      "/home/dylan/git/CAPSTONE_T316/venv/lib/python3.12/site-packages/sklearn/model_selection/_validation.py:953: UserWarning: Scoring failed. The score on this train-test partition for these parameters will be set to nan. Details: \n",
      "Traceback (most recent call last):\n",
      "  File \"/home/dylan/git/CAPSTONE_T316/venv/lib/python3.12/site-packages/sklearn/model_selection/_validation.py\", line 942, in _score\n",
      "    scores = scorer(estimator, X_test, y_test, **score_params)\n",
      "             ^^^^^^^^^^^^^^^^^^^^^^^^^^^^^^^^^^^^^^^^^^^^^^^^^\n",
      "  File \"/home/dylan/git/CAPSTONE_T316/venv/lib/python3.12/site-packages/sklearn/metrics/_scorer.py\", line 308, in __call__\n",
      "    return self._score(partial(_cached_call, None), estimator, X, y_true, **_kwargs)\n",
      "           ^^^^^^^^^^^^^^^^^^^^^^^^^^^^^^^^^^^^^^^^^^^^^^^^^^^^^^^^^^^^^^^^^^^^^^^^^\n",
      "  File \"/home/dylan/git/CAPSTONE_T316/venv/lib/python3.12/site-packages/sklearn/metrics/_scorer.py\", line 408, in _score\n",
      "    return self._sign * self._score_func(y_true, y_pred, **scoring_kwargs)\n",
      "                        ^^^^^^^^^^^^^^^^^^^^^^^^^^^^^^^^^^^^^^^^^^^^^^^^^^\n",
      "  File \"/home/dylan/git/CAPSTONE_T316/venv/lib/python3.12/site-packages/sklearn/utils/_param_validation.py\", line 218, in wrapper\n",
      "    return func(*args, **kwargs)\n",
      "           ^^^^^^^^^^^^^^^^^^^^^\n",
      "  File \"/home/dylan/git/CAPSTONE_T316/venv/lib/python3.12/site-packages/sklearn/metrics/_regression.py\", line 489, in mean_absolute_percentage_error\n",
      "    _check_reg_targets_with_floating_dtype(\n",
      "  File \"/home/dylan/git/CAPSTONE_T316/venv/lib/python3.12/site-packages/sklearn/metrics/_regression.py\", line 209, in _check_reg_targets_with_floating_dtype\n",
      "    y_type, y_true, y_pred, sample_weight, multioutput = _check_reg_targets(\n",
      "                                                         ^^^^^^^^^^^^^^^^^^^\n",
      "  File \"/home/dylan/git/CAPSTONE_T316/venv/lib/python3.12/site-packages/sklearn/metrics/_regression.py\", line 127, in _check_reg_targets\n",
      "    raise ValueError(\n",
      "ValueError: y_true and y_pred have different number of output (1!=2)\n",
      "\n",
      "  warnings.warn(\n"
     ]
    },
    {
     "name": "stdout",
     "output_type": "stream",
     "text": [
      "[CV] END colsample_bylevel=0.8, depth=8, iterations=1000, l2_leaf_reg=3, learning_rate=0.01, min_child_samples=20, subsample=0.8; total time= 9.8min\n"
     ]
    },
    {
     "name": "stderr",
     "output_type": "stream",
     "text": [
      "/home/dylan/git/CAPSTONE_T316/venv/lib/python3.12/site-packages/sklearn/model_selection/_validation.py:953: UserWarning: Scoring failed. The score on this train-test partition for these parameters will be set to nan. Details: \n",
      "Traceback (most recent call last):\n",
      "  File \"/home/dylan/git/CAPSTONE_T316/venv/lib/python3.12/site-packages/sklearn/model_selection/_validation.py\", line 942, in _score\n",
      "    scores = scorer(estimator, X_test, y_test, **score_params)\n",
      "             ^^^^^^^^^^^^^^^^^^^^^^^^^^^^^^^^^^^^^^^^^^^^^^^^^\n",
      "  File \"/home/dylan/git/CAPSTONE_T316/venv/lib/python3.12/site-packages/sklearn/metrics/_scorer.py\", line 308, in __call__\n",
      "    return self._score(partial(_cached_call, None), estimator, X, y_true, **_kwargs)\n",
      "           ^^^^^^^^^^^^^^^^^^^^^^^^^^^^^^^^^^^^^^^^^^^^^^^^^^^^^^^^^^^^^^^^^^^^^^^^^\n",
      "  File \"/home/dylan/git/CAPSTONE_T316/venv/lib/python3.12/site-packages/sklearn/metrics/_scorer.py\", line 408, in _score\n",
      "    return self._sign * self._score_func(y_true, y_pred, **scoring_kwargs)\n",
      "                        ^^^^^^^^^^^^^^^^^^^^^^^^^^^^^^^^^^^^^^^^^^^^^^^^^^\n",
      "  File \"/home/dylan/git/CAPSTONE_T316/venv/lib/python3.12/site-packages/sklearn/utils/_param_validation.py\", line 218, in wrapper\n",
      "    return func(*args, **kwargs)\n",
      "           ^^^^^^^^^^^^^^^^^^^^^\n",
      "  File \"/home/dylan/git/CAPSTONE_T316/venv/lib/python3.12/site-packages/sklearn/metrics/_regression.py\", line 489, in mean_absolute_percentage_error\n",
      "    _check_reg_targets_with_floating_dtype(\n",
      "  File \"/home/dylan/git/CAPSTONE_T316/venv/lib/python3.12/site-packages/sklearn/metrics/_regression.py\", line 209, in _check_reg_targets_with_floating_dtype\n",
      "    y_type, y_true, y_pred, sample_weight, multioutput = _check_reg_targets(\n",
      "                                                         ^^^^^^^^^^^^^^^^^^^\n",
      "  File \"/home/dylan/git/CAPSTONE_T316/venv/lib/python3.12/site-packages/sklearn/metrics/_regression.py\", line 127, in _check_reg_targets\n",
      "    raise ValueError(\n",
      "ValueError: y_true and y_pred have different number of output (1!=2)\n",
      "\n",
      "  warnings.warn(\n"
     ]
    },
    {
     "name": "stdout",
     "output_type": "stream",
     "text": [
      "[CV] END colsample_bylevel=0.8, depth=6, iterations=1000, l2_leaf_reg=7, learning_rate=0.05, min_child_samples=10, subsample=0.9; total time= 7.8min\n"
     ]
    },
    {
     "name": "stderr",
     "output_type": "stream",
     "text": [
      "/home/dylan/git/CAPSTONE_T316/venv/lib/python3.12/site-packages/sklearn/model_selection/_validation.py:953: UserWarning: Scoring failed. The score on this train-test partition for these parameters will be set to nan. Details: \n",
      "Traceback (most recent call last):\n",
      "  File \"/home/dylan/git/CAPSTONE_T316/venv/lib/python3.12/site-packages/sklearn/model_selection/_validation.py\", line 942, in _score\n",
      "    scores = scorer(estimator, X_test, y_test, **score_params)\n",
      "             ^^^^^^^^^^^^^^^^^^^^^^^^^^^^^^^^^^^^^^^^^^^^^^^^^\n",
      "  File \"/home/dylan/git/CAPSTONE_T316/venv/lib/python3.12/site-packages/sklearn/metrics/_scorer.py\", line 308, in __call__\n",
      "    return self._score(partial(_cached_call, None), estimator, X, y_true, **_kwargs)\n",
      "           ^^^^^^^^^^^^^^^^^^^^^^^^^^^^^^^^^^^^^^^^^^^^^^^^^^^^^^^^^^^^^^^^^^^^^^^^^\n",
      "  File \"/home/dylan/git/CAPSTONE_T316/venv/lib/python3.12/site-packages/sklearn/metrics/_scorer.py\", line 408, in _score\n",
      "    return self._sign * self._score_func(y_true, y_pred, **scoring_kwargs)\n",
      "                        ^^^^^^^^^^^^^^^^^^^^^^^^^^^^^^^^^^^^^^^^^^^^^^^^^^\n",
      "  File \"/home/dylan/git/CAPSTONE_T316/venv/lib/python3.12/site-packages/sklearn/utils/_param_validation.py\", line 218, in wrapper\n",
      "    return func(*args, **kwargs)\n",
      "           ^^^^^^^^^^^^^^^^^^^^^\n",
      "  File \"/home/dylan/git/CAPSTONE_T316/venv/lib/python3.12/site-packages/sklearn/metrics/_regression.py\", line 489, in mean_absolute_percentage_error\n",
      "    _check_reg_targets_with_floating_dtype(\n",
      "  File \"/home/dylan/git/CAPSTONE_T316/venv/lib/python3.12/site-packages/sklearn/metrics/_regression.py\", line 209, in _check_reg_targets_with_floating_dtype\n",
      "    y_type, y_true, y_pred, sample_weight, multioutput = _check_reg_targets(\n",
      "                                                         ^^^^^^^^^^^^^^^^^^^\n",
      "  File \"/home/dylan/git/CAPSTONE_T316/venv/lib/python3.12/site-packages/sklearn/metrics/_regression.py\", line 127, in _check_reg_targets\n",
      "    raise ValueError(\n",
      "ValueError: y_true and y_pred have different number of output (1!=2)\n",
      "\n",
      "  warnings.warn(\n"
     ]
    },
    {
     "name": "stdout",
     "output_type": "stream",
     "text": [
      "[CV] END colsample_bylevel=0.8, depth=6, iterations=1000, l2_leaf_reg=7, learning_rate=0.05, min_child_samples=10, subsample=0.9; total time= 8.1min\n"
     ]
    },
    {
     "name": "stderr",
     "output_type": "stream",
     "text": [
      "/home/dylan/git/CAPSTONE_T316/venv/lib/python3.12/site-packages/sklearn/model_selection/_validation.py:953: UserWarning: Scoring failed. The score on this train-test partition for these parameters will be set to nan. Details: \n",
      "Traceback (most recent call last):\n",
      "  File \"/home/dylan/git/CAPSTONE_T316/venv/lib/python3.12/site-packages/sklearn/model_selection/_validation.py\", line 942, in _score\n",
      "    scores = scorer(estimator, X_test, y_test, **score_params)\n",
      "             ^^^^^^^^^^^^^^^^^^^^^^^^^^^^^^^^^^^^^^^^^^^^^^^^^\n",
      "  File \"/home/dylan/git/CAPSTONE_T316/venv/lib/python3.12/site-packages/sklearn/metrics/_scorer.py\", line 308, in __call__\n",
      "    return self._score(partial(_cached_call, None), estimator, X, y_true, **_kwargs)\n",
      "           ^^^^^^^^^^^^^^^^^^^^^^^^^^^^^^^^^^^^^^^^^^^^^^^^^^^^^^^^^^^^^^^^^^^^^^^^^\n",
      "  File \"/home/dylan/git/CAPSTONE_T316/venv/lib/python3.12/site-packages/sklearn/metrics/_scorer.py\", line 408, in _score\n",
      "    return self._sign * self._score_func(y_true, y_pred, **scoring_kwargs)\n",
      "                        ^^^^^^^^^^^^^^^^^^^^^^^^^^^^^^^^^^^^^^^^^^^^^^^^^^\n",
      "  File \"/home/dylan/git/CAPSTONE_T316/venv/lib/python3.12/site-packages/sklearn/utils/_param_validation.py\", line 218, in wrapper\n",
      "    return func(*args, **kwargs)\n",
      "           ^^^^^^^^^^^^^^^^^^^^^\n",
      "  File \"/home/dylan/git/CAPSTONE_T316/venv/lib/python3.12/site-packages/sklearn/metrics/_regression.py\", line 489, in mean_absolute_percentage_error\n",
      "    _check_reg_targets_with_floating_dtype(\n",
      "  File \"/home/dylan/git/CAPSTONE_T316/venv/lib/python3.12/site-packages/sklearn/metrics/_regression.py\", line 209, in _check_reg_targets_with_floating_dtype\n",
      "    y_type, y_true, y_pred, sample_weight, multioutput = _check_reg_targets(\n",
      "                                                         ^^^^^^^^^^^^^^^^^^^\n",
      "  File \"/home/dylan/git/CAPSTONE_T316/venv/lib/python3.12/site-packages/sklearn/metrics/_regression.py\", line 127, in _check_reg_targets\n",
      "    raise ValueError(\n",
      "ValueError: y_true and y_pred have different number of output (1!=2)\n",
      "\n",
      "  warnings.warn(\n"
     ]
    },
    {
     "name": "stdout",
     "output_type": "stream",
     "text": [
      "[CV] END colsample_bylevel=0.8, depth=6, iterations=1000, l2_leaf_reg=7, learning_rate=0.05, min_child_samples=10, subsample=0.9; total time= 8.4min\n"
     ]
    },
    {
     "name": "stderr",
     "output_type": "stream",
     "text": [
      "/home/dylan/git/CAPSTONE_T316/venv/lib/python3.12/site-packages/sklearn/model_selection/_validation.py:953: UserWarning: Scoring failed. The score on this train-test partition for these parameters will be set to nan. Details: \n",
      "Traceback (most recent call last):\n",
      "  File \"/home/dylan/git/CAPSTONE_T316/venv/lib/python3.12/site-packages/sklearn/model_selection/_validation.py\", line 942, in _score\n",
      "    scores = scorer(estimator, X_test, y_test, **score_params)\n",
      "             ^^^^^^^^^^^^^^^^^^^^^^^^^^^^^^^^^^^^^^^^^^^^^^^^^\n",
      "  File \"/home/dylan/git/CAPSTONE_T316/venv/lib/python3.12/site-packages/sklearn/metrics/_scorer.py\", line 308, in __call__\n",
      "    return self._score(partial(_cached_call, None), estimator, X, y_true, **_kwargs)\n",
      "           ^^^^^^^^^^^^^^^^^^^^^^^^^^^^^^^^^^^^^^^^^^^^^^^^^^^^^^^^^^^^^^^^^^^^^^^^^\n",
      "  File \"/home/dylan/git/CAPSTONE_T316/venv/lib/python3.12/site-packages/sklearn/metrics/_scorer.py\", line 408, in _score\n",
      "    return self._sign * self._score_func(y_true, y_pred, **scoring_kwargs)\n",
      "                        ^^^^^^^^^^^^^^^^^^^^^^^^^^^^^^^^^^^^^^^^^^^^^^^^^^\n",
      "  File \"/home/dylan/git/CAPSTONE_T316/venv/lib/python3.12/site-packages/sklearn/utils/_param_validation.py\", line 218, in wrapper\n",
      "    return func(*args, **kwargs)\n",
      "           ^^^^^^^^^^^^^^^^^^^^^\n",
      "  File \"/home/dylan/git/CAPSTONE_T316/venv/lib/python3.12/site-packages/sklearn/metrics/_regression.py\", line 489, in mean_absolute_percentage_error\n",
      "    _check_reg_targets_with_floating_dtype(\n",
      "  File \"/home/dylan/git/CAPSTONE_T316/venv/lib/python3.12/site-packages/sklearn/metrics/_regression.py\", line 209, in _check_reg_targets_with_floating_dtype\n",
      "    y_type, y_true, y_pred, sample_weight, multioutput = _check_reg_targets(\n",
      "                                                         ^^^^^^^^^^^^^^^^^^^\n",
      "  File \"/home/dylan/git/CAPSTONE_T316/venv/lib/python3.12/site-packages/sklearn/metrics/_regression.py\", line 127, in _check_reg_targets\n",
      "    raise ValueError(\n",
      "ValueError: y_true and y_pred have different number of output (1!=2)\n",
      "\n",
      "  warnings.warn(\n"
     ]
    },
    {
     "name": "stdout",
     "output_type": "stream",
     "text": [
      "[CV] END colsample_bylevel=1.0, depth=8, iterations=1000, l2_leaf_reg=7, learning_rate=0.03, min_child_samples=5, subsample=1.0; total time=10.9min\n"
     ]
    },
    {
     "name": "stderr",
     "output_type": "stream",
     "text": [
      "/home/dylan/git/CAPSTONE_T316/venv/lib/python3.12/site-packages/sklearn/model_selection/_validation.py:953: UserWarning: Scoring failed. The score on this train-test partition for these parameters will be set to nan. Details: \n",
      "Traceback (most recent call last):\n",
      "  File \"/home/dylan/git/CAPSTONE_T316/venv/lib/python3.12/site-packages/sklearn/model_selection/_validation.py\", line 942, in _score\n",
      "    scores = scorer(estimator, X_test, y_test, **score_params)\n",
      "             ^^^^^^^^^^^^^^^^^^^^^^^^^^^^^^^^^^^^^^^^^^^^^^^^^\n",
      "  File \"/home/dylan/git/CAPSTONE_T316/venv/lib/python3.12/site-packages/sklearn/metrics/_scorer.py\", line 308, in __call__\n",
      "    return self._score(partial(_cached_call, None), estimator, X, y_true, **_kwargs)\n",
      "           ^^^^^^^^^^^^^^^^^^^^^^^^^^^^^^^^^^^^^^^^^^^^^^^^^^^^^^^^^^^^^^^^^^^^^^^^^\n",
      "  File \"/home/dylan/git/CAPSTONE_T316/venv/lib/python3.12/site-packages/sklearn/metrics/_scorer.py\", line 408, in _score\n",
      "    return self._sign * self._score_func(y_true, y_pred, **scoring_kwargs)\n",
      "                        ^^^^^^^^^^^^^^^^^^^^^^^^^^^^^^^^^^^^^^^^^^^^^^^^^^\n",
      "  File \"/home/dylan/git/CAPSTONE_T316/venv/lib/python3.12/site-packages/sklearn/utils/_param_validation.py\", line 218, in wrapper\n",
      "    return func(*args, **kwargs)\n",
      "           ^^^^^^^^^^^^^^^^^^^^^\n",
      "  File \"/home/dylan/git/CAPSTONE_T316/venv/lib/python3.12/site-packages/sklearn/metrics/_regression.py\", line 489, in mean_absolute_percentage_error\n",
      "    _check_reg_targets_with_floating_dtype(\n",
      "  File \"/home/dylan/git/CAPSTONE_T316/venv/lib/python3.12/site-packages/sklearn/metrics/_regression.py\", line 209, in _check_reg_targets_with_floating_dtype\n",
      "    y_type, y_true, y_pred, sample_weight, multioutput = _check_reg_targets(\n",
      "                                                         ^^^^^^^^^^^^^^^^^^^\n",
      "  File \"/home/dylan/git/CAPSTONE_T316/venv/lib/python3.12/site-packages/sklearn/metrics/_regression.py\", line 127, in _check_reg_targets\n",
      "    raise ValueError(\n",
      "ValueError: y_true and y_pred have different number of output (1!=2)\n",
      "\n",
      "  warnings.warn(\n"
     ]
    },
    {
     "name": "stdout",
     "output_type": "stream",
     "text": [
      "[CV] END colsample_bylevel=1.0, depth=8, iterations=1000, l2_leaf_reg=7, learning_rate=0.03, min_child_samples=5, subsample=1.0; total time=11.9min\n"
     ]
    },
    {
     "name": "stderr",
     "output_type": "stream",
     "text": [
      "/home/dylan/git/CAPSTONE_T316/venv/lib/python3.12/site-packages/sklearn/model_selection/_validation.py:953: UserWarning: Scoring failed. The score on this train-test partition for these parameters will be set to nan. Details: \n",
      "Traceback (most recent call last):\n",
      "  File \"/home/dylan/git/CAPSTONE_T316/venv/lib/python3.12/site-packages/sklearn/model_selection/_validation.py\", line 942, in _score\n",
      "    scores = scorer(estimator, X_test, y_test, **score_params)\n",
      "             ^^^^^^^^^^^^^^^^^^^^^^^^^^^^^^^^^^^^^^^^^^^^^^^^^\n",
      "  File \"/home/dylan/git/CAPSTONE_T316/venv/lib/python3.12/site-packages/sklearn/metrics/_scorer.py\", line 308, in __call__\n",
      "    return self._score(partial(_cached_call, None), estimator, X, y_true, **_kwargs)\n",
      "           ^^^^^^^^^^^^^^^^^^^^^^^^^^^^^^^^^^^^^^^^^^^^^^^^^^^^^^^^^^^^^^^^^^^^^^^^^\n",
      "  File \"/home/dylan/git/CAPSTONE_T316/venv/lib/python3.12/site-packages/sklearn/metrics/_scorer.py\", line 408, in _score\n",
      "    return self._sign * self._score_func(y_true, y_pred, **scoring_kwargs)\n",
      "                        ^^^^^^^^^^^^^^^^^^^^^^^^^^^^^^^^^^^^^^^^^^^^^^^^^^\n",
      "  File \"/home/dylan/git/CAPSTONE_T316/venv/lib/python3.12/site-packages/sklearn/utils/_param_validation.py\", line 218, in wrapper\n",
      "    return func(*args, **kwargs)\n",
      "           ^^^^^^^^^^^^^^^^^^^^^\n",
      "  File \"/home/dylan/git/CAPSTONE_T316/venv/lib/python3.12/site-packages/sklearn/metrics/_regression.py\", line 489, in mean_absolute_percentage_error\n",
      "    _check_reg_targets_with_floating_dtype(\n",
      "  File \"/home/dylan/git/CAPSTONE_T316/venv/lib/python3.12/site-packages/sklearn/metrics/_regression.py\", line 209, in _check_reg_targets_with_floating_dtype\n",
      "    y_type, y_true, y_pred, sample_weight, multioutput = _check_reg_targets(\n",
      "                                                         ^^^^^^^^^^^^^^^^^^^\n",
      "  File \"/home/dylan/git/CAPSTONE_T316/venv/lib/python3.12/site-packages/sklearn/metrics/_regression.py\", line 127, in _check_reg_targets\n",
      "    raise ValueError(\n",
      "ValueError: y_true and y_pred have different number of output (1!=2)\n",
      "\n",
      "  warnings.warn(\n"
     ]
    },
    {
     "name": "stdout",
     "output_type": "stream",
     "text": [
      "[CV] END colsample_bylevel=1.0, depth=8, iterations=1000, l2_leaf_reg=7, learning_rate=0.03, min_child_samples=5, subsample=1.0; total time=12.7min\n"
     ]
    },
    {
     "name": "stderr",
     "output_type": "stream",
     "text": [
      "/home/dylan/git/CAPSTONE_T316/venv/lib/python3.12/site-packages/sklearn/model_selection/_validation.py:953: UserWarning: Scoring failed. The score on this train-test partition for these parameters will be set to nan. Details: \n",
      "Traceback (most recent call last):\n",
      "  File \"/home/dylan/git/CAPSTONE_T316/venv/lib/python3.12/site-packages/sklearn/model_selection/_validation.py\", line 942, in _score\n",
      "    scores = scorer(estimator, X_test, y_test, **score_params)\n",
      "             ^^^^^^^^^^^^^^^^^^^^^^^^^^^^^^^^^^^^^^^^^^^^^^^^^\n",
      "  File \"/home/dylan/git/CAPSTONE_T316/venv/lib/python3.12/site-packages/sklearn/metrics/_scorer.py\", line 308, in __call__\n",
      "    return self._score(partial(_cached_call, None), estimator, X, y_true, **_kwargs)\n",
      "           ^^^^^^^^^^^^^^^^^^^^^^^^^^^^^^^^^^^^^^^^^^^^^^^^^^^^^^^^^^^^^^^^^^^^^^^^^\n",
      "  File \"/home/dylan/git/CAPSTONE_T316/venv/lib/python3.12/site-packages/sklearn/metrics/_scorer.py\", line 408, in _score\n",
      "    return self._sign * self._score_func(y_true, y_pred, **scoring_kwargs)\n",
      "                        ^^^^^^^^^^^^^^^^^^^^^^^^^^^^^^^^^^^^^^^^^^^^^^^^^^\n",
      "  File \"/home/dylan/git/CAPSTONE_T316/venv/lib/python3.12/site-packages/sklearn/utils/_param_validation.py\", line 218, in wrapper\n",
      "    return func(*args, **kwargs)\n",
      "           ^^^^^^^^^^^^^^^^^^^^^\n",
      "  File \"/home/dylan/git/CAPSTONE_T316/venv/lib/python3.12/site-packages/sklearn/metrics/_regression.py\", line 489, in mean_absolute_percentage_error\n",
      "    _check_reg_targets_with_floating_dtype(\n",
      "  File \"/home/dylan/git/CAPSTONE_T316/venv/lib/python3.12/site-packages/sklearn/metrics/_regression.py\", line 209, in _check_reg_targets_with_floating_dtype\n",
      "    y_type, y_true, y_pred, sample_weight, multioutput = _check_reg_targets(\n",
      "                                                         ^^^^^^^^^^^^^^^^^^^\n",
      "  File \"/home/dylan/git/CAPSTONE_T316/venv/lib/python3.12/site-packages/sklearn/metrics/_regression.py\", line 127, in _check_reg_targets\n",
      "    raise ValueError(\n",
      "ValueError: y_true and y_pred have different number of output (1!=2)\n",
      "\n",
      "  warnings.warn(\n"
     ]
    },
    {
     "name": "stdout",
     "output_type": "stream",
     "text": [
      "[CV] END colsample_bylevel=0.9, depth=10, iterations=1000, l2_leaf_reg=3, learning_rate=0.01, min_child_samples=20, subsample=0.8; total time=18.1min\n"
     ]
    },
    {
     "name": "stderr",
     "output_type": "stream",
     "text": [
      "/home/dylan/git/CAPSTONE_T316/venv/lib/python3.12/site-packages/sklearn/model_selection/_validation.py:953: UserWarning: Scoring failed. The score on this train-test partition for these parameters will be set to nan. Details: \n",
      "Traceback (most recent call last):\n",
      "  File \"/home/dylan/git/CAPSTONE_T316/venv/lib/python3.12/site-packages/sklearn/model_selection/_validation.py\", line 942, in _score\n",
      "    scores = scorer(estimator, X_test, y_test, **score_params)\n",
      "             ^^^^^^^^^^^^^^^^^^^^^^^^^^^^^^^^^^^^^^^^^^^^^^^^^\n",
      "  File \"/home/dylan/git/CAPSTONE_T316/venv/lib/python3.12/site-packages/sklearn/metrics/_scorer.py\", line 308, in __call__\n",
      "    return self._score(partial(_cached_call, None), estimator, X, y_true, **_kwargs)\n",
      "           ^^^^^^^^^^^^^^^^^^^^^^^^^^^^^^^^^^^^^^^^^^^^^^^^^^^^^^^^^^^^^^^^^^^^^^^^^\n",
      "  File \"/home/dylan/git/CAPSTONE_T316/venv/lib/python3.12/site-packages/sklearn/metrics/_scorer.py\", line 408, in _score\n",
      "    return self._sign * self._score_func(y_true, y_pred, **scoring_kwargs)\n",
      "                        ^^^^^^^^^^^^^^^^^^^^^^^^^^^^^^^^^^^^^^^^^^^^^^^^^^\n",
      "  File \"/home/dylan/git/CAPSTONE_T316/venv/lib/python3.12/site-packages/sklearn/utils/_param_validation.py\", line 218, in wrapper\n",
      "    return func(*args, **kwargs)\n",
      "           ^^^^^^^^^^^^^^^^^^^^^\n",
      "  File \"/home/dylan/git/CAPSTONE_T316/venv/lib/python3.12/site-packages/sklearn/metrics/_regression.py\", line 489, in mean_absolute_percentage_error\n",
      "    _check_reg_targets_with_floating_dtype(\n",
      "  File \"/home/dylan/git/CAPSTONE_T316/venv/lib/python3.12/site-packages/sklearn/metrics/_regression.py\", line 209, in _check_reg_targets_with_floating_dtype\n",
      "    y_type, y_true, y_pred, sample_weight, multioutput = _check_reg_targets(\n",
      "                                                         ^^^^^^^^^^^^^^^^^^^\n",
      "  File \"/home/dylan/git/CAPSTONE_T316/venv/lib/python3.12/site-packages/sklearn/metrics/_regression.py\", line 127, in _check_reg_targets\n",
      "    raise ValueError(\n",
      "ValueError: y_true and y_pred have different number of output (1!=2)\n",
      "\n",
      "  warnings.warn(\n"
     ]
    },
    {
     "name": "stdout",
     "output_type": "stream",
     "text": [
      "[CV] END colsample_bylevel=0.9, depth=10, iterations=1000, l2_leaf_reg=3, learning_rate=0.01, min_child_samples=20, subsample=0.8; total time=18.2min\n"
     ]
    },
    {
     "name": "stderr",
     "output_type": "stream",
     "text": [
      "/home/dylan/git/CAPSTONE_T316/venv/lib/python3.12/site-packages/sklearn/model_selection/_validation.py:953: UserWarning: Scoring failed. The score on this train-test partition for these parameters will be set to nan. Details: \n",
      "Traceback (most recent call last):\n",
      "  File \"/home/dylan/git/CAPSTONE_T316/venv/lib/python3.12/site-packages/sklearn/model_selection/_validation.py\", line 942, in _score\n",
      "    scores = scorer(estimator, X_test, y_test, **score_params)\n",
      "             ^^^^^^^^^^^^^^^^^^^^^^^^^^^^^^^^^^^^^^^^^^^^^^^^^\n",
      "  File \"/home/dylan/git/CAPSTONE_T316/venv/lib/python3.12/site-packages/sklearn/metrics/_scorer.py\", line 308, in __call__\n",
      "    return self._score(partial(_cached_call, None), estimator, X, y_true, **_kwargs)\n",
      "           ^^^^^^^^^^^^^^^^^^^^^^^^^^^^^^^^^^^^^^^^^^^^^^^^^^^^^^^^^^^^^^^^^^^^^^^^^\n",
      "  File \"/home/dylan/git/CAPSTONE_T316/venv/lib/python3.12/site-packages/sklearn/metrics/_scorer.py\", line 408, in _score\n",
      "    return self._sign * self._score_func(y_true, y_pred, **scoring_kwargs)\n",
      "                        ^^^^^^^^^^^^^^^^^^^^^^^^^^^^^^^^^^^^^^^^^^^^^^^^^^\n",
      "  File \"/home/dylan/git/CAPSTONE_T316/venv/lib/python3.12/site-packages/sklearn/utils/_param_validation.py\", line 218, in wrapper\n",
      "    return func(*args, **kwargs)\n",
      "           ^^^^^^^^^^^^^^^^^^^^^\n",
      "  File \"/home/dylan/git/CAPSTONE_T316/venv/lib/python3.12/site-packages/sklearn/metrics/_regression.py\", line 489, in mean_absolute_percentage_error\n",
      "    _check_reg_targets_with_floating_dtype(\n",
      "  File \"/home/dylan/git/CAPSTONE_T316/venv/lib/python3.12/site-packages/sklearn/metrics/_regression.py\", line 209, in _check_reg_targets_with_floating_dtype\n",
      "    y_type, y_true, y_pred, sample_weight, multioutput = _check_reg_targets(\n",
      "                                                         ^^^^^^^^^^^^^^^^^^^\n",
      "  File \"/home/dylan/git/CAPSTONE_T316/venv/lib/python3.12/site-packages/sklearn/metrics/_regression.py\", line 127, in _check_reg_targets\n",
      "    raise ValueError(\n",
      "ValueError: y_true and y_pred have different number of output (1!=2)\n",
      "\n",
      "  warnings.warn(\n"
     ]
    },
    {
     "name": "stdout",
     "output_type": "stream",
     "text": [
      "[CV] END colsample_bylevel=0.9, depth=10, iterations=1000, l2_leaf_reg=3, learning_rate=0.01, min_child_samples=20, subsample=0.8; total time=18.3min\n"
     ]
    },
    {
     "name": "stderr",
     "output_type": "stream",
     "text": [
      "/home/dylan/git/CAPSTONE_T316/venv/lib/python3.12/site-packages/sklearn/model_selection/_validation.py:953: UserWarning: Scoring failed. The score on this train-test partition for these parameters will be set to nan. Details: \n",
      "Traceback (most recent call last):\n",
      "  File \"/home/dylan/git/CAPSTONE_T316/venv/lib/python3.12/site-packages/sklearn/model_selection/_validation.py\", line 942, in _score\n",
      "    scores = scorer(estimator, X_test, y_test, **score_params)\n",
      "             ^^^^^^^^^^^^^^^^^^^^^^^^^^^^^^^^^^^^^^^^^^^^^^^^^\n",
      "  File \"/home/dylan/git/CAPSTONE_T316/venv/lib/python3.12/site-packages/sklearn/metrics/_scorer.py\", line 308, in __call__\n",
      "    return self._score(partial(_cached_call, None), estimator, X, y_true, **_kwargs)\n",
      "           ^^^^^^^^^^^^^^^^^^^^^^^^^^^^^^^^^^^^^^^^^^^^^^^^^^^^^^^^^^^^^^^^^^^^^^^^^\n",
      "  File \"/home/dylan/git/CAPSTONE_T316/venv/lib/python3.12/site-packages/sklearn/metrics/_scorer.py\", line 408, in _score\n",
      "    return self._sign * self._score_func(y_true, y_pred, **scoring_kwargs)\n",
      "                        ^^^^^^^^^^^^^^^^^^^^^^^^^^^^^^^^^^^^^^^^^^^^^^^^^^\n",
      "  File \"/home/dylan/git/CAPSTONE_T316/venv/lib/python3.12/site-packages/sklearn/utils/_param_validation.py\", line 218, in wrapper\n",
      "    return func(*args, **kwargs)\n",
      "           ^^^^^^^^^^^^^^^^^^^^^\n",
      "  File \"/home/dylan/git/CAPSTONE_T316/venv/lib/python3.12/site-packages/sklearn/metrics/_regression.py\", line 489, in mean_absolute_percentage_error\n",
      "    _check_reg_targets_with_floating_dtype(\n",
      "  File \"/home/dylan/git/CAPSTONE_T316/venv/lib/python3.12/site-packages/sklearn/metrics/_regression.py\", line 209, in _check_reg_targets_with_floating_dtype\n",
      "    y_type, y_true, y_pred, sample_weight, multioutput = _check_reg_targets(\n",
      "                                                         ^^^^^^^^^^^^^^^^^^^\n",
      "  File \"/home/dylan/git/CAPSTONE_T316/venv/lib/python3.12/site-packages/sklearn/metrics/_regression.py\", line 127, in _check_reg_targets\n",
      "    raise ValueError(\n",
      "ValueError: y_true and y_pred have different number of output (1!=2)\n",
      "\n",
      "  warnings.warn(\n"
     ]
    },
    {
     "name": "stdout",
     "output_type": "stream",
     "text": [
      "[CV] END colsample_bylevel=1.0, depth=10, iterations=1000, l2_leaf_reg=5, learning_rate=0.03, min_child_samples=20, subsample=0.8; total time=25.7min\n"
     ]
    },
    {
     "name": "stderr",
     "output_type": "stream",
     "text": [
      "/home/dylan/git/CAPSTONE_T316/venv/lib/python3.12/site-packages/sklearn/model_selection/_validation.py:953: UserWarning: Scoring failed. The score on this train-test partition for these parameters will be set to nan. Details: \n",
      "Traceback (most recent call last):\n",
      "  File \"/home/dylan/git/CAPSTONE_T316/venv/lib/python3.12/site-packages/sklearn/model_selection/_validation.py\", line 942, in _score\n",
      "    scores = scorer(estimator, X_test, y_test, **score_params)\n",
      "             ^^^^^^^^^^^^^^^^^^^^^^^^^^^^^^^^^^^^^^^^^^^^^^^^^\n",
      "  File \"/home/dylan/git/CAPSTONE_T316/venv/lib/python3.12/site-packages/sklearn/metrics/_scorer.py\", line 308, in __call__\n",
      "    return self._score(partial(_cached_call, None), estimator, X, y_true, **_kwargs)\n",
      "           ^^^^^^^^^^^^^^^^^^^^^^^^^^^^^^^^^^^^^^^^^^^^^^^^^^^^^^^^^^^^^^^^^^^^^^^^^\n",
      "  File \"/home/dylan/git/CAPSTONE_T316/venv/lib/python3.12/site-packages/sklearn/metrics/_scorer.py\", line 408, in _score\n",
      "    return self._sign * self._score_func(y_true, y_pred, **scoring_kwargs)\n",
      "                        ^^^^^^^^^^^^^^^^^^^^^^^^^^^^^^^^^^^^^^^^^^^^^^^^^^\n",
      "  File \"/home/dylan/git/CAPSTONE_T316/venv/lib/python3.12/site-packages/sklearn/utils/_param_validation.py\", line 218, in wrapper\n",
      "    return func(*args, **kwargs)\n",
      "           ^^^^^^^^^^^^^^^^^^^^^\n",
      "  File \"/home/dylan/git/CAPSTONE_T316/venv/lib/python3.12/site-packages/sklearn/metrics/_regression.py\", line 489, in mean_absolute_percentage_error\n",
      "    _check_reg_targets_with_floating_dtype(\n",
      "  File \"/home/dylan/git/CAPSTONE_T316/venv/lib/python3.12/site-packages/sklearn/metrics/_regression.py\", line 209, in _check_reg_targets_with_floating_dtype\n",
      "    y_type, y_true, y_pred, sample_weight, multioutput = _check_reg_targets(\n",
      "                                                         ^^^^^^^^^^^^^^^^^^^\n",
      "  File \"/home/dylan/git/CAPSTONE_T316/venv/lib/python3.12/site-packages/sklearn/metrics/_regression.py\", line 127, in _check_reg_targets\n",
      "    raise ValueError(\n",
      "ValueError: y_true and y_pred have different number of output (1!=2)\n",
      "\n",
      "  warnings.warn(\n"
     ]
    },
    {
     "name": "stdout",
     "output_type": "stream",
     "text": [
      "[CV] END colsample_bylevel=0.9, depth=10, iterations=1000, l2_leaf_reg=5, learning_rate=0.01, min_child_samples=10, subsample=0.8; total time=25.1min\n"
     ]
    },
    {
     "name": "stderr",
     "output_type": "stream",
     "text": [
      "/home/dylan/git/CAPSTONE_T316/venv/lib/python3.12/site-packages/sklearn/model_selection/_validation.py:953: UserWarning: Scoring failed. The score on this train-test partition for these parameters will be set to nan. Details: \n",
      "Traceback (most recent call last):\n",
      "  File \"/home/dylan/git/CAPSTONE_T316/venv/lib/python3.12/site-packages/sklearn/model_selection/_validation.py\", line 942, in _score\n",
      "    scores = scorer(estimator, X_test, y_test, **score_params)\n",
      "             ^^^^^^^^^^^^^^^^^^^^^^^^^^^^^^^^^^^^^^^^^^^^^^^^^\n",
      "  File \"/home/dylan/git/CAPSTONE_T316/venv/lib/python3.12/site-packages/sklearn/metrics/_scorer.py\", line 308, in __call__\n",
      "    return self._score(partial(_cached_call, None), estimator, X, y_true, **_kwargs)\n",
      "           ^^^^^^^^^^^^^^^^^^^^^^^^^^^^^^^^^^^^^^^^^^^^^^^^^^^^^^^^^^^^^^^^^^^^^^^^^\n",
      "  File \"/home/dylan/git/CAPSTONE_T316/venv/lib/python3.12/site-packages/sklearn/metrics/_scorer.py\", line 408, in _score\n",
      "    return self._sign * self._score_func(y_true, y_pred, **scoring_kwargs)\n",
      "                        ^^^^^^^^^^^^^^^^^^^^^^^^^^^^^^^^^^^^^^^^^^^^^^^^^^\n",
      "  File \"/home/dylan/git/CAPSTONE_T316/venv/lib/python3.12/site-packages/sklearn/utils/_param_validation.py\", line 218, in wrapper\n",
      "    return func(*args, **kwargs)\n",
      "           ^^^^^^^^^^^^^^^^^^^^^\n",
      "  File \"/home/dylan/git/CAPSTONE_T316/venv/lib/python3.12/site-packages/sklearn/metrics/_regression.py\", line 489, in mean_absolute_percentage_error\n",
      "    _check_reg_targets_with_floating_dtype(\n",
      "  File \"/home/dylan/git/CAPSTONE_T316/venv/lib/python3.12/site-packages/sklearn/metrics/_regression.py\", line 209, in _check_reg_targets_with_floating_dtype\n",
      "    y_type, y_true, y_pred, sample_weight, multioutput = _check_reg_targets(\n",
      "                                                         ^^^^^^^^^^^^^^^^^^^\n",
      "  File \"/home/dylan/git/CAPSTONE_T316/venv/lib/python3.12/site-packages/sklearn/metrics/_regression.py\", line 127, in _check_reg_targets\n",
      "    raise ValueError(\n",
      "ValueError: y_true and y_pred have different number of output (1!=2)\n",
      "\n",
      "  warnings.warn(\n"
     ]
    },
    {
     "name": "stdout",
     "output_type": "stream",
     "text": [
      "[CV] END colsample_bylevel=0.9, depth=10, iterations=1000, l2_leaf_reg=5, learning_rate=0.01, min_child_samples=10, subsample=0.8; total time=24.2min\n"
     ]
    },
    {
     "name": "stderr",
     "output_type": "stream",
     "text": [
      "/home/dylan/git/CAPSTONE_T316/venv/lib/python3.12/site-packages/sklearn/model_selection/_validation.py:953: UserWarning: Scoring failed. The score on this train-test partition for these parameters will be set to nan. Details: \n",
      "Traceback (most recent call last):\n",
      "  File \"/home/dylan/git/CAPSTONE_T316/venv/lib/python3.12/site-packages/sklearn/model_selection/_validation.py\", line 942, in _score\n",
      "    scores = scorer(estimator, X_test, y_test, **score_params)\n",
      "             ^^^^^^^^^^^^^^^^^^^^^^^^^^^^^^^^^^^^^^^^^^^^^^^^^\n",
      "  File \"/home/dylan/git/CAPSTONE_T316/venv/lib/python3.12/site-packages/sklearn/metrics/_scorer.py\", line 308, in __call__\n",
      "    return self._score(partial(_cached_call, None), estimator, X, y_true, **_kwargs)\n",
      "           ^^^^^^^^^^^^^^^^^^^^^^^^^^^^^^^^^^^^^^^^^^^^^^^^^^^^^^^^^^^^^^^^^^^^^^^^^\n",
      "  File \"/home/dylan/git/CAPSTONE_T316/venv/lib/python3.12/site-packages/sklearn/metrics/_scorer.py\", line 408, in _score\n",
      "    return self._sign * self._score_func(y_true, y_pred, **scoring_kwargs)\n",
      "                        ^^^^^^^^^^^^^^^^^^^^^^^^^^^^^^^^^^^^^^^^^^^^^^^^^^\n",
      "  File \"/home/dylan/git/CAPSTONE_T316/venv/lib/python3.12/site-packages/sklearn/utils/_param_validation.py\", line 218, in wrapper\n",
      "    return func(*args, **kwargs)\n",
      "           ^^^^^^^^^^^^^^^^^^^^^\n",
      "  File \"/home/dylan/git/CAPSTONE_T316/venv/lib/python3.12/site-packages/sklearn/metrics/_regression.py\", line 489, in mean_absolute_percentage_error\n",
      "    _check_reg_targets_with_floating_dtype(\n",
      "  File \"/home/dylan/git/CAPSTONE_T316/venv/lib/python3.12/site-packages/sklearn/metrics/_regression.py\", line 209, in _check_reg_targets_with_floating_dtype\n",
      "    y_type, y_true, y_pred, sample_weight, multioutput = _check_reg_targets(\n",
      "                                                         ^^^^^^^^^^^^^^^^^^^\n",
      "  File \"/home/dylan/git/CAPSTONE_T316/venv/lib/python3.12/site-packages/sklearn/metrics/_regression.py\", line 127, in _check_reg_targets\n",
      "    raise ValueError(\n",
      "ValueError: y_true and y_pred have different number of output (1!=2)\n",
      "\n",
      "  warnings.warn(\n"
     ]
    },
    {
     "name": "stdout",
     "output_type": "stream",
     "text": [
      "[CV] END colsample_bylevel=1.0, depth=10, iterations=1000, l2_leaf_reg=5, learning_rate=0.03, min_child_samples=20, subsample=0.8; total time=28.3min\n"
     ]
    },
    {
     "name": "stderr",
     "output_type": "stream",
     "text": [
      "/home/dylan/git/CAPSTONE_T316/venv/lib/python3.12/site-packages/sklearn/model_selection/_validation.py:953: UserWarning: Scoring failed. The score on this train-test partition for these parameters will be set to nan. Details: \n",
      "Traceback (most recent call last):\n",
      "  File \"/home/dylan/git/CAPSTONE_T316/venv/lib/python3.12/site-packages/sklearn/model_selection/_validation.py\", line 942, in _score\n",
      "    scores = scorer(estimator, X_test, y_test, **score_params)\n",
      "             ^^^^^^^^^^^^^^^^^^^^^^^^^^^^^^^^^^^^^^^^^^^^^^^^^\n",
      "  File \"/home/dylan/git/CAPSTONE_T316/venv/lib/python3.12/site-packages/sklearn/metrics/_scorer.py\", line 308, in __call__\n",
      "    return self._score(partial(_cached_call, None), estimator, X, y_true, **_kwargs)\n",
      "           ^^^^^^^^^^^^^^^^^^^^^^^^^^^^^^^^^^^^^^^^^^^^^^^^^^^^^^^^^^^^^^^^^^^^^^^^^\n",
      "  File \"/home/dylan/git/CAPSTONE_T316/venv/lib/python3.12/site-packages/sklearn/metrics/_scorer.py\", line 408, in _score\n",
      "    return self._sign * self._score_func(y_true, y_pred, **scoring_kwargs)\n",
      "                        ^^^^^^^^^^^^^^^^^^^^^^^^^^^^^^^^^^^^^^^^^^^^^^^^^^\n",
      "  File \"/home/dylan/git/CAPSTONE_T316/venv/lib/python3.12/site-packages/sklearn/utils/_param_validation.py\", line 218, in wrapper\n",
      "    return func(*args, **kwargs)\n",
      "           ^^^^^^^^^^^^^^^^^^^^^\n",
      "  File \"/home/dylan/git/CAPSTONE_T316/venv/lib/python3.12/site-packages/sklearn/metrics/_regression.py\", line 489, in mean_absolute_percentage_error\n",
      "    _check_reg_targets_with_floating_dtype(\n",
      "  File \"/home/dylan/git/CAPSTONE_T316/venv/lib/python3.12/site-packages/sklearn/metrics/_regression.py\", line 209, in _check_reg_targets_with_floating_dtype\n",
      "    y_type, y_true, y_pred, sample_weight, multioutput = _check_reg_targets(\n",
      "                                                         ^^^^^^^^^^^^^^^^^^^\n",
      "  File \"/home/dylan/git/CAPSTONE_T316/venv/lib/python3.12/site-packages/sklearn/metrics/_regression.py\", line 127, in _check_reg_targets\n",
      "    raise ValueError(\n",
      "ValueError: y_true and y_pred have different number of output (1!=2)\n",
      "\n",
      "  warnings.warn(\n"
     ]
    },
    {
     "name": "stdout",
     "output_type": "stream",
     "text": [
      "[CV] END colsample_bylevel=0.9, depth=8, iterations=1000, l2_leaf_reg=3, learning_rate=0.1, min_child_samples=5, subsample=0.8; total time=19.7min\n"
     ]
    },
    {
     "name": "stderr",
     "output_type": "stream",
     "text": [
      "/home/dylan/git/CAPSTONE_T316/venv/lib/python3.12/site-packages/sklearn/model_selection/_validation.py:953: UserWarning: Scoring failed. The score on this train-test partition for these parameters will be set to nan. Details: \n",
      "Traceback (most recent call last):\n",
      "  File \"/home/dylan/git/CAPSTONE_T316/venv/lib/python3.12/site-packages/sklearn/model_selection/_validation.py\", line 942, in _score\n",
      "    scores = scorer(estimator, X_test, y_test, **score_params)\n",
      "             ^^^^^^^^^^^^^^^^^^^^^^^^^^^^^^^^^^^^^^^^^^^^^^^^^\n",
      "  File \"/home/dylan/git/CAPSTONE_T316/venv/lib/python3.12/site-packages/sklearn/metrics/_scorer.py\", line 308, in __call__\n",
      "    return self._score(partial(_cached_call, None), estimator, X, y_true, **_kwargs)\n",
      "           ^^^^^^^^^^^^^^^^^^^^^^^^^^^^^^^^^^^^^^^^^^^^^^^^^^^^^^^^^^^^^^^^^^^^^^^^^\n",
      "  File \"/home/dylan/git/CAPSTONE_T316/venv/lib/python3.12/site-packages/sklearn/metrics/_scorer.py\", line 408, in _score\n",
      "    return self._sign * self._score_func(y_true, y_pred, **scoring_kwargs)\n",
      "                        ^^^^^^^^^^^^^^^^^^^^^^^^^^^^^^^^^^^^^^^^^^^^^^^^^^\n",
      "  File \"/home/dylan/git/CAPSTONE_T316/venv/lib/python3.12/site-packages/sklearn/utils/_param_validation.py\", line 218, in wrapper\n",
      "    return func(*args, **kwargs)\n",
      "           ^^^^^^^^^^^^^^^^^^^^^\n",
      "  File \"/home/dylan/git/CAPSTONE_T316/venv/lib/python3.12/site-packages/sklearn/metrics/_regression.py\", line 489, in mean_absolute_percentage_error\n",
      "    _check_reg_targets_with_floating_dtype(\n",
      "  File \"/home/dylan/git/CAPSTONE_T316/venv/lib/python3.12/site-packages/sklearn/metrics/_regression.py\", line 209, in _check_reg_targets_with_floating_dtype\n",
      "    y_type, y_true, y_pred, sample_weight, multioutput = _check_reg_targets(\n",
      "                                                         ^^^^^^^^^^^^^^^^^^^\n",
      "  File \"/home/dylan/git/CAPSTONE_T316/venv/lib/python3.12/site-packages/sklearn/metrics/_regression.py\", line 127, in _check_reg_targets\n",
      "    raise ValueError(\n",
      "ValueError: y_true and y_pred have different number of output (1!=2)\n",
      "\n",
      "  warnings.warn(\n"
     ]
    },
    {
     "name": "stdout",
     "output_type": "stream",
     "text": [
      "[CV] END colsample_bylevel=1.0, depth=10, iterations=1000, l2_leaf_reg=5, learning_rate=0.03, min_child_samples=20, subsample=0.8; total time=28.2min\n"
     ]
    },
    {
     "name": "stderr",
     "output_type": "stream",
     "text": [
      "/home/dylan/git/CAPSTONE_T316/venv/lib/python3.12/site-packages/sklearn/model_selection/_validation.py:953: UserWarning: Scoring failed. The score on this train-test partition for these parameters will be set to nan. Details: \n",
      "Traceback (most recent call last):\n",
      "  File \"/home/dylan/git/CAPSTONE_T316/venv/lib/python3.12/site-packages/sklearn/model_selection/_validation.py\", line 942, in _score\n",
      "    scores = scorer(estimator, X_test, y_test, **score_params)\n",
      "             ^^^^^^^^^^^^^^^^^^^^^^^^^^^^^^^^^^^^^^^^^^^^^^^^^\n",
      "  File \"/home/dylan/git/CAPSTONE_T316/venv/lib/python3.12/site-packages/sklearn/metrics/_scorer.py\", line 308, in __call__\n",
      "    return self._score(partial(_cached_call, None), estimator, X, y_true, **_kwargs)\n",
      "           ^^^^^^^^^^^^^^^^^^^^^^^^^^^^^^^^^^^^^^^^^^^^^^^^^^^^^^^^^^^^^^^^^^^^^^^^^\n",
      "  File \"/home/dylan/git/CAPSTONE_T316/venv/lib/python3.12/site-packages/sklearn/metrics/_scorer.py\", line 408, in _score\n",
      "    return self._sign * self._score_func(y_true, y_pred, **scoring_kwargs)\n",
      "                        ^^^^^^^^^^^^^^^^^^^^^^^^^^^^^^^^^^^^^^^^^^^^^^^^^^\n",
      "  File \"/home/dylan/git/CAPSTONE_T316/venv/lib/python3.12/site-packages/sklearn/utils/_param_validation.py\", line 218, in wrapper\n",
      "    return func(*args, **kwargs)\n",
      "           ^^^^^^^^^^^^^^^^^^^^^\n",
      "  File \"/home/dylan/git/CAPSTONE_T316/venv/lib/python3.12/site-packages/sklearn/metrics/_regression.py\", line 489, in mean_absolute_percentage_error\n",
      "    _check_reg_targets_with_floating_dtype(\n",
      "  File \"/home/dylan/git/CAPSTONE_T316/venv/lib/python3.12/site-packages/sklearn/metrics/_regression.py\", line 209, in _check_reg_targets_with_floating_dtype\n",
      "    y_type, y_true, y_pred, sample_weight, multioutput = _check_reg_targets(\n",
      "                                                         ^^^^^^^^^^^^^^^^^^^\n",
      "  File \"/home/dylan/git/CAPSTONE_T316/venv/lib/python3.12/site-packages/sklearn/metrics/_regression.py\", line 127, in _check_reg_targets\n",
      "    raise ValueError(\n",
      "ValueError: y_true and y_pred have different number of output (1!=2)\n",
      "\n",
      "  warnings.warn(\n"
     ]
    },
    {
     "name": "stdout",
     "output_type": "stream",
     "text": [
      "[CV] END colsample_bylevel=0.9, depth=10, iterations=1000, l2_leaf_reg=5, learning_rate=0.01, min_child_samples=10, subsample=0.8; total time=25.0min\n"
     ]
    },
    {
     "name": "stderr",
     "output_type": "stream",
     "text": [
      "/home/dylan/git/CAPSTONE_T316/venv/lib/python3.12/site-packages/sklearn/model_selection/_validation.py:953: UserWarning: Scoring failed. The score on this train-test partition for these parameters will be set to nan. Details: \n",
      "Traceback (most recent call last):\n",
      "  File \"/home/dylan/git/CAPSTONE_T316/venv/lib/python3.12/site-packages/sklearn/model_selection/_validation.py\", line 942, in _score\n",
      "    scores = scorer(estimator, X_test, y_test, **score_params)\n",
      "             ^^^^^^^^^^^^^^^^^^^^^^^^^^^^^^^^^^^^^^^^^^^^^^^^^\n",
      "  File \"/home/dylan/git/CAPSTONE_T316/venv/lib/python3.12/site-packages/sklearn/metrics/_scorer.py\", line 308, in __call__\n",
      "    return self._score(partial(_cached_call, None), estimator, X, y_true, **_kwargs)\n",
      "           ^^^^^^^^^^^^^^^^^^^^^^^^^^^^^^^^^^^^^^^^^^^^^^^^^^^^^^^^^^^^^^^^^^^^^^^^^\n",
      "  File \"/home/dylan/git/CAPSTONE_T316/venv/lib/python3.12/site-packages/sklearn/metrics/_scorer.py\", line 408, in _score\n",
      "    return self._sign * self._score_func(y_true, y_pred, **scoring_kwargs)\n",
      "                        ^^^^^^^^^^^^^^^^^^^^^^^^^^^^^^^^^^^^^^^^^^^^^^^^^^\n",
      "  File \"/home/dylan/git/CAPSTONE_T316/venv/lib/python3.12/site-packages/sklearn/utils/_param_validation.py\", line 218, in wrapper\n",
      "    return func(*args, **kwargs)\n",
      "           ^^^^^^^^^^^^^^^^^^^^^\n",
      "  File \"/home/dylan/git/CAPSTONE_T316/venv/lib/python3.12/site-packages/sklearn/metrics/_regression.py\", line 489, in mean_absolute_percentage_error\n",
      "    _check_reg_targets_with_floating_dtype(\n",
      "  File \"/home/dylan/git/CAPSTONE_T316/venv/lib/python3.12/site-packages/sklearn/metrics/_regression.py\", line 209, in _check_reg_targets_with_floating_dtype\n",
      "    y_type, y_true, y_pred, sample_weight, multioutput = _check_reg_targets(\n",
      "                                                         ^^^^^^^^^^^^^^^^^^^\n",
      "  File \"/home/dylan/git/CAPSTONE_T316/venv/lib/python3.12/site-packages/sklearn/metrics/_regression.py\", line 127, in _check_reg_targets\n",
      "    raise ValueError(\n",
      "ValueError: y_true and y_pred have different number of output (1!=2)\n",
      "\n",
      "  warnings.warn(\n"
     ]
    },
    {
     "name": "stdout",
     "output_type": "stream",
     "text": [
      "[CV] END colsample_bylevel=1.0, depth=10, iterations=1000, l2_leaf_reg=7, learning_rate=0.05, min_child_samples=10, subsample=0.8; total time=28.2min\n"
     ]
    },
    {
     "name": "stderr",
     "output_type": "stream",
     "text": [
      "/home/dylan/git/CAPSTONE_T316/venv/lib/python3.12/site-packages/sklearn/model_selection/_validation.py:953: UserWarning: Scoring failed. The score on this train-test partition for these parameters will be set to nan. Details: \n",
      "Traceback (most recent call last):\n",
      "  File \"/home/dylan/git/CAPSTONE_T316/venv/lib/python3.12/site-packages/sklearn/model_selection/_validation.py\", line 942, in _score\n",
      "    scores = scorer(estimator, X_test, y_test, **score_params)\n",
      "             ^^^^^^^^^^^^^^^^^^^^^^^^^^^^^^^^^^^^^^^^^^^^^^^^^\n",
      "  File \"/home/dylan/git/CAPSTONE_T316/venv/lib/python3.12/site-packages/sklearn/metrics/_scorer.py\", line 308, in __call__\n",
      "    return self._score(partial(_cached_call, None), estimator, X, y_true, **_kwargs)\n",
      "           ^^^^^^^^^^^^^^^^^^^^^^^^^^^^^^^^^^^^^^^^^^^^^^^^^^^^^^^^^^^^^^^^^^^^^^^^^\n",
      "  File \"/home/dylan/git/CAPSTONE_T316/venv/lib/python3.12/site-packages/sklearn/metrics/_scorer.py\", line 408, in _score\n",
      "    return self._sign * self._score_func(y_true, y_pred, **scoring_kwargs)\n",
      "                        ^^^^^^^^^^^^^^^^^^^^^^^^^^^^^^^^^^^^^^^^^^^^^^^^^^\n",
      "  File \"/home/dylan/git/CAPSTONE_T316/venv/lib/python3.12/site-packages/sklearn/utils/_param_validation.py\", line 218, in wrapper\n",
      "    return func(*args, **kwargs)\n",
      "           ^^^^^^^^^^^^^^^^^^^^^\n",
      "  File \"/home/dylan/git/CAPSTONE_T316/venv/lib/python3.12/site-packages/sklearn/metrics/_regression.py\", line 489, in mean_absolute_percentage_error\n",
      "    _check_reg_targets_with_floating_dtype(\n",
      "  File \"/home/dylan/git/CAPSTONE_T316/venv/lib/python3.12/site-packages/sklearn/metrics/_regression.py\", line 209, in _check_reg_targets_with_floating_dtype\n",
      "    y_type, y_true, y_pred, sample_weight, multioutput = _check_reg_targets(\n",
      "                                                         ^^^^^^^^^^^^^^^^^^^\n",
      "  File \"/home/dylan/git/CAPSTONE_T316/venv/lib/python3.12/site-packages/sklearn/metrics/_regression.py\", line 127, in _check_reg_targets\n",
      "    raise ValueError(\n",
      "ValueError: y_true and y_pred have different number of output (1!=2)\n",
      "\n",
      "  warnings.warn(\n"
     ]
    },
    {
     "name": "stdout",
     "output_type": "stream",
     "text": [
      "[CV] END colsample_bylevel=0.8, depth=10, iterations=1500, l2_leaf_reg=3, learning_rate=0.03, min_child_samples=10, subsample=0.9; total time=39.3min\n"
     ]
    },
    {
     "name": "stderr",
     "output_type": "stream",
     "text": [
      "/home/dylan/git/CAPSTONE_T316/venv/lib/python3.12/site-packages/sklearn/model_selection/_validation.py:953: UserWarning: Scoring failed. The score on this train-test partition for these parameters will be set to nan. Details: \n",
      "Traceback (most recent call last):\n",
      "  File \"/home/dylan/git/CAPSTONE_T316/venv/lib/python3.12/site-packages/sklearn/model_selection/_validation.py\", line 942, in _score\n",
      "    scores = scorer(estimator, X_test, y_test, **score_params)\n",
      "             ^^^^^^^^^^^^^^^^^^^^^^^^^^^^^^^^^^^^^^^^^^^^^^^^^\n",
      "  File \"/home/dylan/git/CAPSTONE_T316/venv/lib/python3.12/site-packages/sklearn/metrics/_scorer.py\", line 308, in __call__\n",
      "    return self._score(partial(_cached_call, None), estimator, X, y_true, **_kwargs)\n",
      "           ^^^^^^^^^^^^^^^^^^^^^^^^^^^^^^^^^^^^^^^^^^^^^^^^^^^^^^^^^^^^^^^^^^^^^^^^^\n",
      "  File \"/home/dylan/git/CAPSTONE_T316/venv/lib/python3.12/site-packages/sklearn/metrics/_scorer.py\", line 408, in _score\n",
      "    return self._sign * self._score_func(y_true, y_pred, **scoring_kwargs)\n",
      "                        ^^^^^^^^^^^^^^^^^^^^^^^^^^^^^^^^^^^^^^^^^^^^^^^^^^\n",
      "  File \"/home/dylan/git/CAPSTONE_T316/venv/lib/python3.12/site-packages/sklearn/utils/_param_validation.py\", line 218, in wrapper\n",
      "    return func(*args, **kwargs)\n",
      "           ^^^^^^^^^^^^^^^^^^^^^\n",
      "  File \"/home/dylan/git/CAPSTONE_T316/venv/lib/python3.12/site-packages/sklearn/metrics/_regression.py\", line 489, in mean_absolute_percentage_error\n",
      "    _check_reg_targets_with_floating_dtype(\n",
      "  File \"/home/dylan/git/CAPSTONE_T316/venv/lib/python3.12/site-packages/sklearn/metrics/_regression.py\", line 209, in _check_reg_targets_with_floating_dtype\n",
      "    y_type, y_true, y_pred, sample_weight, multioutput = _check_reg_targets(\n",
      "                                                         ^^^^^^^^^^^^^^^^^^^\n",
      "  File \"/home/dylan/git/CAPSTONE_T316/venv/lib/python3.12/site-packages/sklearn/metrics/_regression.py\", line 127, in _check_reg_targets\n",
      "    raise ValueError(\n",
      "ValueError: y_true and y_pred have different number of output (1!=2)\n",
      "\n",
      "  warnings.warn(\n"
     ]
    },
    {
     "name": "stdout",
     "output_type": "stream",
     "text": [
      "[CV] END colsample_bylevel=1.0, depth=10, iterations=1000, l2_leaf_reg=7, learning_rate=0.05, min_child_samples=10, subsample=0.8; total time=27.3min\n"
     ]
    },
    {
     "name": "stderr",
     "output_type": "stream",
     "text": [
      "/home/dylan/git/CAPSTONE_T316/venv/lib/python3.12/site-packages/sklearn/model_selection/_validation.py:953: UserWarning: Scoring failed. The score on this train-test partition for these parameters will be set to nan. Details: \n",
      "Traceback (most recent call last):\n",
      "  File \"/home/dylan/git/CAPSTONE_T316/venv/lib/python3.12/site-packages/sklearn/model_selection/_validation.py\", line 942, in _score\n",
      "    scores = scorer(estimator, X_test, y_test, **score_params)\n",
      "             ^^^^^^^^^^^^^^^^^^^^^^^^^^^^^^^^^^^^^^^^^^^^^^^^^\n",
      "  File \"/home/dylan/git/CAPSTONE_T316/venv/lib/python3.12/site-packages/sklearn/metrics/_scorer.py\", line 308, in __call__\n",
      "    return self._score(partial(_cached_call, None), estimator, X, y_true, **_kwargs)\n",
      "           ^^^^^^^^^^^^^^^^^^^^^^^^^^^^^^^^^^^^^^^^^^^^^^^^^^^^^^^^^^^^^^^^^^^^^^^^^\n",
      "  File \"/home/dylan/git/CAPSTONE_T316/venv/lib/python3.12/site-packages/sklearn/metrics/_scorer.py\", line 408, in _score\n",
      "    return self._sign * self._score_func(y_true, y_pred, **scoring_kwargs)\n",
      "                        ^^^^^^^^^^^^^^^^^^^^^^^^^^^^^^^^^^^^^^^^^^^^^^^^^^\n",
      "  File \"/home/dylan/git/CAPSTONE_T316/venv/lib/python3.12/site-packages/sklearn/utils/_param_validation.py\", line 218, in wrapper\n",
      "    return func(*args, **kwargs)\n",
      "           ^^^^^^^^^^^^^^^^^^^^^\n",
      "  File \"/home/dylan/git/CAPSTONE_T316/venv/lib/python3.12/site-packages/sklearn/metrics/_regression.py\", line 489, in mean_absolute_percentage_error\n",
      "    _check_reg_targets_with_floating_dtype(\n",
      "  File \"/home/dylan/git/CAPSTONE_T316/venv/lib/python3.12/site-packages/sklearn/metrics/_regression.py\", line 209, in _check_reg_targets_with_floating_dtype\n",
      "    y_type, y_true, y_pred, sample_weight, multioutput = _check_reg_targets(\n",
      "                                                         ^^^^^^^^^^^^^^^^^^^\n",
      "  File \"/home/dylan/git/CAPSTONE_T316/venv/lib/python3.12/site-packages/sklearn/metrics/_regression.py\", line 127, in _check_reg_targets\n",
      "    raise ValueError(\n",
      "ValueError: y_true and y_pred have different number of output (1!=2)\n",
      "\n",
      "  warnings.warn(\n"
     ]
    },
    {
     "name": "stdout",
     "output_type": "stream",
     "text": [
      "[CV] END colsample_bylevel=0.8, depth=10, iterations=1500, l2_leaf_reg=3, learning_rate=0.03, min_child_samples=10, subsample=0.9; total time=39.9min\n"
     ]
    },
    {
     "name": "stderr",
     "output_type": "stream",
     "text": [
      "/home/dylan/git/CAPSTONE_T316/venv/lib/python3.12/site-packages/sklearn/model_selection/_validation.py:953: UserWarning: Scoring failed. The score on this train-test partition for these parameters will be set to nan. Details: \n",
      "Traceback (most recent call last):\n",
      "  File \"/home/dylan/git/CAPSTONE_T316/venv/lib/python3.12/site-packages/sklearn/model_selection/_validation.py\", line 942, in _score\n",
      "    scores = scorer(estimator, X_test, y_test, **score_params)\n",
      "             ^^^^^^^^^^^^^^^^^^^^^^^^^^^^^^^^^^^^^^^^^^^^^^^^^\n",
      "  File \"/home/dylan/git/CAPSTONE_T316/venv/lib/python3.12/site-packages/sklearn/metrics/_scorer.py\", line 308, in __call__\n",
      "    return self._score(partial(_cached_call, None), estimator, X, y_true, **_kwargs)\n",
      "           ^^^^^^^^^^^^^^^^^^^^^^^^^^^^^^^^^^^^^^^^^^^^^^^^^^^^^^^^^^^^^^^^^^^^^^^^^\n",
      "  File \"/home/dylan/git/CAPSTONE_T316/venv/lib/python3.12/site-packages/sklearn/metrics/_scorer.py\", line 408, in _score\n",
      "    return self._sign * self._score_func(y_true, y_pred, **scoring_kwargs)\n",
      "                        ^^^^^^^^^^^^^^^^^^^^^^^^^^^^^^^^^^^^^^^^^^^^^^^^^^\n",
      "  File \"/home/dylan/git/CAPSTONE_T316/venv/lib/python3.12/site-packages/sklearn/utils/_param_validation.py\", line 218, in wrapper\n",
      "    return func(*args, **kwargs)\n",
      "           ^^^^^^^^^^^^^^^^^^^^^\n",
      "  File \"/home/dylan/git/CAPSTONE_T316/venv/lib/python3.12/site-packages/sklearn/metrics/_regression.py\", line 489, in mean_absolute_percentage_error\n",
      "    _check_reg_targets_with_floating_dtype(\n",
      "  File \"/home/dylan/git/CAPSTONE_T316/venv/lib/python3.12/site-packages/sklearn/metrics/_regression.py\", line 209, in _check_reg_targets_with_floating_dtype\n",
      "    y_type, y_true, y_pred, sample_weight, multioutput = _check_reg_targets(\n",
      "                                                         ^^^^^^^^^^^^^^^^^^^\n",
      "  File \"/home/dylan/git/CAPSTONE_T316/venv/lib/python3.12/site-packages/sklearn/metrics/_regression.py\", line 127, in _check_reg_targets\n",
      "    raise ValueError(\n",
      "ValueError: y_true and y_pred have different number of output (1!=2)\n",
      "\n",
      "  warnings.warn(\n"
     ]
    },
    {
     "name": "stdout",
     "output_type": "stream",
     "text": [
      "[CV] END colsample_bylevel=1.0, depth=10, iterations=1000, l2_leaf_reg=7, learning_rate=0.05, min_child_samples=10, subsample=0.8; total time=28.1min\n"
     ]
    },
    {
     "name": "stderr",
     "output_type": "stream",
     "text": [
      "/home/dylan/git/CAPSTONE_T316/venv/lib/python3.12/site-packages/sklearn/model_selection/_validation.py:953: UserWarning: Scoring failed. The score on this train-test partition for these parameters will be set to nan. Details: \n",
      "Traceback (most recent call last):\n",
      "  File \"/home/dylan/git/CAPSTONE_T316/venv/lib/python3.12/site-packages/sklearn/model_selection/_validation.py\", line 942, in _score\n",
      "    scores = scorer(estimator, X_test, y_test, **score_params)\n",
      "             ^^^^^^^^^^^^^^^^^^^^^^^^^^^^^^^^^^^^^^^^^^^^^^^^^\n",
      "  File \"/home/dylan/git/CAPSTONE_T316/venv/lib/python3.12/site-packages/sklearn/metrics/_scorer.py\", line 308, in __call__\n",
      "    return self._score(partial(_cached_call, None), estimator, X, y_true, **_kwargs)\n",
      "           ^^^^^^^^^^^^^^^^^^^^^^^^^^^^^^^^^^^^^^^^^^^^^^^^^^^^^^^^^^^^^^^^^^^^^^^^^\n",
      "  File \"/home/dylan/git/CAPSTONE_T316/venv/lib/python3.12/site-packages/sklearn/metrics/_scorer.py\", line 408, in _score\n",
      "    return self._sign * self._score_func(y_true, y_pred, **scoring_kwargs)\n",
      "                        ^^^^^^^^^^^^^^^^^^^^^^^^^^^^^^^^^^^^^^^^^^^^^^^^^^\n",
      "  File \"/home/dylan/git/CAPSTONE_T316/venv/lib/python3.12/site-packages/sklearn/utils/_param_validation.py\", line 218, in wrapper\n",
      "    return func(*args, **kwargs)\n",
      "           ^^^^^^^^^^^^^^^^^^^^^\n",
      "  File \"/home/dylan/git/CAPSTONE_T316/venv/lib/python3.12/site-packages/sklearn/metrics/_regression.py\", line 489, in mean_absolute_percentage_error\n",
      "    _check_reg_targets_with_floating_dtype(\n",
      "  File \"/home/dylan/git/CAPSTONE_T316/venv/lib/python3.12/site-packages/sklearn/metrics/_regression.py\", line 209, in _check_reg_targets_with_floating_dtype\n",
      "    y_type, y_true, y_pred, sample_weight, multioutput = _check_reg_targets(\n",
      "                                                         ^^^^^^^^^^^^^^^^^^^\n",
      "  File \"/home/dylan/git/CAPSTONE_T316/venv/lib/python3.12/site-packages/sklearn/metrics/_regression.py\", line 127, in _check_reg_targets\n",
      "    raise ValueError(\n",
      "ValueError: y_true and y_pred have different number of output (1!=2)\n",
      "\n",
      "  warnings.warn(\n"
     ]
    },
    {
     "name": "stdout",
     "output_type": "stream",
     "text": [
      "[CV] END colsample_bylevel=0.8, depth=10, iterations=1500, l2_leaf_reg=3, learning_rate=0.03, min_child_samples=10, subsample=0.9; total time=40.3min\n"
     ]
    },
    {
     "name": "stderr",
     "output_type": "stream",
     "text": [
      "/home/dylan/git/CAPSTONE_T316/venv/lib/python3.12/site-packages/sklearn/model_selection/_validation.py:953: UserWarning: Scoring failed. The score on this train-test partition for these parameters will be set to nan. Details: \n",
      "Traceback (most recent call last):\n",
      "  File \"/home/dylan/git/CAPSTONE_T316/venv/lib/python3.12/site-packages/sklearn/model_selection/_validation.py\", line 942, in _score\n",
      "    scores = scorer(estimator, X_test, y_test, **score_params)\n",
      "             ^^^^^^^^^^^^^^^^^^^^^^^^^^^^^^^^^^^^^^^^^^^^^^^^^\n",
      "  File \"/home/dylan/git/CAPSTONE_T316/venv/lib/python3.12/site-packages/sklearn/metrics/_scorer.py\", line 308, in __call__\n",
      "    return self._score(partial(_cached_call, None), estimator, X, y_true, **_kwargs)\n",
      "           ^^^^^^^^^^^^^^^^^^^^^^^^^^^^^^^^^^^^^^^^^^^^^^^^^^^^^^^^^^^^^^^^^^^^^^^^^\n",
      "  File \"/home/dylan/git/CAPSTONE_T316/venv/lib/python3.12/site-packages/sklearn/metrics/_scorer.py\", line 408, in _score\n",
      "    return self._sign * self._score_func(y_true, y_pred, **scoring_kwargs)\n",
      "                        ^^^^^^^^^^^^^^^^^^^^^^^^^^^^^^^^^^^^^^^^^^^^^^^^^^\n",
      "  File \"/home/dylan/git/CAPSTONE_T316/venv/lib/python3.12/site-packages/sklearn/utils/_param_validation.py\", line 218, in wrapper\n",
      "    return func(*args, **kwargs)\n",
      "           ^^^^^^^^^^^^^^^^^^^^^\n",
      "  File \"/home/dylan/git/CAPSTONE_T316/venv/lib/python3.12/site-packages/sklearn/metrics/_regression.py\", line 489, in mean_absolute_percentage_error\n",
      "    _check_reg_targets_with_floating_dtype(\n",
      "  File \"/home/dylan/git/CAPSTONE_T316/venv/lib/python3.12/site-packages/sklearn/metrics/_regression.py\", line 209, in _check_reg_targets_with_floating_dtype\n",
      "    y_type, y_true, y_pred, sample_weight, multioutput = _check_reg_targets(\n",
      "                                                         ^^^^^^^^^^^^^^^^^^^\n",
      "  File \"/home/dylan/git/CAPSTONE_T316/venv/lib/python3.12/site-packages/sklearn/metrics/_regression.py\", line 127, in _check_reg_targets\n",
      "    raise ValueError(\n",
      "ValueError: y_true and y_pred have different number of output (1!=2)\n",
      "\n",
      "  warnings.warn(\n"
     ]
    },
    {
     "name": "stdout",
     "output_type": "stream",
     "text": [
      "[CV] END colsample_bylevel=0.9, depth=10, iterations=1500, l2_leaf_reg=5, learning_rate=0.1, min_child_samples=5, subsample=1.0; total time=43.2min\n"
     ]
    },
    {
     "name": "stderr",
     "output_type": "stream",
     "text": [
      "/home/dylan/git/CAPSTONE_T316/venv/lib/python3.12/site-packages/sklearn/model_selection/_validation.py:953: UserWarning: Scoring failed. The score on this train-test partition for these parameters will be set to nan. Details: \n",
      "Traceback (most recent call last):\n",
      "  File \"/home/dylan/git/CAPSTONE_T316/venv/lib/python3.12/site-packages/sklearn/model_selection/_validation.py\", line 942, in _score\n",
      "    scores = scorer(estimator, X_test, y_test, **score_params)\n",
      "             ^^^^^^^^^^^^^^^^^^^^^^^^^^^^^^^^^^^^^^^^^^^^^^^^^\n",
      "  File \"/home/dylan/git/CAPSTONE_T316/venv/lib/python3.12/site-packages/sklearn/metrics/_scorer.py\", line 308, in __call__\n",
      "    return self._score(partial(_cached_call, None), estimator, X, y_true, **_kwargs)\n",
      "           ^^^^^^^^^^^^^^^^^^^^^^^^^^^^^^^^^^^^^^^^^^^^^^^^^^^^^^^^^^^^^^^^^^^^^^^^^\n",
      "  File \"/home/dylan/git/CAPSTONE_T316/venv/lib/python3.12/site-packages/sklearn/metrics/_scorer.py\", line 408, in _score\n",
      "    return self._sign * self._score_func(y_true, y_pred, **scoring_kwargs)\n",
      "                        ^^^^^^^^^^^^^^^^^^^^^^^^^^^^^^^^^^^^^^^^^^^^^^^^^^\n",
      "  File \"/home/dylan/git/CAPSTONE_T316/venv/lib/python3.12/site-packages/sklearn/utils/_param_validation.py\", line 218, in wrapper\n",
      "    return func(*args, **kwargs)\n",
      "           ^^^^^^^^^^^^^^^^^^^^^\n",
      "  File \"/home/dylan/git/CAPSTONE_T316/venv/lib/python3.12/site-packages/sklearn/metrics/_regression.py\", line 489, in mean_absolute_percentage_error\n",
      "    _check_reg_targets_with_floating_dtype(\n",
      "  File \"/home/dylan/git/CAPSTONE_T316/venv/lib/python3.12/site-packages/sklearn/metrics/_regression.py\", line 209, in _check_reg_targets_with_floating_dtype\n",
      "    y_type, y_true, y_pred, sample_weight, multioutput = _check_reg_targets(\n",
      "                                                         ^^^^^^^^^^^^^^^^^^^\n",
      "  File \"/home/dylan/git/CAPSTONE_T316/venv/lib/python3.12/site-packages/sklearn/metrics/_regression.py\", line 127, in _check_reg_targets\n",
      "    raise ValueError(\n",
      "ValueError: y_true and y_pred have different number of output (1!=2)\n",
      "\n",
      "  warnings.warn(\n"
     ]
    },
    {
     "name": "stdout",
     "output_type": "stream",
     "text": [
      "[CV] END colsample_bylevel=0.9, depth=10, iterations=1500, l2_leaf_reg=5, learning_rate=0.1, min_child_samples=5, subsample=1.0; total time=43.1min\n"
     ]
    },
    {
     "name": "stderr",
     "output_type": "stream",
     "text": [
      "/home/dylan/git/CAPSTONE_T316/venv/lib/python3.12/site-packages/sklearn/model_selection/_validation.py:953: UserWarning: Scoring failed. The score on this train-test partition for these parameters will be set to nan. Details: \n",
      "Traceback (most recent call last):\n",
      "  File \"/home/dylan/git/CAPSTONE_T316/venv/lib/python3.12/site-packages/sklearn/model_selection/_validation.py\", line 942, in _score\n",
      "    scores = scorer(estimator, X_test, y_test, **score_params)\n",
      "             ^^^^^^^^^^^^^^^^^^^^^^^^^^^^^^^^^^^^^^^^^^^^^^^^^\n",
      "  File \"/home/dylan/git/CAPSTONE_T316/venv/lib/python3.12/site-packages/sklearn/metrics/_scorer.py\", line 308, in __call__\n",
      "    return self._score(partial(_cached_call, None), estimator, X, y_true, **_kwargs)\n",
      "           ^^^^^^^^^^^^^^^^^^^^^^^^^^^^^^^^^^^^^^^^^^^^^^^^^^^^^^^^^^^^^^^^^^^^^^^^^\n",
      "  File \"/home/dylan/git/CAPSTONE_T316/venv/lib/python3.12/site-packages/sklearn/metrics/_scorer.py\", line 408, in _score\n",
      "    return self._sign * self._score_func(y_true, y_pred, **scoring_kwargs)\n",
      "                        ^^^^^^^^^^^^^^^^^^^^^^^^^^^^^^^^^^^^^^^^^^^^^^^^^^\n",
      "  File \"/home/dylan/git/CAPSTONE_T316/venv/lib/python3.12/site-packages/sklearn/utils/_param_validation.py\", line 218, in wrapper\n",
      "    return func(*args, **kwargs)\n",
      "           ^^^^^^^^^^^^^^^^^^^^^\n",
      "  File \"/home/dylan/git/CAPSTONE_T316/venv/lib/python3.12/site-packages/sklearn/metrics/_regression.py\", line 489, in mean_absolute_percentage_error\n",
      "    _check_reg_targets_with_floating_dtype(\n",
      "  File \"/home/dylan/git/CAPSTONE_T316/venv/lib/python3.12/site-packages/sklearn/metrics/_regression.py\", line 209, in _check_reg_targets_with_floating_dtype\n",
      "    y_type, y_true, y_pred, sample_weight, multioutput = _check_reg_targets(\n",
      "                                                         ^^^^^^^^^^^^^^^^^^^\n",
      "  File \"/home/dylan/git/CAPSTONE_T316/venv/lib/python3.12/site-packages/sklearn/metrics/_regression.py\", line 127, in _check_reg_targets\n",
      "    raise ValueError(\n",
      "ValueError: y_true and y_pred have different number of output (1!=2)\n",
      "\n",
      "  warnings.warn(\n"
     ]
    },
    {
     "name": "stdout",
     "output_type": "stream",
     "text": [
      "[CV] END colsample_bylevel=0.9, depth=10, iterations=1500, l2_leaf_reg=5, learning_rate=0.1, min_child_samples=5, subsample=1.0; total time=43.2min\n"
     ]
    },
    {
     "name": "stderr",
     "output_type": "stream",
     "text": [
      "/home/dylan/git/CAPSTONE_T316/venv/lib/python3.12/site-packages/sklearn/model_selection/_validation.py:953: UserWarning: Scoring failed. The score on this train-test partition for these parameters will be set to nan. Details: \n",
      "Traceback (most recent call last):\n",
      "  File \"/home/dylan/git/CAPSTONE_T316/venv/lib/python3.12/site-packages/sklearn/model_selection/_validation.py\", line 942, in _score\n",
      "    scores = scorer(estimator, X_test, y_test, **score_params)\n",
      "             ^^^^^^^^^^^^^^^^^^^^^^^^^^^^^^^^^^^^^^^^^^^^^^^^^\n",
      "  File \"/home/dylan/git/CAPSTONE_T316/venv/lib/python3.12/site-packages/sklearn/metrics/_scorer.py\", line 308, in __call__\n",
      "    return self._score(partial(_cached_call, None), estimator, X, y_true, **_kwargs)\n",
      "           ^^^^^^^^^^^^^^^^^^^^^^^^^^^^^^^^^^^^^^^^^^^^^^^^^^^^^^^^^^^^^^^^^^^^^^^^^\n",
      "  File \"/home/dylan/git/CAPSTONE_T316/venv/lib/python3.12/site-packages/sklearn/metrics/_scorer.py\", line 408, in _score\n",
      "    return self._sign * self._score_func(y_true, y_pred, **scoring_kwargs)\n",
      "                        ^^^^^^^^^^^^^^^^^^^^^^^^^^^^^^^^^^^^^^^^^^^^^^^^^^\n",
      "  File \"/home/dylan/git/CAPSTONE_T316/venv/lib/python3.12/site-packages/sklearn/utils/_param_validation.py\", line 218, in wrapper\n",
      "    return func(*args, **kwargs)\n",
      "           ^^^^^^^^^^^^^^^^^^^^^\n",
      "  File \"/home/dylan/git/CAPSTONE_T316/venv/lib/python3.12/site-packages/sklearn/metrics/_regression.py\", line 489, in mean_absolute_percentage_error\n",
      "    _check_reg_targets_with_floating_dtype(\n",
      "  File \"/home/dylan/git/CAPSTONE_T316/venv/lib/python3.12/site-packages/sklearn/metrics/_regression.py\", line 209, in _check_reg_targets_with_floating_dtype\n",
      "    y_type, y_true, y_pred, sample_weight, multioutput = _check_reg_targets(\n",
      "                                                         ^^^^^^^^^^^^^^^^^^^\n",
      "  File \"/home/dylan/git/CAPSTONE_T316/venv/lib/python3.12/site-packages/sklearn/metrics/_regression.py\", line 127, in _check_reg_targets\n",
      "    raise ValueError(\n",
      "ValueError: y_true and y_pred have different number of output (1!=2)\n",
      "\n",
      "  warnings.warn(\n"
     ]
    },
    {
     "name": "stdout",
     "output_type": "stream",
     "text": [
      "[CV] END colsample_bylevel=0.9, depth=6, iterations=1000, l2_leaf_reg=5, learning_rate=0.05, min_child_samples=5, subsample=0.9; total time=12.8min\n"
     ]
    },
    {
     "name": "stderr",
     "output_type": "stream",
     "text": [
      "/home/dylan/git/CAPSTONE_T316/venv/lib/python3.12/site-packages/sklearn/model_selection/_validation.py:953: UserWarning: Scoring failed. The score on this train-test partition for these parameters will be set to nan. Details: \n",
      "Traceback (most recent call last):\n",
      "  File \"/home/dylan/git/CAPSTONE_T316/venv/lib/python3.12/site-packages/sklearn/model_selection/_validation.py\", line 942, in _score\n",
      "    scores = scorer(estimator, X_test, y_test, **score_params)\n",
      "             ^^^^^^^^^^^^^^^^^^^^^^^^^^^^^^^^^^^^^^^^^^^^^^^^^\n",
      "  File \"/home/dylan/git/CAPSTONE_T316/venv/lib/python3.12/site-packages/sklearn/metrics/_scorer.py\", line 308, in __call__\n",
      "    return self._score(partial(_cached_call, None), estimator, X, y_true, **_kwargs)\n",
      "           ^^^^^^^^^^^^^^^^^^^^^^^^^^^^^^^^^^^^^^^^^^^^^^^^^^^^^^^^^^^^^^^^^^^^^^^^^\n",
      "  File \"/home/dylan/git/CAPSTONE_T316/venv/lib/python3.12/site-packages/sklearn/metrics/_scorer.py\", line 408, in _score\n",
      "    return self._sign * self._score_func(y_true, y_pred, **scoring_kwargs)\n",
      "                        ^^^^^^^^^^^^^^^^^^^^^^^^^^^^^^^^^^^^^^^^^^^^^^^^^^\n",
      "  File \"/home/dylan/git/CAPSTONE_T316/venv/lib/python3.12/site-packages/sklearn/utils/_param_validation.py\", line 218, in wrapper\n",
      "    return func(*args, **kwargs)\n",
      "           ^^^^^^^^^^^^^^^^^^^^^\n",
      "  File \"/home/dylan/git/CAPSTONE_T316/venv/lib/python3.12/site-packages/sklearn/metrics/_regression.py\", line 489, in mean_absolute_percentage_error\n",
      "    _check_reg_targets_with_floating_dtype(\n",
      "  File \"/home/dylan/git/CAPSTONE_T316/venv/lib/python3.12/site-packages/sklearn/metrics/_regression.py\", line 209, in _check_reg_targets_with_floating_dtype\n",
      "    y_type, y_true, y_pred, sample_weight, multioutput = _check_reg_targets(\n",
      "                                                         ^^^^^^^^^^^^^^^^^^^\n",
      "  File \"/home/dylan/git/CAPSTONE_T316/venv/lib/python3.12/site-packages/sklearn/metrics/_regression.py\", line 127, in _check_reg_targets\n",
      "    raise ValueError(\n",
      "ValueError: y_true and y_pred have different number of output (1!=2)\n",
      "\n",
      "  warnings.warn(\n"
     ]
    },
    {
     "name": "stdout",
     "output_type": "stream",
     "text": [
      "[CV] END colsample_bylevel=0.9, depth=6, iterations=1000, l2_leaf_reg=5, learning_rate=0.05, min_child_samples=5, subsample=0.9; total time=13.7min\n"
     ]
    },
    {
     "name": "stderr",
     "output_type": "stream",
     "text": [
      "/home/dylan/git/CAPSTONE_T316/venv/lib/python3.12/site-packages/sklearn/model_selection/_validation.py:953: UserWarning: Scoring failed. The score on this train-test partition for these parameters will be set to nan. Details: \n",
      "Traceback (most recent call last):\n",
      "  File \"/home/dylan/git/CAPSTONE_T316/venv/lib/python3.12/site-packages/sklearn/model_selection/_validation.py\", line 942, in _score\n",
      "    scores = scorer(estimator, X_test, y_test, **score_params)\n",
      "             ^^^^^^^^^^^^^^^^^^^^^^^^^^^^^^^^^^^^^^^^^^^^^^^^^\n",
      "  File \"/home/dylan/git/CAPSTONE_T316/venv/lib/python3.12/site-packages/sklearn/metrics/_scorer.py\", line 308, in __call__\n",
      "    return self._score(partial(_cached_call, None), estimator, X, y_true, **_kwargs)\n",
      "           ^^^^^^^^^^^^^^^^^^^^^^^^^^^^^^^^^^^^^^^^^^^^^^^^^^^^^^^^^^^^^^^^^^^^^^^^^\n",
      "  File \"/home/dylan/git/CAPSTONE_T316/venv/lib/python3.12/site-packages/sklearn/metrics/_scorer.py\", line 408, in _score\n",
      "    return self._sign * self._score_func(y_true, y_pred, **scoring_kwargs)\n",
      "                        ^^^^^^^^^^^^^^^^^^^^^^^^^^^^^^^^^^^^^^^^^^^^^^^^^^\n",
      "  File \"/home/dylan/git/CAPSTONE_T316/venv/lib/python3.12/site-packages/sklearn/utils/_param_validation.py\", line 218, in wrapper\n",
      "    return func(*args, **kwargs)\n",
      "           ^^^^^^^^^^^^^^^^^^^^^\n",
      "  File \"/home/dylan/git/CAPSTONE_T316/venv/lib/python3.12/site-packages/sklearn/metrics/_regression.py\", line 489, in mean_absolute_percentage_error\n",
      "    _check_reg_targets_with_floating_dtype(\n",
      "  File \"/home/dylan/git/CAPSTONE_T316/venv/lib/python3.12/site-packages/sklearn/metrics/_regression.py\", line 209, in _check_reg_targets_with_floating_dtype\n",
      "    y_type, y_true, y_pred, sample_weight, multioutput = _check_reg_targets(\n",
      "                                                         ^^^^^^^^^^^^^^^^^^^\n",
      "  File \"/home/dylan/git/CAPSTONE_T316/venv/lib/python3.12/site-packages/sklearn/metrics/_regression.py\", line 127, in _check_reg_targets\n",
      "    raise ValueError(\n",
      "ValueError: y_true and y_pred have different number of output (1!=2)\n",
      "\n",
      "  warnings.warn(\n"
     ]
    },
    {
     "name": "stdout",
     "output_type": "stream",
     "text": [
      "[CV] END colsample_bylevel=0.9, depth=6, iterations=1000, l2_leaf_reg=5, learning_rate=0.05, min_child_samples=5, subsample=0.9; total time=13.3min\n"
     ]
    },
    {
     "name": "stderr",
     "output_type": "stream",
     "text": [
      "/home/dylan/git/CAPSTONE_T316/venv/lib/python3.12/site-packages/sklearn/model_selection/_validation.py:953: UserWarning: Scoring failed. The score on this train-test partition for these parameters will be set to nan. Details: \n",
      "Traceback (most recent call last):\n",
      "  File \"/home/dylan/git/CAPSTONE_T316/venv/lib/python3.12/site-packages/sklearn/model_selection/_validation.py\", line 942, in _score\n",
      "    scores = scorer(estimator, X_test, y_test, **score_params)\n",
      "             ^^^^^^^^^^^^^^^^^^^^^^^^^^^^^^^^^^^^^^^^^^^^^^^^^\n",
      "  File \"/home/dylan/git/CAPSTONE_T316/venv/lib/python3.12/site-packages/sklearn/metrics/_scorer.py\", line 308, in __call__\n",
      "    return self._score(partial(_cached_call, None), estimator, X, y_true, **_kwargs)\n",
      "           ^^^^^^^^^^^^^^^^^^^^^^^^^^^^^^^^^^^^^^^^^^^^^^^^^^^^^^^^^^^^^^^^^^^^^^^^^\n",
      "  File \"/home/dylan/git/CAPSTONE_T316/venv/lib/python3.12/site-packages/sklearn/metrics/_scorer.py\", line 408, in _score\n",
      "    return self._sign * self._score_func(y_true, y_pred, **scoring_kwargs)\n",
      "                        ^^^^^^^^^^^^^^^^^^^^^^^^^^^^^^^^^^^^^^^^^^^^^^^^^^\n",
      "  File \"/home/dylan/git/CAPSTONE_T316/venv/lib/python3.12/site-packages/sklearn/utils/_param_validation.py\", line 218, in wrapper\n",
      "    return func(*args, **kwargs)\n",
      "           ^^^^^^^^^^^^^^^^^^^^^\n",
      "  File \"/home/dylan/git/CAPSTONE_T316/venv/lib/python3.12/site-packages/sklearn/metrics/_regression.py\", line 489, in mean_absolute_percentage_error\n",
      "    _check_reg_targets_with_floating_dtype(\n",
      "  File \"/home/dylan/git/CAPSTONE_T316/venv/lib/python3.12/site-packages/sklearn/metrics/_regression.py\", line 209, in _check_reg_targets_with_floating_dtype\n",
      "    y_type, y_true, y_pred, sample_weight, multioutput = _check_reg_targets(\n",
      "                                                         ^^^^^^^^^^^^^^^^^^^\n",
      "  File \"/home/dylan/git/CAPSTONE_T316/venv/lib/python3.12/site-packages/sklearn/metrics/_regression.py\", line 127, in _check_reg_targets\n",
      "    raise ValueError(\n",
      "ValueError: y_true and y_pred have different number of output (1!=2)\n",
      "\n",
      "  warnings.warn(\n"
     ]
    },
    {
     "name": "stdout",
     "output_type": "stream",
     "text": [
      "[CV] END colsample_bylevel=0.9, depth=8, iterations=1000, l2_leaf_reg=3, learning_rate=0.1, min_child_samples=5, subsample=0.8; total time=18.8min\n"
     ]
    },
    {
     "name": "stderr",
     "output_type": "stream",
     "text": [
      "/home/dylan/git/CAPSTONE_T316/venv/lib/python3.12/site-packages/sklearn/model_selection/_validation.py:953: UserWarning: Scoring failed. The score on this train-test partition for these parameters will be set to nan. Details: \n",
      "Traceback (most recent call last):\n",
      "  File \"/home/dylan/git/CAPSTONE_T316/venv/lib/python3.12/site-packages/sklearn/model_selection/_validation.py\", line 942, in _score\n",
      "    scores = scorer(estimator, X_test, y_test, **score_params)\n",
      "             ^^^^^^^^^^^^^^^^^^^^^^^^^^^^^^^^^^^^^^^^^^^^^^^^^\n",
      "  File \"/home/dylan/git/CAPSTONE_T316/venv/lib/python3.12/site-packages/sklearn/metrics/_scorer.py\", line 308, in __call__\n",
      "    return self._score(partial(_cached_call, None), estimator, X, y_true, **_kwargs)\n",
      "           ^^^^^^^^^^^^^^^^^^^^^^^^^^^^^^^^^^^^^^^^^^^^^^^^^^^^^^^^^^^^^^^^^^^^^^^^^\n",
      "  File \"/home/dylan/git/CAPSTONE_T316/venv/lib/python3.12/site-packages/sklearn/metrics/_scorer.py\", line 408, in _score\n",
      "    return self._sign * self._score_func(y_true, y_pred, **scoring_kwargs)\n",
      "                        ^^^^^^^^^^^^^^^^^^^^^^^^^^^^^^^^^^^^^^^^^^^^^^^^^^\n",
      "  File \"/home/dylan/git/CAPSTONE_T316/venv/lib/python3.12/site-packages/sklearn/utils/_param_validation.py\", line 218, in wrapper\n",
      "    return func(*args, **kwargs)\n",
      "           ^^^^^^^^^^^^^^^^^^^^^\n",
      "  File \"/home/dylan/git/CAPSTONE_T316/venv/lib/python3.12/site-packages/sklearn/metrics/_regression.py\", line 489, in mean_absolute_percentage_error\n",
      "    _check_reg_targets_with_floating_dtype(\n",
      "  File \"/home/dylan/git/CAPSTONE_T316/venv/lib/python3.12/site-packages/sklearn/metrics/_regression.py\", line 209, in _check_reg_targets_with_floating_dtype\n",
      "    y_type, y_true, y_pred, sample_weight, multioutput = _check_reg_targets(\n",
      "                                                         ^^^^^^^^^^^^^^^^^^^\n",
      "  File \"/home/dylan/git/CAPSTONE_T316/venv/lib/python3.12/site-packages/sklearn/metrics/_regression.py\", line 127, in _check_reg_targets\n",
      "    raise ValueError(\n",
      "ValueError: y_true and y_pred have different number of output (1!=2)\n",
      "\n",
      "  warnings.warn(\n"
     ]
    },
    {
     "name": "stdout",
     "output_type": "stream",
     "text": [
      "[CV] END colsample_bylevel=0.9, depth=8, iterations=1000, l2_leaf_reg=3, learning_rate=0.1, min_child_samples=5, subsample=0.8; total time=19.2min\n"
     ]
    },
    {
     "name": "stderr",
     "output_type": "stream",
     "text": [
      "/home/dylan/git/CAPSTONE_T316/venv/lib/python3.12/site-packages/sklearn/model_selection/_validation.py:953: UserWarning: Scoring failed. The score on this train-test partition for these parameters will be set to nan. Details: \n",
      "Traceback (most recent call last):\n",
      "  File \"/home/dylan/git/CAPSTONE_T316/venv/lib/python3.12/site-packages/sklearn/model_selection/_validation.py\", line 942, in _score\n",
      "    scores = scorer(estimator, X_test, y_test, **score_params)\n",
      "             ^^^^^^^^^^^^^^^^^^^^^^^^^^^^^^^^^^^^^^^^^^^^^^^^^\n",
      "  File \"/home/dylan/git/CAPSTONE_T316/venv/lib/python3.12/site-packages/sklearn/metrics/_scorer.py\", line 308, in __call__\n",
      "    return self._score(partial(_cached_call, None), estimator, X, y_true, **_kwargs)\n",
      "           ^^^^^^^^^^^^^^^^^^^^^^^^^^^^^^^^^^^^^^^^^^^^^^^^^^^^^^^^^^^^^^^^^^^^^^^^^\n",
      "  File \"/home/dylan/git/CAPSTONE_T316/venv/lib/python3.12/site-packages/sklearn/metrics/_scorer.py\", line 408, in _score\n",
      "    return self._sign * self._score_func(y_true, y_pred, **scoring_kwargs)\n",
      "                        ^^^^^^^^^^^^^^^^^^^^^^^^^^^^^^^^^^^^^^^^^^^^^^^^^^\n",
      "  File \"/home/dylan/git/CAPSTONE_T316/venv/lib/python3.12/site-packages/sklearn/utils/_param_validation.py\", line 218, in wrapper\n",
      "    return func(*args, **kwargs)\n",
      "           ^^^^^^^^^^^^^^^^^^^^^\n",
      "  File \"/home/dylan/git/CAPSTONE_T316/venv/lib/python3.12/site-packages/sklearn/metrics/_regression.py\", line 489, in mean_absolute_percentage_error\n",
      "    _check_reg_targets_with_floating_dtype(\n",
      "  File \"/home/dylan/git/CAPSTONE_T316/venv/lib/python3.12/site-packages/sklearn/metrics/_regression.py\", line 209, in _check_reg_targets_with_floating_dtype\n",
      "    y_type, y_true, y_pred, sample_weight, multioutput = _check_reg_targets(\n",
      "                                                         ^^^^^^^^^^^^^^^^^^^\n",
      "  File \"/home/dylan/git/CAPSTONE_T316/venv/lib/python3.12/site-packages/sklearn/metrics/_regression.py\", line 127, in _check_reg_targets\n",
      "    raise ValueError(\n",
      "ValueError: y_true and y_pred have different number of output (1!=2)\n",
      "\n",
      "  warnings.warn(\n"
     ]
    },
    {
     "name": "stdout",
     "output_type": "stream",
     "text": [
      "[CV] END colsample_bylevel=0.8, depth=6, iterations=1000, l2_leaf_reg=1, learning_rate=0.05, min_child_samples=10, subsample=0.8; total time=13.9min\n"
     ]
    },
    {
     "name": "stderr",
     "output_type": "stream",
     "text": [
      "/home/dylan/git/CAPSTONE_T316/venv/lib/python3.12/site-packages/sklearn/model_selection/_validation.py:953: UserWarning: Scoring failed. The score on this train-test partition for these parameters will be set to nan. Details: \n",
      "Traceback (most recent call last):\n",
      "  File \"/home/dylan/git/CAPSTONE_T316/venv/lib/python3.12/site-packages/sklearn/model_selection/_validation.py\", line 942, in _score\n",
      "    scores = scorer(estimator, X_test, y_test, **score_params)\n",
      "             ^^^^^^^^^^^^^^^^^^^^^^^^^^^^^^^^^^^^^^^^^^^^^^^^^\n",
      "  File \"/home/dylan/git/CAPSTONE_T316/venv/lib/python3.12/site-packages/sklearn/metrics/_scorer.py\", line 308, in __call__\n",
      "    return self._score(partial(_cached_call, None), estimator, X, y_true, **_kwargs)\n",
      "           ^^^^^^^^^^^^^^^^^^^^^^^^^^^^^^^^^^^^^^^^^^^^^^^^^^^^^^^^^^^^^^^^^^^^^^^^^\n",
      "  File \"/home/dylan/git/CAPSTONE_T316/venv/lib/python3.12/site-packages/sklearn/metrics/_scorer.py\", line 408, in _score\n",
      "    return self._sign * self._score_func(y_true, y_pred, **scoring_kwargs)\n",
      "                        ^^^^^^^^^^^^^^^^^^^^^^^^^^^^^^^^^^^^^^^^^^^^^^^^^^\n",
      "  File \"/home/dylan/git/CAPSTONE_T316/venv/lib/python3.12/site-packages/sklearn/utils/_param_validation.py\", line 218, in wrapper\n",
      "    return func(*args, **kwargs)\n",
      "           ^^^^^^^^^^^^^^^^^^^^^\n",
      "  File \"/home/dylan/git/CAPSTONE_T316/venv/lib/python3.12/site-packages/sklearn/metrics/_regression.py\", line 489, in mean_absolute_percentage_error\n",
      "    _check_reg_targets_with_floating_dtype(\n",
      "  File \"/home/dylan/git/CAPSTONE_T316/venv/lib/python3.12/site-packages/sklearn/metrics/_regression.py\", line 209, in _check_reg_targets_with_floating_dtype\n",
      "    y_type, y_true, y_pred, sample_weight, multioutput = _check_reg_targets(\n",
      "                                                         ^^^^^^^^^^^^^^^^^^^\n",
      "  File \"/home/dylan/git/CAPSTONE_T316/venv/lib/python3.12/site-packages/sklearn/metrics/_regression.py\", line 127, in _check_reg_targets\n",
      "    raise ValueError(\n",
      "ValueError: y_true and y_pred have different number of output (1!=2)\n",
      "\n",
      "  warnings.warn(\n"
     ]
    },
    {
     "name": "stdout",
     "output_type": "stream",
     "text": [
      "[CV] END colsample_bylevel=0.8, depth=6, iterations=1000, l2_leaf_reg=1, learning_rate=0.05, min_child_samples=10, subsample=0.8; total time=13.5min\n"
     ]
    },
    {
     "name": "stderr",
     "output_type": "stream",
     "text": [
      "/home/dylan/git/CAPSTONE_T316/venv/lib/python3.12/site-packages/sklearn/model_selection/_validation.py:953: UserWarning: Scoring failed. The score on this train-test partition for these parameters will be set to nan. Details: \n",
      "Traceback (most recent call last):\n",
      "  File \"/home/dylan/git/CAPSTONE_T316/venv/lib/python3.12/site-packages/sklearn/model_selection/_validation.py\", line 942, in _score\n",
      "    scores = scorer(estimator, X_test, y_test, **score_params)\n",
      "             ^^^^^^^^^^^^^^^^^^^^^^^^^^^^^^^^^^^^^^^^^^^^^^^^^\n",
      "  File \"/home/dylan/git/CAPSTONE_T316/venv/lib/python3.12/site-packages/sklearn/metrics/_scorer.py\", line 308, in __call__\n",
      "    return self._score(partial(_cached_call, None), estimator, X, y_true, **_kwargs)\n",
      "           ^^^^^^^^^^^^^^^^^^^^^^^^^^^^^^^^^^^^^^^^^^^^^^^^^^^^^^^^^^^^^^^^^^^^^^^^^\n",
      "  File \"/home/dylan/git/CAPSTONE_T316/venv/lib/python3.12/site-packages/sklearn/metrics/_scorer.py\", line 408, in _score\n",
      "    return self._sign * self._score_func(y_true, y_pred, **scoring_kwargs)\n",
      "                        ^^^^^^^^^^^^^^^^^^^^^^^^^^^^^^^^^^^^^^^^^^^^^^^^^^\n",
      "  File \"/home/dylan/git/CAPSTONE_T316/venv/lib/python3.12/site-packages/sklearn/utils/_param_validation.py\", line 218, in wrapper\n",
      "    return func(*args, **kwargs)\n",
      "           ^^^^^^^^^^^^^^^^^^^^^\n",
      "  File \"/home/dylan/git/CAPSTONE_T316/venv/lib/python3.12/site-packages/sklearn/metrics/_regression.py\", line 489, in mean_absolute_percentage_error\n",
      "    _check_reg_targets_with_floating_dtype(\n",
      "  File \"/home/dylan/git/CAPSTONE_T316/venv/lib/python3.12/site-packages/sklearn/metrics/_regression.py\", line 209, in _check_reg_targets_with_floating_dtype\n",
      "    y_type, y_true, y_pred, sample_weight, multioutput = _check_reg_targets(\n",
      "                                                         ^^^^^^^^^^^^^^^^^^^\n",
      "  File \"/home/dylan/git/CAPSTONE_T316/venv/lib/python3.12/site-packages/sklearn/metrics/_regression.py\", line 127, in _check_reg_targets\n",
      "    raise ValueError(\n",
      "ValueError: y_true and y_pred have different number of output (1!=2)\n",
      "\n",
      "  warnings.warn(\n"
     ]
    },
    {
     "name": "stdout",
     "output_type": "stream",
     "text": [
      "[CV] END colsample_bylevel=0.8, depth=6, iterations=1000, l2_leaf_reg=1, learning_rate=0.05, min_child_samples=10, subsample=0.8; total time=13.3min\n"
     ]
    },
    {
     "name": "stderr",
     "output_type": "stream",
     "text": [
      "/home/dylan/git/CAPSTONE_T316/venv/lib/python3.12/site-packages/sklearn/model_selection/_validation.py:953: UserWarning: Scoring failed. The score on this train-test partition for these parameters will be set to nan. Details: \n",
      "Traceback (most recent call last):\n",
      "  File \"/home/dylan/git/CAPSTONE_T316/venv/lib/python3.12/site-packages/sklearn/model_selection/_validation.py\", line 942, in _score\n",
      "    scores = scorer(estimator, X_test, y_test, **score_params)\n",
      "             ^^^^^^^^^^^^^^^^^^^^^^^^^^^^^^^^^^^^^^^^^^^^^^^^^\n",
      "  File \"/home/dylan/git/CAPSTONE_T316/venv/lib/python3.12/site-packages/sklearn/metrics/_scorer.py\", line 308, in __call__\n",
      "    return self._score(partial(_cached_call, None), estimator, X, y_true, **_kwargs)\n",
      "           ^^^^^^^^^^^^^^^^^^^^^^^^^^^^^^^^^^^^^^^^^^^^^^^^^^^^^^^^^^^^^^^^^^^^^^^^^\n",
      "  File \"/home/dylan/git/CAPSTONE_T316/venv/lib/python3.12/site-packages/sklearn/metrics/_scorer.py\", line 408, in _score\n",
      "    return self._sign * self._score_func(y_true, y_pred, **scoring_kwargs)\n",
      "                        ^^^^^^^^^^^^^^^^^^^^^^^^^^^^^^^^^^^^^^^^^^^^^^^^^^\n",
      "  File \"/home/dylan/git/CAPSTONE_T316/venv/lib/python3.12/site-packages/sklearn/utils/_param_validation.py\", line 218, in wrapper\n",
      "    return func(*args, **kwargs)\n",
      "           ^^^^^^^^^^^^^^^^^^^^^\n",
      "  File \"/home/dylan/git/CAPSTONE_T316/venv/lib/python3.12/site-packages/sklearn/metrics/_regression.py\", line 489, in mean_absolute_percentage_error\n",
      "    _check_reg_targets_with_floating_dtype(\n",
      "  File \"/home/dylan/git/CAPSTONE_T316/venv/lib/python3.12/site-packages/sklearn/metrics/_regression.py\", line 209, in _check_reg_targets_with_floating_dtype\n",
      "    y_type, y_true, y_pred, sample_weight, multioutput = _check_reg_targets(\n",
      "                                                         ^^^^^^^^^^^^^^^^^^^\n",
      "  File \"/home/dylan/git/CAPSTONE_T316/venv/lib/python3.12/site-packages/sklearn/metrics/_regression.py\", line 127, in _check_reg_targets\n",
      "    raise ValueError(\n",
      "ValueError: y_true and y_pred have different number of output (1!=2)\n",
      "\n",
      "  warnings.warn(\n"
     ]
    },
    {
     "name": "stdout",
     "output_type": "stream",
     "text": [
      "[CV] END colsample_bylevel=0.9, depth=8, iterations=1000, l2_leaf_reg=1, learning_rate=0.1, min_child_samples=10, subsample=1.0; total time=19.6min\n"
     ]
    },
    {
     "name": "stderr",
     "output_type": "stream",
     "text": [
      "/home/dylan/git/CAPSTONE_T316/venv/lib/python3.12/site-packages/sklearn/model_selection/_validation.py:953: UserWarning: Scoring failed. The score on this train-test partition for these parameters will be set to nan. Details: \n",
      "Traceback (most recent call last):\n",
      "  File \"/home/dylan/git/CAPSTONE_T316/venv/lib/python3.12/site-packages/sklearn/model_selection/_validation.py\", line 942, in _score\n",
      "    scores = scorer(estimator, X_test, y_test, **score_params)\n",
      "             ^^^^^^^^^^^^^^^^^^^^^^^^^^^^^^^^^^^^^^^^^^^^^^^^^\n",
      "  File \"/home/dylan/git/CAPSTONE_T316/venv/lib/python3.12/site-packages/sklearn/metrics/_scorer.py\", line 308, in __call__\n",
      "    return self._score(partial(_cached_call, None), estimator, X, y_true, **_kwargs)\n",
      "           ^^^^^^^^^^^^^^^^^^^^^^^^^^^^^^^^^^^^^^^^^^^^^^^^^^^^^^^^^^^^^^^^^^^^^^^^^\n",
      "  File \"/home/dylan/git/CAPSTONE_T316/venv/lib/python3.12/site-packages/sklearn/metrics/_scorer.py\", line 408, in _score\n",
      "    return self._sign * self._score_func(y_true, y_pred, **scoring_kwargs)\n",
      "                        ^^^^^^^^^^^^^^^^^^^^^^^^^^^^^^^^^^^^^^^^^^^^^^^^^^\n",
      "  File \"/home/dylan/git/CAPSTONE_T316/venv/lib/python3.12/site-packages/sklearn/utils/_param_validation.py\", line 218, in wrapper\n",
      "    return func(*args, **kwargs)\n",
      "           ^^^^^^^^^^^^^^^^^^^^^\n",
      "  File \"/home/dylan/git/CAPSTONE_T316/venv/lib/python3.12/site-packages/sklearn/metrics/_regression.py\", line 489, in mean_absolute_percentage_error\n",
      "    _check_reg_targets_with_floating_dtype(\n",
      "  File \"/home/dylan/git/CAPSTONE_T316/venv/lib/python3.12/site-packages/sklearn/metrics/_regression.py\", line 209, in _check_reg_targets_with_floating_dtype\n",
      "    y_type, y_true, y_pred, sample_weight, multioutput = _check_reg_targets(\n",
      "                                                         ^^^^^^^^^^^^^^^^^^^\n",
      "  File \"/home/dylan/git/CAPSTONE_T316/venv/lib/python3.12/site-packages/sklearn/metrics/_regression.py\", line 127, in _check_reg_targets\n",
      "    raise ValueError(\n",
      "ValueError: y_true and y_pred have different number of output (1!=2)\n",
      "\n",
      "  warnings.warn(\n"
     ]
    },
    {
     "name": "stdout",
     "output_type": "stream",
     "text": [
      "[CV] END colsample_bylevel=0.9, depth=8, iterations=1000, l2_leaf_reg=1, learning_rate=0.1, min_child_samples=10, subsample=1.0; total time=19.6min\n"
     ]
    },
    {
     "name": "stderr",
     "output_type": "stream",
     "text": [
      "/home/dylan/git/CAPSTONE_T316/venv/lib/python3.12/site-packages/sklearn/model_selection/_validation.py:953: UserWarning: Scoring failed. The score on this train-test partition for these parameters will be set to nan. Details: \n",
      "Traceback (most recent call last):\n",
      "  File \"/home/dylan/git/CAPSTONE_T316/venv/lib/python3.12/site-packages/sklearn/model_selection/_validation.py\", line 942, in _score\n",
      "    scores = scorer(estimator, X_test, y_test, **score_params)\n",
      "             ^^^^^^^^^^^^^^^^^^^^^^^^^^^^^^^^^^^^^^^^^^^^^^^^^\n",
      "  File \"/home/dylan/git/CAPSTONE_T316/venv/lib/python3.12/site-packages/sklearn/metrics/_scorer.py\", line 308, in __call__\n",
      "    return self._score(partial(_cached_call, None), estimator, X, y_true, **_kwargs)\n",
      "           ^^^^^^^^^^^^^^^^^^^^^^^^^^^^^^^^^^^^^^^^^^^^^^^^^^^^^^^^^^^^^^^^^^^^^^^^^\n",
      "  File \"/home/dylan/git/CAPSTONE_T316/venv/lib/python3.12/site-packages/sklearn/metrics/_scorer.py\", line 408, in _score\n",
      "    return self._sign * self._score_func(y_true, y_pred, **scoring_kwargs)\n",
      "                        ^^^^^^^^^^^^^^^^^^^^^^^^^^^^^^^^^^^^^^^^^^^^^^^^^^\n",
      "  File \"/home/dylan/git/CAPSTONE_T316/venv/lib/python3.12/site-packages/sklearn/utils/_param_validation.py\", line 218, in wrapper\n",
      "    return func(*args, **kwargs)\n",
      "           ^^^^^^^^^^^^^^^^^^^^^\n",
      "  File \"/home/dylan/git/CAPSTONE_T316/venv/lib/python3.12/site-packages/sklearn/metrics/_regression.py\", line 489, in mean_absolute_percentage_error\n",
      "    _check_reg_targets_with_floating_dtype(\n",
      "  File \"/home/dylan/git/CAPSTONE_T316/venv/lib/python3.12/site-packages/sklearn/metrics/_regression.py\", line 209, in _check_reg_targets_with_floating_dtype\n",
      "    y_type, y_true, y_pred, sample_weight, multioutput = _check_reg_targets(\n",
      "                                                         ^^^^^^^^^^^^^^^^^^^\n",
      "  File \"/home/dylan/git/CAPSTONE_T316/venv/lib/python3.12/site-packages/sklearn/metrics/_regression.py\", line 127, in _check_reg_targets\n",
      "    raise ValueError(\n",
      "ValueError: y_true and y_pred have different number of output (1!=2)\n",
      "\n",
      "  warnings.warn(\n"
     ]
    },
    {
     "name": "stdout",
     "output_type": "stream",
     "text": [
      "[CV] END colsample_bylevel=0.9, depth=8, iterations=1000, l2_leaf_reg=1, learning_rate=0.1, min_child_samples=10, subsample=1.0; total time=19.3min\n"
     ]
    },
    {
     "name": "stderr",
     "output_type": "stream",
     "text": [
      "/home/dylan/git/CAPSTONE_T316/venv/lib/python3.12/site-packages/sklearn/model_selection/_validation.py:953: UserWarning: Scoring failed. The score on this train-test partition for these parameters will be set to nan. Details: \n",
      "Traceback (most recent call last):\n",
      "  File \"/home/dylan/git/CAPSTONE_T316/venv/lib/python3.12/site-packages/sklearn/model_selection/_validation.py\", line 942, in _score\n",
      "    scores = scorer(estimator, X_test, y_test, **score_params)\n",
      "             ^^^^^^^^^^^^^^^^^^^^^^^^^^^^^^^^^^^^^^^^^^^^^^^^^\n",
      "  File \"/home/dylan/git/CAPSTONE_T316/venv/lib/python3.12/site-packages/sklearn/metrics/_scorer.py\", line 308, in __call__\n",
      "    return self._score(partial(_cached_call, None), estimator, X, y_true, **_kwargs)\n",
      "           ^^^^^^^^^^^^^^^^^^^^^^^^^^^^^^^^^^^^^^^^^^^^^^^^^^^^^^^^^^^^^^^^^^^^^^^^^\n",
      "  File \"/home/dylan/git/CAPSTONE_T316/venv/lib/python3.12/site-packages/sklearn/metrics/_scorer.py\", line 408, in _score\n",
      "    return self._sign * self._score_func(y_true, y_pred, **scoring_kwargs)\n",
      "                        ^^^^^^^^^^^^^^^^^^^^^^^^^^^^^^^^^^^^^^^^^^^^^^^^^^\n",
      "  File \"/home/dylan/git/CAPSTONE_T316/venv/lib/python3.12/site-packages/sklearn/utils/_param_validation.py\", line 218, in wrapper\n",
      "    return func(*args, **kwargs)\n",
      "           ^^^^^^^^^^^^^^^^^^^^^\n",
      "  File \"/home/dylan/git/CAPSTONE_T316/venv/lib/python3.12/site-packages/sklearn/metrics/_regression.py\", line 489, in mean_absolute_percentage_error\n",
      "    _check_reg_targets_with_floating_dtype(\n",
      "  File \"/home/dylan/git/CAPSTONE_T316/venv/lib/python3.12/site-packages/sklearn/metrics/_regression.py\", line 209, in _check_reg_targets_with_floating_dtype\n",
      "    y_type, y_true, y_pred, sample_weight, multioutput = _check_reg_targets(\n",
      "                                                         ^^^^^^^^^^^^^^^^^^^\n",
      "  File \"/home/dylan/git/CAPSTONE_T316/venv/lib/python3.12/site-packages/sklearn/metrics/_regression.py\", line 127, in _check_reg_targets\n",
      "    raise ValueError(\n",
      "ValueError: y_true and y_pred have different number of output (1!=2)\n",
      "\n",
      "  warnings.warn(\n"
     ]
    },
    {
     "name": "stdout",
     "output_type": "stream",
     "text": [
      "[CV] END colsample_bylevel=1.0, depth=10, iterations=1000, l2_leaf_reg=1, learning_rate=0.05, min_child_samples=5, subsample=1.0; total time=28.9min\n"
     ]
    },
    {
     "name": "stderr",
     "output_type": "stream",
     "text": [
      "/home/dylan/git/CAPSTONE_T316/venv/lib/python3.12/site-packages/sklearn/model_selection/_validation.py:953: UserWarning: Scoring failed. The score on this train-test partition for these parameters will be set to nan. Details: \n",
      "Traceback (most recent call last):\n",
      "  File \"/home/dylan/git/CAPSTONE_T316/venv/lib/python3.12/site-packages/sklearn/model_selection/_validation.py\", line 942, in _score\n",
      "    scores = scorer(estimator, X_test, y_test, **score_params)\n",
      "             ^^^^^^^^^^^^^^^^^^^^^^^^^^^^^^^^^^^^^^^^^^^^^^^^^\n",
      "  File \"/home/dylan/git/CAPSTONE_T316/venv/lib/python3.12/site-packages/sklearn/metrics/_scorer.py\", line 308, in __call__\n",
      "    return self._score(partial(_cached_call, None), estimator, X, y_true, **_kwargs)\n",
      "           ^^^^^^^^^^^^^^^^^^^^^^^^^^^^^^^^^^^^^^^^^^^^^^^^^^^^^^^^^^^^^^^^^^^^^^^^^\n",
      "  File \"/home/dylan/git/CAPSTONE_T316/venv/lib/python3.12/site-packages/sklearn/metrics/_scorer.py\", line 408, in _score\n",
      "    return self._sign * self._score_func(y_true, y_pred, **scoring_kwargs)\n",
      "                        ^^^^^^^^^^^^^^^^^^^^^^^^^^^^^^^^^^^^^^^^^^^^^^^^^^\n",
      "  File \"/home/dylan/git/CAPSTONE_T316/venv/lib/python3.12/site-packages/sklearn/utils/_param_validation.py\", line 218, in wrapper\n",
      "    return func(*args, **kwargs)\n",
      "           ^^^^^^^^^^^^^^^^^^^^^\n",
      "  File \"/home/dylan/git/CAPSTONE_T316/venv/lib/python3.12/site-packages/sklearn/metrics/_regression.py\", line 489, in mean_absolute_percentage_error\n",
      "    _check_reg_targets_with_floating_dtype(\n",
      "  File \"/home/dylan/git/CAPSTONE_T316/venv/lib/python3.12/site-packages/sklearn/metrics/_regression.py\", line 209, in _check_reg_targets_with_floating_dtype\n",
      "    y_type, y_true, y_pred, sample_weight, multioutput = _check_reg_targets(\n",
      "                                                         ^^^^^^^^^^^^^^^^^^^\n",
      "  File \"/home/dylan/git/CAPSTONE_T316/venv/lib/python3.12/site-packages/sklearn/metrics/_regression.py\", line 127, in _check_reg_targets\n",
      "    raise ValueError(\n",
      "ValueError: y_true and y_pred have different number of output (1!=2)\n",
      "\n",
      "  warnings.warn(\n"
     ]
    },
    {
     "name": "stdout",
     "output_type": "stream",
     "text": [
      "[CV] END colsample_bylevel=1.0, depth=10, iterations=1000, l2_leaf_reg=1, learning_rate=0.05, min_child_samples=5, subsample=1.0; total time=29.4min\n"
     ]
    },
    {
     "name": "stderr",
     "output_type": "stream",
     "text": [
      "/home/dylan/git/CAPSTONE_T316/venv/lib/python3.12/site-packages/sklearn/model_selection/_validation.py:953: UserWarning: Scoring failed. The score on this train-test partition for these parameters will be set to nan. Details: \n",
      "Traceback (most recent call last):\n",
      "  File \"/home/dylan/git/CAPSTONE_T316/venv/lib/python3.12/site-packages/sklearn/model_selection/_validation.py\", line 942, in _score\n",
      "    scores = scorer(estimator, X_test, y_test, **score_params)\n",
      "             ^^^^^^^^^^^^^^^^^^^^^^^^^^^^^^^^^^^^^^^^^^^^^^^^^\n",
      "  File \"/home/dylan/git/CAPSTONE_T316/venv/lib/python3.12/site-packages/sklearn/metrics/_scorer.py\", line 308, in __call__\n",
      "    return self._score(partial(_cached_call, None), estimator, X, y_true, **_kwargs)\n",
      "           ^^^^^^^^^^^^^^^^^^^^^^^^^^^^^^^^^^^^^^^^^^^^^^^^^^^^^^^^^^^^^^^^^^^^^^^^^\n",
      "  File \"/home/dylan/git/CAPSTONE_T316/venv/lib/python3.12/site-packages/sklearn/metrics/_scorer.py\", line 408, in _score\n",
      "    return self._sign * self._score_func(y_true, y_pred, **scoring_kwargs)\n",
      "                        ^^^^^^^^^^^^^^^^^^^^^^^^^^^^^^^^^^^^^^^^^^^^^^^^^^\n",
      "  File \"/home/dylan/git/CAPSTONE_T316/venv/lib/python3.12/site-packages/sklearn/utils/_param_validation.py\", line 218, in wrapper\n",
      "    return func(*args, **kwargs)\n",
      "           ^^^^^^^^^^^^^^^^^^^^^\n",
      "  File \"/home/dylan/git/CAPSTONE_T316/venv/lib/python3.12/site-packages/sklearn/metrics/_regression.py\", line 489, in mean_absolute_percentage_error\n",
      "    _check_reg_targets_with_floating_dtype(\n",
      "  File \"/home/dylan/git/CAPSTONE_T316/venv/lib/python3.12/site-packages/sklearn/metrics/_regression.py\", line 209, in _check_reg_targets_with_floating_dtype\n",
      "    y_type, y_true, y_pred, sample_weight, multioutput = _check_reg_targets(\n",
      "                                                         ^^^^^^^^^^^^^^^^^^^\n",
      "  File \"/home/dylan/git/CAPSTONE_T316/venv/lib/python3.12/site-packages/sklearn/metrics/_regression.py\", line 127, in _check_reg_targets\n",
      "    raise ValueError(\n",
      "ValueError: y_true and y_pred have different number of output (1!=2)\n",
      "\n",
      "  warnings.warn(\n"
     ]
    },
    {
     "name": "stdout",
     "output_type": "stream",
     "text": [
      "[CV] END colsample_bylevel=0.8, depth=8, iterations=1500, l2_leaf_reg=1, learning_rate=0.1, min_child_samples=5, subsample=0.8; total time=23.4min\n"
     ]
    },
    {
     "name": "stderr",
     "output_type": "stream",
     "text": [
      "/home/dylan/git/CAPSTONE_T316/venv/lib/python3.12/site-packages/sklearn/model_selection/_validation.py:953: UserWarning: Scoring failed. The score on this train-test partition for these parameters will be set to nan. Details: \n",
      "Traceback (most recent call last):\n",
      "  File \"/home/dylan/git/CAPSTONE_T316/venv/lib/python3.12/site-packages/sklearn/model_selection/_validation.py\", line 942, in _score\n",
      "    scores = scorer(estimator, X_test, y_test, **score_params)\n",
      "             ^^^^^^^^^^^^^^^^^^^^^^^^^^^^^^^^^^^^^^^^^^^^^^^^^\n",
      "  File \"/home/dylan/git/CAPSTONE_T316/venv/lib/python3.12/site-packages/sklearn/metrics/_scorer.py\", line 308, in __call__\n",
      "    return self._score(partial(_cached_call, None), estimator, X, y_true, **_kwargs)\n",
      "           ^^^^^^^^^^^^^^^^^^^^^^^^^^^^^^^^^^^^^^^^^^^^^^^^^^^^^^^^^^^^^^^^^^^^^^^^^\n",
      "  File \"/home/dylan/git/CAPSTONE_T316/venv/lib/python3.12/site-packages/sklearn/metrics/_scorer.py\", line 408, in _score\n",
      "    return self._sign * self._score_func(y_true, y_pred, **scoring_kwargs)\n",
      "                        ^^^^^^^^^^^^^^^^^^^^^^^^^^^^^^^^^^^^^^^^^^^^^^^^^^\n",
      "  File \"/home/dylan/git/CAPSTONE_T316/venv/lib/python3.12/site-packages/sklearn/utils/_param_validation.py\", line 218, in wrapper\n",
      "    return func(*args, **kwargs)\n",
      "           ^^^^^^^^^^^^^^^^^^^^^\n",
      "  File \"/home/dylan/git/CAPSTONE_T316/venv/lib/python3.12/site-packages/sklearn/metrics/_regression.py\", line 489, in mean_absolute_percentage_error\n",
      "    _check_reg_targets_with_floating_dtype(\n",
      "  File \"/home/dylan/git/CAPSTONE_T316/venv/lib/python3.12/site-packages/sklearn/metrics/_regression.py\", line 209, in _check_reg_targets_with_floating_dtype\n",
      "    y_type, y_true, y_pred, sample_weight, multioutput = _check_reg_targets(\n",
      "                                                         ^^^^^^^^^^^^^^^^^^^\n",
      "  File \"/home/dylan/git/CAPSTONE_T316/venv/lib/python3.12/site-packages/sklearn/metrics/_regression.py\", line 127, in _check_reg_targets\n",
      "    raise ValueError(\n",
      "ValueError: y_true and y_pred have different number of output (1!=2)\n",
      "\n",
      "  warnings.warn(\n"
     ]
    },
    {
     "name": "stdout",
     "output_type": "stream",
     "text": [
      "[CV] END colsample_bylevel=0.8, depth=8, iterations=1500, l2_leaf_reg=1, learning_rate=0.1, min_child_samples=5, subsample=0.8; total time=23.6min\n"
     ]
    },
    {
     "name": "stderr",
     "output_type": "stream",
     "text": [
      "/home/dylan/git/CAPSTONE_T316/venv/lib/python3.12/site-packages/sklearn/model_selection/_validation.py:953: UserWarning: Scoring failed. The score on this train-test partition for these parameters will be set to nan. Details: \n",
      "Traceback (most recent call last):\n",
      "  File \"/home/dylan/git/CAPSTONE_T316/venv/lib/python3.12/site-packages/sklearn/model_selection/_validation.py\", line 942, in _score\n",
      "    scores = scorer(estimator, X_test, y_test, **score_params)\n",
      "             ^^^^^^^^^^^^^^^^^^^^^^^^^^^^^^^^^^^^^^^^^^^^^^^^^\n",
      "  File \"/home/dylan/git/CAPSTONE_T316/venv/lib/python3.12/site-packages/sklearn/metrics/_scorer.py\", line 308, in __call__\n",
      "    return self._score(partial(_cached_call, None), estimator, X, y_true, **_kwargs)\n",
      "           ^^^^^^^^^^^^^^^^^^^^^^^^^^^^^^^^^^^^^^^^^^^^^^^^^^^^^^^^^^^^^^^^^^^^^^^^^\n",
      "  File \"/home/dylan/git/CAPSTONE_T316/venv/lib/python3.12/site-packages/sklearn/metrics/_scorer.py\", line 408, in _score\n",
      "    return self._sign * self._score_func(y_true, y_pred, **scoring_kwargs)\n",
      "                        ^^^^^^^^^^^^^^^^^^^^^^^^^^^^^^^^^^^^^^^^^^^^^^^^^^\n",
      "  File \"/home/dylan/git/CAPSTONE_T316/venv/lib/python3.12/site-packages/sklearn/utils/_param_validation.py\", line 218, in wrapper\n",
      "    return func(*args, **kwargs)\n",
      "           ^^^^^^^^^^^^^^^^^^^^^\n",
      "  File \"/home/dylan/git/CAPSTONE_T316/venv/lib/python3.12/site-packages/sklearn/metrics/_regression.py\", line 489, in mean_absolute_percentage_error\n",
      "    _check_reg_targets_with_floating_dtype(\n",
      "  File \"/home/dylan/git/CAPSTONE_T316/venv/lib/python3.12/site-packages/sklearn/metrics/_regression.py\", line 209, in _check_reg_targets_with_floating_dtype\n",
      "    y_type, y_true, y_pred, sample_weight, multioutput = _check_reg_targets(\n",
      "                                                         ^^^^^^^^^^^^^^^^^^^\n",
      "  File \"/home/dylan/git/CAPSTONE_T316/venv/lib/python3.12/site-packages/sklearn/metrics/_regression.py\", line 127, in _check_reg_targets\n",
      "    raise ValueError(\n",
      "ValueError: y_true and y_pred have different number of output (1!=2)\n",
      "\n",
      "  warnings.warn(\n"
     ]
    },
    {
     "name": "stdout",
     "output_type": "stream",
     "text": [
      "[CV] END colsample_bylevel=1.0, depth=10, iterations=1000, l2_leaf_reg=1, learning_rate=0.05, min_child_samples=5, subsample=1.0; total time=26.6min\n"
     ]
    },
    {
     "name": "stderr",
     "output_type": "stream",
     "text": [
      "/home/dylan/git/CAPSTONE_T316/venv/lib/python3.12/site-packages/sklearn/model_selection/_validation.py:953: UserWarning: Scoring failed. The score on this train-test partition for these parameters will be set to nan. Details: \n",
      "Traceback (most recent call last):\n",
      "  File \"/home/dylan/git/CAPSTONE_T316/venv/lib/python3.12/site-packages/sklearn/model_selection/_validation.py\", line 942, in _score\n",
      "    scores = scorer(estimator, X_test, y_test, **score_params)\n",
      "             ^^^^^^^^^^^^^^^^^^^^^^^^^^^^^^^^^^^^^^^^^^^^^^^^^\n",
      "  File \"/home/dylan/git/CAPSTONE_T316/venv/lib/python3.12/site-packages/sklearn/metrics/_scorer.py\", line 308, in __call__\n",
      "    return self._score(partial(_cached_call, None), estimator, X, y_true, **_kwargs)\n",
      "           ^^^^^^^^^^^^^^^^^^^^^^^^^^^^^^^^^^^^^^^^^^^^^^^^^^^^^^^^^^^^^^^^^^^^^^^^^\n",
      "  File \"/home/dylan/git/CAPSTONE_T316/venv/lib/python3.12/site-packages/sklearn/metrics/_scorer.py\", line 408, in _score\n",
      "    return self._sign * self._score_func(y_true, y_pred, **scoring_kwargs)\n",
      "                        ^^^^^^^^^^^^^^^^^^^^^^^^^^^^^^^^^^^^^^^^^^^^^^^^^^\n",
      "  File \"/home/dylan/git/CAPSTONE_T316/venv/lib/python3.12/site-packages/sklearn/utils/_param_validation.py\", line 218, in wrapper\n",
      "    return func(*args, **kwargs)\n",
      "           ^^^^^^^^^^^^^^^^^^^^^\n",
      "  File \"/home/dylan/git/CAPSTONE_T316/venv/lib/python3.12/site-packages/sklearn/metrics/_regression.py\", line 489, in mean_absolute_percentage_error\n",
      "    _check_reg_targets_with_floating_dtype(\n",
      "  File \"/home/dylan/git/CAPSTONE_T316/venv/lib/python3.12/site-packages/sklearn/metrics/_regression.py\", line 209, in _check_reg_targets_with_floating_dtype\n",
      "    y_type, y_true, y_pred, sample_weight, multioutput = _check_reg_targets(\n",
      "                                                         ^^^^^^^^^^^^^^^^^^^\n",
      "  File \"/home/dylan/git/CAPSTONE_T316/venv/lib/python3.12/site-packages/sklearn/metrics/_regression.py\", line 127, in _check_reg_targets\n",
      "    raise ValueError(\n",
      "ValueError: y_true and y_pred have different number of output (1!=2)\n",
      "\n",
      "  warnings.warn(\n"
     ]
    },
    {
     "name": "stdout",
     "output_type": "stream",
     "text": [
      "[CV] END colsample_bylevel=0.8, depth=8, iterations=1500, l2_leaf_reg=1, learning_rate=0.1, min_child_samples=5, subsample=0.8; total time=22.2min\n"
     ]
    },
    {
     "name": "stderr",
     "output_type": "stream",
     "text": [
      "/home/dylan/git/CAPSTONE_T316/venv/lib/python3.12/site-packages/sklearn/model_selection/_validation.py:953: UserWarning: Scoring failed. The score on this train-test partition for these parameters will be set to nan. Details: \n",
      "Traceback (most recent call last):\n",
      "  File \"/home/dylan/git/CAPSTONE_T316/venv/lib/python3.12/site-packages/sklearn/model_selection/_validation.py\", line 942, in _score\n",
      "    scores = scorer(estimator, X_test, y_test, **score_params)\n",
      "             ^^^^^^^^^^^^^^^^^^^^^^^^^^^^^^^^^^^^^^^^^^^^^^^^^\n",
      "  File \"/home/dylan/git/CAPSTONE_T316/venv/lib/python3.12/site-packages/sklearn/metrics/_scorer.py\", line 308, in __call__\n",
      "    return self._score(partial(_cached_call, None), estimator, X, y_true, **_kwargs)\n",
      "           ^^^^^^^^^^^^^^^^^^^^^^^^^^^^^^^^^^^^^^^^^^^^^^^^^^^^^^^^^^^^^^^^^^^^^^^^^\n",
      "  File \"/home/dylan/git/CAPSTONE_T316/venv/lib/python3.12/site-packages/sklearn/metrics/_scorer.py\", line 408, in _score\n",
      "    return self._sign * self._score_func(y_true, y_pred, **scoring_kwargs)\n",
      "                        ^^^^^^^^^^^^^^^^^^^^^^^^^^^^^^^^^^^^^^^^^^^^^^^^^^\n",
      "  File \"/home/dylan/git/CAPSTONE_T316/venv/lib/python3.12/site-packages/sklearn/utils/_param_validation.py\", line 218, in wrapper\n",
      "    return func(*args, **kwargs)\n",
      "           ^^^^^^^^^^^^^^^^^^^^^\n",
      "  File \"/home/dylan/git/CAPSTONE_T316/venv/lib/python3.12/site-packages/sklearn/metrics/_regression.py\", line 489, in mean_absolute_percentage_error\n",
      "    _check_reg_targets_with_floating_dtype(\n",
      "  File \"/home/dylan/git/CAPSTONE_T316/venv/lib/python3.12/site-packages/sklearn/metrics/_regression.py\", line 209, in _check_reg_targets_with_floating_dtype\n",
      "    y_type, y_true, y_pred, sample_weight, multioutput = _check_reg_targets(\n",
      "                                                         ^^^^^^^^^^^^^^^^^^^\n",
      "  File \"/home/dylan/git/CAPSTONE_T316/venv/lib/python3.12/site-packages/sklearn/metrics/_regression.py\", line 127, in _check_reg_targets\n",
      "    raise ValueError(\n",
      "ValueError: y_true and y_pred have different number of output (1!=2)\n",
      "\n",
      "  warnings.warn(\n"
     ]
    },
    {
     "name": "stdout",
     "output_type": "stream",
     "text": [
      "[CV] END colsample_bylevel=1.0, depth=8, iterations=1500, l2_leaf_reg=7, learning_rate=0.1, min_child_samples=10, subsample=1.0; total time=19.5min\n"
     ]
    },
    {
     "name": "stderr",
     "output_type": "stream",
     "text": [
      "/home/dylan/git/CAPSTONE_T316/venv/lib/python3.12/site-packages/sklearn/model_selection/_validation.py:953: UserWarning: Scoring failed. The score on this train-test partition for these parameters will be set to nan. Details: \n",
      "Traceback (most recent call last):\n",
      "  File \"/home/dylan/git/CAPSTONE_T316/venv/lib/python3.12/site-packages/sklearn/model_selection/_validation.py\", line 942, in _score\n",
      "    scores = scorer(estimator, X_test, y_test, **score_params)\n",
      "             ^^^^^^^^^^^^^^^^^^^^^^^^^^^^^^^^^^^^^^^^^^^^^^^^^\n",
      "  File \"/home/dylan/git/CAPSTONE_T316/venv/lib/python3.12/site-packages/sklearn/metrics/_scorer.py\", line 308, in __call__\n",
      "    return self._score(partial(_cached_call, None), estimator, X, y_true, **_kwargs)\n",
      "           ^^^^^^^^^^^^^^^^^^^^^^^^^^^^^^^^^^^^^^^^^^^^^^^^^^^^^^^^^^^^^^^^^^^^^^^^^\n",
      "  File \"/home/dylan/git/CAPSTONE_T316/venv/lib/python3.12/site-packages/sklearn/metrics/_scorer.py\", line 408, in _score\n",
      "    return self._sign * self._score_func(y_true, y_pred, **scoring_kwargs)\n",
      "                        ^^^^^^^^^^^^^^^^^^^^^^^^^^^^^^^^^^^^^^^^^^^^^^^^^^\n",
      "  File \"/home/dylan/git/CAPSTONE_T316/venv/lib/python3.12/site-packages/sklearn/utils/_param_validation.py\", line 218, in wrapper\n",
      "    return func(*args, **kwargs)\n",
      "           ^^^^^^^^^^^^^^^^^^^^^\n",
      "  File \"/home/dylan/git/CAPSTONE_T316/venv/lib/python3.12/site-packages/sklearn/metrics/_regression.py\", line 489, in mean_absolute_percentage_error\n",
      "    _check_reg_targets_with_floating_dtype(\n",
      "  File \"/home/dylan/git/CAPSTONE_T316/venv/lib/python3.12/site-packages/sklearn/metrics/_regression.py\", line 209, in _check_reg_targets_with_floating_dtype\n",
      "    y_type, y_true, y_pred, sample_weight, multioutput = _check_reg_targets(\n",
      "                                                         ^^^^^^^^^^^^^^^^^^^\n",
      "  File \"/home/dylan/git/CAPSTONE_T316/venv/lib/python3.12/site-packages/sklearn/metrics/_regression.py\", line 127, in _check_reg_targets\n",
      "    raise ValueError(\n",
      "ValueError: y_true and y_pred have different number of output (1!=2)\n",
      "\n",
      "  warnings.warn(\n"
     ]
    },
    {
     "name": "stdout",
     "output_type": "stream",
     "text": [
      "[CV] END colsample_bylevel=1.0, depth=8, iterations=1500, l2_leaf_reg=7, learning_rate=0.1, min_child_samples=10, subsample=1.0; total time=19.8min\n"
     ]
    },
    {
     "name": "stderr",
     "output_type": "stream",
     "text": [
      "/home/dylan/git/CAPSTONE_T316/venv/lib/python3.12/site-packages/sklearn/model_selection/_validation.py:953: UserWarning: Scoring failed. The score on this train-test partition for these parameters will be set to nan. Details: \n",
      "Traceback (most recent call last):\n",
      "  File \"/home/dylan/git/CAPSTONE_T316/venv/lib/python3.12/site-packages/sklearn/model_selection/_validation.py\", line 942, in _score\n",
      "    scores = scorer(estimator, X_test, y_test, **score_params)\n",
      "             ^^^^^^^^^^^^^^^^^^^^^^^^^^^^^^^^^^^^^^^^^^^^^^^^^\n",
      "  File \"/home/dylan/git/CAPSTONE_T316/venv/lib/python3.12/site-packages/sklearn/metrics/_scorer.py\", line 308, in __call__\n",
      "    return self._score(partial(_cached_call, None), estimator, X, y_true, **_kwargs)\n",
      "           ^^^^^^^^^^^^^^^^^^^^^^^^^^^^^^^^^^^^^^^^^^^^^^^^^^^^^^^^^^^^^^^^^^^^^^^^^\n",
      "  File \"/home/dylan/git/CAPSTONE_T316/venv/lib/python3.12/site-packages/sklearn/metrics/_scorer.py\", line 408, in _score\n",
      "    return self._sign * self._score_func(y_true, y_pred, **scoring_kwargs)\n",
      "                        ^^^^^^^^^^^^^^^^^^^^^^^^^^^^^^^^^^^^^^^^^^^^^^^^^^\n",
      "  File \"/home/dylan/git/CAPSTONE_T316/venv/lib/python3.12/site-packages/sklearn/utils/_param_validation.py\", line 218, in wrapper\n",
      "    return func(*args, **kwargs)\n",
      "           ^^^^^^^^^^^^^^^^^^^^^\n",
      "  File \"/home/dylan/git/CAPSTONE_T316/venv/lib/python3.12/site-packages/sklearn/metrics/_regression.py\", line 489, in mean_absolute_percentage_error\n",
      "    _check_reg_targets_with_floating_dtype(\n",
      "  File \"/home/dylan/git/CAPSTONE_T316/venv/lib/python3.12/site-packages/sklearn/metrics/_regression.py\", line 209, in _check_reg_targets_with_floating_dtype\n",
      "    y_type, y_true, y_pred, sample_weight, multioutput = _check_reg_targets(\n",
      "                                                         ^^^^^^^^^^^^^^^^^^^\n",
      "  File \"/home/dylan/git/CAPSTONE_T316/venv/lib/python3.12/site-packages/sklearn/metrics/_regression.py\", line 127, in _check_reg_targets\n",
      "    raise ValueError(\n",
      "ValueError: y_true and y_pred have different number of output (1!=2)\n",
      "\n",
      "  warnings.warn(\n"
     ]
    },
    {
     "name": "stdout",
     "output_type": "stream",
     "text": [
      "[CV] END colsample_bylevel=1.0, depth=8, iterations=1500, l2_leaf_reg=7, learning_rate=0.1, min_child_samples=10, subsample=1.0; total time=16.4min\n"
     ]
    },
    {
     "name": "stderr",
     "output_type": "stream",
     "text": [
      "/home/dylan/git/CAPSTONE_T316/venv/lib/python3.12/site-packages/sklearn/model_selection/_validation.py:953: UserWarning: Scoring failed. The score on this train-test partition for these parameters will be set to nan. Details: \n",
      "Traceback (most recent call last):\n",
      "  File \"/home/dylan/git/CAPSTONE_T316/venv/lib/python3.12/site-packages/sklearn/model_selection/_validation.py\", line 942, in _score\n",
      "    scores = scorer(estimator, X_test, y_test, **score_params)\n",
      "             ^^^^^^^^^^^^^^^^^^^^^^^^^^^^^^^^^^^^^^^^^^^^^^^^^\n",
      "  File \"/home/dylan/git/CAPSTONE_T316/venv/lib/python3.12/site-packages/sklearn/metrics/_scorer.py\", line 308, in __call__\n",
      "    return self._score(partial(_cached_call, None), estimator, X, y_true, **_kwargs)\n",
      "           ^^^^^^^^^^^^^^^^^^^^^^^^^^^^^^^^^^^^^^^^^^^^^^^^^^^^^^^^^^^^^^^^^^^^^^^^^\n",
      "  File \"/home/dylan/git/CAPSTONE_T316/venv/lib/python3.12/site-packages/sklearn/metrics/_scorer.py\", line 408, in _score\n",
      "    return self._sign * self._score_func(y_true, y_pred, **scoring_kwargs)\n",
      "                        ^^^^^^^^^^^^^^^^^^^^^^^^^^^^^^^^^^^^^^^^^^^^^^^^^^\n",
      "  File \"/home/dylan/git/CAPSTONE_T316/venv/lib/python3.12/site-packages/sklearn/utils/_param_validation.py\", line 218, in wrapper\n",
      "    return func(*args, **kwargs)\n",
      "           ^^^^^^^^^^^^^^^^^^^^^\n",
      "  File \"/home/dylan/git/CAPSTONE_T316/venv/lib/python3.12/site-packages/sklearn/metrics/_regression.py\", line 489, in mean_absolute_percentage_error\n",
      "    _check_reg_targets_with_floating_dtype(\n",
      "  File \"/home/dylan/git/CAPSTONE_T316/venv/lib/python3.12/site-packages/sklearn/metrics/_regression.py\", line 209, in _check_reg_targets_with_floating_dtype\n",
      "    y_type, y_true, y_pred, sample_weight, multioutput = _check_reg_targets(\n",
      "                                                         ^^^^^^^^^^^^^^^^^^^\n",
      "  File \"/home/dylan/git/CAPSTONE_T316/venv/lib/python3.12/site-packages/sklearn/metrics/_regression.py\", line 127, in _check_reg_targets\n",
      "    raise ValueError(\n",
      "ValueError: y_true and y_pred have different number of output (1!=2)\n",
      "\n",
      "  warnings.warn(\n"
     ]
    },
    {
     "name": "stdout",
     "output_type": "stream",
     "text": [
      "[CV] END colsample_bylevel=0.8, depth=10, iterations=1500, l2_leaf_reg=1, learning_rate=0.1, min_child_samples=5, subsample=0.8; total time=17.2min\n"
     ]
    },
    {
     "name": "stderr",
     "output_type": "stream",
     "text": [
      "/home/dylan/git/CAPSTONE_T316/venv/lib/python3.12/site-packages/sklearn/model_selection/_validation.py:953: UserWarning: Scoring failed. The score on this train-test partition for these parameters will be set to nan. Details: \n",
      "Traceback (most recent call last):\n",
      "  File \"/home/dylan/git/CAPSTONE_T316/venv/lib/python3.12/site-packages/sklearn/model_selection/_validation.py\", line 942, in _score\n",
      "    scores = scorer(estimator, X_test, y_test, **score_params)\n",
      "             ^^^^^^^^^^^^^^^^^^^^^^^^^^^^^^^^^^^^^^^^^^^^^^^^^\n",
      "  File \"/home/dylan/git/CAPSTONE_T316/venv/lib/python3.12/site-packages/sklearn/metrics/_scorer.py\", line 308, in __call__\n",
      "    return self._score(partial(_cached_call, None), estimator, X, y_true, **_kwargs)\n",
      "           ^^^^^^^^^^^^^^^^^^^^^^^^^^^^^^^^^^^^^^^^^^^^^^^^^^^^^^^^^^^^^^^^^^^^^^^^^\n",
      "  File \"/home/dylan/git/CAPSTONE_T316/venv/lib/python3.12/site-packages/sklearn/metrics/_scorer.py\", line 408, in _score\n",
      "    return self._sign * self._score_func(y_true, y_pred, **scoring_kwargs)\n",
      "                        ^^^^^^^^^^^^^^^^^^^^^^^^^^^^^^^^^^^^^^^^^^^^^^^^^^\n",
      "  File \"/home/dylan/git/CAPSTONE_T316/venv/lib/python3.12/site-packages/sklearn/utils/_param_validation.py\", line 218, in wrapper\n",
      "    return func(*args, **kwargs)\n",
      "           ^^^^^^^^^^^^^^^^^^^^^\n",
      "  File \"/home/dylan/git/CAPSTONE_T316/venv/lib/python3.12/site-packages/sklearn/metrics/_regression.py\", line 489, in mean_absolute_percentage_error\n",
      "    _check_reg_targets_with_floating_dtype(\n",
      "  File \"/home/dylan/git/CAPSTONE_T316/venv/lib/python3.12/site-packages/sklearn/metrics/_regression.py\", line 209, in _check_reg_targets_with_floating_dtype\n",
      "    y_type, y_true, y_pred, sample_weight, multioutput = _check_reg_targets(\n",
      "                                                         ^^^^^^^^^^^^^^^^^^^\n",
      "  File \"/home/dylan/git/CAPSTONE_T316/venv/lib/python3.12/site-packages/sklearn/metrics/_regression.py\", line 127, in _check_reg_targets\n",
      "    raise ValueError(\n",
      "ValueError: y_true and y_pred have different number of output (1!=2)\n",
      "\n",
      "  warnings.warn(\n"
     ]
    },
    {
     "name": "stdout",
     "output_type": "stream",
     "text": [
      "[CV] END colsample_bylevel=0.8, depth=10, iterations=1500, l2_leaf_reg=1, learning_rate=0.1, min_child_samples=5, subsample=0.8; total time=11.4min\n"
     ]
    },
    {
     "name": "stderr",
     "output_type": "stream",
     "text": [
      "/home/dylan/git/CAPSTONE_T316/venv/lib/python3.12/site-packages/sklearn/model_selection/_validation.py:953: UserWarning: Scoring failed. The score on this train-test partition for these parameters will be set to nan. Details: \n",
      "Traceback (most recent call last):\n",
      "  File \"/home/dylan/git/CAPSTONE_T316/venv/lib/python3.12/site-packages/sklearn/model_selection/_validation.py\", line 942, in _score\n",
      "    scores = scorer(estimator, X_test, y_test, **score_params)\n",
      "             ^^^^^^^^^^^^^^^^^^^^^^^^^^^^^^^^^^^^^^^^^^^^^^^^^\n",
      "  File \"/home/dylan/git/CAPSTONE_T316/venv/lib/python3.12/site-packages/sklearn/metrics/_scorer.py\", line 308, in __call__\n",
      "    return self._score(partial(_cached_call, None), estimator, X, y_true, **_kwargs)\n",
      "           ^^^^^^^^^^^^^^^^^^^^^^^^^^^^^^^^^^^^^^^^^^^^^^^^^^^^^^^^^^^^^^^^^^^^^^^^^\n",
      "  File \"/home/dylan/git/CAPSTONE_T316/venv/lib/python3.12/site-packages/sklearn/metrics/_scorer.py\", line 408, in _score\n",
      "    return self._sign * self._score_func(y_true, y_pred, **scoring_kwargs)\n",
      "                        ^^^^^^^^^^^^^^^^^^^^^^^^^^^^^^^^^^^^^^^^^^^^^^^^^^\n",
      "  File \"/home/dylan/git/CAPSTONE_T316/venv/lib/python3.12/site-packages/sklearn/utils/_param_validation.py\", line 218, in wrapper\n",
      "    return func(*args, **kwargs)\n",
      "           ^^^^^^^^^^^^^^^^^^^^^\n",
      "  File \"/home/dylan/git/CAPSTONE_T316/venv/lib/python3.12/site-packages/sklearn/metrics/_regression.py\", line 489, in mean_absolute_percentage_error\n",
      "    _check_reg_targets_with_floating_dtype(\n",
      "  File \"/home/dylan/git/CAPSTONE_T316/venv/lib/python3.12/site-packages/sklearn/metrics/_regression.py\", line 209, in _check_reg_targets_with_floating_dtype\n",
      "    y_type, y_true, y_pred, sample_weight, multioutput = _check_reg_targets(\n",
      "                                                         ^^^^^^^^^^^^^^^^^^^\n",
      "  File \"/home/dylan/git/CAPSTONE_T316/venv/lib/python3.12/site-packages/sklearn/metrics/_regression.py\", line 127, in _check_reg_targets\n",
      "    raise ValueError(\n",
      "ValueError: y_true and y_pred have different number of output (1!=2)\n",
      "\n",
      "  warnings.warn(\n",
      "/home/dylan/git/CAPSTONE_T316/venv/lib/python3.12/site-packages/sklearn/model_selection/_search.py:1135: UserWarning: One or more of the test scores are non-finite: [nan nan nan nan nan nan nan nan nan nan nan nan nan nan nan nan nan nan\n",
      " nan nan nan nan nan nan nan]\n",
      "  warnings.warn(\n"
     ]
    },
    {
     "name": "stdout",
     "output_type": "stream",
     "text": [
      "[CV] END colsample_bylevel=0.8, depth=10, iterations=1500, l2_leaf_reg=1, learning_rate=0.1, min_child_samples=5, subsample=0.8; total time=11.4min\n",
      "Best params: {'subsample': 1.0, 'min_child_samples': 10, 'learning_rate': 0.1, 'l2_leaf_reg': 7, 'iterations': 1500, 'depth': 10, 'colsample_bylevel': 0.8}\n",
      "Best CV score (MAPE): nan\n"
     ]
    }
   ],
   "source": [
    "random_search.fit(\n",
    "    X_train, y_train,\n",
    "    cat_features=cat_feature_indices,\n",
    "    early_stopping_rounds=200\n",
    ")\n",
    "\n",
    "print(\"Best params:\", random_search.best_params_)\n",
    "print(\"Best CV score (MAPE):\", -random_search.best_score_)"
   ]
  },
  {
   "cell_type": "code",
   "execution_count": 17,
   "id": "2f9941ac",
   "metadata": {},
   "outputs": [
    {
     "name": "stdout",
     "output_type": "stream",
     "text": [
      "0:\tlearn: 2.8276671\ttest: 2.8111416\tbest: 2.8111416 (0)\ttotal: 78.6ms\tremaining: 1m 57s\n",
      "100:\tlearn: 0.8582503\ttest: 0.7867821\tbest: 0.7867821 (100)\ttotal: 4.65s\tremaining: 1m 4s\n",
      "200:\tlearn: 0.8401748\ttest: 0.7748085\tbest: 0.7747633 (199)\ttotal: 9.9s\tremaining: 1m 3s\n",
      "300:\tlearn: 0.8270388\ttest: 0.7684103\tbest: 0.7682559 (299)\ttotal: 15.7s\tremaining: 1m 2s\n",
      "400:\tlearn: 0.8188339\ttest: 0.7635632\tbest: 0.7635632 (400)\ttotal: 21.6s\tremaining: 59.2s\n",
      "500:\tlearn: 0.8125020\ttest: 0.7623897\tbest: 0.7620267 (499)\ttotal: 27.4s\tremaining: 54.7s\n",
      "600:\tlearn: 0.8075785\ttest: 0.7628710\tbest: 0.7613204 (553)\ttotal: 33.2s\tremaining: 49.7s\n",
      "700:\tlearn: 0.7958293\ttest: 0.7564808\tbest: 0.7564808 (700)\ttotal: 38.9s\tremaining: 44.4s\n",
      "800:\tlearn: 0.7904401\ttest: 0.7541990\tbest: 0.7536843 (793)\ttotal: 44.2s\tremaining: 38.6s\n",
      "900:\tlearn: 0.7865051\ttest: 0.7537353\tbest: 0.7535983 (899)\ttotal: 49.9s\tremaining: 33.2s\n",
      "1000:\tlearn: 0.7818094\ttest: 0.7541402\tbest: 0.7533834 (945)\ttotal: 55.6s\tremaining: 27.7s\n",
      "1100:\tlearn: 0.7733754\ttest: 0.7505228\tbest: 0.7505228 (1100)\ttotal: 1m 1s\tremaining: 22.2s\n",
      "1200:\tlearn: 0.7675605\ttest: 0.7481925\tbest: 0.7481485 (1195)\ttotal: 1m 7s\tremaining: 16.7s\n",
      "1300:\tlearn: 0.7642230\ttest: 0.7482295\tbest: 0.7477212 (1212)\ttotal: 1m 12s\tremaining: 11.1s\n",
      "1400:\tlearn: 0.7601513\ttest: 0.7471016\tbest: 0.7467590 (1394)\ttotal: 1m 18s\tremaining: 5.55s\n",
      "1499:\tlearn: 0.7547277\ttest: 0.7479436\tbest: 0.7467590 (1394)\ttotal: 1m 24s\tremaining: 0us\n",
      "\n",
      "bestTest = 0.7467590039\n",
      "bestIteration = 1394\n",
      "\n",
      "Shrink model to first 1395 iterations.\n"
     ]
    },
    {
     "data": {
      "text/plain": [
       "<catboost.core.CatBoostRegressor at 0x7f08aed33d40>"
      ]
     },
     "execution_count": 17,
     "metadata": {},
     "output_type": "execute_result"
    }
   ],
   "source": [
    "best_params = random_search.best_params_\n",
    "\n",
    "best_model = CatBoostRegressor(\n",
    "    **best_params,\n",
    "    cat_features=cat_feature_indices,\n",
    "    eval_metric='MAPE',\n",
    "    random_seed=42,\n",
    "    verbose=100\n",
    ")\n",
    "\n",
    "best_model.fit(\n",
    "    X_train, y_train,\n",
    "    eval_set=(X_val, y_val),\n",
    "    use_best_model=True,\n",
    "    early_stopping_rounds=200\n",
    ")\n"
   ]
  },
  {
   "cell_type": "code",
   "execution_count": 20,
   "id": "56cc106b",
   "metadata": {},
   "outputs": [
    {
     "name": "stdout",
     "output_type": "stream",
     "text": [
      "MAE: 155.13289343871145\n",
      "RMSE: 501.8763883100623\n",
      "MAPE: 74.13%\n"
     ]
    }
   ],
   "source": [
    "y_pred = best_model.predict(X_test)\n",
    "print(\"MAE:\", mean_absolute_error(y_test, y_pred))\n",
    "print(\"RMSE:\", np.sqrt(mean_squared_error(y_test, y_pred)))\n",
    "mape = mean_absolute_percentage_error(y_test, y_pred)\n",
    "print(f\"MAPE: {mape:.2f}%\")"
   ]
  },
  {
   "cell_type": "code",
   "execution_count": 21,
   "id": "79910eef",
   "metadata": {},
   "outputs": [
    {
     "data": {
      "image/png": "[encoded data removed]",
      "text/plain": [
       "<Figure size 800x500 with 1 Axes>"
      ]
     },
     "metadata": {},
     "output_type": "display_data"
    }
   ],
   "source": [
    "evals_result = best_model.get_evals_result()\n",
    "\n",
    "# Plot loss curves\n",
    "plt.figure(figsize=(8,5))\n",
    "plt.plot(evals_result['learn']['RMSE'], label='Training loss')\n",
    "plt.plot(evals_result['validation']['RMSE'], label='Validation loss')\n",
    "plt.xlabel('Iterations')\n",
    "plt.ylabel('RMSE')\n",
    "plt.legend()\n",
    "plt.title('Training vs Validation Loss')\n",
    "plt.show()"
   ]
  },
  {
   "cell_type": "code",
   "execution_count": 22,
   "id": "4917eb3b",
   "metadata": {},
   "outputs": [
    {
     "data": {
      "image/png": "[encoded data removed]",
      "text/plain": [
       "<Figure size 800x600 with 1 Axes>"
      ]
     },
     "metadata": {},
     "output_type": "display_data"
    }
   ],
   "source": [
    "residuals = y_test - y_pred\n",
    "plt.figure(figsize=(8,6))\n",
    "plt.scatter(y_pred, residuals, alpha=0.5)\n",
    "plt.axhline(0, color='red', linestyle='--')\n",
    "plt.xlabel(\"Predicted Price\")\n",
    "plt.ylabel(\"Residual (Actual - Predicted)\")\n",
    "plt.title(\"Residual Plot\")\n",
    "plt.show()"
   ]
  },
  {
   "cell_type": "code",
   "execution_count": 23,
   "id": "a1b3d5de",
   "metadata": {},
   "outputs": [
    {
     "data": {
      "image/png": "[encoded data removed]",
      "text/plain": [
       "<Figure size 800x600 with 1 Axes>"
      ]
     },
     "metadata": {},
     "output_type": "display_data"
    }
   ],
   "source": [
    "plt.figure(figsize=(8,6))\n",
    "plt.hist(residuals, bins=50, edgecolor='k', alpha=0.7)\n",
    "plt.axvline(0, color='red', linestyle='--')\n",
    "plt.xlabel(\"Error\")\n",
    "plt.ylabel(\"Frequency\")\n",
    "plt.title(\"Distribution of Prediction Errors\")\n",
    "plt.show()"
   ]
  },
  {
   "cell_type": "code",
   "execution_count": 24,
   "id": "0aebebc8",
   "metadata": {},
   "outputs": [
    {
     "data": {
      "image/png": "[encoded data removed]",
      "text/plain": [
       "<Figure size 1000x600 with 1 Axes>"
      ]
     },
     "metadata": {},
     "output_type": "display_data"
    }
   ],
   "source": [
    "importance = best_model.get_feature_importance()\n",
    "feature_names = X_train.columns  # or your list of feature names\n",
    "\n",
    "plt.figure(figsize=(10,6))\n",
    "plt.barh(feature_names, importance)\n",
    "plt.xlabel('Feature Importance')\n",
    "plt.title('CatBoost Feature Importance')\n",
    "plt.show()"
   ]
  },
  {
   "cell_type": "code",
   "execution_count": 25,
   "id": "5080d59a",
   "metadata": {},
   "outputs": [
    {
     "name": "stderr",
     "output_type": "stream",
     "text": [
      "/home/dylan/git/CAPSTONE_T316/venv/lib/python3.12/site-packages/tqdm/auto.py:21: TqdmWarning: IProgress not found. Please update jupyter and ipywidgets. See https://ipywidgets.readthedocs.io/en/stable/user_install.html\n",
      "  from .autonotebook import tqdm as notebook_tqdm\n"
     ]
    },
    {
     "data": {
      "image/png": "[encoded data removed]",
      "text/plain": [
       "<Figure size 800x510 with 2 Axes>"
      ]
     },
     "metadata": {},
     "output_type": "display_data"
    }
   ],
   "source": [
    "import shap\n",
    "\n",
    "explainer = shap.TreeExplainer(best_model)\n",
    "shap_values = explainer.shap_values(X_test)\n",
    "\n",
    "shap.summary_plot(shap_values, X_test)"
   ]
  },
  {
   "cell_type": "code",
   "execution_count": 26,
   "id": "f6dd0f1c",
   "metadata": {},
   "outputs": [],
   "source": [
    "best_model.save_model('models/repair_model.cbm')"
   ]
  }
 ],
 "metadata": {
  "kernelspec": {
   "display_name": "venv",
   "language": "python",
   "name": "python3"
  },
  "language_info": {
   "codemirror_mode": {
    "name": "ipython",
    "version": 3
   },
   "file_extension": ".py",
   "mimetype": "text/x-python",
   "name": "python",
   "nbconvert_exporter": "python",
   "pygments_lexer": "ipython3",
   "version": "3.12.3"
  }
 },
 "nbformat": 4,
 "nbformat_minor": 5
}
