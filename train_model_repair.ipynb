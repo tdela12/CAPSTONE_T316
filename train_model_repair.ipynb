{
 "cells": [
  {
   "cell_type": "markdown",
   "id": "2f7e1b05",
   "metadata": {},
   "source": [
    "## Import Statements"
   ]
  },
  {
   "cell_type": "code",
   "execution_count": null,
   "id": "3e4670d3",
   "metadata": {},
   "outputs": [],
   "source": [
    "import pandas as pd\n",
    "from sklearn.model_selection import train_test_split\n",
    "import numpy as np\n",
    "import matplotlib.pyplot as plt\n",
    "from sklearn.model_selection import GridSearchCV, RandomizedSearchCV\n",
    "from catboost import CatBoostRegressor\n"
   ]
  },
  {
   "cell_type": "markdown",
   "id": "a52d2b89",
   "metadata": {},
   "source": [
    "## Read in Data"
   ]
  },
  {
   "cell_type": "code",
   "execution_count": null,
   "id": "04320f19",
   "metadata": {},
   "outputs": [],
   "source": [
    "df = pd.read_csv('../../data/preprocessed_repair_data.csv')\n",
    "df = df[df['Label'] == 1];\n",
    "df.drop(columns=['Label', 'Distance', 'Months', 'Odometer'], inplace=True)\n",
    "df.head()"
   ]
  },
  {
   "cell_type": "code",
   "execution_count": null,
   "id": "570343e3",
   "metadata": {},
   "outputs": [],
   "source": [
    "X = df.drop(columns=[\"AdjustedPrice\"])  \n",
    "y = df[\"AdjustedPrice\"]       "
   ]
  },
  {
   "cell_type": "code",
   "execution_count": null,
   "id": "1947689e",
   "metadata": {},
   "outputs": [],
   "source": [
    "X_train, X_test, y_train, y_test = train_test_split(\n",
    "    X, y, test_size=0.2, random_state=42\n",
    ")"
   ]
  },
  {
   "cell_type": "code",
   "execution_count": null,
   "id": "e93dffdc",
   "metadata": {},
   "outputs": [],
   "source": [
    "# Identify feature types\n",
    "cat_features = X_train.select_dtypes(include=[\"object\", \"category\"]).columns"
   ]
  },
  {
   "cell_type": "code",
   "execution_count": null,
   "id": "63b026b0",
   "metadata": {},
   "outputs": [],
   "source": [
    "for col in X_train.select_dtypes(include='object').columns:\n",
    "     X_train[col] = X_train[col].fillna(\"missing\")\n",
    "\n",
    "for col in X_test.select_dtypes(include='object').columns:\n",
    "   X_test[col] = X_test[col].fillna(\"missing\")"
   ]
  },
  {
   "cell_type": "code",
   "execution_count": null,
   "id": "86e2a4a8",
   "metadata": {},
   "outputs": [],
   "source": [
    "def mean_absolute_percentage_error(y_true, y_pred):\n",
    "    y_true, y_pred = np.array(y_true), np.array(y_pred)\n",
    "    # Avoid division by zero\n",
    "    nonzero_mask = y_true != 0\n",
    "    return np.mean(np.abs((y_true[nonzero_mask] - y_pred[nonzero_mask]) / y_true[nonzero_mask])) * 100"
   ]
  },
  {
   "cell_type": "code",
   "execution_count": null,
   "id": "750324f4",
   "metadata": {},
   "outputs": [],
   "source": [
    "\n",
    "cat_feature_indices = [0, 1, 2, 4, 6, 7]\n",
    "param_grid = {\n",
    "    'depth': [6, 8, 10],\n",
    "    'learning_rate': [0.01, 0.03, 0.05, 0.1],\n",
    "    'l2_leaf_reg': [1, 3, 5, 7],\n",
    "    'iterations': [1000, 1500],\n",
    "    'subsample': [0.8, 0.9, 1.0],\n",
    "    'colsample_bylevel': [0.8, 0.9, 1.0],\n",
    "    'min_child_samples': [5, 10, 20]\n",
    "}\n",
    "\n",
    "model = CatBoostRegressor(\n",
    "    cat_features=cat_feature_indices,\n",
    "    eval_metric='MAPE',\n",
    "    od_type='Iter',\n",
    "    od_wait=50,\n",
    "    random_seed=42,\n",
    "    verbose=100\n",
    ")\n",
    "\n",
    "random_search = RandomizedSearchCV(model, param_distributions=param_grid, n_iter=25, cv=3, scoring='neg_mean_absolute_percentage_error')\n",
    "\n",
    "random_search.fit(X_train, y_train, \n",
    "                  verbose=False)\n",
    "\n",
    "best_model = random_search.best_estimator_\n",
    "\n",
    "print(\"Best params:\", random_search.best_params_)\n",
    "print(\"Best score:\", -random_search.best_score_)"
   ]
  },
  {
   "cell_type": "code",
   "execution_count": null,
   "id": "5f44e76a",
   "metadata": {},
   "outputs": [],
   "source": [
    "best_model = CatBoostRegressor(\n",
    "    cat_features=cat_feature_indices,\n",
    "    eval_metric='MAPE',)"
   ]
  },
  {
   "cell_type": "code",
   "execution_count": null,
   "id": "2f9941ac",
   "metadata": {},
   "outputs": [],
   "source": [
    "\n",
    "\n",
    "from sklearn.metrics import mean_absolute_error, mean_squared_error\n",
    "import numpy as np\n",
    "best_model.fit(X_train, y_train)\n",
    "\n",
    "y_pred = best_model.predict(X_test)\n",
    "print(\"MAE:\", mean_absolute_error(y_test, y_pred))\n",
    "print(\"RMSE:\", np.sqrt(mean_squared_error(y_test, y_pred)))\n",
    "mape = mean_absolute_percentage_error(y_test, y_pred)\n",
    "print(f\"MAPE: {mape:.2f}%\")\n"
   ]
  },
  {
   "cell_type": "code",
   "execution_count": null,
   "id": "56cc106b",
   "metadata": {},
   "outputs": [],
   "source": [
    "importance = best_model.get_feature_importance()\n",
    "feature_names = X_train.columns  # or your list of feature names\n",
    "\n",
    "plt.figure(figsize=(10,6))\n",
    "plt.barh(feature_names, importance)\n",
    "plt.xlabel('Feature Importance')\n",
    "plt.title('CatBoost Feature Importance')\n",
    "plt.show()"
   ]
  },
  {
   "cell_type": "code",
   "execution_count": null,
   "id": "f6dd0f1c",
   "metadata": {},
   "outputs": [],
   "source": [
    "best_model.save_model('repair_model.cbm')"
   ]
  }
 ],
 "metadata": {
  "kernelspec": {
   "display_name": "venv",
   "language": "python",
   "name": "python3"
  },
  "language_info": {
   "codemirror_mode": {
    "name": "ipython",
    "version": 3
   },
   "file_extension": ".py",
   "mimetype": "text/x-python",
   "name": "python",
   "nbconvert_exporter": "python",
   "pygments_lexer": "ipython3",
   "version": "3.12.3"
  }
 },
 "nbformat": 4,
 "nbformat_minor": 5
}
