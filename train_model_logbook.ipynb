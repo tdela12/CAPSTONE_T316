{
 "cells": [
  {
   "cell_type": "markdown",
   "id": "2f7e1b05",
   "metadata": {},
   "source": [
    "## Import Statements"
   ]
  },
  {
   "cell_type": "code",
   "execution_count": 1,
   "id": "3e4670d3",
   "metadata": {},
   "outputs": [],
   "source": [
    "import pandas as pd\n",
    "from sklearn.model_selection import train_test_split\n",
    "import numpy as np\n",
    "import matplotlib.pyplot as plt\n",
    "from sklearn.model_selection import RandomizedSearchCV\n",
    "from catboost import CatBoostRegressor\n",
    "from sklearn.metrics import mean_absolute_error, mean_squared_error"
   ]
  },
  {
   "cell_type": "markdown",
   "id": "a52d2b89",
   "metadata": {},
   "source": [
    "## Read in Data"
   ]
  },
  {
   "cell_type": "code",
   "execution_count": 2,
   "id": "04320f19",
   "metadata": {},
   "outputs": [
    {
     "data": {
      "text/html": [
       "<div>\n",
       "<style scoped>\n",
       "    .dataframe tbody tr th:only-of-type {\n",
       "        vertical-align: middle;\n",
       "    }\n",
       "\n",
       "    .dataframe tbody tr th {\n",
       "        vertical-align: top;\n",
       "    }\n",
       "\n",
       "    .dataframe thead th {\n",
       "        text-align: right;\n",
       "    }\n",
       "</style>\n",
       "<table border=\"1\" class=\"dataframe\">\n",
       "  <thead>\n",
       "    <tr style=\"text-align: right;\">\n",
       "      <th></th>\n",
       "      <th>Odometer</th>\n",
       "      <th>Make</th>\n",
       "      <th>Model</th>\n",
       "      <th>Year</th>\n",
       "      <th>FuelType</th>\n",
       "      <th>EngineSize</th>\n",
       "      <th>Distance</th>\n",
       "      <th>Months</th>\n",
       "      <th>AdjustedPrice</th>\n",
       "    </tr>\n",
       "  </thead>\n",
       "  <tbody>\n",
       "    <tr>\n",
       "      <th>1</th>\n",
       "      <td>72199.0</td>\n",
       "      <td>SKODA</td>\n",
       "      <td>SKODA FABIA III</td>\n",
       "      <td>2017</td>\n",
       "      <td>Petrol</td>\n",
       "      <td>1.0</td>\n",
       "      <td>75000.0</td>\n",
       "      <td>60.0</td>\n",
       "      <td>710.0</td>\n",
       "    </tr>\n",
       "    <tr>\n",
       "      <th>4</th>\n",
       "      <td>81168.0</td>\n",
       "      <td>MAZDA</td>\n",
       "      <td>MAZDA CX-9</td>\n",
       "      <td>2018</td>\n",
       "      <td>Petrol</td>\n",
       "      <td>2.5</td>\n",
       "      <td>80000.0</td>\n",
       "      <td>96.0</td>\n",
       "      <td>586.0</td>\n",
       "    </tr>\n",
       "    <tr>\n",
       "      <th>5</th>\n",
       "      <td>33541.0</td>\n",
       "      <td>MAZDA</td>\n",
       "      <td>MAZDA 3</td>\n",
       "      <td>2017</td>\n",
       "      <td>Petrol</td>\n",
       "      <td>2.0</td>\n",
       "      <td>60000.0</td>\n",
       "      <td>72.0</td>\n",
       "      <td>384.0</td>\n",
       "    </tr>\n",
       "    <tr>\n",
       "      <th>6</th>\n",
       "      <td>54040.0</td>\n",
       "      <td>TOYOTA</td>\n",
       "      <td>TOYOTA HILUX</td>\n",
       "      <td>2015</td>\n",
       "      <td>Diesel</td>\n",
       "      <td>2.8</td>\n",
       "      <td>60000.0</td>\n",
       "      <td>36.0</td>\n",
       "      <td>477.0</td>\n",
       "    </tr>\n",
       "    <tr>\n",
       "      <th>8</th>\n",
       "      <td>40557.0</td>\n",
       "      <td>FORD</td>\n",
       "      <td>FORD RANGER</td>\n",
       "      <td>2021</td>\n",
       "      <td>Diesel</td>\n",
       "      <td>2.0</td>\n",
       "      <td>45000.0</td>\n",
       "      <td>36.0</td>\n",
       "      <td>656.0</td>\n",
       "    </tr>\n",
       "  </tbody>\n",
       "</table>\n",
       "</div>"
      ],
      "text/plain": [
       "   Odometer    Make            Model  Year FuelType  EngineSize  Distance  \\\n",
       "1   72199.0   SKODA  SKODA FABIA III  2017   Petrol         1.0   75000.0   \n",
       "4   81168.0   MAZDA       MAZDA CX-9  2018   Petrol         2.5   80000.0   \n",
       "5   33541.0   MAZDA          MAZDA 3  2017   Petrol         2.0   60000.0   \n",
       "6   54040.0  TOYOTA     TOYOTA HILUX  2015   Diesel         2.8   60000.0   \n",
       "8   40557.0    FORD      FORD RANGER  2021   Diesel         2.0   45000.0   \n",
       "\n",
       "   Months  AdjustedPrice  \n",
       "1    60.0          710.0  \n",
       "4    96.0          586.0  \n",
       "5    72.0          384.0  \n",
       "6    36.0          477.0  \n",
       "8    36.0          656.0  "
      ]
     },
     "execution_count": 2,
     "metadata": {},
     "output_type": "execute_result"
    }
   ],
   "source": [
    "df = pd.read_csv('data/preprocessed_log_data.csv')\n",
    "df = df[df['Label'] == 1];\n",
    "df.drop(columns=['Label', 'TaskName', 'Transmission', 'IsHybrid', 'DriveType'], inplace=True) # Drop TaskName as all are 'Logbook'\n",
    "df.head()"
   ]
  },
  {
   "cell_type": "code",
   "execution_count": 3,
   "id": "91ca52ea",
   "metadata": {},
   "outputs": [],
   "source": [
    "df['Distance'] = df['Distance'].fillna(df['Odometer'])\n",
    "df.drop(columns=['Odometer'], inplace=True)"
   ]
  },
  {
   "cell_type": "code",
   "execution_count": 4,
   "id": "07aebe86",
   "metadata": {},
   "outputs": [],
   "source": [
    "model_counts = df['Model'].value_counts()\n",
    "\n",
    "# Keep only models that appear at least 10 times\n",
    "models_to_keep = model_counts[model_counts >= 10].index\n",
    "\n",
    "# Filter the DataFrame\n",
    "df = df[df['Model'].isin(models_to_keep)]"
   ]
  },
  {
   "cell_type": "code",
   "execution_count": 5,
   "id": "570343e3",
   "metadata": {},
   "outputs": [],
   "source": [
    "X = df.drop(columns=[\"AdjustedPrice\"])  \n",
    "y = df[\"AdjustedPrice\"]       \n",
    "cat_feature_indices = [0, 1, 3]"
   ]
  },
  {
   "cell_type": "code",
   "execution_count": 6,
   "id": "1947689e",
   "metadata": {},
   "outputs": [],
   "source": [
    "X_train, X_temp, y_train, y_temp = train_test_split(\n",
    "    X, y, test_size=0.3, random_state=42\n",
    ")\n",
    "X_test, X_val, y_test, y_val = train_test_split(\n",
    "    X_temp, y_temp, test_size=0.5, random_state=42\n",
    ")"
   ]
  },
  {
   "cell_type": "code",
   "execution_count": 7,
   "id": "63b026b0",
   "metadata": {},
   "outputs": [],
   "source": [
    "for col in X_train.select_dtypes(include='object').columns:\n",
    "     X_train[col] = X_train[col].fillna(\"missing\")\n",
    "\n",
    "for col in X_val.select_dtypes(include='object').columns:\n",
    "   X_val[col] = X_val[col].fillna(\"missing\")\n",
    "\n",
    "for col in X_test.select_dtypes(include='object').columns:\n",
    "   X_test[col] = X_test[col].fillna(\"missing\")"
   ]
  },
  {
   "cell_type": "code",
   "execution_count": 8,
   "id": "86e2a4a8",
   "metadata": {},
   "outputs": [],
   "source": [
    "def mean_absolute_percentage_error(y_true, y_pred):\n",
    "    y_true, y_pred = np.array(y_true), np.array(y_pred)\n",
    "    # Avoid division by zero\n",
    "    nonzero_mask = y_true != 0\n",
    "    return np.mean(np.abs((y_true[nonzero_mask] - y_pred[nonzero_mask]) / y_true[nonzero_mask])) * 100"
   ]
  },
  {
   "cell_type": "code",
   "execution_count": 9,
   "id": "750324f4",
   "metadata": {},
   "outputs": [],
   "source": [
    "model = CatBoostRegressor(\n",
    "    eval_metric='MAPE',\n",
    "    loss_function='RMSEWithUncertainty',\n",
    "    od_type='Iter',\n",
    "    od_wait=50,\n",
    "    random_seed=42,\n",
    "    verbose=0,\n",
    "    thread_count=4\n",
    ")\n",
    "\n",
    "param_grid = {\n",
    "    'depth': [6, 8, 10],\n",
    "    'learning_rate': [0.01, 0.03, 0.05, 0.1],\n",
    "    'l2_leaf_reg': [1, 3, 5, 7],\n",
    "    'iterations': [1000, 1500],\n",
    "    'subsample': [0.8, 0.9, 1.0],\n",
    "    'colsample_bylevel': [0.8, 0.9, 1.0],\n",
    "    'min_child_samples': [5, 10, 20],\n",
    "}\n",
    "\n",
    "\n",
    "random_search = RandomizedSearchCV(\n",
    "    model,\n",
    "    param_distributions=param_grid,\n",
    "    n_iter=25,            \n",
    "    cv=3,                 \n",
    "    scoring='neg_mean_absolute_percentage_error',\n",
    "    random_state=42,\n",
    "    verbose=2,\n",
    "    n_jobs=-1\n",
    ")"
   ]
  },
  {
   "cell_type": "code",
   "execution_count": 10,
   "id": "51974c9c",
   "metadata": {},
   "outputs": [
    {
     "name": "stdout",
     "output_type": "stream",
     "text": [
      "Fitting 3 folds for each of 25 candidates, totalling 75 fits\n",
      "[CV] END colsample_bylevel=0.9, depth=8, iterations=1000, l2_leaf_reg=7, learning_rate=0.1, min_child_samples=20, subsample=0.9; total time= 9.0min\n"
     ]
    },
    {
     "name": "stderr",
     "output_type": "stream",
     "text": [
      "/home/dylan/git/CAPSTONE_T316/venv/lib/python3.12/site-packages/sklearn/model_selection/_validation.py:953: UserWarning: Scoring failed. The score on this train-test partition for these parameters will be set to nan. Details: \n",
      "Traceback (most recent call last):\n",
      "  File \"/home/dylan/git/CAPSTONE_T316/venv/lib/python3.12/site-packages/sklearn/model_selection/_validation.py\", line 942, in _score\n",
      "    scores = scorer(estimator, X_test, y_test, **score_params)\n",
      "             ^^^^^^^^^^^^^^^^^^^^^^^^^^^^^^^^^^^^^^^^^^^^^^^^^\n",
      "  File \"/home/dylan/git/CAPSTONE_T316/venv/lib/python3.12/site-packages/sklearn/metrics/_scorer.py\", line 308, in __call__\n",
      "    return self._score(partial(_cached_call, None), estimator, X, y_true, **_kwargs)\n",
      "           ^^^^^^^^^^^^^^^^^^^^^^^^^^^^^^^^^^^^^^^^^^^^^^^^^^^^^^^^^^^^^^^^^^^^^^^^^\n",
      "  File \"/home/dylan/git/CAPSTONE_T316/venv/lib/python3.12/site-packages/sklearn/metrics/_scorer.py\", line 408, in _score\n",
      "    return self._sign * self._score_func(y_true, y_pred, **scoring_kwargs)\n",
      "                        ^^^^^^^^^^^^^^^^^^^^^^^^^^^^^^^^^^^^^^^^^^^^^^^^^^\n",
      "  File \"/home/dylan/git/CAPSTONE_T316/venv/lib/python3.12/site-packages/sklearn/utils/_param_validation.py\", line 218, in wrapper\n",
      "    return func(*args, **kwargs)\n",
      "           ^^^^^^^^^^^^^^^^^^^^^\n",
      "  File \"/home/dylan/git/CAPSTONE_T316/venv/lib/python3.12/site-packages/sklearn/metrics/_regression.py\", line 489, in mean_absolute_percentage_error\n",
      "    _check_reg_targets_with_floating_dtype(\n",
      "  File \"/home/dylan/git/CAPSTONE_T316/venv/lib/python3.12/site-packages/sklearn/metrics/_regression.py\", line 209, in _check_reg_targets_with_floating_dtype\n",
      "    y_type, y_true, y_pred, sample_weight, multioutput = _check_reg_targets(\n",
      "                                                         ^^^^^^^^^^^^^^^^^^^\n",
      "  File \"/home/dylan/git/CAPSTONE_T316/venv/lib/python3.12/site-packages/sklearn/metrics/_regression.py\", line 127, in _check_reg_targets\n",
      "    raise ValueError(\n",
      "ValueError: y_true and y_pred have different number of output (1!=2)\n",
      "\n",
      "  warnings.warn(\n",
      "/home/dylan/git/CAPSTONE_T316/venv/lib/python3.12/site-packages/sklearn/model_selection/_validation.py:953: UserWarning: Scoring failed. The score on this train-test partition for these parameters will be set to nan. Details: \n",
      "Traceback (most recent call last):\n",
      "  File \"/home/dylan/git/CAPSTONE_T316/venv/lib/python3.12/site-packages/sklearn/model_selection/_validation.py\", line 942, in _score\n",
      "    scores = scorer(estimator, X_test, y_test, **score_params)\n",
      "             ^^^^^^^^^^^^^^^^^^^^^^^^^^^^^^^^^^^^^^^^^^^^^^^^^\n",
      "  File \"/home/dylan/git/CAPSTONE_T316/venv/lib/python3.12/site-packages/sklearn/metrics/_scorer.py\", line 308, in __call__\n",
      "    return self._score(partial(_cached_call, None), estimator, X, y_true, **_kwargs)\n",
      "           ^^^^^^^^^^^^^^^^^^^^^^^^^^^^^^^^^^^^^^^^^^^^^^^^^^^^^^^^^^^^^^^^^^^^^^^^^\n",
      "  File \"/home/dylan/git/CAPSTONE_T316/venv/lib/python3.12/site-packages/sklearn/metrics/_scorer.py\", line 408, in _score\n",
      "    return self._sign * self._score_func(y_true, y_pred, **scoring_kwargs)\n",
      "                        ^^^^^^^^^^^^^^^^^^^^^^^^^^^^^^^^^^^^^^^^^^^^^^^^^^\n",
      "  File \"/home/dylan/git/CAPSTONE_T316/venv/lib/python3.12/site-packages/sklearn/utils/_param_validation.py\", line 218, in wrapper\n",
      "    return func(*args, **kwargs)\n",
      "           ^^^^^^^^^^^^^^^^^^^^^\n",
      "  File \"/home/dylan/git/CAPSTONE_T316/venv/lib/python3.12/site-packages/sklearn/metrics/_regression.py\", line 489, in mean_absolute_percentage_error\n",
      "    _check_reg_targets_with_floating_dtype(\n",
      "  File \"/home/dylan/git/CAPSTONE_T316/venv/lib/python3.12/site-packages/sklearn/metrics/_regression.py\", line 209, in _check_reg_targets_with_floating_dtype\n",
      "    y_type, y_true, y_pred, sample_weight, multioutput = _check_reg_targets(\n",
      "                                                         ^^^^^^^^^^^^^^^^^^^\n",
      "  File \"/home/dylan/git/CAPSTONE_T316/venv/lib/python3.12/site-packages/sklearn/metrics/_regression.py\", line 127, in _check_reg_targets\n",
      "    raise ValueError(\n",
      "ValueError: y_true and y_pred have different number of output (1!=2)\n",
      "\n",
      "  warnings.warn(\n"
     ]
    },
    {
     "name": "stdout",
     "output_type": "stream",
     "text": [
      "[CV] END colsample_bylevel=0.9, depth=8, iterations=1000, l2_leaf_reg=7, learning_rate=0.1, min_child_samples=20, subsample=0.9; total time= 9.2min\n"
     ]
    },
    {
     "name": "stderr",
     "output_type": "stream",
     "text": [
      "/home/dylan/git/CAPSTONE_T316/venv/lib/python3.12/site-packages/sklearn/model_selection/_validation.py:953: UserWarning: Scoring failed. The score on this train-test partition for these parameters will be set to nan. Details: \n",
      "Traceback (most recent call last):\n",
      "  File \"/home/dylan/git/CAPSTONE_T316/venv/lib/python3.12/site-packages/sklearn/model_selection/_validation.py\", line 942, in _score\n",
      "    scores = scorer(estimator, X_test, y_test, **score_params)\n",
      "             ^^^^^^^^^^^^^^^^^^^^^^^^^^^^^^^^^^^^^^^^^^^^^^^^^\n",
      "  File \"/home/dylan/git/CAPSTONE_T316/venv/lib/python3.12/site-packages/sklearn/metrics/_scorer.py\", line 308, in __call__\n",
      "    return self._score(partial(_cached_call, None), estimator, X, y_true, **_kwargs)\n",
      "           ^^^^^^^^^^^^^^^^^^^^^^^^^^^^^^^^^^^^^^^^^^^^^^^^^^^^^^^^^^^^^^^^^^^^^^^^^\n",
      "  File \"/home/dylan/git/CAPSTONE_T316/venv/lib/python3.12/site-packages/sklearn/metrics/_scorer.py\", line 408, in _score\n",
      "    return self._sign * self._score_func(y_true, y_pred, **scoring_kwargs)\n",
      "                        ^^^^^^^^^^^^^^^^^^^^^^^^^^^^^^^^^^^^^^^^^^^^^^^^^^\n",
      "  File \"/home/dylan/git/CAPSTONE_T316/venv/lib/python3.12/site-packages/sklearn/utils/_param_validation.py\", line 218, in wrapper\n",
      "    return func(*args, **kwargs)\n",
      "           ^^^^^^^^^^^^^^^^^^^^^\n",
      "  File \"/home/dylan/git/CAPSTONE_T316/venv/lib/python3.12/site-packages/sklearn/metrics/_regression.py\", line 489, in mean_absolute_percentage_error\n",
      "    _check_reg_targets_with_floating_dtype(\n",
      "  File \"/home/dylan/git/CAPSTONE_T316/venv/lib/python3.12/site-packages/sklearn/metrics/_regression.py\", line 209, in _check_reg_targets_with_floating_dtype\n",
      "    y_type, y_true, y_pred, sample_weight, multioutput = _check_reg_targets(\n",
      "                                                         ^^^^^^^^^^^^^^^^^^^\n",
      "  File \"/home/dylan/git/CAPSTONE_T316/venv/lib/python3.12/site-packages/sklearn/metrics/_regression.py\", line 127, in _check_reg_targets\n",
      "    raise ValueError(\n",
      "ValueError: y_true and y_pred have different number of output (1!=2)\n",
      "\n",
      "  warnings.warn(\n"
     ]
    },
    {
     "name": "stdout",
     "output_type": "stream",
     "text": [
      "[CV] END colsample_bylevel=0.9, depth=8, iterations=1000, l2_leaf_reg=7, learning_rate=0.1, min_child_samples=20, subsample=0.9; total time= 9.3min\n"
     ]
    },
    {
     "name": "stderr",
     "output_type": "stream",
     "text": [
      "/home/dylan/git/CAPSTONE_T316/venv/lib/python3.12/site-packages/sklearn/model_selection/_validation.py:953: UserWarning: Scoring failed. The score on this train-test partition for these parameters will be set to nan. Details: \n",
      "Traceback (most recent call last):\n",
      "  File \"/home/dylan/git/CAPSTONE_T316/venv/lib/python3.12/site-packages/sklearn/model_selection/_validation.py\", line 942, in _score\n",
      "    scores = scorer(estimator, X_test, y_test, **score_params)\n",
      "             ^^^^^^^^^^^^^^^^^^^^^^^^^^^^^^^^^^^^^^^^^^^^^^^^^\n",
      "  File \"/home/dylan/git/CAPSTONE_T316/venv/lib/python3.12/site-packages/sklearn/metrics/_scorer.py\", line 308, in __call__\n",
      "    return self._score(partial(_cached_call, None), estimator, X, y_true, **_kwargs)\n",
      "           ^^^^^^^^^^^^^^^^^^^^^^^^^^^^^^^^^^^^^^^^^^^^^^^^^^^^^^^^^^^^^^^^^^^^^^^^^\n",
      "  File \"/home/dylan/git/CAPSTONE_T316/venv/lib/python3.12/site-packages/sklearn/metrics/_scorer.py\", line 408, in _score\n",
      "    return self._sign * self._score_func(y_true, y_pred, **scoring_kwargs)\n",
      "                        ^^^^^^^^^^^^^^^^^^^^^^^^^^^^^^^^^^^^^^^^^^^^^^^^^^\n",
      "  File \"/home/dylan/git/CAPSTONE_T316/venv/lib/python3.12/site-packages/sklearn/utils/_param_validation.py\", line 218, in wrapper\n",
      "    return func(*args, **kwargs)\n",
      "           ^^^^^^^^^^^^^^^^^^^^^\n",
      "  File \"/home/dylan/git/CAPSTONE_T316/venv/lib/python3.12/site-packages/sklearn/metrics/_regression.py\", line 489, in mean_absolute_percentage_error\n",
      "    _check_reg_targets_with_floating_dtype(\n",
      "  File \"/home/dylan/git/CAPSTONE_T316/venv/lib/python3.12/site-packages/sklearn/metrics/_regression.py\", line 209, in _check_reg_targets_with_floating_dtype\n",
      "    y_type, y_true, y_pred, sample_weight, multioutput = _check_reg_targets(\n",
      "                                                         ^^^^^^^^^^^^^^^^^^^\n",
      "  File \"/home/dylan/git/CAPSTONE_T316/venv/lib/python3.12/site-packages/sklearn/metrics/_regression.py\", line 127, in _check_reg_targets\n",
      "    raise ValueError(\n",
      "ValueError: y_true and y_pred have different number of output (1!=2)\n",
      "\n",
      "  warnings.warn(\n"
     ]
    },
    {
     "name": "stdout",
     "output_type": "stream",
     "text": [
      "[CV] END colsample_bylevel=0.9, depth=6, iterations=1500, l2_leaf_reg=5, learning_rate=0.03, min_child_samples=20, subsample=0.8; total time= 9.8min\n"
     ]
    },
    {
     "name": "stderr",
     "output_type": "stream",
     "text": [
      "/home/dylan/git/CAPSTONE_T316/venv/lib/python3.12/site-packages/sklearn/model_selection/_validation.py:953: UserWarning: Scoring failed. The score on this train-test partition for these parameters will be set to nan. Details: \n",
      "Traceback (most recent call last):\n",
      "  File \"/home/dylan/git/CAPSTONE_T316/venv/lib/python3.12/site-packages/sklearn/model_selection/_validation.py\", line 942, in _score\n",
      "    scores = scorer(estimator, X_test, y_test, **score_params)\n",
      "             ^^^^^^^^^^^^^^^^^^^^^^^^^^^^^^^^^^^^^^^^^^^^^^^^^\n",
      "  File \"/home/dylan/git/CAPSTONE_T316/venv/lib/python3.12/site-packages/sklearn/metrics/_scorer.py\", line 308, in __call__\n",
      "    return self._score(partial(_cached_call, None), estimator, X, y_true, **_kwargs)\n",
      "           ^^^^^^^^^^^^^^^^^^^^^^^^^^^^^^^^^^^^^^^^^^^^^^^^^^^^^^^^^^^^^^^^^^^^^^^^^\n",
      "  File \"/home/dylan/git/CAPSTONE_T316/venv/lib/python3.12/site-packages/sklearn/metrics/_scorer.py\", line 408, in _score\n",
      "    return self._sign * self._score_func(y_true, y_pred, **scoring_kwargs)\n",
      "                        ^^^^^^^^^^^^^^^^^^^^^^^^^^^^^^^^^^^^^^^^^^^^^^^^^^\n",
      "  File \"/home/dylan/git/CAPSTONE_T316/venv/lib/python3.12/site-packages/sklearn/utils/_param_validation.py\", line 218, in wrapper\n",
      "    return func(*args, **kwargs)\n",
      "           ^^^^^^^^^^^^^^^^^^^^^\n",
      "  File \"/home/dylan/git/CAPSTONE_T316/venv/lib/python3.12/site-packages/sklearn/metrics/_regression.py\", line 489, in mean_absolute_percentage_error\n",
      "    _check_reg_targets_with_floating_dtype(\n",
      "  File \"/home/dylan/git/CAPSTONE_T316/venv/lib/python3.12/site-packages/sklearn/metrics/_regression.py\", line 209, in _check_reg_targets_with_floating_dtype\n",
      "    y_type, y_true, y_pred, sample_weight, multioutput = _check_reg_targets(\n",
      "                                                         ^^^^^^^^^^^^^^^^^^^\n",
      "  File \"/home/dylan/git/CAPSTONE_T316/venv/lib/python3.12/site-packages/sklearn/metrics/_regression.py\", line 127, in _check_reg_targets\n",
      "    raise ValueError(\n",
      "ValueError: y_true and y_pred have different number of output (1!=2)\n",
      "\n",
      "  warnings.warn(\n"
     ]
    },
    {
     "name": "stdout",
     "output_type": "stream",
     "text": [
      "[CV] END colsample_bylevel=0.9, depth=6, iterations=1500, l2_leaf_reg=7, learning_rate=0.03, min_child_samples=10, subsample=1.0; total time= 9.9min\n"
     ]
    },
    {
     "name": "stderr",
     "output_type": "stream",
     "text": [
      "/home/dylan/git/CAPSTONE_T316/venv/lib/python3.12/site-packages/sklearn/model_selection/_validation.py:953: UserWarning: Scoring failed. The score on this train-test partition for these parameters will be set to nan. Details: \n",
      "Traceback (most recent call last):\n",
      "  File \"/home/dylan/git/CAPSTONE_T316/venv/lib/python3.12/site-packages/sklearn/model_selection/_validation.py\", line 942, in _score\n",
      "    scores = scorer(estimator, X_test, y_test, **score_params)\n",
      "             ^^^^^^^^^^^^^^^^^^^^^^^^^^^^^^^^^^^^^^^^^^^^^^^^^\n",
      "  File \"/home/dylan/git/CAPSTONE_T316/venv/lib/python3.12/site-packages/sklearn/metrics/_scorer.py\", line 308, in __call__\n",
      "    return self._score(partial(_cached_call, None), estimator, X, y_true, **_kwargs)\n",
      "           ^^^^^^^^^^^^^^^^^^^^^^^^^^^^^^^^^^^^^^^^^^^^^^^^^^^^^^^^^^^^^^^^^^^^^^^^^\n",
      "  File \"/home/dylan/git/CAPSTONE_T316/venv/lib/python3.12/site-packages/sklearn/metrics/_scorer.py\", line 408, in _score\n",
      "    return self._sign * self._score_func(y_true, y_pred, **scoring_kwargs)\n",
      "                        ^^^^^^^^^^^^^^^^^^^^^^^^^^^^^^^^^^^^^^^^^^^^^^^^^^\n",
      "  File \"/home/dylan/git/CAPSTONE_T316/venv/lib/python3.12/site-packages/sklearn/utils/_param_validation.py\", line 218, in wrapper\n",
      "    return func(*args, **kwargs)\n",
      "           ^^^^^^^^^^^^^^^^^^^^^\n",
      "  File \"/home/dylan/git/CAPSTONE_T316/venv/lib/python3.12/site-packages/sklearn/metrics/_regression.py\", line 489, in mean_absolute_percentage_error\n",
      "    _check_reg_targets_with_floating_dtype(\n",
      "  File \"/home/dylan/git/CAPSTONE_T316/venv/lib/python3.12/site-packages/sklearn/metrics/_regression.py\", line 209, in _check_reg_targets_with_floating_dtype\n",
      "    y_type, y_true, y_pred, sample_weight, multioutput = _check_reg_targets(\n",
      "                                                         ^^^^^^^^^^^^^^^^^^^\n",
      "  File \"/home/dylan/git/CAPSTONE_T316/venv/lib/python3.12/site-packages/sklearn/metrics/_regression.py\", line 127, in _check_reg_targets\n",
      "    raise ValueError(\n",
      "ValueError: y_true and y_pred have different number of output (1!=2)\n",
      "\n",
      "  warnings.warn(\n"
     ]
    },
    {
     "name": "stdout",
     "output_type": "stream",
     "text": [
      "[CV] END colsample_bylevel=0.9, depth=6, iterations=1500, l2_leaf_reg=5, learning_rate=0.03, min_child_samples=20, subsample=0.8; total time= 9.9min\n"
     ]
    },
    {
     "name": "stderr",
     "output_type": "stream",
     "text": [
      "/home/dylan/git/CAPSTONE_T316/venv/lib/python3.12/site-packages/sklearn/model_selection/_validation.py:953: UserWarning: Scoring failed. The score on this train-test partition for these parameters will be set to nan. Details: \n",
      "Traceback (most recent call last):\n",
      "  File \"/home/dylan/git/CAPSTONE_T316/venv/lib/python3.12/site-packages/sklearn/model_selection/_validation.py\", line 942, in _score\n",
      "    scores = scorer(estimator, X_test, y_test, **score_params)\n",
      "             ^^^^^^^^^^^^^^^^^^^^^^^^^^^^^^^^^^^^^^^^^^^^^^^^^\n",
      "  File \"/home/dylan/git/CAPSTONE_T316/venv/lib/python3.12/site-packages/sklearn/metrics/_scorer.py\", line 308, in __call__\n",
      "    return self._score(partial(_cached_call, None), estimator, X, y_true, **_kwargs)\n",
      "           ^^^^^^^^^^^^^^^^^^^^^^^^^^^^^^^^^^^^^^^^^^^^^^^^^^^^^^^^^^^^^^^^^^^^^^^^^\n",
      "  File \"/home/dylan/git/CAPSTONE_T316/venv/lib/python3.12/site-packages/sklearn/metrics/_scorer.py\", line 408, in _score\n",
      "    return self._sign * self._score_func(y_true, y_pred, **scoring_kwargs)\n",
      "                        ^^^^^^^^^^^^^^^^^^^^^^^^^^^^^^^^^^^^^^^^^^^^^^^^^^\n",
      "  File \"/home/dylan/git/CAPSTONE_T316/venv/lib/python3.12/site-packages/sklearn/utils/_param_validation.py\", line 218, in wrapper\n",
      "    return func(*args, **kwargs)\n",
      "           ^^^^^^^^^^^^^^^^^^^^^\n",
      "  File \"/home/dylan/git/CAPSTONE_T316/venv/lib/python3.12/site-packages/sklearn/metrics/_regression.py\", line 489, in mean_absolute_percentage_error\n",
      "    _check_reg_targets_with_floating_dtype(\n",
      "  File \"/home/dylan/git/CAPSTONE_T316/venv/lib/python3.12/site-packages/sklearn/metrics/_regression.py\", line 209, in _check_reg_targets_with_floating_dtype\n",
      "    y_type, y_true, y_pred, sample_weight, multioutput = _check_reg_targets(\n",
      "                                                         ^^^^^^^^^^^^^^^^^^^\n",
      "  File \"/home/dylan/git/CAPSTONE_T316/venv/lib/python3.12/site-packages/sklearn/metrics/_regression.py\", line 127, in _check_reg_targets\n",
      "    raise ValueError(\n",
      "ValueError: y_true and y_pred have different number of output (1!=2)\n",
      "\n",
      "  warnings.warn(\n",
      "/home/dylan/git/CAPSTONE_T316/venv/lib/python3.12/site-packages/sklearn/model_selection/_validation.py:953: UserWarning: Scoring failed. The score on this train-test partition for these parameters will be set to nan. Details: \n",
      "Traceback (most recent call last):\n",
      "  File \"/home/dylan/git/CAPSTONE_T316/venv/lib/python3.12/site-packages/sklearn/model_selection/_validation.py\", line 942, in _score\n",
      "    scores = scorer(estimator, X_test, y_test, **score_params)\n",
      "             ^^^^^^^^^^^^^^^^^^^^^^^^^^^^^^^^^^^^^^^^^^^^^^^^^\n",
      "  File \"/home/dylan/git/CAPSTONE_T316/venv/lib/python3.12/site-packages/sklearn/metrics/_scorer.py\", line 308, in __call__\n",
      "    return self._score(partial(_cached_call, None), estimator, X, y_true, **_kwargs)\n",
      "           ^^^^^^^^^^^^^^^^^^^^^^^^^^^^^^^^^^^^^^^^^^^^^^^^^^^^^^^^^^^^^^^^^^^^^^^^^\n",
      "  File \"/home/dylan/git/CAPSTONE_T316/venv/lib/python3.12/site-packages/sklearn/metrics/_scorer.py\", line 408, in _score\n",
      "    return self._sign * self._score_func(y_true, y_pred, **scoring_kwargs)\n",
      "                        ^^^^^^^^^^^^^^^^^^^^^^^^^^^^^^^^^^^^^^^^^^^^^^^^^^\n",
      "  File \"/home/dylan/git/CAPSTONE_T316/venv/lib/python3.12/site-packages/sklearn/utils/_param_validation.py\", line 218, in wrapper\n",
      "    return func(*args, **kwargs)\n",
      "           ^^^^^^^^^^^^^^^^^^^^^\n",
      "  File \"/home/dylan/git/CAPSTONE_T316/venv/lib/python3.12/site-packages/sklearn/metrics/_regression.py\", line 489, in mean_absolute_percentage_error\n",
      "    _check_reg_targets_with_floating_dtype(\n",
      "  File \"/home/dylan/git/CAPSTONE_T316/venv/lib/python3.12/site-packages/sklearn/metrics/_regression.py\", line 209, in _check_reg_targets_with_floating_dtype\n",
      "    y_type, y_true, y_pred, sample_weight, multioutput = _check_reg_targets(\n",
      "                                                         ^^^^^^^^^^^^^^^^^^^\n",
      "  File \"/home/dylan/git/CAPSTONE_T316/venv/lib/python3.12/site-packages/sklearn/metrics/_regression.py\", line 127, in _check_reg_targets\n",
      "    raise ValueError(\n",
      "ValueError: y_true and y_pred have different number of output (1!=2)\n",
      "\n",
      "  warnings.warn(\n"
     ]
    },
    {
     "name": "stdout",
     "output_type": "stream",
     "text": [
      "[CV] END colsample_bylevel=0.9, depth=6, iterations=1500, l2_leaf_reg=7, learning_rate=0.03, min_child_samples=10, subsample=1.0; total time=10.0min\n",
      "[CV] END colsample_bylevel=0.9, depth=6, iterations=1500, l2_leaf_reg=5, learning_rate=0.03, min_child_samples=20, subsample=0.8; total time= 9.9min\n"
     ]
    },
    {
     "name": "stderr",
     "output_type": "stream",
     "text": [
      "/home/dylan/git/CAPSTONE_T316/venv/lib/python3.12/site-packages/sklearn/model_selection/_validation.py:953: UserWarning: Scoring failed. The score on this train-test partition for these parameters will be set to nan. Details: \n",
      "Traceback (most recent call last):\n",
      "  File \"/home/dylan/git/CAPSTONE_T316/venv/lib/python3.12/site-packages/sklearn/model_selection/_validation.py\", line 942, in _score\n",
      "    scores = scorer(estimator, X_test, y_test, **score_params)\n",
      "             ^^^^^^^^^^^^^^^^^^^^^^^^^^^^^^^^^^^^^^^^^^^^^^^^^\n",
      "  File \"/home/dylan/git/CAPSTONE_T316/venv/lib/python3.12/site-packages/sklearn/metrics/_scorer.py\", line 308, in __call__\n",
      "    return self._score(partial(_cached_call, None), estimator, X, y_true, **_kwargs)\n",
      "           ^^^^^^^^^^^^^^^^^^^^^^^^^^^^^^^^^^^^^^^^^^^^^^^^^^^^^^^^^^^^^^^^^^^^^^^^^\n",
      "  File \"/home/dylan/git/CAPSTONE_T316/venv/lib/python3.12/site-packages/sklearn/metrics/_scorer.py\", line 408, in _score\n",
      "    return self._sign * self._score_func(y_true, y_pred, **scoring_kwargs)\n",
      "                        ^^^^^^^^^^^^^^^^^^^^^^^^^^^^^^^^^^^^^^^^^^^^^^^^^^\n",
      "  File \"/home/dylan/git/CAPSTONE_T316/venv/lib/python3.12/site-packages/sklearn/utils/_param_validation.py\", line 218, in wrapper\n",
      "    return func(*args, **kwargs)\n",
      "           ^^^^^^^^^^^^^^^^^^^^^\n",
      "  File \"/home/dylan/git/CAPSTONE_T316/venv/lib/python3.12/site-packages/sklearn/metrics/_regression.py\", line 489, in mean_absolute_percentage_error\n",
      "    _check_reg_targets_with_floating_dtype(\n",
      "  File \"/home/dylan/git/CAPSTONE_T316/venv/lib/python3.12/site-packages/sklearn/metrics/_regression.py\", line 209, in _check_reg_targets_with_floating_dtype\n",
      "    y_type, y_true, y_pred, sample_weight, multioutput = _check_reg_targets(\n",
      "                                                         ^^^^^^^^^^^^^^^^^^^\n",
      "  File \"/home/dylan/git/CAPSTONE_T316/venv/lib/python3.12/site-packages/sklearn/metrics/_regression.py\", line 127, in _check_reg_targets\n",
      "    raise ValueError(\n",
      "ValueError: y_true and y_pred have different number of output (1!=2)\n",
      "\n",
      "  warnings.warn(\n"
     ]
    },
    {
     "name": "stdout",
     "output_type": "stream",
     "text": [
      "[CV] END colsample_bylevel=0.9, depth=6, iterations=1500, l2_leaf_reg=7, learning_rate=0.03, min_child_samples=10, subsample=1.0; total time= 9.9min\n"
     ]
    },
    {
     "name": "stderr",
     "output_type": "stream",
     "text": [
      "/home/dylan/git/CAPSTONE_T316/venv/lib/python3.12/site-packages/sklearn/model_selection/_validation.py:953: UserWarning: Scoring failed. The score on this train-test partition for these parameters will be set to nan. Details: \n",
      "Traceback (most recent call last):\n",
      "  File \"/home/dylan/git/CAPSTONE_T316/venv/lib/python3.12/site-packages/sklearn/model_selection/_validation.py\", line 942, in _score\n",
      "    scores = scorer(estimator, X_test, y_test, **score_params)\n",
      "             ^^^^^^^^^^^^^^^^^^^^^^^^^^^^^^^^^^^^^^^^^^^^^^^^^\n",
      "  File \"/home/dylan/git/CAPSTONE_T316/venv/lib/python3.12/site-packages/sklearn/metrics/_scorer.py\", line 308, in __call__\n",
      "    return self._score(partial(_cached_call, None), estimator, X, y_true, **_kwargs)\n",
      "           ^^^^^^^^^^^^^^^^^^^^^^^^^^^^^^^^^^^^^^^^^^^^^^^^^^^^^^^^^^^^^^^^^^^^^^^^^\n",
      "  File \"/home/dylan/git/CAPSTONE_T316/venv/lib/python3.12/site-packages/sklearn/metrics/_scorer.py\", line 408, in _score\n",
      "    return self._sign * self._score_func(y_true, y_pred, **scoring_kwargs)\n",
      "                        ^^^^^^^^^^^^^^^^^^^^^^^^^^^^^^^^^^^^^^^^^^^^^^^^^^\n",
      "  File \"/home/dylan/git/CAPSTONE_T316/venv/lib/python3.12/site-packages/sklearn/utils/_param_validation.py\", line 218, in wrapper\n",
      "    return func(*args, **kwargs)\n",
      "           ^^^^^^^^^^^^^^^^^^^^^\n",
      "  File \"/home/dylan/git/CAPSTONE_T316/venv/lib/python3.12/site-packages/sklearn/metrics/_regression.py\", line 489, in mean_absolute_percentage_error\n",
      "    _check_reg_targets_with_floating_dtype(\n",
      "  File \"/home/dylan/git/CAPSTONE_T316/venv/lib/python3.12/site-packages/sklearn/metrics/_regression.py\", line 209, in _check_reg_targets_with_floating_dtype\n",
      "    y_type, y_true, y_pred, sample_weight, multioutput = _check_reg_targets(\n",
      "                                                         ^^^^^^^^^^^^^^^^^^^\n",
      "  File \"/home/dylan/git/CAPSTONE_T316/venv/lib/python3.12/site-packages/sklearn/metrics/_regression.py\", line 127, in _check_reg_targets\n",
      "    raise ValueError(\n",
      "ValueError: y_true and y_pred have different number of output (1!=2)\n",
      "\n",
      "  warnings.warn(\n"
     ]
    },
    {
     "name": "stdout",
     "output_type": "stream",
     "text": [
      "[CV] END colsample_bylevel=1.0, depth=8, iterations=1500, l2_leaf_reg=1, learning_rate=0.03, min_child_samples=5, subsample=0.8; total time=14.2min\n"
     ]
    },
    {
     "name": "stderr",
     "output_type": "stream",
     "text": [
      "/home/dylan/git/CAPSTONE_T316/venv/lib/python3.12/site-packages/sklearn/model_selection/_validation.py:953: UserWarning: Scoring failed. The score on this train-test partition for these parameters will be set to nan. Details: \n",
      "Traceback (most recent call last):\n",
      "  File \"/home/dylan/git/CAPSTONE_T316/venv/lib/python3.12/site-packages/sklearn/model_selection/_validation.py\", line 942, in _score\n",
      "    scores = scorer(estimator, X_test, y_test, **score_params)\n",
      "             ^^^^^^^^^^^^^^^^^^^^^^^^^^^^^^^^^^^^^^^^^^^^^^^^^\n",
      "  File \"/home/dylan/git/CAPSTONE_T316/venv/lib/python3.12/site-packages/sklearn/metrics/_scorer.py\", line 308, in __call__\n",
      "    return self._score(partial(_cached_call, None), estimator, X, y_true, **_kwargs)\n",
      "           ^^^^^^^^^^^^^^^^^^^^^^^^^^^^^^^^^^^^^^^^^^^^^^^^^^^^^^^^^^^^^^^^^^^^^^^^^\n",
      "  File \"/home/dylan/git/CAPSTONE_T316/venv/lib/python3.12/site-packages/sklearn/metrics/_scorer.py\", line 408, in _score\n",
      "    return self._sign * self._score_func(y_true, y_pred, **scoring_kwargs)\n",
      "                        ^^^^^^^^^^^^^^^^^^^^^^^^^^^^^^^^^^^^^^^^^^^^^^^^^^\n",
      "  File \"/home/dylan/git/CAPSTONE_T316/venv/lib/python3.12/site-packages/sklearn/utils/_param_validation.py\", line 218, in wrapper\n",
      "    return func(*args, **kwargs)\n",
      "           ^^^^^^^^^^^^^^^^^^^^^\n",
      "  File \"/home/dylan/git/CAPSTONE_T316/venv/lib/python3.12/site-packages/sklearn/metrics/_regression.py\", line 489, in mean_absolute_percentage_error\n",
      "    _check_reg_targets_with_floating_dtype(\n",
      "  File \"/home/dylan/git/CAPSTONE_T316/venv/lib/python3.12/site-packages/sklearn/metrics/_regression.py\", line 209, in _check_reg_targets_with_floating_dtype\n",
      "    y_type, y_true, y_pred, sample_weight, multioutput = _check_reg_targets(\n",
      "                                                         ^^^^^^^^^^^^^^^^^^^\n",
      "  File \"/home/dylan/git/CAPSTONE_T316/venv/lib/python3.12/site-packages/sklearn/metrics/_regression.py\", line 127, in _check_reg_targets\n",
      "    raise ValueError(\n",
      "ValueError: y_true and y_pred have different number of output (1!=2)\n",
      "\n",
      "  warnings.warn(\n"
     ]
    },
    {
     "name": "stdout",
     "output_type": "stream",
     "text": [
      "[CV] END colsample_bylevel=0.8, depth=10, iterations=1500, l2_leaf_reg=7, learning_rate=0.1, min_child_samples=10, subsample=1.0; total time=18.4min\n"
     ]
    },
    {
     "name": "stderr",
     "output_type": "stream",
     "text": [
      "/home/dylan/git/CAPSTONE_T316/venv/lib/python3.12/site-packages/sklearn/model_selection/_validation.py:953: UserWarning: Scoring failed. The score on this train-test partition for these parameters will be set to nan. Details: \n",
      "Traceback (most recent call last):\n",
      "  File \"/home/dylan/git/CAPSTONE_T316/venv/lib/python3.12/site-packages/sklearn/model_selection/_validation.py\", line 942, in _score\n",
      "    scores = scorer(estimator, X_test, y_test, **score_params)\n",
      "             ^^^^^^^^^^^^^^^^^^^^^^^^^^^^^^^^^^^^^^^^^^^^^^^^^\n",
      "  File \"/home/dylan/git/CAPSTONE_T316/venv/lib/python3.12/site-packages/sklearn/metrics/_scorer.py\", line 308, in __call__\n",
      "    return self._score(partial(_cached_call, None), estimator, X, y_true, **_kwargs)\n",
      "           ^^^^^^^^^^^^^^^^^^^^^^^^^^^^^^^^^^^^^^^^^^^^^^^^^^^^^^^^^^^^^^^^^^^^^^^^^\n",
      "  File \"/home/dylan/git/CAPSTONE_T316/venv/lib/python3.12/site-packages/sklearn/metrics/_scorer.py\", line 408, in _score\n",
      "    return self._sign * self._score_func(y_true, y_pred, **scoring_kwargs)\n",
      "                        ^^^^^^^^^^^^^^^^^^^^^^^^^^^^^^^^^^^^^^^^^^^^^^^^^^\n",
      "  File \"/home/dylan/git/CAPSTONE_T316/venv/lib/python3.12/site-packages/sklearn/utils/_param_validation.py\", line 218, in wrapper\n",
      "    return func(*args, **kwargs)\n",
      "           ^^^^^^^^^^^^^^^^^^^^^\n",
      "  File \"/home/dylan/git/CAPSTONE_T316/venv/lib/python3.12/site-packages/sklearn/metrics/_regression.py\", line 489, in mean_absolute_percentage_error\n",
      "    _check_reg_targets_with_floating_dtype(\n",
      "  File \"/home/dylan/git/CAPSTONE_T316/venv/lib/python3.12/site-packages/sklearn/metrics/_regression.py\", line 209, in _check_reg_targets_with_floating_dtype\n",
      "    y_type, y_true, y_pred, sample_weight, multioutput = _check_reg_targets(\n",
      "                                                         ^^^^^^^^^^^^^^^^^^^\n",
      "  File \"/home/dylan/git/CAPSTONE_T316/venv/lib/python3.12/site-packages/sklearn/metrics/_regression.py\", line 127, in _check_reg_targets\n",
      "    raise ValueError(\n",
      "ValueError: y_true and y_pred have different number of output (1!=2)\n",
      "\n",
      "  warnings.warn(\n"
     ]
    },
    {
     "name": "stdout",
     "output_type": "stream",
     "text": [
      "[CV] END colsample_bylevel=0.8, depth=10, iterations=1500, l2_leaf_reg=7, learning_rate=0.1, min_child_samples=10, subsample=1.0; total time=18.6min\n"
     ]
    },
    {
     "name": "stderr",
     "output_type": "stream",
     "text": [
      "/home/dylan/git/CAPSTONE_T316/venv/lib/python3.12/site-packages/sklearn/model_selection/_validation.py:953: UserWarning: Scoring failed. The score on this train-test partition for these parameters will be set to nan. Details: \n",
      "Traceback (most recent call last):\n",
      "  File \"/home/dylan/git/CAPSTONE_T316/venv/lib/python3.12/site-packages/sklearn/model_selection/_validation.py\", line 942, in _score\n",
      "    scores = scorer(estimator, X_test, y_test, **score_params)\n",
      "             ^^^^^^^^^^^^^^^^^^^^^^^^^^^^^^^^^^^^^^^^^^^^^^^^^\n",
      "  File \"/home/dylan/git/CAPSTONE_T316/venv/lib/python3.12/site-packages/sklearn/metrics/_scorer.py\", line 308, in __call__\n",
      "    return self._score(partial(_cached_call, None), estimator, X, y_true, **_kwargs)\n",
      "           ^^^^^^^^^^^^^^^^^^^^^^^^^^^^^^^^^^^^^^^^^^^^^^^^^^^^^^^^^^^^^^^^^^^^^^^^^\n",
      "  File \"/home/dylan/git/CAPSTONE_T316/venv/lib/python3.12/site-packages/sklearn/metrics/_scorer.py\", line 408, in _score\n",
      "    return self._sign * self._score_func(y_true, y_pred, **scoring_kwargs)\n",
      "                        ^^^^^^^^^^^^^^^^^^^^^^^^^^^^^^^^^^^^^^^^^^^^^^^^^^\n",
      "  File \"/home/dylan/git/CAPSTONE_T316/venv/lib/python3.12/site-packages/sklearn/utils/_param_validation.py\", line 218, in wrapper\n",
      "    return func(*args, **kwargs)\n",
      "           ^^^^^^^^^^^^^^^^^^^^^\n",
      "  File \"/home/dylan/git/CAPSTONE_T316/venv/lib/python3.12/site-packages/sklearn/metrics/_regression.py\", line 489, in mean_absolute_percentage_error\n",
      "    _check_reg_targets_with_floating_dtype(\n",
      "  File \"/home/dylan/git/CAPSTONE_T316/venv/lib/python3.12/site-packages/sklearn/metrics/_regression.py\", line 209, in _check_reg_targets_with_floating_dtype\n",
      "    y_type, y_true, y_pred, sample_weight, multioutput = _check_reg_targets(\n",
      "                                                         ^^^^^^^^^^^^^^^^^^^\n",
      "  File \"/home/dylan/git/CAPSTONE_T316/venv/lib/python3.12/site-packages/sklearn/metrics/_regression.py\", line 127, in _check_reg_targets\n",
      "    raise ValueError(\n",
      "ValueError: y_true and y_pred have different number of output (1!=2)\n",
      "\n",
      "  warnings.warn(\n"
     ]
    },
    {
     "name": "stdout",
     "output_type": "stream",
     "text": [
      "[CV] END colsample_bylevel=0.8, depth=8, iterations=1000, l2_leaf_reg=3, learning_rate=0.01, min_child_samples=20, subsample=0.8; total time= 8.9min\n"
     ]
    },
    {
     "name": "stderr",
     "output_type": "stream",
     "text": [
      "/home/dylan/git/CAPSTONE_T316/venv/lib/python3.12/site-packages/sklearn/model_selection/_validation.py:953: UserWarning: Scoring failed. The score on this train-test partition for these parameters will be set to nan. Details: \n",
      "Traceback (most recent call last):\n",
      "  File \"/home/dylan/git/CAPSTONE_T316/venv/lib/python3.12/site-packages/sklearn/model_selection/_validation.py\", line 942, in _score\n",
      "    scores = scorer(estimator, X_test, y_test, **score_params)\n",
      "             ^^^^^^^^^^^^^^^^^^^^^^^^^^^^^^^^^^^^^^^^^^^^^^^^^\n",
      "  File \"/home/dylan/git/CAPSTONE_T316/venv/lib/python3.12/site-packages/sklearn/metrics/_scorer.py\", line 308, in __call__\n",
      "    return self._score(partial(_cached_call, None), estimator, X, y_true, **_kwargs)\n",
      "           ^^^^^^^^^^^^^^^^^^^^^^^^^^^^^^^^^^^^^^^^^^^^^^^^^^^^^^^^^^^^^^^^^^^^^^^^^\n",
      "  File \"/home/dylan/git/CAPSTONE_T316/venv/lib/python3.12/site-packages/sklearn/metrics/_scorer.py\", line 408, in _score\n",
      "    return self._sign * self._score_func(y_true, y_pred, **scoring_kwargs)\n",
      "                        ^^^^^^^^^^^^^^^^^^^^^^^^^^^^^^^^^^^^^^^^^^^^^^^^^^\n",
      "  File \"/home/dylan/git/CAPSTONE_T316/venv/lib/python3.12/site-packages/sklearn/utils/_param_validation.py\", line 218, in wrapper\n",
      "    return func(*args, **kwargs)\n",
      "           ^^^^^^^^^^^^^^^^^^^^^\n",
      "  File \"/home/dylan/git/CAPSTONE_T316/venv/lib/python3.12/site-packages/sklearn/metrics/_regression.py\", line 489, in mean_absolute_percentage_error\n",
      "    _check_reg_targets_with_floating_dtype(\n",
      "  File \"/home/dylan/git/CAPSTONE_T316/venv/lib/python3.12/site-packages/sklearn/metrics/_regression.py\", line 209, in _check_reg_targets_with_floating_dtype\n",
      "    y_type, y_true, y_pred, sample_weight, multioutput = _check_reg_targets(\n",
      "                                                         ^^^^^^^^^^^^^^^^^^^\n",
      "  File \"/home/dylan/git/CAPSTONE_T316/venv/lib/python3.12/site-packages/sklearn/metrics/_regression.py\", line 127, in _check_reg_targets\n",
      "    raise ValueError(\n",
      "ValueError: y_true and y_pred have different number of output (1!=2)\n",
      "\n",
      "  warnings.warn(\n"
     ]
    },
    {
     "name": "stdout",
     "output_type": "stream",
     "text": [
      "[CV] END colsample_bylevel=0.9, depth=10, iterations=1500, l2_leaf_reg=3, learning_rate=0.05, min_child_samples=5, subsample=0.8; total time=19.1min\n"
     ]
    },
    {
     "name": "stderr",
     "output_type": "stream",
     "text": [
      "/home/dylan/git/CAPSTONE_T316/venv/lib/python3.12/site-packages/sklearn/model_selection/_validation.py:953: UserWarning: Scoring failed. The score on this train-test partition for these parameters will be set to nan. Details: \n",
      "Traceback (most recent call last):\n",
      "  File \"/home/dylan/git/CAPSTONE_T316/venv/lib/python3.12/site-packages/sklearn/model_selection/_validation.py\", line 942, in _score\n",
      "    scores = scorer(estimator, X_test, y_test, **score_params)\n",
      "             ^^^^^^^^^^^^^^^^^^^^^^^^^^^^^^^^^^^^^^^^^^^^^^^^^\n",
      "  File \"/home/dylan/git/CAPSTONE_T316/venv/lib/python3.12/site-packages/sklearn/metrics/_scorer.py\", line 308, in __call__\n",
      "    return self._score(partial(_cached_call, None), estimator, X, y_true, **_kwargs)\n",
      "           ^^^^^^^^^^^^^^^^^^^^^^^^^^^^^^^^^^^^^^^^^^^^^^^^^^^^^^^^^^^^^^^^^^^^^^^^^\n",
      "  File \"/home/dylan/git/CAPSTONE_T316/venv/lib/python3.12/site-packages/sklearn/metrics/_scorer.py\", line 408, in _score\n",
      "    return self._sign * self._score_func(y_true, y_pred, **scoring_kwargs)\n",
      "                        ^^^^^^^^^^^^^^^^^^^^^^^^^^^^^^^^^^^^^^^^^^^^^^^^^^\n",
      "  File \"/home/dylan/git/CAPSTONE_T316/venv/lib/python3.12/site-packages/sklearn/utils/_param_validation.py\", line 218, in wrapper\n",
      "    return func(*args, **kwargs)\n",
      "           ^^^^^^^^^^^^^^^^^^^^^\n",
      "  File \"/home/dylan/git/CAPSTONE_T316/venv/lib/python3.12/site-packages/sklearn/metrics/_regression.py\", line 489, in mean_absolute_percentage_error\n",
      "    _check_reg_targets_with_floating_dtype(\n",
      "  File \"/home/dylan/git/CAPSTONE_T316/venv/lib/python3.12/site-packages/sklearn/metrics/_regression.py\", line 209, in _check_reg_targets_with_floating_dtype\n",
      "    y_type, y_true, y_pred, sample_weight, multioutput = _check_reg_targets(\n",
      "                                                         ^^^^^^^^^^^^^^^^^^^\n",
      "  File \"/home/dylan/git/CAPSTONE_T316/venv/lib/python3.12/site-packages/sklearn/metrics/_regression.py\", line 127, in _check_reg_targets\n",
      "    raise ValueError(\n",
      "ValueError: y_true and y_pred have different number of output (1!=2)\n",
      "\n",
      "  warnings.warn(\n"
     ]
    },
    {
     "name": "stdout",
     "output_type": "stream",
     "text": [
      "[CV] END colsample_bylevel=0.9, depth=8, iterations=1000, l2_leaf_reg=5, learning_rate=0.03, min_child_samples=10, subsample=1.0; total time= 9.2min\n"
     ]
    },
    {
     "name": "stderr",
     "output_type": "stream",
     "text": [
      "/home/dylan/git/CAPSTONE_T316/venv/lib/python3.12/site-packages/sklearn/model_selection/_validation.py:953: UserWarning: Scoring failed. The score on this train-test partition for these parameters will be set to nan. Details: \n",
      "Traceback (most recent call last):\n",
      "  File \"/home/dylan/git/CAPSTONE_T316/venv/lib/python3.12/site-packages/sklearn/model_selection/_validation.py\", line 942, in _score\n",
      "    scores = scorer(estimator, X_test, y_test, **score_params)\n",
      "             ^^^^^^^^^^^^^^^^^^^^^^^^^^^^^^^^^^^^^^^^^^^^^^^^^\n",
      "  File \"/home/dylan/git/CAPSTONE_T316/venv/lib/python3.12/site-packages/sklearn/metrics/_scorer.py\", line 308, in __call__\n",
      "    return self._score(partial(_cached_call, None), estimator, X, y_true, **_kwargs)\n",
      "           ^^^^^^^^^^^^^^^^^^^^^^^^^^^^^^^^^^^^^^^^^^^^^^^^^^^^^^^^^^^^^^^^^^^^^^^^^\n",
      "  File \"/home/dylan/git/CAPSTONE_T316/venv/lib/python3.12/site-packages/sklearn/metrics/_scorer.py\", line 408, in _score\n",
      "    return self._sign * self._score_func(y_true, y_pred, **scoring_kwargs)\n",
      "                        ^^^^^^^^^^^^^^^^^^^^^^^^^^^^^^^^^^^^^^^^^^^^^^^^^^\n",
      "  File \"/home/dylan/git/CAPSTONE_T316/venv/lib/python3.12/site-packages/sklearn/utils/_param_validation.py\", line 218, in wrapper\n",
      "    return func(*args, **kwargs)\n",
      "           ^^^^^^^^^^^^^^^^^^^^^\n",
      "  File \"/home/dylan/git/CAPSTONE_T316/venv/lib/python3.12/site-packages/sklearn/metrics/_regression.py\", line 489, in mean_absolute_percentage_error\n",
      "    _check_reg_targets_with_floating_dtype(\n",
      "  File \"/home/dylan/git/CAPSTONE_T316/venv/lib/python3.12/site-packages/sklearn/metrics/_regression.py\", line 209, in _check_reg_targets_with_floating_dtype\n",
      "    y_type, y_true, y_pred, sample_weight, multioutput = _check_reg_targets(\n",
      "                                                         ^^^^^^^^^^^^^^^^^^^\n",
      "  File \"/home/dylan/git/CAPSTONE_T316/venv/lib/python3.12/site-packages/sklearn/metrics/_regression.py\", line 127, in _check_reg_targets\n",
      "    raise ValueError(\n",
      "ValueError: y_true and y_pred have different number of output (1!=2)\n",
      "\n",
      "  warnings.warn(\n"
     ]
    },
    {
     "name": "stdout",
     "output_type": "stream",
     "text": [
      "[CV] END colsample_bylevel=0.9, depth=8, iterations=1000, l2_leaf_reg=5, learning_rate=0.03, min_child_samples=10, subsample=1.0; total time= 9.2min\n"
     ]
    },
    {
     "name": "stderr",
     "output_type": "stream",
     "text": [
      "/home/dylan/git/CAPSTONE_T316/venv/lib/python3.12/site-packages/sklearn/model_selection/_validation.py:953: UserWarning: Scoring failed. The score on this train-test partition for these parameters will be set to nan. Details: \n",
      "Traceback (most recent call last):\n",
      "  File \"/home/dylan/git/CAPSTONE_T316/venv/lib/python3.12/site-packages/sklearn/model_selection/_validation.py\", line 942, in _score\n",
      "    scores = scorer(estimator, X_test, y_test, **score_params)\n",
      "             ^^^^^^^^^^^^^^^^^^^^^^^^^^^^^^^^^^^^^^^^^^^^^^^^^\n",
      "  File \"/home/dylan/git/CAPSTONE_T316/venv/lib/python3.12/site-packages/sklearn/metrics/_scorer.py\", line 308, in __call__\n",
      "    return self._score(partial(_cached_call, None), estimator, X, y_true, **_kwargs)\n",
      "           ^^^^^^^^^^^^^^^^^^^^^^^^^^^^^^^^^^^^^^^^^^^^^^^^^^^^^^^^^^^^^^^^^^^^^^^^^\n",
      "  File \"/home/dylan/git/CAPSTONE_T316/venv/lib/python3.12/site-packages/sklearn/metrics/_scorer.py\", line 408, in _score\n",
      "    return self._sign * self._score_func(y_true, y_pred, **scoring_kwargs)\n",
      "                        ^^^^^^^^^^^^^^^^^^^^^^^^^^^^^^^^^^^^^^^^^^^^^^^^^^\n",
      "  File \"/home/dylan/git/CAPSTONE_T316/venv/lib/python3.12/site-packages/sklearn/utils/_param_validation.py\", line 218, in wrapper\n",
      "    return func(*args, **kwargs)\n",
      "           ^^^^^^^^^^^^^^^^^^^^^\n",
      "  File \"/home/dylan/git/CAPSTONE_T316/venv/lib/python3.12/site-packages/sklearn/metrics/_regression.py\", line 489, in mean_absolute_percentage_error\n",
      "    _check_reg_targets_with_floating_dtype(\n",
      "  File \"/home/dylan/git/CAPSTONE_T316/venv/lib/python3.12/site-packages/sklearn/metrics/_regression.py\", line 209, in _check_reg_targets_with_floating_dtype\n",
      "    y_type, y_true, y_pred, sample_weight, multioutput = _check_reg_targets(\n",
      "                                                         ^^^^^^^^^^^^^^^^^^^\n",
      "  File \"/home/dylan/git/CAPSTONE_T316/venv/lib/python3.12/site-packages/sklearn/metrics/_regression.py\", line 127, in _check_reg_targets\n",
      "    raise ValueError(\n",
      "ValueError: y_true and y_pred have different number of output (1!=2)\n",
      "\n",
      "  warnings.warn(\n"
     ]
    },
    {
     "name": "stdout",
     "output_type": "stream",
     "text": [
      "[CV] END colsample_bylevel=0.9, depth=8, iterations=1000, l2_leaf_reg=5, learning_rate=0.03, min_child_samples=10, subsample=1.0; total time= 9.3min\n"
     ]
    },
    {
     "name": "stderr",
     "output_type": "stream",
     "text": [
      "/home/dylan/git/CAPSTONE_T316/venv/lib/python3.12/site-packages/sklearn/model_selection/_validation.py:953: UserWarning: Scoring failed. The score on this train-test partition for these parameters will be set to nan. Details: \n",
      "Traceback (most recent call last):\n",
      "  File \"/home/dylan/git/CAPSTONE_T316/venv/lib/python3.12/site-packages/sklearn/model_selection/_validation.py\", line 942, in _score\n",
      "    scores = scorer(estimator, X_test, y_test, **score_params)\n",
      "             ^^^^^^^^^^^^^^^^^^^^^^^^^^^^^^^^^^^^^^^^^^^^^^^^^\n",
      "  File \"/home/dylan/git/CAPSTONE_T316/venv/lib/python3.12/site-packages/sklearn/metrics/_scorer.py\", line 308, in __call__\n",
      "    return self._score(partial(_cached_call, None), estimator, X, y_true, **_kwargs)\n",
      "           ^^^^^^^^^^^^^^^^^^^^^^^^^^^^^^^^^^^^^^^^^^^^^^^^^^^^^^^^^^^^^^^^^^^^^^^^^\n",
      "  File \"/home/dylan/git/CAPSTONE_T316/venv/lib/python3.12/site-packages/sklearn/metrics/_scorer.py\", line 408, in _score\n",
      "    return self._sign * self._score_func(y_true, y_pred, **scoring_kwargs)\n",
      "                        ^^^^^^^^^^^^^^^^^^^^^^^^^^^^^^^^^^^^^^^^^^^^^^^^^^\n",
      "  File \"/home/dylan/git/CAPSTONE_T316/venv/lib/python3.12/site-packages/sklearn/utils/_param_validation.py\", line 218, in wrapper\n",
      "    return func(*args, **kwargs)\n",
      "           ^^^^^^^^^^^^^^^^^^^^^\n",
      "  File \"/home/dylan/git/CAPSTONE_T316/venv/lib/python3.12/site-packages/sklearn/metrics/_regression.py\", line 489, in mean_absolute_percentage_error\n",
      "    _check_reg_targets_with_floating_dtype(\n",
      "  File \"/home/dylan/git/CAPSTONE_T316/venv/lib/python3.12/site-packages/sklearn/metrics/_regression.py\", line 209, in _check_reg_targets_with_floating_dtype\n",
      "    y_type, y_true, y_pred, sample_weight, multioutput = _check_reg_targets(\n",
      "                                                         ^^^^^^^^^^^^^^^^^^^\n",
      "  File \"/home/dylan/git/CAPSTONE_T316/venv/lib/python3.12/site-packages/sklearn/metrics/_regression.py\", line 127, in _check_reg_targets\n",
      "    raise ValueError(\n",
      "ValueError: y_true and y_pred have different number of output (1!=2)\n",
      "\n",
      "  warnings.warn(\n"
     ]
    },
    {
     "name": "stdout",
     "output_type": "stream",
     "text": [
      "[CV] END colsample_bylevel=0.8, depth=10, iterations=1500, l2_leaf_reg=7, learning_rate=0.1, min_child_samples=10, subsample=1.0; total time=19.3min\n"
     ]
    },
    {
     "name": "stderr",
     "output_type": "stream",
     "text": [
      "/home/dylan/git/CAPSTONE_T316/venv/lib/python3.12/site-packages/sklearn/model_selection/_validation.py:953: UserWarning: Scoring failed. The score on this train-test partition for these parameters will be set to nan. Details: \n",
      "Traceback (most recent call last):\n",
      "  File \"/home/dylan/git/CAPSTONE_T316/venv/lib/python3.12/site-packages/sklearn/model_selection/_validation.py\", line 942, in _score\n",
      "    scores = scorer(estimator, X_test, y_test, **score_params)\n",
      "             ^^^^^^^^^^^^^^^^^^^^^^^^^^^^^^^^^^^^^^^^^^^^^^^^^\n",
      "  File \"/home/dylan/git/CAPSTONE_T316/venv/lib/python3.12/site-packages/sklearn/metrics/_scorer.py\", line 308, in __call__\n",
      "    return self._score(partial(_cached_call, None), estimator, X, y_true, **_kwargs)\n",
      "           ^^^^^^^^^^^^^^^^^^^^^^^^^^^^^^^^^^^^^^^^^^^^^^^^^^^^^^^^^^^^^^^^^^^^^^^^^\n",
      "  File \"/home/dylan/git/CAPSTONE_T316/venv/lib/python3.12/site-packages/sklearn/metrics/_scorer.py\", line 408, in _score\n",
      "    return self._sign * self._score_func(y_true, y_pred, **scoring_kwargs)\n",
      "                        ^^^^^^^^^^^^^^^^^^^^^^^^^^^^^^^^^^^^^^^^^^^^^^^^^^\n",
      "  File \"/home/dylan/git/CAPSTONE_T316/venv/lib/python3.12/site-packages/sklearn/utils/_param_validation.py\", line 218, in wrapper\n",
      "    return func(*args, **kwargs)\n",
      "           ^^^^^^^^^^^^^^^^^^^^^\n",
      "  File \"/home/dylan/git/CAPSTONE_T316/venv/lib/python3.12/site-packages/sklearn/metrics/_regression.py\", line 489, in mean_absolute_percentage_error\n",
      "    _check_reg_targets_with_floating_dtype(\n",
      "  File \"/home/dylan/git/CAPSTONE_T316/venv/lib/python3.12/site-packages/sklearn/metrics/_regression.py\", line 209, in _check_reg_targets_with_floating_dtype\n",
      "    y_type, y_true, y_pred, sample_weight, multioutput = _check_reg_targets(\n",
      "                                                         ^^^^^^^^^^^^^^^^^^^\n",
      "  File \"/home/dylan/git/CAPSTONE_T316/venv/lib/python3.12/site-packages/sklearn/metrics/_regression.py\", line 127, in _check_reg_targets\n",
      "    raise ValueError(\n",
      "ValueError: y_true and y_pred have different number of output (1!=2)\n",
      "\n",
      "  warnings.warn(\n"
     ]
    },
    {
     "name": "stdout",
     "output_type": "stream",
     "text": [
      "[CV] END colsample_bylevel=0.9, depth=10, iterations=1500, l2_leaf_reg=3, learning_rate=0.05, min_child_samples=5, subsample=0.8; total time=19.3min\n"
     ]
    },
    {
     "name": "stderr",
     "output_type": "stream",
     "text": [
      "/home/dylan/git/CAPSTONE_T316/venv/lib/python3.12/site-packages/sklearn/model_selection/_validation.py:953: UserWarning: Scoring failed. The score on this train-test partition for these parameters will be set to nan. Details: \n",
      "Traceback (most recent call last):\n",
      "  File \"/home/dylan/git/CAPSTONE_T316/venv/lib/python3.12/site-packages/sklearn/model_selection/_validation.py\", line 942, in _score\n",
      "    scores = scorer(estimator, X_test, y_test, **score_params)\n",
      "             ^^^^^^^^^^^^^^^^^^^^^^^^^^^^^^^^^^^^^^^^^^^^^^^^^\n",
      "  File \"/home/dylan/git/CAPSTONE_T316/venv/lib/python3.12/site-packages/sklearn/metrics/_scorer.py\", line 308, in __call__\n",
      "    return self._score(partial(_cached_call, None), estimator, X, y_true, **_kwargs)\n",
      "           ^^^^^^^^^^^^^^^^^^^^^^^^^^^^^^^^^^^^^^^^^^^^^^^^^^^^^^^^^^^^^^^^^^^^^^^^^\n",
      "  File \"/home/dylan/git/CAPSTONE_T316/venv/lib/python3.12/site-packages/sklearn/metrics/_scorer.py\", line 408, in _score\n",
      "    return self._sign * self._score_func(y_true, y_pred, **scoring_kwargs)\n",
      "                        ^^^^^^^^^^^^^^^^^^^^^^^^^^^^^^^^^^^^^^^^^^^^^^^^^^\n",
      "  File \"/home/dylan/git/CAPSTONE_T316/venv/lib/python3.12/site-packages/sklearn/utils/_param_validation.py\", line 218, in wrapper\n",
      "    return func(*args, **kwargs)\n",
      "           ^^^^^^^^^^^^^^^^^^^^^\n",
      "  File \"/home/dylan/git/CAPSTONE_T316/venv/lib/python3.12/site-packages/sklearn/metrics/_regression.py\", line 489, in mean_absolute_percentage_error\n",
      "    _check_reg_targets_with_floating_dtype(\n",
      "  File \"/home/dylan/git/CAPSTONE_T316/venv/lib/python3.12/site-packages/sklearn/metrics/_regression.py\", line 209, in _check_reg_targets_with_floating_dtype\n",
      "    y_type, y_true, y_pred, sample_weight, multioutput = _check_reg_targets(\n",
      "                                                         ^^^^^^^^^^^^^^^^^^^\n",
      "  File \"/home/dylan/git/CAPSTONE_T316/venv/lib/python3.12/site-packages/sklearn/metrics/_regression.py\", line 127, in _check_reg_targets\n",
      "    raise ValueError(\n",
      "ValueError: y_true and y_pred have different number of output (1!=2)\n",
      "\n",
      "  warnings.warn(\n"
     ]
    },
    {
     "name": "stdout",
     "output_type": "stream",
     "text": [
      "[CV] END colsample_bylevel=0.9, depth=10, iterations=1500, l2_leaf_reg=3, learning_rate=0.05, min_child_samples=5, subsample=0.8; total time=19.5min\n"
     ]
    },
    {
     "name": "stderr",
     "output_type": "stream",
     "text": [
      "/home/dylan/git/CAPSTONE_T316/venv/lib/python3.12/site-packages/sklearn/model_selection/_validation.py:953: UserWarning: Scoring failed. The score on this train-test partition for these parameters will be set to nan. Details: \n",
      "Traceback (most recent call last):\n",
      "  File \"/home/dylan/git/CAPSTONE_T316/venv/lib/python3.12/site-packages/sklearn/model_selection/_validation.py\", line 942, in _score\n",
      "    scores = scorer(estimator, X_test, y_test, **score_params)\n",
      "             ^^^^^^^^^^^^^^^^^^^^^^^^^^^^^^^^^^^^^^^^^^^^^^^^^\n",
      "  File \"/home/dylan/git/CAPSTONE_T316/venv/lib/python3.12/site-packages/sklearn/metrics/_scorer.py\", line 308, in __call__\n",
      "    return self._score(partial(_cached_call, None), estimator, X, y_true, **_kwargs)\n",
      "           ^^^^^^^^^^^^^^^^^^^^^^^^^^^^^^^^^^^^^^^^^^^^^^^^^^^^^^^^^^^^^^^^^^^^^^^^^\n",
      "  File \"/home/dylan/git/CAPSTONE_T316/venv/lib/python3.12/site-packages/sklearn/metrics/_scorer.py\", line 408, in _score\n",
      "    return self._sign * self._score_func(y_true, y_pred, **scoring_kwargs)\n",
      "                        ^^^^^^^^^^^^^^^^^^^^^^^^^^^^^^^^^^^^^^^^^^^^^^^^^^\n",
      "  File \"/home/dylan/git/CAPSTONE_T316/venv/lib/python3.12/site-packages/sklearn/utils/_param_validation.py\", line 218, in wrapper\n",
      "    return func(*args, **kwargs)\n",
      "           ^^^^^^^^^^^^^^^^^^^^^\n",
      "  File \"/home/dylan/git/CAPSTONE_T316/venv/lib/python3.12/site-packages/sklearn/metrics/_regression.py\", line 489, in mean_absolute_percentage_error\n",
      "    _check_reg_targets_with_floating_dtype(\n",
      "  File \"/home/dylan/git/CAPSTONE_T316/venv/lib/python3.12/site-packages/sklearn/metrics/_regression.py\", line 209, in _check_reg_targets_with_floating_dtype\n",
      "    y_type, y_true, y_pred, sample_weight, multioutput = _check_reg_targets(\n",
      "                                                         ^^^^^^^^^^^^^^^^^^^\n",
      "  File \"/home/dylan/git/CAPSTONE_T316/venv/lib/python3.12/site-packages/sklearn/metrics/_regression.py\", line 127, in _check_reg_targets\n",
      "    raise ValueError(\n",
      "ValueError: y_true and y_pred have different number of output (1!=2)\n",
      "\n",
      "  warnings.warn(\n"
     ]
    },
    {
     "name": "stdout",
     "output_type": "stream",
     "text": [
      "[CV] END colsample_bylevel=0.8, depth=8, iterations=1000, l2_leaf_reg=3, learning_rate=0.01, min_child_samples=20, subsample=0.8; total time= 8.9min\n"
     ]
    },
    {
     "name": "stderr",
     "output_type": "stream",
     "text": [
      "/home/dylan/git/CAPSTONE_T316/venv/lib/python3.12/site-packages/sklearn/model_selection/_validation.py:953: UserWarning: Scoring failed. The score on this train-test partition for these parameters will be set to nan. Details: \n",
      "Traceback (most recent call last):\n",
      "  File \"/home/dylan/git/CAPSTONE_T316/venv/lib/python3.12/site-packages/sklearn/model_selection/_validation.py\", line 942, in _score\n",
      "    scores = scorer(estimator, X_test, y_test, **score_params)\n",
      "             ^^^^^^^^^^^^^^^^^^^^^^^^^^^^^^^^^^^^^^^^^^^^^^^^^\n",
      "  File \"/home/dylan/git/CAPSTONE_T316/venv/lib/python3.12/site-packages/sklearn/metrics/_scorer.py\", line 308, in __call__\n",
      "    return self._score(partial(_cached_call, None), estimator, X, y_true, **_kwargs)\n",
      "           ^^^^^^^^^^^^^^^^^^^^^^^^^^^^^^^^^^^^^^^^^^^^^^^^^^^^^^^^^^^^^^^^^^^^^^^^^\n",
      "  File \"/home/dylan/git/CAPSTONE_T316/venv/lib/python3.12/site-packages/sklearn/metrics/_scorer.py\", line 408, in _score\n",
      "    return self._sign * self._score_func(y_true, y_pred, **scoring_kwargs)\n",
      "                        ^^^^^^^^^^^^^^^^^^^^^^^^^^^^^^^^^^^^^^^^^^^^^^^^^^\n",
      "  File \"/home/dylan/git/CAPSTONE_T316/venv/lib/python3.12/site-packages/sklearn/utils/_param_validation.py\", line 218, in wrapper\n",
      "    return func(*args, **kwargs)\n",
      "           ^^^^^^^^^^^^^^^^^^^^^\n",
      "  File \"/home/dylan/git/CAPSTONE_T316/venv/lib/python3.12/site-packages/sklearn/metrics/_regression.py\", line 489, in mean_absolute_percentage_error\n",
      "    _check_reg_targets_with_floating_dtype(\n",
      "  File \"/home/dylan/git/CAPSTONE_T316/venv/lib/python3.12/site-packages/sklearn/metrics/_regression.py\", line 209, in _check_reg_targets_with_floating_dtype\n",
      "    y_type, y_true, y_pred, sample_weight, multioutput = _check_reg_targets(\n",
      "                                                         ^^^^^^^^^^^^^^^^^^^\n",
      "  File \"/home/dylan/git/CAPSTONE_T316/venv/lib/python3.12/site-packages/sklearn/metrics/_regression.py\", line 127, in _check_reg_targets\n",
      "    raise ValueError(\n",
      "ValueError: y_true and y_pred have different number of output (1!=2)\n",
      "\n",
      "  warnings.warn(\n"
     ]
    },
    {
     "name": "stdout",
     "output_type": "stream",
     "text": [
      "[CV] END colsample_bylevel=1.0, depth=8, iterations=1500, l2_leaf_reg=1, learning_rate=0.03, min_child_samples=5, subsample=0.8; total time=14.2min\n"
     ]
    },
    {
     "name": "stderr",
     "output_type": "stream",
     "text": [
      "/home/dylan/git/CAPSTONE_T316/venv/lib/python3.12/site-packages/sklearn/model_selection/_validation.py:953: UserWarning: Scoring failed. The score on this train-test partition for these parameters will be set to nan. Details: \n",
      "Traceback (most recent call last):\n",
      "  File \"/home/dylan/git/CAPSTONE_T316/venv/lib/python3.12/site-packages/sklearn/model_selection/_validation.py\", line 942, in _score\n",
      "    scores = scorer(estimator, X_test, y_test, **score_params)\n",
      "             ^^^^^^^^^^^^^^^^^^^^^^^^^^^^^^^^^^^^^^^^^^^^^^^^^\n",
      "  File \"/home/dylan/git/CAPSTONE_T316/venv/lib/python3.12/site-packages/sklearn/metrics/_scorer.py\", line 308, in __call__\n",
      "    return self._score(partial(_cached_call, None), estimator, X, y_true, **_kwargs)\n",
      "           ^^^^^^^^^^^^^^^^^^^^^^^^^^^^^^^^^^^^^^^^^^^^^^^^^^^^^^^^^^^^^^^^^^^^^^^^^\n",
      "  File \"/home/dylan/git/CAPSTONE_T316/venv/lib/python3.12/site-packages/sklearn/metrics/_scorer.py\", line 408, in _score\n",
      "    return self._sign * self._score_func(y_true, y_pred, **scoring_kwargs)\n",
      "                        ^^^^^^^^^^^^^^^^^^^^^^^^^^^^^^^^^^^^^^^^^^^^^^^^^^\n",
      "  File \"/home/dylan/git/CAPSTONE_T316/venv/lib/python3.12/site-packages/sklearn/utils/_param_validation.py\", line 218, in wrapper\n",
      "    return func(*args, **kwargs)\n",
      "           ^^^^^^^^^^^^^^^^^^^^^\n",
      "  File \"/home/dylan/git/CAPSTONE_T316/venv/lib/python3.12/site-packages/sklearn/metrics/_regression.py\", line 489, in mean_absolute_percentage_error\n",
      "    _check_reg_targets_with_floating_dtype(\n",
      "  File \"/home/dylan/git/CAPSTONE_T316/venv/lib/python3.12/site-packages/sklearn/metrics/_regression.py\", line 209, in _check_reg_targets_with_floating_dtype\n",
      "    y_type, y_true, y_pred, sample_weight, multioutput = _check_reg_targets(\n",
      "                                                         ^^^^^^^^^^^^^^^^^^^\n",
      "  File \"/home/dylan/git/CAPSTONE_T316/venv/lib/python3.12/site-packages/sklearn/metrics/_regression.py\", line 127, in _check_reg_targets\n",
      "    raise ValueError(\n",
      "ValueError: y_true and y_pred have different number of output (1!=2)\n",
      "\n",
      "  warnings.warn(\n"
     ]
    },
    {
     "name": "stdout",
     "output_type": "stream",
     "text": [
      "[CV] END colsample_bylevel=0.8, depth=8, iterations=1500, l2_leaf_reg=1, learning_rate=0.1, min_child_samples=20, subsample=0.9; total time=14.0min\n"
     ]
    },
    {
     "name": "stderr",
     "output_type": "stream",
     "text": [
      "/home/dylan/git/CAPSTONE_T316/venv/lib/python3.12/site-packages/sklearn/model_selection/_validation.py:953: UserWarning: Scoring failed. The score on this train-test partition for these parameters will be set to nan. Details: \n",
      "Traceback (most recent call last):\n",
      "  File \"/home/dylan/git/CAPSTONE_T316/venv/lib/python3.12/site-packages/sklearn/model_selection/_validation.py\", line 942, in _score\n",
      "    scores = scorer(estimator, X_test, y_test, **score_params)\n",
      "             ^^^^^^^^^^^^^^^^^^^^^^^^^^^^^^^^^^^^^^^^^^^^^^^^^\n",
      "  File \"/home/dylan/git/CAPSTONE_T316/venv/lib/python3.12/site-packages/sklearn/metrics/_scorer.py\", line 308, in __call__\n",
      "    return self._score(partial(_cached_call, None), estimator, X, y_true, **_kwargs)\n",
      "           ^^^^^^^^^^^^^^^^^^^^^^^^^^^^^^^^^^^^^^^^^^^^^^^^^^^^^^^^^^^^^^^^^^^^^^^^^\n",
      "  File \"/home/dylan/git/CAPSTONE_T316/venv/lib/python3.12/site-packages/sklearn/metrics/_scorer.py\", line 408, in _score\n",
      "    return self._sign * self._score_func(y_true, y_pred, **scoring_kwargs)\n",
      "                        ^^^^^^^^^^^^^^^^^^^^^^^^^^^^^^^^^^^^^^^^^^^^^^^^^^\n",
      "  File \"/home/dylan/git/CAPSTONE_T316/venv/lib/python3.12/site-packages/sklearn/utils/_param_validation.py\", line 218, in wrapper\n",
      "    return func(*args, **kwargs)\n",
      "           ^^^^^^^^^^^^^^^^^^^^^\n",
      "  File \"/home/dylan/git/CAPSTONE_T316/venv/lib/python3.12/site-packages/sklearn/metrics/_regression.py\", line 489, in mean_absolute_percentage_error\n",
      "    _check_reg_targets_with_floating_dtype(\n",
      "  File \"/home/dylan/git/CAPSTONE_T316/venv/lib/python3.12/site-packages/sklearn/metrics/_regression.py\", line 209, in _check_reg_targets_with_floating_dtype\n",
      "    y_type, y_true, y_pred, sample_weight, multioutput = _check_reg_targets(\n",
      "                                                         ^^^^^^^^^^^^^^^^^^^\n",
      "  File \"/home/dylan/git/CAPSTONE_T316/venv/lib/python3.12/site-packages/sklearn/metrics/_regression.py\", line 127, in _check_reg_targets\n",
      "    raise ValueError(\n",
      "ValueError: y_true and y_pred have different number of output (1!=2)\n",
      "\n",
      "  warnings.warn(\n"
     ]
    },
    {
     "name": "stdout",
     "output_type": "stream",
     "text": [
      "[CV] END colsample_bylevel=0.8, depth=8, iterations=1500, l2_leaf_reg=1, learning_rate=0.1, min_child_samples=20, subsample=0.9; total time=13.6min\n"
     ]
    },
    {
     "name": "stderr",
     "output_type": "stream",
     "text": [
      "/home/dylan/git/CAPSTONE_T316/venv/lib/python3.12/site-packages/sklearn/model_selection/_validation.py:953: UserWarning: Scoring failed. The score on this train-test partition for these parameters will be set to nan. Details: \n",
      "Traceback (most recent call last):\n",
      "  File \"/home/dylan/git/CAPSTONE_T316/venv/lib/python3.12/site-packages/sklearn/model_selection/_validation.py\", line 942, in _score\n",
      "    scores = scorer(estimator, X_test, y_test, **score_params)\n",
      "             ^^^^^^^^^^^^^^^^^^^^^^^^^^^^^^^^^^^^^^^^^^^^^^^^^\n",
      "  File \"/home/dylan/git/CAPSTONE_T316/venv/lib/python3.12/site-packages/sklearn/metrics/_scorer.py\", line 308, in __call__\n",
      "    return self._score(partial(_cached_call, None), estimator, X, y_true, **_kwargs)\n",
      "           ^^^^^^^^^^^^^^^^^^^^^^^^^^^^^^^^^^^^^^^^^^^^^^^^^^^^^^^^^^^^^^^^^^^^^^^^^\n",
      "  File \"/home/dylan/git/CAPSTONE_T316/venv/lib/python3.12/site-packages/sklearn/metrics/_scorer.py\", line 408, in _score\n",
      "    return self._sign * self._score_func(y_true, y_pred, **scoring_kwargs)\n",
      "                        ^^^^^^^^^^^^^^^^^^^^^^^^^^^^^^^^^^^^^^^^^^^^^^^^^^\n",
      "  File \"/home/dylan/git/CAPSTONE_T316/venv/lib/python3.12/site-packages/sklearn/utils/_param_validation.py\", line 218, in wrapper\n",
      "    return func(*args, **kwargs)\n",
      "           ^^^^^^^^^^^^^^^^^^^^^\n",
      "  File \"/home/dylan/git/CAPSTONE_T316/venv/lib/python3.12/site-packages/sklearn/metrics/_regression.py\", line 489, in mean_absolute_percentage_error\n",
      "    _check_reg_targets_with_floating_dtype(\n",
      "  File \"/home/dylan/git/CAPSTONE_T316/venv/lib/python3.12/site-packages/sklearn/metrics/_regression.py\", line 209, in _check_reg_targets_with_floating_dtype\n",
      "    y_type, y_true, y_pred, sample_weight, multioutput = _check_reg_targets(\n",
      "                                                         ^^^^^^^^^^^^^^^^^^^\n",
      "  File \"/home/dylan/git/CAPSTONE_T316/venv/lib/python3.12/site-packages/sklearn/metrics/_regression.py\", line 127, in _check_reg_targets\n",
      "    raise ValueError(\n",
      "ValueError: y_true and y_pred have different number of output (1!=2)\n",
      "\n",
      "  warnings.warn(\n"
     ]
    },
    {
     "name": "stdout",
     "output_type": "stream",
     "text": [
      "[CV] END colsample_bylevel=1.0, depth=8, iterations=1500, l2_leaf_reg=1, learning_rate=0.03, min_child_samples=5, subsample=0.8; total time=14.4min\n"
     ]
    },
    {
     "name": "stderr",
     "output_type": "stream",
     "text": [
      "/home/dylan/git/CAPSTONE_T316/venv/lib/python3.12/site-packages/sklearn/model_selection/_validation.py:953: UserWarning: Scoring failed. The score on this train-test partition for these parameters will be set to nan. Details: \n",
      "Traceback (most recent call last):\n",
      "  File \"/home/dylan/git/CAPSTONE_T316/venv/lib/python3.12/site-packages/sklearn/model_selection/_validation.py\", line 942, in _score\n",
      "    scores = scorer(estimator, X_test, y_test, **score_params)\n",
      "             ^^^^^^^^^^^^^^^^^^^^^^^^^^^^^^^^^^^^^^^^^^^^^^^^^\n",
      "  File \"/home/dylan/git/CAPSTONE_T316/venv/lib/python3.12/site-packages/sklearn/metrics/_scorer.py\", line 308, in __call__\n",
      "    return self._score(partial(_cached_call, None), estimator, X, y_true, **_kwargs)\n",
      "           ^^^^^^^^^^^^^^^^^^^^^^^^^^^^^^^^^^^^^^^^^^^^^^^^^^^^^^^^^^^^^^^^^^^^^^^^^\n",
      "  File \"/home/dylan/git/CAPSTONE_T316/venv/lib/python3.12/site-packages/sklearn/metrics/_scorer.py\", line 408, in _score\n",
      "    return self._sign * self._score_func(y_true, y_pred, **scoring_kwargs)\n",
      "                        ^^^^^^^^^^^^^^^^^^^^^^^^^^^^^^^^^^^^^^^^^^^^^^^^^^\n",
      "  File \"/home/dylan/git/CAPSTONE_T316/venv/lib/python3.12/site-packages/sklearn/utils/_param_validation.py\", line 218, in wrapper\n",
      "    return func(*args, **kwargs)\n",
      "           ^^^^^^^^^^^^^^^^^^^^^\n",
      "  File \"/home/dylan/git/CAPSTONE_T316/venv/lib/python3.12/site-packages/sklearn/metrics/_regression.py\", line 489, in mean_absolute_percentage_error\n",
      "    _check_reg_targets_with_floating_dtype(\n",
      "  File \"/home/dylan/git/CAPSTONE_T316/venv/lib/python3.12/site-packages/sklearn/metrics/_regression.py\", line 209, in _check_reg_targets_with_floating_dtype\n",
      "    y_type, y_true, y_pred, sample_weight, multioutput = _check_reg_targets(\n",
      "                                                         ^^^^^^^^^^^^^^^^^^^\n",
      "  File \"/home/dylan/git/CAPSTONE_T316/venv/lib/python3.12/site-packages/sklearn/metrics/_regression.py\", line 127, in _check_reg_targets\n",
      "    raise ValueError(\n",
      "ValueError: y_true and y_pred have different number of output (1!=2)\n",
      "\n",
      "  warnings.warn(\n"
     ]
    },
    {
     "name": "stdout",
     "output_type": "stream",
     "text": [
      "[CV] END colsample_bylevel=0.8, depth=8, iterations=1500, l2_leaf_reg=1, learning_rate=0.1, min_child_samples=20, subsample=0.9; total time=13.9min\n"
     ]
    },
    {
     "name": "stderr",
     "output_type": "stream",
     "text": [
      "/home/dylan/git/CAPSTONE_T316/venv/lib/python3.12/site-packages/sklearn/model_selection/_validation.py:953: UserWarning: Scoring failed. The score on this train-test partition for these parameters will be set to nan. Details: \n",
      "Traceback (most recent call last):\n",
      "  File \"/home/dylan/git/CAPSTONE_T316/venv/lib/python3.12/site-packages/sklearn/model_selection/_validation.py\", line 942, in _score\n",
      "    scores = scorer(estimator, X_test, y_test, **score_params)\n",
      "             ^^^^^^^^^^^^^^^^^^^^^^^^^^^^^^^^^^^^^^^^^^^^^^^^^\n",
      "  File \"/home/dylan/git/CAPSTONE_T316/venv/lib/python3.12/site-packages/sklearn/metrics/_scorer.py\", line 308, in __call__\n",
      "    return self._score(partial(_cached_call, None), estimator, X, y_true, **_kwargs)\n",
      "           ^^^^^^^^^^^^^^^^^^^^^^^^^^^^^^^^^^^^^^^^^^^^^^^^^^^^^^^^^^^^^^^^^^^^^^^^^\n",
      "  File \"/home/dylan/git/CAPSTONE_T316/venv/lib/python3.12/site-packages/sklearn/metrics/_scorer.py\", line 408, in _score\n",
      "    return self._sign * self._score_func(y_true, y_pred, **scoring_kwargs)\n",
      "                        ^^^^^^^^^^^^^^^^^^^^^^^^^^^^^^^^^^^^^^^^^^^^^^^^^^\n",
      "  File \"/home/dylan/git/CAPSTONE_T316/venv/lib/python3.12/site-packages/sklearn/utils/_param_validation.py\", line 218, in wrapper\n",
      "    return func(*args, **kwargs)\n",
      "           ^^^^^^^^^^^^^^^^^^^^^\n",
      "  File \"/home/dylan/git/CAPSTONE_T316/venv/lib/python3.12/site-packages/sklearn/metrics/_regression.py\", line 489, in mean_absolute_percentage_error\n",
      "    _check_reg_targets_with_floating_dtype(\n",
      "  File \"/home/dylan/git/CAPSTONE_T316/venv/lib/python3.12/site-packages/sklearn/metrics/_regression.py\", line 209, in _check_reg_targets_with_floating_dtype\n",
      "    y_type, y_true, y_pred, sample_weight, multioutput = _check_reg_targets(\n",
      "                                                         ^^^^^^^^^^^^^^^^^^^\n",
      "  File \"/home/dylan/git/CAPSTONE_T316/venv/lib/python3.12/site-packages/sklearn/metrics/_regression.py\", line 127, in _check_reg_targets\n",
      "    raise ValueError(\n",
      "ValueError: y_true and y_pred have different number of output (1!=2)\n",
      "\n",
      "  warnings.warn(\n"
     ]
    },
    {
     "name": "stdout",
     "output_type": "stream",
     "text": [
      "[CV] END colsample_bylevel=0.8, depth=6, iterations=1000, l2_leaf_reg=7, learning_rate=0.05, min_child_samples=10, subsample=0.9; total time= 6.6min\n"
     ]
    },
    {
     "name": "stderr",
     "output_type": "stream",
     "text": [
      "/home/dylan/git/CAPSTONE_T316/venv/lib/python3.12/site-packages/sklearn/model_selection/_validation.py:953: UserWarning: Scoring failed. The score on this train-test partition for these parameters will be set to nan. Details: \n",
      "Traceback (most recent call last):\n",
      "  File \"/home/dylan/git/CAPSTONE_T316/venv/lib/python3.12/site-packages/sklearn/model_selection/_validation.py\", line 942, in _score\n",
      "    scores = scorer(estimator, X_test, y_test, **score_params)\n",
      "             ^^^^^^^^^^^^^^^^^^^^^^^^^^^^^^^^^^^^^^^^^^^^^^^^^\n",
      "  File \"/home/dylan/git/CAPSTONE_T316/venv/lib/python3.12/site-packages/sklearn/metrics/_scorer.py\", line 308, in __call__\n",
      "    return self._score(partial(_cached_call, None), estimator, X, y_true, **_kwargs)\n",
      "           ^^^^^^^^^^^^^^^^^^^^^^^^^^^^^^^^^^^^^^^^^^^^^^^^^^^^^^^^^^^^^^^^^^^^^^^^^\n",
      "  File \"/home/dylan/git/CAPSTONE_T316/venv/lib/python3.12/site-packages/sklearn/metrics/_scorer.py\", line 408, in _score\n",
      "    return self._sign * self._score_func(y_true, y_pred, **scoring_kwargs)\n",
      "                        ^^^^^^^^^^^^^^^^^^^^^^^^^^^^^^^^^^^^^^^^^^^^^^^^^^\n",
      "  File \"/home/dylan/git/CAPSTONE_T316/venv/lib/python3.12/site-packages/sklearn/utils/_param_validation.py\", line 218, in wrapper\n",
      "    return func(*args, **kwargs)\n",
      "           ^^^^^^^^^^^^^^^^^^^^^\n",
      "  File \"/home/dylan/git/CAPSTONE_T316/venv/lib/python3.12/site-packages/sklearn/metrics/_regression.py\", line 489, in mean_absolute_percentage_error\n",
      "    _check_reg_targets_with_floating_dtype(\n",
      "  File \"/home/dylan/git/CAPSTONE_T316/venv/lib/python3.12/site-packages/sklearn/metrics/_regression.py\", line 209, in _check_reg_targets_with_floating_dtype\n",
      "    y_type, y_true, y_pred, sample_weight, multioutput = _check_reg_targets(\n",
      "                                                         ^^^^^^^^^^^^^^^^^^^\n",
      "  File \"/home/dylan/git/CAPSTONE_T316/venv/lib/python3.12/site-packages/sklearn/metrics/_regression.py\", line 127, in _check_reg_targets\n",
      "    raise ValueError(\n",
      "ValueError: y_true and y_pred have different number of output (1!=2)\n",
      "\n",
      "  warnings.warn(\n"
     ]
    },
    {
     "name": "stdout",
     "output_type": "stream",
     "text": [
      "[CV] END colsample_bylevel=0.8, depth=6, iterations=1000, l2_leaf_reg=7, learning_rate=0.05, min_child_samples=10, subsample=0.9; total time= 6.5min\n"
     ]
    },
    {
     "name": "stderr",
     "output_type": "stream",
     "text": [
      "/home/dylan/git/CAPSTONE_T316/venv/lib/python3.12/site-packages/sklearn/model_selection/_validation.py:953: UserWarning: Scoring failed. The score on this train-test partition for these parameters will be set to nan. Details: \n",
      "Traceback (most recent call last):\n",
      "  File \"/home/dylan/git/CAPSTONE_T316/venv/lib/python3.12/site-packages/sklearn/model_selection/_validation.py\", line 942, in _score\n",
      "    scores = scorer(estimator, X_test, y_test, **score_params)\n",
      "             ^^^^^^^^^^^^^^^^^^^^^^^^^^^^^^^^^^^^^^^^^^^^^^^^^\n",
      "  File \"/home/dylan/git/CAPSTONE_T316/venv/lib/python3.12/site-packages/sklearn/metrics/_scorer.py\", line 308, in __call__\n",
      "    return self._score(partial(_cached_call, None), estimator, X, y_true, **_kwargs)\n",
      "           ^^^^^^^^^^^^^^^^^^^^^^^^^^^^^^^^^^^^^^^^^^^^^^^^^^^^^^^^^^^^^^^^^^^^^^^^^\n",
      "  File \"/home/dylan/git/CAPSTONE_T316/venv/lib/python3.12/site-packages/sklearn/metrics/_scorer.py\", line 408, in _score\n",
      "    return self._sign * self._score_func(y_true, y_pred, **scoring_kwargs)\n",
      "                        ^^^^^^^^^^^^^^^^^^^^^^^^^^^^^^^^^^^^^^^^^^^^^^^^^^\n",
      "  File \"/home/dylan/git/CAPSTONE_T316/venv/lib/python3.12/site-packages/sklearn/utils/_param_validation.py\", line 218, in wrapper\n",
      "    return func(*args, **kwargs)\n",
      "           ^^^^^^^^^^^^^^^^^^^^^\n",
      "  File \"/home/dylan/git/CAPSTONE_T316/venv/lib/python3.12/site-packages/sklearn/metrics/_regression.py\", line 489, in mean_absolute_percentage_error\n",
      "    _check_reg_targets_with_floating_dtype(\n",
      "  File \"/home/dylan/git/CAPSTONE_T316/venv/lib/python3.12/site-packages/sklearn/metrics/_regression.py\", line 209, in _check_reg_targets_with_floating_dtype\n",
      "    y_type, y_true, y_pred, sample_weight, multioutput = _check_reg_targets(\n",
      "                                                         ^^^^^^^^^^^^^^^^^^^\n",
      "  File \"/home/dylan/git/CAPSTONE_T316/venv/lib/python3.12/site-packages/sklearn/metrics/_regression.py\", line 127, in _check_reg_targets\n",
      "    raise ValueError(\n",
      "ValueError: y_true and y_pred have different number of output (1!=2)\n",
      "\n",
      "  warnings.warn(\n"
     ]
    },
    {
     "name": "stdout",
     "output_type": "stream",
     "text": [
      "[CV] END colsample_bylevel=0.8, depth=6, iterations=1000, l2_leaf_reg=7, learning_rate=0.05, min_child_samples=10, subsample=0.9; total time= 6.7min\n"
     ]
    },
    {
     "name": "stderr",
     "output_type": "stream",
     "text": [
      "/home/dylan/git/CAPSTONE_T316/venv/lib/python3.12/site-packages/sklearn/model_selection/_validation.py:953: UserWarning: Scoring failed. The score on this train-test partition for these parameters will be set to nan. Details: \n",
      "Traceback (most recent call last):\n",
      "  File \"/home/dylan/git/CAPSTONE_T316/venv/lib/python3.12/site-packages/sklearn/model_selection/_validation.py\", line 942, in _score\n",
      "    scores = scorer(estimator, X_test, y_test, **score_params)\n",
      "             ^^^^^^^^^^^^^^^^^^^^^^^^^^^^^^^^^^^^^^^^^^^^^^^^^\n",
      "  File \"/home/dylan/git/CAPSTONE_T316/venv/lib/python3.12/site-packages/sklearn/metrics/_scorer.py\", line 308, in __call__\n",
      "    return self._score(partial(_cached_call, None), estimator, X, y_true, **_kwargs)\n",
      "           ^^^^^^^^^^^^^^^^^^^^^^^^^^^^^^^^^^^^^^^^^^^^^^^^^^^^^^^^^^^^^^^^^^^^^^^^^\n",
      "  File \"/home/dylan/git/CAPSTONE_T316/venv/lib/python3.12/site-packages/sklearn/metrics/_scorer.py\", line 408, in _score\n",
      "    return self._sign * self._score_func(y_true, y_pred, **scoring_kwargs)\n",
      "                        ^^^^^^^^^^^^^^^^^^^^^^^^^^^^^^^^^^^^^^^^^^^^^^^^^^\n",
      "  File \"/home/dylan/git/CAPSTONE_T316/venv/lib/python3.12/site-packages/sklearn/utils/_param_validation.py\", line 218, in wrapper\n",
      "    return func(*args, **kwargs)\n",
      "           ^^^^^^^^^^^^^^^^^^^^^\n",
      "  File \"/home/dylan/git/CAPSTONE_T316/venv/lib/python3.12/site-packages/sklearn/metrics/_regression.py\", line 489, in mean_absolute_percentage_error\n",
      "    _check_reg_targets_with_floating_dtype(\n",
      "  File \"/home/dylan/git/CAPSTONE_T316/venv/lib/python3.12/site-packages/sklearn/metrics/_regression.py\", line 209, in _check_reg_targets_with_floating_dtype\n",
      "    y_type, y_true, y_pred, sample_weight, multioutput = _check_reg_targets(\n",
      "                                                         ^^^^^^^^^^^^^^^^^^^\n",
      "  File \"/home/dylan/git/CAPSTONE_T316/venv/lib/python3.12/site-packages/sklearn/metrics/_regression.py\", line 127, in _check_reg_targets\n",
      "    raise ValueError(\n",
      "ValueError: y_true and y_pred have different number of output (1!=2)\n",
      "\n",
      "  warnings.warn(\n"
     ]
    },
    {
     "name": "stdout",
     "output_type": "stream",
     "text": [
      "[CV] END colsample_bylevel=0.8, depth=8, iterations=1000, l2_leaf_reg=3, learning_rate=0.01, min_child_samples=20, subsample=0.8; total time= 8.9min\n"
     ]
    },
    {
     "name": "stderr",
     "output_type": "stream",
     "text": [
      "/home/dylan/git/CAPSTONE_T316/venv/lib/python3.12/site-packages/sklearn/model_selection/_validation.py:953: UserWarning: Scoring failed. The score on this train-test partition for these parameters will be set to nan. Details: \n",
      "Traceback (most recent call last):\n",
      "  File \"/home/dylan/git/CAPSTONE_T316/venv/lib/python3.12/site-packages/sklearn/model_selection/_validation.py\", line 942, in _score\n",
      "    scores = scorer(estimator, X_test, y_test, **score_params)\n",
      "             ^^^^^^^^^^^^^^^^^^^^^^^^^^^^^^^^^^^^^^^^^^^^^^^^^\n",
      "  File \"/home/dylan/git/CAPSTONE_T316/venv/lib/python3.12/site-packages/sklearn/metrics/_scorer.py\", line 308, in __call__\n",
      "    return self._score(partial(_cached_call, None), estimator, X, y_true, **_kwargs)\n",
      "           ^^^^^^^^^^^^^^^^^^^^^^^^^^^^^^^^^^^^^^^^^^^^^^^^^^^^^^^^^^^^^^^^^^^^^^^^^\n",
      "  File \"/home/dylan/git/CAPSTONE_T316/venv/lib/python3.12/site-packages/sklearn/metrics/_scorer.py\", line 408, in _score\n",
      "    return self._sign * self._score_func(y_true, y_pred, **scoring_kwargs)\n",
      "                        ^^^^^^^^^^^^^^^^^^^^^^^^^^^^^^^^^^^^^^^^^^^^^^^^^^\n",
      "  File \"/home/dylan/git/CAPSTONE_T316/venv/lib/python3.12/site-packages/sklearn/utils/_param_validation.py\", line 218, in wrapper\n",
      "    return func(*args, **kwargs)\n",
      "           ^^^^^^^^^^^^^^^^^^^^^\n",
      "  File \"/home/dylan/git/CAPSTONE_T316/venv/lib/python3.12/site-packages/sklearn/metrics/_regression.py\", line 489, in mean_absolute_percentage_error\n",
      "    _check_reg_targets_with_floating_dtype(\n",
      "  File \"/home/dylan/git/CAPSTONE_T316/venv/lib/python3.12/site-packages/sklearn/metrics/_regression.py\", line 209, in _check_reg_targets_with_floating_dtype\n",
      "    y_type, y_true, y_pred, sample_weight, multioutput = _check_reg_targets(\n",
      "                                                         ^^^^^^^^^^^^^^^^^^^\n",
      "  File \"/home/dylan/git/CAPSTONE_T316/venv/lib/python3.12/site-packages/sklearn/metrics/_regression.py\", line 127, in _check_reg_targets\n",
      "    raise ValueError(\n",
      "ValueError: y_true and y_pred have different number of output (1!=2)\n",
      "\n",
      "  warnings.warn(\n",
      "/home/dylan/git/CAPSTONE_T316/venv/lib/python3.12/site-packages/sklearn/model_selection/_validation.py:953: UserWarning: Scoring failed. The score on this train-test partition for these parameters will be set to nan. Details: \n",
      "Traceback (most recent call last):\n",
      "  File \"/home/dylan/git/CAPSTONE_T316/venv/lib/python3.12/site-packages/sklearn/model_selection/_validation.py\", line 942, in _score\n",
      "    scores = scorer(estimator, X_test, y_test, **score_params)\n",
      "             ^^^^^^^^^^^^^^^^^^^^^^^^^^^^^^^^^^^^^^^^^^^^^^^^^\n",
      "  File \"/home/dylan/git/CAPSTONE_T316/venv/lib/python3.12/site-packages/sklearn/metrics/_scorer.py\", line 308, in __call__\n",
      "    return self._score(partial(_cached_call, None), estimator, X, y_true, **_kwargs)\n",
      "           ^^^^^^^^^^^^^^^^^^^^^^^^^^^^^^^^^^^^^^^^^^^^^^^^^^^^^^^^^^^^^^^^^^^^^^^^^\n",
      "  File \"/home/dylan/git/CAPSTONE_T316/venv/lib/python3.12/site-packages/sklearn/metrics/_scorer.py\", line 408, in _score\n",
      "    return self._sign * self._score_func(y_true, y_pred, **scoring_kwargs)\n",
      "                        ^^^^^^^^^^^^^^^^^^^^^^^^^^^^^^^^^^^^^^^^^^^^^^^^^^\n",
      "  File \"/home/dylan/git/CAPSTONE_T316/venv/lib/python3.12/site-packages/sklearn/utils/_param_validation.py\", line 218, in wrapper\n",
      "    return func(*args, **kwargs)\n",
      "           ^^^^^^^^^^^^^^^^^^^^^\n",
      "  File \"/home/dylan/git/CAPSTONE_T316/venv/lib/python3.12/site-packages/sklearn/metrics/_regression.py\", line 489, in mean_absolute_percentage_error\n",
      "    _check_reg_targets_with_floating_dtype(\n",
      "  File \"/home/dylan/git/CAPSTONE_T316/venv/lib/python3.12/site-packages/sklearn/metrics/_regression.py\", line 209, in _check_reg_targets_with_floating_dtype\n",
      "    y_type, y_true, y_pred, sample_weight, multioutput = _check_reg_targets(\n",
      "                                                         ^^^^^^^^^^^^^^^^^^^\n",
      "  File \"/home/dylan/git/CAPSTONE_T316/venv/lib/python3.12/site-packages/sklearn/metrics/_regression.py\", line 127, in _check_reg_targets\n",
      "    raise ValueError(\n",
      "ValueError: y_true and y_pred have different number of output (1!=2)\n",
      "\n",
      "  warnings.warn(\n"
     ]
    },
    {
     "name": "stdout",
     "output_type": "stream",
     "text": [
      "[CV] END colsample_bylevel=1.0, depth=8, iterations=1000, l2_leaf_reg=7, learning_rate=0.03, min_child_samples=5, subsample=1.0; total time= 9.6min\n",
      "[CV] END colsample_bylevel=1.0, depth=8, iterations=1000, l2_leaf_reg=7, learning_rate=0.03, min_child_samples=5, subsample=1.0; total time= 9.6min\n"
     ]
    },
    {
     "name": "stderr",
     "output_type": "stream",
     "text": [
      "/home/dylan/git/CAPSTONE_T316/venv/lib/python3.12/site-packages/sklearn/model_selection/_validation.py:953: UserWarning: Scoring failed. The score on this train-test partition for these parameters will be set to nan. Details: \n",
      "Traceback (most recent call last):\n",
      "  File \"/home/dylan/git/CAPSTONE_T316/venv/lib/python3.12/site-packages/sklearn/model_selection/_validation.py\", line 942, in _score\n",
      "    scores = scorer(estimator, X_test, y_test, **score_params)\n",
      "             ^^^^^^^^^^^^^^^^^^^^^^^^^^^^^^^^^^^^^^^^^^^^^^^^^\n",
      "  File \"/home/dylan/git/CAPSTONE_T316/venv/lib/python3.12/site-packages/sklearn/metrics/_scorer.py\", line 308, in __call__\n",
      "    return self._score(partial(_cached_call, None), estimator, X, y_true, **_kwargs)\n",
      "           ^^^^^^^^^^^^^^^^^^^^^^^^^^^^^^^^^^^^^^^^^^^^^^^^^^^^^^^^^^^^^^^^^^^^^^^^^\n",
      "  File \"/home/dylan/git/CAPSTONE_T316/venv/lib/python3.12/site-packages/sklearn/metrics/_scorer.py\", line 408, in _score\n",
      "    return self._sign * self._score_func(y_true, y_pred, **scoring_kwargs)\n",
      "                        ^^^^^^^^^^^^^^^^^^^^^^^^^^^^^^^^^^^^^^^^^^^^^^^^^^\n",
      "  File \"/home/dylan/git/CAPSTONE_T316/venv/lib/python3.12/site-packages/sklearn/utils/_param_validation.py\", line 218, in wrapper\n",
      "    return func(*args, **kwargs)\n",
      "           ^^^^^^^^^^^^^^^^^^^^^\n",
      "  File \"/home/dylan/git/CAPSTONE_T316/venv/lib/python3.12/site-packages/sklearn/metrics/_regression.py\", line 489, in mean_absolute_percentage_error\n",
      "    _check_reg_targets_with_floating_dtype(\n",
      "  File \"/home/dylan/git/CAPSTONE_T316/venv/lib/python3.12/site-packages/sklearn/metrics/_regression.py\", line 209, in _check_reg_targets_with_floating_dtype\n",
      "    y_type, y_true, y_pred, sample_weight, multioutput = _check_reg_targets(\n",
      "                                                         ^^^^^^^^^^^^^^^^^^^\n",
      "  File \"/home/dylan/git/CAPSTONE_T316/venv/lib/python3.12/site-packages/sklearn/metrics/_regression.py\", line 127, in _check_reg_targets\n",
      "    raise ValueError(\n",
      "ValueError: y_true and y_pred have different number of output (1!=2)\n",
      "\n",
      "  warnings.warn(\n"
     ]
    },
    {
     "name": "stdout",
     "output_type": "stream",
     "text": [
      "[CV] END colsample_bylevel=1.0, depth=8, iterations=1000, l2_leaf_reg=7, learning_rate=0.03, min_child_samples=5, subsample=1.0; total time= 9.6min\n"
     ]
    },
    {
     "name": "stderr",
     "output_type": "stream",
     "text": [
      "/home/dylan/git/CAPSTONE_T316/venv/lib/python3.12/site-packages/sklearn/model_selection/_validation.py:953: UserWarning: Scoring failed. The score on this train-test partition for these parameters will be set to nan. Details: \n",
      "Traceback (most recent call last):\n",
      "  File \"/home/dylan/git/CAPSTONE_T316/venv/lib/python3.12/site-packages/sklearn/model_selection/_validation.py\", line 942, in _score\n",
      "    scores = scorer(estimator, X_test, y_test, **score_params)\n",
      "             ^^^^^^^^^^^^^^^^^^^^^^^^^^^^^^^^^^^^^^^^^^^^^^^^^\n",
      "  File \"/home/dylan/git/CAPSTONE_T316/venv/lib/python3.12/site-packages/sklearn/metrics/_scorer.py\", line 308, in __call__\n",
      "    return self._score(partial(_cached_call, None), estimator, X, y_true, **_kwargs)\n",
      "           ^^^^^^^^^^^^^^^^^^^^^^^^^^^^^^^^^^^^^^^^^^^^^^^^^^^^^^^^^^^^^^^^^^^^^^^^^\n",
      "  File \"/home/dylan/git/CAPSTONE_T316/venv/lib/python3.12/site-packages/sklearn/metrics/_scorer.py\", line 408, in _score\n",
      "    return self._sign * self._score_func(y_true, y_pred, **scoring_kwargs)\n",
      "                        ^^^^^^^^^^^^^^^^^^^^^^^^^^^^^^^^^^^^^^^^^^^^^^^^^^\n",
      "  File \"/home/dylan/git/CAPSTONE_T316/venv/lib/python3.12/site-packages/sklearn/utils/_param_validation.py\", line 218, in wrapper\n",
      "    return func(*args, **kwargs)\n",
      "           ^^^^^^^^^^^^^^^^^^^^^\n",
      "  File \"/home/dylan/git/CAPSTONE_T316/venv/lib/python3.12/site-packages/sklearn/metrics/_regression.py\", line 489, in mean_absolute_percentage_error\n",
      "    _check_reg_targets_with_floating_dtype(\n",
      "  File \"/home/dylan/git/CAPSTONE_T316/venv/lib/python3.12/site-packages/sklearn/metrics/_regression.py\", line 209, in _check_reg_targets_with_floating_dtype\n",
      "    y_type, y_true, y_pred, sample_weight, multioutput = _check_reg_targets(\n",
      "                                                         ^^^^^^^^^^^^^^^^^^^\n",
      "  File \"/home/dylan/git/CAPSTONE_T316/venv/lib/python3.12/site-packages/sklearn/metrics/_regression.py\", line 127, in _check_reg_targets\n",
      "    raise ValueError(\n",
      "ValueError: y_true and y_pred have different number of output (1!=2)\n",
      "\n",
      "  warnings.warn(\n"
     ]
    },
    {
     "name": "stdout",
     "output_type": "stream",
     "text": [
      "[CV] END colsample_bylevel=0.9, depth=10, iterations=1000, l2_leaf_reg=3, learning_rate=0.01, min_child_samples=20, subsample=0.8; total time=12.7min\n"
     ]
    },
    {
     "name": "stderr",
     "output_type": "stream",
     "text": [
      "/home/dylan/git/CAPSTONE_T316/venv/lib/python3.12/site-packages/sklearn/model_selection/_validation.py:953: UserWarning: Scoring failed. The score on this train-test partition for these parameters will be set to nan. Details: \n",
      "Traceback (most recent call last):\n",
      "  File \"/home/dylan/git/CAPSTONE_T316/venv/lib/python3.12/site-packages/sklearn/model_selection/_validation.py\", line 942, in _score\n",
      "    scores = scorer(estimator, X_test, y_test, **score_params)\n",
      "             ^^^^^^^^^^^^^^^^^^^^^^^^^^^^^^^^^^^^^^^^^^^^^^^^^\n",
      "  File \"/home/dylan/git/CAPSTONE_T316/venv/lib/python3.12/site-packages/sklearn/metrics/_scorer.py\", line 308, in __call__\n",
      "    return self._score(partial(_cached_call, None), estimator, X, y_true, **_kwargs)\n",
      "           ^^^^^^^^^^^^^^^^^^^^^^^^^^^^^^^^^^^^^^^^^^^^^^^^^^^^^^^^^^^^^^^^^^^^^^^^^\n",
      "  File \"/home/dylan/git/CAPSTONE_T316/venv/lib/python3.12/site-packages/sklearn/metrics/_scorer.py\", line 408, in _score\n",
      "    return self._sign * self._score_func(y_true, y_pred, **scoring_kwargs)\n",
      "                        ^^^^^^^^^^^^^^^^^^^^^^^^^^^^^^^^^^^^^^^^^^^^^^^^^^\n",
      "  File \"/home/dylan/git/CAPSTONE_T316/venv/lib/python3.12/site-packages/sklearn/utils/_param_validation.py\", line 218, in wrapper\n",
      "    return func(*args, **kwargs)\n",
      "           ^^^^^^^^^^^^^^^^^^^^^\n",
      "  File \"/home/dylan/git/CAPSTONE_T316/venv/lib/python3.12/site-packages/sklearn/metrics/_regression.py\", line 489, in mean_absolute_percentage_error\n",
      "    _check_reg_targets_with_floating_dtype(\n",
      "  File \"/home/dylan/git/CAPSTONE_T316/venv/lib/python3.12/site-packages/sklearn/metrics/_regression.py\", line 209, in _check_reg_targets_with_floating_dtype\n",
      "    y_type, y_true, y_pred, sample_weight, multioutput = _check_reg_targets(\n",
      "                                                         ^^^^^^^^^^^^^^^^^^^\n",
      "  File \"/home/dylan/git/CAPSTONE_T316/venv/lib/python3.12/site-packages/sklearn/metrics/_regression.py\", line 127, in _check_reg_targets\n",
      "    raise ValueError(\n",
      "ValueError: y_true and y_pred have different number of output (1!=2)\n",
      "\n",
      "  warnings.warn(\n"
     ]
    },
    {
     "name": "stdout",
     "output_type": "stream",
     "text": [
      "[CV] END colsample_bylevel=0.9, depth=10, iterations=1000, l2_leaf_reg=3, learning_rate=0.01, min_child_samples=20, subsample=0.8; total time=12.8min\n"
     ]
    },
    {
     "name": "stderr",
     "output_type": "stream",
     "text": [
      "/home/dylan/git/CAPSTONE_T316/venv/lib/python3.12/site-packages/sklearn/model_selection/_validation.py:953: UserWarning: Scoring failed. The score on this train-test partition for these parameters will be set to nan. Details: \n",
      "Traceback (most recent call last):\n",
      "  File \"/home/dylan/git/CAPSTONE_T316/venv/lib/python3.12/site-packages/sklearn/model_selection/_validation.py\", line 942, in _score\n",
      "    scores = scorer(estimator, X_test, y_test, **score_params)\n",
      "             ^^^^^^^^^^^^^^^^^^^^^^^^^^^^^^^^^^^^^^^^^^^^^^^^^\n",
      "  File \"/home/dylan/git/CAPSTONE_T316/venv/lib/python3.12/site-packages/sklearn/metrics/_scorer.py\", line 308, in __call__\n",
      "    return self._score(partial(_cached_call, None), estimator, X, y_true, **_kwargs)\n",
      "           ^^^^^^^^^^^^^^^^^^^^^^^^^^^^^^^^^^^^^^^^^^^^^^^^^^^^^^^^^^^^^^^^^^^^^^^^^\n",
      "  File \"/home/dylan/git/CAPSTONE_T316/venv/lib/python3.12/site-packages/sklearn/metrics/_scorer.py\", line 408, in _score\n",
      "    return self._sign * self._score_func(y_true, y_pred, **scoring_kwargs)\n",
      "                        ^^^^^^^^^^^^^^^^^^^^^^^^^^^^^^^^^^^^^^^^^^^^^^^^^^\n",
      "  File \"/home/dylan/git/CAPSTONE_T316/venv/lib/python3.12/site-packages/sklearn/utils/_param_validation.py\", line 218, in wrapper\n",
      "    return func(*args, **kwargs)\n",
      "           ^^^^^^^^^^^^^^^^^^^^^\n",
      "  File \"/home/dylan/git/CAPSTONE_T316/venv/lib/python3.12/site-packages/sklearn/metrics/_regression.py\", line 489, in mean_absolute_percentage_error\n",
      "    _check_reg_targets_with_floating_dtype(\n",
      "  File \"/home/dylan/git/CAPSTONE_T316/venv/lib/python3.12/site-packages/sklearn/metrics/_regression.py\", line 209, in _check_reg_targets_with_floating_dtype\n",
      "    y_type, y_true, y_pred, sample_weight, multioutput = _check_reg_targets(\n",
      "                                                         ^^^^^^^^^^^^^^^^^^^\n",
      "  File \"/home/dylan/git/CAPSTONE_T316/venv/lib/python3.12/site-packages/sklearn/metrics/_regression.py\", line 127, in _check_reg_targets\n",
      "    raise ValueError(\n",
      "ValueError: y_true and y_pred have different number of output (1!=2)\n",
      "\n",
      "  warnings.warn(\n"
     ]
    },
    {
     "name": "stdout",
     "output_type": "stream",
     "text": [
      "[CV] END colsample_bylevel=0.9, depth=10, iterations=1000, l2_leaf_reg=3, learning_rate=0.01, min_child_samples=20, subsample=0.8; total time=12.7min\n"
     ]
    },
    {
     "name": "stderr",
     "output_type": "stream",
     "text": [
      "/home/dylan/git/CAPSTONE_T316/venv/lib/python3.12/site-packages/sklearn/model_selection/_validation.py:953: UserWarning: Scoring failed. The score on this train-test partition for these parameters will be set to nan. Details: \n",
      "Traceback (most recent call last):\n",
      "  File \"/home/dylan/git/CAPSTONE_T316/venv/lib/python3.12/site-packages/sklearn/model_selection/_validation.py\", line 942, in _score\n",
      "    scores = scorer(estimator, X_test, y_test, **score_params)\n",
      "             ^^^^^^^^^^^^^^^^^^^^^^^^^^^^^^^^^^^^^^^^^^^^^^^^^\n",
      "  File \"/home/dylan/git/CAPSTONE_T316/venv/lib/python3.12/site-packages/sklearn/metrics/_scorer.py\", line 308, in __call__\n",
      "    return self._score(partial(_cached_call, None), estimator, X, y_true, **_kwargs)\n",
      "           ^^^^^^^^^^^^^^^^^^^^^^^^^^^^^^^^^^^^^^^^^^^^^^^^^^^^^^^^^^^^^^^^^^^^^^^^^\n",
      "  File \"/home/dylan/git/CAPSTONE_T316/venv/lib/python3.12/site-packages/sklearn/metrics/_scorer.py\", line 408, in _score\n",
      "    return self._sign * self._score_func(y_true, y_pred, **scoring_kwargs)\n",
      "                        ^^^^^^^^^^^^^^^^^^^^^^^^^^^^^^^^^^^^^^^^^^^^^^^^^^\n",
      "  File \"/home/dylan/git/CAPSTONE_T316/venv/lib/python3.12/site-packages/sklearn/utils/_param_validation.py\", line 218, in wrapper\n",
      "    return func(*args, **kwargs)\n",
      "           ^^^^^^^^^^^^^^^^^^^^^\n",
      "  File \"/home/dylan/git/CAPSTONE_T316/venv/lib/python3.12/site-packages/sklearn/metrics/_regression.py\", line 489, in mean_absolute_percentage_error\n",
      "    _check_reg_targets_with_floating_dtype(\n",
      "  File \"/home/dylan/git/CAPSTONE_T316/venv/lib/python3.12/site-packages/sklearn/metrics/_regression.py\", line 209, in _check_reg_targets_with_floating_dtype\n",
      "    y_type, y_true, y_pred, sample_weight, multioutput = _check_reg_targets(\n",
      "                                                         ^^^^^^^^^^^^^^^^^^^\n",
      "  File \"/home/dylan/git/CAPSTONE_T316/venv/lib/python3.12/site-packages/sklearn/metrics/_regression.py\", line 127, in _check_reg_targets\n",
      "    raise ValueError(\n",
      "ValueError: y_true and y_pred have different number of output (1!=2)\n",
      "\n",
      "  warnings.warn(\n"
     ]
    },
    {
     "name": "stdout",
     "output_type": "stream",
     "text": [
      "[CV] END colsample_bylevel=1.0, depth=10, iterations=1000, l2_leaf_reg=5, learning_rate=0.03, min_child_samples=20, subsample=0.8; total time=12.7min\n"
     ]
    },
    {
     "name": "stderr",
     "output_type": "stream",
     "text": [
      "/home/dylan/git/CAPSTONE_T316/venv/lib/python3.12/site-packages/sklearn/model_selection/_validation.py:953: UserWarning: Scoring failed. The score on this train-test partition for these parameters will be set to nan. Details: \n",
      "Traceback (most recent call last):\n",
      "  File \"/home/dylan/git/CAPSTONE_T316/venv/lib/python3.12/site-packages/sklearn/model_selection/_validation.py\", line 942, in _score\n",
      "    scores = scorer(estimator, X_test, y_test, **score_params)\n",
      "             ^^^^^^^^^^^^^^^^^^^^^^^^^^^^^^^^^^^^^^^^^^^^^^^^^\n",
      "  File \"/home/dylan/git/CAPSTONE_T316/venv/lib/python3.12/site-packages/sklearn/metrics/_scorer.py\", line 308, in __call__\n",
      "    return self._score(partial(_cached_call, None), estimator, X, y_true, **_kwargs)\n",
      "           ^^^^^^^^^^^^^^^^^^^^^^^^^^^^^^^^^^^^^^^^^^^^^^^^^^^^^^^^^^^^^^^^^^^^^^^^^\n",
      "  File \"/home/dylan/git/CAPSTONE_T316/venv/lib/python3.12/site-packages/sklearn/metrics/_scorer.py\", line 408, in _score\n",
      "    return self._sign * self._score_func(y_true, y_pred, **scoring_kwargs)\n",
      "                        ^^^^^^^^^^^^^^^^^^^^^^^^^^^^^^^^^^^^^^^^^^^^^^^^^^\n",
      "  File \"/home/dylan/git/CAPSTONE_T316/venv/lib/python3.12/site-packages/sklearn/utils/_param_validation.py\", line 218, in wrapper\n",
      "    return func(*args, **kwargs)\n",
      "           ^^^^^^^^^^^^^^^^^^^^^\n",
      "  File \"/home/dylan/git/CAPSTONE_T316/venv/lib/python3.12/site-packages/sklearn/metrics/_regression.py\", line 489, in mean_absolute_percentage_error\n",
      "    _check_reg_targets_with_floating_dtype(\n",
      "  File \"/home/dylan/git/CAPSTONE_T316/venv/lib/python3.12/site-packages/sklearn/metrics/_regression.py\", line 209, in _check_reg_targets_with_floating_dtype\n",
      "    y_type, y_true, y_pred, sample_weight, multioutput = _check_reg_targets(\n",
      "                                                         ^^^^^^^^^^^^^^^^^^^\n",
      "  File \"/home/dylan/git/CAPSTONE_T316/venv/lib/python3.12/site-packages/sklearn/metrics/_regression.py\", line 127, in _check_reg_targets\n",
      "    raise ValueError(\n",
      "ValueError: y_true and y_pred have different number of output (1!=2)\n",
      "\n",
      "  warnings.warn(\n"
     ]
    },
    {
     "name": "stdout",
     "output_type": "stream",
     "text": [
      "[CV] END colsample_bylevel=1.0, depth=10, iterations=1000, l2_leaf_reg=5, learning_rate=0.03, min_child_samples=20, subsample=0.8; total time=12.9min\n"
     ]
    },
    {
     "name": "stderr",
     "output_type": "stream",
     "text": [
      "/home/dylan/git/CAPSTONE_T316/venv/lib/python3.12/site-packages/sklearn/model_selection/_validation.py:953: UserWarning: Scoring failed. The score on this train-test partition for these parameters will be set to nan. Details: \n",
      "Traceback (most recent call last):\n",
      "  File \"/home/dylan/git/CAPSTONE_T316/venv/lib/python3.12/site-packages/sklearn/model_selection/_validation.py\", line 942, in _score\n",
      "    scores = scorer(estimator, X_test, y_test, **score_params)\n",
      "             ^^^^^^^^^^^^^^^^^^^^^^^^^^^^^^^^^^^^^^^^^^^^^^^^^\n",
      "  File \"/home/dylan/git/CAPSTONE_T316/venv/lib/python3.12/site-packages/sklearn/metrics/_scorer.py\", line 308, in __call__\n",
      "    return self._score(partial(_cached_call, None), estimator, X, y_true, **_kwargs)\n",
      "           ^^^^^^^^^^^^^^^^^^^^^^^^^^^^^^^^^^^^^^^^^^^^^^^^^^^^^^^^^^^^^^^^^^^^^^^^^\n",
      "  File \"/home/dylan/git/CAPSTONE_T316/venv/lib/python3.12/site-packages/sklearn/metrics/_scorer.py\", line 408, in _score\n",
      "    return self._sign * self._score_func(y_true, y_pred, **scoring_kwargs)\n",
      "                        ^^^^^^^^^^^^^^^^^^^^^^^^^^^^^^^^^^^^^^^^^^^^^^^^^^\n",
      "  File \"/home/dylan/git/CAPSTONE_T316/venv/lib/python3.12/site-packages/sklearn/utils/_param_validation.py\", line 218, in wrapper\n",
      "    return func(*args, **kwargs)\n",
      "           ^^^^^^^^^^^^^^^^^^^^^\n",
      "  File \"/home/dylan/git/CAPSTONE_T316/venv/lib/python3.12/site-packages/sklearn/metrics/_regression.py\", line 489, in mean_absolute_percentage_error\n",
      "    _check_reg_targets_with_floating_dtype(\n",
      "  File \"/home/dylan/git/CAPSTONE_T316/venv/lib/python3.12/site-packages/sklearn/metrics/_regression.py\", line 209, in _check_reg_targets_with_floating_dtype\n",
      "    y_type, y_true, y_pred, sample_weight, multioutput = _check_reg_targets(\n",
      "                                                         ^^^^^^^^^^^^^^^^^^^\n",
      "  File \"/home/dylan/git/CAPSTONE_T316/venv/lib/python3.12/site-packages/sklearn/metrics/_regression.py\", line 127, in _check_reg_targets\n",
      "    raise ValueError(\n",
      "ValueError: y_true and y_pred have different number of output (1!=2)\n",
      "\n",
      "  warnings.warn(\n"
     ]
    },
    {
     "name": "stdout",
     "output_type": "stream",
     "text": [
      "[CV] END colsample_bylevel=1.0, depth=10, iterations=1000, l2_leaf_reg=5, learning_rate=0.03, min_child_samples=20, subsample=0.8; total time=12.7min\n"
     ]
    },
    {
     "name": "stderr",
     "output_type": "stream",
     "text": [
      "/home/dylan/git/CAPSTONE_T316/venv/lib/python3.12/site-packages/sklearn/model_selection/_validation.py:953: UserWarning: Scoring failed. The score on this train-test partition for these parameters will be set to nan. Details: \n",
      "Traceback (most recent call last):\n",
      "  File \"/home/dylan/git/CAPSTONE_T316/venv/lib/python3.12/site-packages/sklearn/model_selection/_validation.py\", line 942, in _score\n",
      "    scores = scorer(estimator, X_test, y_test, **score_params)\n",
      "             ^^^^^^^^^^^^^^^^^^^^^^^^^^^^^^^^^^^^^^^^^^^^^^^^^\n",
      "  File \"/home/dylan/git/CAPSTONE_T316/venv/lib/python3.12/site-packages/sklearn/metrics/_scorer.py\", line 308, in __call__\n",
      "    return self._score(partial(_cached_call, None), estimator, X, y_true, **_kwargs)\n",
      "           ^^^^^^^^^^^^^^^^^^^^^^^^^^^^^^^^^^^^^^^^^^^^^^^^^^^^^^^^^^^^^^^^^^^^^^^^^\n",
      "  File \"/home/dylan/git/CAPSTONE_T316/venv/lib/python3.12/site-packages/sklearn/metrics/_scorer.py\", line 408, in _score\n",
      "    return self._sign * self._score_func(y_true, y_pred, **scoring_kwargs)\n",
      "                        ^^^^^^^^^^^^^^^^^^^^^^^^^^^^^^^^^^^^^^^^^^^^^^^^^^\n",
      "  File \"/home/dylan/git/CAPSTONE_T316/venv/lib/python3.12/site-packages/sklearn/utils/_param_validation.py\", line 218, in wrapper\n",
      "    return func(*args, **kwargs)\n",
      "           ^^^^^^^^^^^^^^^^^^^^^\n",
      "  File \"/home/dylan/git/CAPSTONE_T316/venv/lib/python3.12/site-packages/sklearn/metrics/_regression.py\", line 489, in mean_absolute_percentage_error\n",
      "    _check_reg_targets_with_floating_dtype(\n",
      "  File \"/home/dylan/git/CAPSTONE_T316/venv/lib/python3.12/site-packages/sklearn/metrics/_regression.py\", line 209, in _check_reg_targets_with_floating_dtype\n",
      "    y_type, y_true, y_pred, sample_weight, multioutput = _check_reg_targets(\n",
      "                                                         ^^^^^^^^^^^^^^^^^^^\n",
      "  File \"/home/dylan/git/CAPSTONE_T316/venv/lib/python3.12/site-packages/sklearn/metrics/_regression.py\", line 127, in _check_reg_targets\n",
      "    raise ValueError(\n",
      "ValueError: y_true and y_pred have different number of output (1!=2)\n",
      "\n",
      "  warnings.warn(\n"
     ]
    },
    {
     "name": "stdout",
     "output_type": "stream",
     "text": [
      "[CV] END colsample_bylevel=0.9, depth=10, iterations=1000, l2_leaf_reg=5, learning_rate=0.01, min_child_samples=10, subsample=0.8; total time=11.9min\n"
     ]
    },
    {
     "name": "stderr",
     "output_type": "stream",
     "text": [
      "/home/dylan/git/CAPSTONE_T316/venv/lib/python3.12/site-packages/sklearn/model_selection/_validation.py:953: UserWarning: Scoring failed. The score on this train-test partition for these parameters will be set to nan. Details: \n",
      "Traceback (most recent call last):\n",
      "  File \"/home/dylan/git/CAPSTONE_T316/venv/lib/python3.12/site-packages/sklearn/model_selection/_validation.py\", line 942, in _score\n",
      "    scores = scorer(estimator, X_test, y_test, **score_params)\n",
      "             ^^^^^^^^^^^^^^^^^^^^^^^^^^^^^^^^^^^^^^^^^^^^^^^^^\n",
      "  File \"/home/dylan/git/CAPSTONE_T316/venv/lib/python3.12/site-packages/sklearn/metrics/_scorer.py\", line 308, in __call__\n",
      "    return self._score(partial(_cached_call, None), estimator, X, y_true, **_kwargs)\n",
      "           ^^^^^^^^^^^^^^^^^^^^^^^^^^^^^^^^^^^^^^^^^^^^^^^^^^^^^^^^^^^^^^^^^^^^^^^^^\n",
      "  File \"/home/dylan/git/CAPSTONE_T316/venv/lib/python3.12/site-packages/sklearn/metrics/_scorer.py\", line 408, in _score\n",
      "    return self._sign * self._score_func(y_true, y_pred, **scoring_kwargs)\n",
      "                        ^^^^^^^^^^^^^^^^^^^^^^^^^^^^^^^^^^^^^^^^^^^^^^^^^^\n",
      "  File \"/home/dylan/git/CAPSTONE_T316/venv/lib/python3.12/site-packages/sklearn/utils/_param_validation.py\", line 218, in wrapper\n",
      "    return func(*args, **kwargs)\n",
      "           ^^^^^^^^^^^^^^^^^^^^^\n",
      "  File \"/home/dylan/git/CAPSTONE_T316/venv/lib/python3.12/site-packages/sklearn/metrics/_regression.py\", line 489, in mean_absolute_percentage_error\n",
      "    _check_reg_targets_with_floating_dtype(\n",
      "  File \"/home/dylan/git/CAPSTONE_T316/venv/lib/python3.12/site-packages/sklearn/metrics/_regression.py\", line 209, in _check_reg_targets_with_floating_dtype\n",
      "    y_type, y_true, y_pred, sample_weight, multioutput = _check_reg_targets(\n",
      "                                                         ^^^^^^^^^^^^^^^^^^^\n",
      "  File \"/home/dylan/git/CAPSTONE_T316/venv/lib/python3.12/site-packages/sklearn/metrics/_regression.py\", line 127, in _check_reg_targets\n",
      "    raise ValueError(\n",
      "ValueError: y_true and y_pred have different number of output (1!=2)\n",
      "\n",
      "  warnings.warn(\n"
     ]
    },
    {
     "name": "stdout",
     "output_type": "stream",
     "text": [
      "[CV] END colsample_bylevel=0.9, depth=8, iterations=1000, l2_leaf_reg=3, learning_rate=0.1, min_child_samples=5, subsample=0.8; total time= 8.8min\n"
     ]
    },
    {
     "name": "stderr",
     "output_type": "stream",
     "text": [
      "/home/dylan/git/CAPSTONE_T316/venv/lib/python3.12/site-packages/sklearn/model_selection/_validation.py:953: UserWarning: Scoring failed. The score on this train-test partition for these parameters will be set to nan. Details: \n",
      "Traceback (most recent call last):\n",
      "  File \"/home/dylan/git/CAPSTONE_T316/venv/lib/python3.12/site-packages/sklearn/model_selection/_validation.py\", line 942, in _score\n",
      "    scores = scorer(estimator, X_test, y_test, **score_params)\n",
      "             ^^^^^^^^^^^^^^^^^^^^^^^^^^^^^^^^^^^^^^^^^^^^^^^^^\n",
      "  File \"/home/dylan/git/CAPSTONE_T316/venv/lib/python3.12/site-packages/sklearn/metrics/_scorer.py\", line 308, in __call__\n",
      "    return self._score(partial(_cached_call, None), estimator, X, y_true, **_kwargs)\n",
      "           ^^^^^^^^^^^^^^^^^^^^^^^^^^^^^^^^^^^^^^^^^^^^^^^^^^^^^^^^^^^^^^^^^^^^^^^^^\n",
      "  File \"/home/dylan/git/CAPSTONE_T316/venv/lib/python3.12/site-packages/sklearn/metrics/_scorer.py\", line 408, in _score\n",
      "    return self._sign * self._score_func(y_true, y_pred, **scoring_kwargs)\n",
      "                        ^^^^^^^^^^^^^^^^^^^^^^^^^^^^^^^^^^^^^^^^^^^^^^^^^^\n",
      "  File \"/home/dylan/git/CAPSTONE_T316/venv/lib/python3.12/site-packages/sklearn/utils/_param_validation.py\", line 218, in wrapper\n",
      "    return func(*args, **kwargs)\n",
      "           ^^^^^^^^^^^^^^^^^^^^^\n",
      "  File \"/home/dylan/git/CAPSTONE_T316/venv/lib/python3.12/site-packages/sklearn/metrics/_regression.py\", line 489, in mean_absolute_percentage_error\n",
      "    _check_reg_targets_with_floating_dtype(\n",
      "  File \"/home/dylan/git/CAPSTONE_T316/venv/lib/python3.12/site-packages/sklearn/metrics/_regression.py\", line 209, in _check_reg_targets_with_floating_dtype\n",
      "    y_type, y_true, y_pred, sample_weight, multioutput = _check_reg_targets(\n",
      "                                                         ^^^^^^^^^^^^^^^^^^^\n",
      "  File \"/home/dylan/git/CAPSTONE_T316/venv/lib/python3.12/site-packages/sklearn/metrics/_regression.py\", line 127, in _check_reg_targets\n",
      "    raise ValueError(\n",
      "ValueError: y_true and y_pred have different number of output (1!=2)\n",
      "\n",
      "  warnings.warn(\n"
     ]
    },
    {
     "name": "stdout",
     "output_type": "stream",
     "text": [
      "[CV] END colsample_bylevel=0.9, depth=10, iterations=1000, l2_leaf_reg=5, learning_rate=0.01, min_child_samples=10, subsample=0.8; total time=12.0min\n"
     ]
    },
    {
     "name": "stderr",
     "output_type": "stream",
     "text": [
      "/home/dylan/git/CAPSTONE_T316/venv/lib/python3.12/site-packages/sklearn/model_selection/_validation.py:953: UserWarning: Scoring failed. The score on this train-test partition for these parameters will be set to nan. Details: \n",
      "Traceback (most recent call last):\n",
      "  File \"/home/dylan/git/CAPSTONE_T316/venv/lib/python3.12/site-packages/sklearn/model_selection/_validation.py\", line 942, in _score\n",
      "    scores = scorer(estimator, X_test, y_test, **score_params)\n",
      "             ^^^^^^^^^^^^^^^^^^^^^^^^^^^^^^^^^^^^^^^^^^^^^^^^^\n",
      "  File \"/home/dylan/git/CAPSTONE_T316/venv/lib/python3.12/site-packages/sklearn/metrics/_scorer.py\", line 308, in __call__\n",
      "    return self._score(partial(_cached_call, None), estimator, X, y_true, **_kwargs)\n",
      "           ^^^^^^^^^^^^^^^^^^^^^^^^^^^^^^^^^^^^^^^^^^^^^^^^^^^^^^^^^^^^^^^^^^^^^^^^^\n",
      "  File \"/home/dylan/git/CAPSTONE_T316/venv/lib/python3.12/site-packages/sklearn/metrics/_scorer.py\", line 408, in _score\n",
      "    return self._sign * self._score_func(y_true, y_pred, **scoring_kwargs)\n",
      "                        ^^^^^^^^^^^^^^^^^^^^^^^^^^^^^^^^^^^^^^^^^^^^^^^^^^\n",
      "  File \"/home/dylan/git/CAPSTONE_T316/venv/lib/python3.12/site-packages/sklearn/utils/_param_validation.py\", line 218, in wrapper\n",
      "    return func(*args, **kwargs)\n",
      "           ^^^^^^^^^^^^^^^^^^^^^\n",
      "  File \"/home/dylan/git/CAPSTONE_T316/venv/lib/python3.12/site-packages/sklearn/metrics/_regression.py\", line 489, in mean_absolute_percentage_error\n",
      "    _check_reg_targets_with_floating_dtype(\n",
      "  File \"/home/dylan/git/CAPSTONE_T316/venv/lib/python3.12/site-packages/sklearn/metrics/_regression.py\", line 209, in _check_reg_targets_with_floating_dtype\n",
      "    y_type, y_true, y_pred, sample_weight, multioutput = _check_reg_targets(\n",
      "                                                         ^^^^^^^^^^^^^^^^^^^\n",
      "  File \"/home/dylan/git/CAPSTONE_T316/venv/lib/python3.12/site-packages/sklearn/metrics/_regression.py\", line 127, in _check_reg_targets\n",
      "    raise ValueError(\n",
      "ValueError: y_true and y_pred have different number of output (1!=2)\n",
      "\n",
      "  warnings.warn(\n"
     ]
    },
    {
     "name": "stdout",
     "output_type": "stream",
     "text": [
      "[CV] END colsample_bylevel=0.9, depth=10, iterations=1000, l2_leaf_reg=5, learning_rate=0.01, min_child_samples=10, subsample=0.8; total time=12.2min\n"
     ]
    },
    {
     "name": "stderr",
     "output_type": "stream",
     "text": [
      "/home/dylan/git/CAPSTONE_T316/venv/lib/python3.12/site-packages/sklearn/model_selection/_validation.py:953: UserWarning: Scoring failed. The score on this train-test partition for these parameters will be set to nan. Details: \n",
      "Traceback (most recent call last):\n",
      "  File \"/home/dylan/git/CAPSTONE_T316/venv/lib/python3.12/site-packages/sklearn/model_selection/_validation.py\", line 942, in _score\n",
      "    scores = scorer(estimator, X_test, y_test, **score_params)\n",
      "             ^^^^^^^^^^^^^^^^^^^^^^^^^^^^^^^^^^^^^^^^^^^^^^^^^\n",
      "  File \"/home/dylan/git/CAPSTONE_T316/venv/lib/python3.12/site-packages/sklearn/metrics/_scorer.py\", line 308, in __call__\n",
      "    return self._score(partial(_cached_call, None), estimator, X, y_true, **_kwargs)\n",
      "           ^^^^^^^^^^^^^^^^^^^^^^^^^^^^^^^^^^^^^^^^^^^^^^^^^^^^^^^^^^^^^^^^^^^^^^^^^\n",
      "  File \"/home/dylan/git/CAPSTONE_T316/venv/lib/python3.12/site-packages/sklearn/metrics/_scorer.py\", line 408, in _score\n",
      "    return self._sign * self._score_func(y_true, y_pred, **scoring_kwargs)\n",
      "                        ^^^^^^^^^^^^^^^^^^^^^^^^^^^^^^^^^^^^^^^^^^^^^^^^^^\n",
      "  File \"/home/dylan/git/CAPSTONE_T316/venv/lib/python3.12/site-packages/sklearn/utils/_param_validation.py\", line 218, in wrapper\n",
      "    return func(*args, **kwargs)\n",
      "           ^^^^^^^^^^^^^^^^^^^^^\n",
      "  File \"/home/dylan/git/CAPSTONE_T316/venv/lib/python3.12/site-packages/sklearn/metrics/_regression.py\", line 489, in mean_absolute_percentage_error\n",
      "    _check_reg_targets_with_floating_dtype(\n",
      "  File \"/home/dylan/git/CAPSTONE_T316/venv/lib/python3.12/site-packages/sklearn/metrics/_regression.py\", line 209, in _check_reg_targets_with_floating_dtype\n",
      "    y_type, y_true, y_pred, sample_weight, multioutput = _check_reg_targets(\n",
      "                                                         ^^^^^^^^^^^^^^^^^^^\n",
      "  File \"/home/dylan/git/CAPSTONE_T316/venv/lib/python3.12/site-packages/sklearn/metrics/_regression.py\", line 127, in _check_reg_targets\n",
      "    raise ValueError(\n",
      "ValueError: y_true and y_pred have different number of output (1!=2)\n",
      "\n",
      "  warnings.warn(\n"
     ]
    },
    {
     "name": "stdout",
     "output_type": "stream",
     "text": [
      "[CV] END colsample_bylevel=1.0, depth=10, iterations=1000, l2_leaf_reg=7, learning_rate=0.05, min_child_samples=10, subsample=0.8; total time=12.8min\n"
     ]
    },
    {
     "name": "stderr",
     "output_type": "stream",
     "text": [
      "/home/dylan/git/CAPSTONE_T316/venv/lib/python3.12/site-packages/sklearn/model_selection/_validation.py:953: UserWarning: Scoring failed. The score on this train-test partition for these parameters will be set to nan. Details: \n",
      "Traceback (most recent call last):\n",
      "  File \"/home/dylan/git/CAPSTONE_T316/venv/lib/python3.12/site-packages/sklearn/model_selection/_validation.py\", line 942, in _score\n",
      "    scores = scorer(estimator, X_test, y_test, **score_params)\n",
      "             ^^^^^^^^^^^^^^^^^^^^^^^^^^^^^^^^^^^^^^^^^^^^^^^^^\n",
      "  File \"/home/dylan/git/CAPSTONE_T316/venv/lib/python3.12/site-packages/sklearn/metrics/_scorer.py\", line 308, in __call__\n",
      "    return self._score(partial(_cached_call, None), estimator, X, y_true, **_kwargs)\n",
      "           ^^^^^^^^^^^^^^^^^^^^^^^^^^^^^^^^^^^^^^^^^^^^^^^^^^^^^^^^^^^^^^^^^^^^^^^^^\n",
      "  File \"/home/dylan/git/CAPSTONE_T316/venv/lib/python3.12/site-packages/sklearn/metrics/_scorer.py\", line 408, in _score\n",
      "    return self._sign * self._score_func(y_true, y_pred, **scoring_kwargs)\n",
      "                        ^^^^^^^^^^^^^^^^^^^^^^^^^^^^^^^^^^^^^^^^^^^^^^^^^^\n",
      "  File \"/home/dylan/git/CAPSTONE_T316/venv/lib/python3.12/site-packages/sklearn/utils/_param_validation.py\", line 218, in wrapper\n",
      "    return func(*args, **kwargs)\n",
      "           ^^^^^^^^^^^^^^^^^^^^^\n",
      "  File \"/home/dylan/git/CAPSTONE_T316/venv/lib/python3.12/site-packages/sklearn/metrics/_regression.py\", line 489, in mean_absolute_percentage_error\n",
      "    _check_reg_targets_with_floating_dtype(\n",
      "  File \"/home/dylan/git/CAPSTONE_T316/venv/lib/python3.12/site-packages/sklearn/metrics/_regression.py\", line 209, in _check_reg_targets_with_floating_dtype\n",
      "    y_type, y_true, y_pred, sample_weight, multioutput = _check_reg_targets(\n",
      "                                                         ^^^^^^^^^^^^^^^^^^^\n",
      "  File \"/home/dylan/git/CAPSTONE_T316/venv/lib/python3.12/site-packages/sklearn/metrics/_regression.py\", line 127, in _check_reg_targets\n",
      "    raise ValueError(\n",
      "ValueError: y_true and y_pred have different number of output (1!=2)\n",
      "\n",
      "  warnings.warn(\n"
     ]
    },
    {
     "name": "stdout",
     "output_type": "stream",
     "text": [
      "[CV] END colsample_bylevel=0.8, depth=10, iterations=1500, l2_leaf_reg=3, learning_rate=0.03, min_child_samples=10, subsample=0.9; total time=18.6min\n"
     ]
    },
    {
     "name": "stderr",
     "output_type": "stream",
     "text": [
      "/home/dylan/git/CAPSTONE_T316/venv/lib/python3.12/site-packages/sklearn/model_selection/_validation.py:953: UserWarning: Scoring failed. The score on this train-test partition for these parameters will be set to nan. Details: \n",
      "Traceback (most recent call last):\n",
      "  File \"/home/dylan/git/CAPSTONE_T316/venv/lib/python3.12/site-packages/sklearn/model_selection/_validation.py\", line 942, in _score\n",
      "    scores = scorer(estimator, X_test, y_test, **score_params)\n",
      "             ^^^^^^^^^^^^^^^^^^^^^^^^^^^^^^^^^^^^^^^^^^^^^^^^^\n",
      "  File \"/home/dylan/git/CAPSTONE_T316/venv/lib/python3.12/site-packages/sklearn/metrics/_scorer.py\", line 308, in __call__\n",
      "    return self._score(partial(_cached_call, None), estimator, X, y_true, **_kwargs)\n",
      "           ^^^^^^^^^^^^^^^^^^^^^^^^^^^^^^^^^^^^^^^^^^^^^^^^^^^^^^^^^^^^^^^^^^^^^^^^^\n",
      "  File \"/home/dylan/git/CAPSTONE_T316/venv/lib/python3.12/site-packages/sklearn/metrics/_scorer.py\", line 408, in _score\n",
      "    return self._sign * self._score_func(y_true, y_pred, **scoring_kwargs)\n",
      "                        ^^^^^^^^^^^^^^^^^^^^^^^^^^^^^^^^^^^^^^^^^^^^^^^^^^\n",
      "  File \"/home/dylan/git/CAPSTONE_T316/venv/lib/python3.12/site-packages/sklearn/utils/_param_validation.py\", line 218, in wrapper\n",
      "    return func(*args, **kwargs)\n",
      "           ^^^^^^^^^^^^^^^^^^^^^\n",
      "  File \"/home/dylan/git/CAPSTONE_T316/venv/lib/python3.12/site-packages/sklearn/metrics/_regression.py\", line 489, in mean_absolute_percentage_error\n",
      "    _check_reg_targets_with_floating_dtype(\n",
      "  File \"/home/dylan/git/CAPSTONE_T316/venv/lib/python3.12/site-packages/sklearn/metrics/_regression.py\", line 209, in _check_reg_targets_with_floating_dtype\n",
      "    y_type, y_true, y_pred, sample_weight, multioutput = _check_reg_targets(\n",
      "                                                         ^^^^^^^^^^^^^^^^^^^\n",
      "  File \"/home/dylan/git/CAPSTONE_T316/venv/lib/python3.12/site-packages/sklearn/metrics/_regression.py\", line 127, in _check_reg_targets\n",
      "    raise ValueError(\n",
      "ValueError: y_true and y_pred have different number of output (1!=2)\n",
      "\n",
      "  warnings.warn(\n"
     ]
    },
    {
     "name": "stdout",
     "output_type": "stream",
     "text": [
      "[CV] END colsample_bylevel=0.8, depth=10, iterations=1500, l2_leaf_reg=3, learning_rate=0.03, min_child_samples=10, subsample=0.9; total time=18.7min\n"
     ]
    },
    {
     "name": "stderr",
     "output_type": "stream",
     "text": [
      "/home/dylan/git/CAPSTONE_T316/venv/lib/python3.12/site-packages/sklearn/model_selection/_validation.py:953: UserWarning: Scoring failed. The score on this train-test partition for these parameters will be set to nan. Details: \n",
      "Traceback (most recent call last):\n",
      "  File \"/home/dylan/git/CAPSTONE_T316/venv/lib/python3.12/site-packages/sklearn/model_selection/_validation.py\", line 942, in _score\n",
      "    scores = scorer(estimator, X_test, y_test, **score_params)\n",
      "             ^^^^^^^^^^^^^^^^^^^^^^^^^^^^^^^^^^^^^^^^^^^^^^^^^\n",
      "  File \"/home/dylan/git/CAPSTONE_T316/venv/lib/python3.12/site-packages/sklearn/metrics/_scorer.py\", line 308, in __call__\n",
      "    return self._score(partial(_cached_call, None), estimator, X, y_true, **_kwargs)\n",
      "           ^^^^^^^^^^^^^^^^^^^^^^^^^^^^^^^^^^^^^^^^^^^^^^^^^^^^^^^^^^^^^^^^^^^^^^^^^\n",
      "  File \"/home/dylan/git/CAPSTONE_T316/venv/lib/python3.12/site-packages/sklearn/metrics/_scorer.py\", line 408, in _score\n",
      "    return self._sign * self._score_func(y_true, y_pred, **scoring_kwargs)\n",
      "                        ^^^^^^^^^^^^^^^^^^^^^^^^^^^^^^^^^^^^^^^^^^^^^^^^^^\n",
      "  File \"/home/dylan/git/CAPSTONE_T316/venv/lib/python3.12/site-packages/sklearn/utils/_param_validation.py\", line 218, in wrapper\n",
      "    return func(*args, **kwargs)\n",
      "           ^^^^^^^^^^^^^^^^^^^^^\n",
      "  File \"/home/dylan/git/CAPSTONE_T316/venv/lib/python3.12/site-packages/sklearn/metrics/_regression.py\", line 489, in mean_absolute_percentage_error\n",
      "    _check_reg_targets_with_floating_dtype(\n",
      "  File \"/home/dylan/git/CAPSTONE_T316/venv/lib/python3.12/site-packages/sklearn/metrics/_regression.py\", line 209, in _check_reg_targets_with_floating_dtype\n",
      "    y_type, y_true, y_pred, sample_weight, multioutput = _check_reg_targets(\n",
      "                                                         ^^^^^^^^^^^^^^^^^^^\n",
      "  File \"/home/dylan/git/CAPSTONE_T316/venv/lib/python3.12/site-packages/sklearn/metrics/_regression.py\", line 127, in _check_reg_targets\n",
      "    raise ValueError(\n",
      "ValueError: y_true and y_pred have different number of output (1!=2)\n",
      "\n",
      "  warnings.warn(\n"
     ]
    },
    {
     "name": "stdout",
     "output_type": "stream",
     "text": [
      "[CV] END colsample_bylevel=0.8, depth=10, iterations=1500, l2_leaf_reg=3, learning_rate=0.03, min_child_samples=10, subsample=0.9; total time=18.8min\n"
     ]
    },
    {
     "name": "stderr",
     "output_type": "stream",
     "text": [
      "/home/dylan/git/CAPSTONE_T316/venv/lib/python3.12/site-packages/sklearn/model_selection/_validation.py:953: UserWarning: Scoring failed. The score on this train-test partition for these parameters will be set to nan. Details: \n",
      "Traceback (most recent call last):\n",
      "  File \"/home/dylan/git/CAPSTONE_T316/venv/lib/python3.12/site-packages/sklearn/model_selection/_validation.py\", line 942, in _score\n",
      "    scores = scorer(estimator, X_test, y_test, **score_params)\n",
      "             ^^^^^^^^^^^^^^^^^^^^^^^^^^^^^^^^^^^^^^^^^^^^^^^^^\n",
      "  File \"/home/dylan/git/CAPSTONE_T316/venv/lib/python3.12/site-packages/sklearn/metrics/_scorer.py\", line 308, in __call__\n",
      "    return self._score(partial(_cached_call, None), estimator, X, y_true, **_kwargs)\n",
      "           ^^^^^^^^^^^^^^^^^^^^^^^^^^^^^^^^^^^^^^^^^^^^^^^^^^^^^^^^^^^^^^^^^^^^^^^^^\n",
      "  File \"/home/dylan/git/CAPSTONE_T316/venv/lib/python3.12/site-packages/sklearn/metrics/_scorer.py\", line 408, in _score\n",
      "    return self._sign * self._score_func(y_true, y_pred, **scoring_kwargs)\n",
      "                        ^^^^^^^^^^^^^^^^^^^^^^^^^^^^^^^^^^^^^^^^^^^^^^^^^^\n",
      "  File \"/home/dylan/git/CAPSTONE_T316/venv/lib/python3.12/site-packages/sklearn/utils/_param_validation.py\", line 218, in wrapper\n",
      "    return func(*args, **kwargs)\n",
      "           ^^^^^^^^^^^^^^^^^^^^^\n",
      "  File \"/home/dylan/git/CAPSTONE_T316/venv/lib/python3.12/site-packages/sklearn/metrics/_regression.py\", line 489, in mean_absolute_percentage_error\n",
      "    _check_reg_targets_with_floating_dtype(\n",
      "  File \"/home/dylan/git/CAPSTONE_T316/venv/lib/python3.12/site-packages/sklearn/metrics/_regression.py\", line 209, in _check_reg_targets_with_floating_dtype\n",
      "    y_type, y_true, y_pred, sample_weight, multioutput = _check_reg_targets(\n",
      "                                                         ^^^^^^^^^^^^^^^^^^^\n",
      "  File \"/home/dylan/git/CAPSTONE_T316/venv/lib/python3.12/site-packages/sklearn/metrics/_regression.py\", line 127, in _check_reg_targets\n",
      "    raise ValueError(\n",
      "ValueError: y_true and y_pred have different number of output (1!=2)\n",
      "\n",
      "  warnings.warn(\n"
     ]
    },
    {
     "name": "stdout",
     "output_type": "stream",
     "text": [
      "[CV] END colsample_bylevel=0.9, depth=10, iterations=1500, l2_leaf_reg=5, learning_rate=0.1, min_child_samples=5, subsample=1.0; total time=19.8min\n"
     ]
    },
    {
     "name": "stderr",
     "output_type": "stream",
     "text": [
      "/home/dylan/git/CAPSTONE_T316/venv/lib/python3.12/site-packages/sklearn/model_selection/_validation.py:953: UserWarning: Scoring failed. The score on this train-test partition for these parameters will be set to nan. Details: \n",
      "Traceback (most recent call last):\n",
      "  File \"/home/dylan/git/CAPSTONE_T316/venv/lib/python3.12/site-packages/sklearn/model_selection/_validation.py\", line 942, in _score\n",
      "    scores = scorer(estimator, X_test, y_test, **score_params)\n",
      "             ^^^^^^^^^^^^^^^^^^^^^^^^^^^^^^^^^^^^^^^^^^^^^^^^^\n",
      "  File \"/home/dylan/git/CAPSTONE_T316/venv/lib/python3.12/site-packages/sklearn/metrics/_scorer.py\", line 308, in __call__\n",
      "    return self._score(partial(_cached_call, None), estimator, X, y_true, **_kwargs)\n",
      "           ^^^^^^^^^^^^^^^^^^^^^^^^^^^^^^^^^^^^^^^^^^^^^^^^^^^^^^^^^^^^^^^^^^^^^^^^^\n",
      "  File \"/home/dylan/git/CAPSTONE_T316/venv/lib/python3.12/site-packages/sklearn/metrics/_scorer.py\", line 408, in _score\n",
      "    return self._sign * self._score_func(y_true, y_pred, **scoring_kwargs)\n",
      "                        ^^^^^^^^^^^^^^^^^^^^^^^^^^^^^^^^^^^^^^^^^^^^^^^^^^\n",
      "  File \"/home/dylan/git/CAPSTONE_T316/venv/lib/python3.12/site-packages/sklearn/utils/_param_validation.py\", line 218, in wrapper\n",
      "    return func(*args, **kwargs)\n",
      "           ^^^^^^^^^^^^^^^^^^^^^\n",
      "  File \"/home/dylan/git/CAPSTONE_T316/venv/lib/python3.12/site-packages/sklearn/metrics/_regression.py\", line 489, in mean_absolute_percentage_error\n",
      "    _check_reg_targets_with_floating_dtype(\n",
      "  File \"/home/dylan/git/CAPSTONE_T316/venv/lib/python3.12/site-packages/sklearn/metrics/_regression.py\", line 209, in _check_reg_targets_with_floating_dtype\n",
      "    y_type, y_true, y_pred, sample_weight, multioutput = _check_reg_targets(\n",
      "                                                         ^^^^^^^^^^^^^^^^^^^\n",
      "  File \"/home/dylan/git/CAPSTONE_T316/venv/lib/python3.12/site-packages/sklearn/metrics/_regression.py\", line 127, in _check_reg_targets\n",
      "    raise ValueError(\n",
      "ValueError: y_true and y_pred have different number of output (1!=2)\n",
      "\n",
      "  warnings.warn(\n"
     ]
    },
    {
     "name": "stdout",
     "output_type": "stream",
     "text": [
      "[CV] END colsample_bylevel=0.9, depth=10, iterations=1500, l2_leaf_reg=5, learning_rate=0.1, min_child_samples=5, subsample=1.0; total time=20.0min\n"
     ]
    },
    {
     "name": "stderr",
     "output_type": "stream",
     "text": [
      "/home/dylan/git/CAPSTONE_T316/venv/lib/python3.12/site-packages/sklearn/model_selection/_validation.py:953: UserWarning: Scoring failed. The score on this train-test partition for these parameters will be set to nan. Details: \n",
      "Traceback (most recent call last):\n",
      "  File \"/home/dylan/git/CAPSTONE_T316/venv/lib/python3.12/site-packages/sklearn/model_selection/_validation.py\", line 942, in _score\n",
      "    scores = scorer(estimator, X_test, y_test, **score_params)\n",
      "             ^^^^^^^^^^^^^^^^^^^^^^^^^^^^^^^^^^^^^^^^^^^^^^^^^\n",
      "  File \"/home/dylan/git/CAPSTONE_T316/venv/lib/python3.12/site-packages/sklearn/metrics/_scorer.py\", line 308, in __call__\n",
      "    return self._score(partial(_cached_call, None), estimator, X, y_true, **_kwargs)\n",
      "           ^^^^^^^^^^^^^^^^^^^^^^^^^^^^^^^^^^^^^^^^^^^^^^^^^^^^^^^^^^^^^^^^^^^^^^^^^\n",
      "  File \"/home/dylan/git/CAPSTONE_T316/venv/lib/python3.12/site-packages/sklearn/metrics/_scorer.py\", line 408, in _score\n",
      "    return self._sign * self._score_func(y_true, y_pred, **scoring_kwargs)\n",
      "                        ^^^^^^^^^^^^^^^^^^^^^^^^^^^^^^^^^^^^^^^^^^^^^^^^^^\n",
      "  File \"/home/dylan/git/CAPSTONE_T316/venv/lib/python3.12/site-packages/sklearn/utils/_param_validation.py\", line 218, in wrapper\n",
      "    return func(*args, **kwargs)\n",
      "           ^^^^^^^^^^^^^^^^^^^^^\n",
      "  File \"/home/dylan/git/CAPSTONE_T316/venv/lib/python3.12/site-packages/sklearn/metrics/_regression.py\", line 489, in mean_absolute_percentage_error\n",
      "    _check_reg_targets_with_floating_dtype(\n",
      "  File \"/home/dylan/git/CAPSTONE_T316/venv/lib/python3.12/site-packages/sklearn/metrics/_regression.py\", line 209, in _check_reg_targets_with_floating_dtype\n",
      "    y_type, y_true, y_pred, sample_weight, multioutput = _check_reg_targets(\n",
      "                                                         ^^^^^^^^^^^^^^^^^^^\n",
      "  File \"/home/dylan/git/CAPSTONE_T316/venv/lib/python3.12/site-packages/sklearn/metrics/_regression.py\", line 127, in _check_reg_targets\n",
      "    raise ValueError(\n",
      "ValueError: y_true and y_pred have different number of output (1!=2)\n",
      "\n",
      "  warnings.warn(\n"
     ]
    },
    {
     "name": "stdout",
     "output_type": "stream",
     "text": [
      "[CV] END colsample_bylevel=0.9, depth=10, iterations=1500, l2_leaf_reg=5, learning_rate=0.1, min_child_samples=5, subsample=1.0; total time=20.0min\n"
     ]
    },
    {
     "name": "stderr",
     "output_type": "stream",
     "text": [
      "/home/dylan/git/CAPSTONE_T316/venv/lib/python3.12/site-packages/sklearn/model_selection/_validation.py:953: UserWarning: Scoring failed. The score on this train-test partition for these parameters will be set to nan. Details: \n",
      "Traceback (most recent call last):\n",
      "  File \"/home/dylan/git/CAPSTONE_T316/venv/lib/python3.12/site-packages/sklearn/model_selection/_validation.py\", line 942, in _score\n",
      "    scores = scorer(estimator, X_test, y_test, **score_params)\n",
      "             ^^^^^^^^^^^^^^^^^^^^^^^^^^^^^^^^^^^^^^^^^^^^^^^^^\n",
      "  File \"/home/dylan/git/CAPSTONE_T316/venv/lib/python3.12/site-packages/sklearn/metrics/_scorer.py\", line 308, in __call__\n",
      "    return self._score(partial(_cached_call, None), estimator, X, y_true, **_kwargs)\n",
      "           ^^^^^^^^^^^^^^^^^^^^^^^^^^^^^^^^^^^^^^^^^^^^^^^^^^^^^^^^^^^^^^^^^^^^^^^^^\n",
      "  File \"/home/dylan/git/CAPSTONE_T316/venv/lib/python3.12/site-packages/sklearn/metrics/_scorer.py\", line 408, in _score\n",
      "    return self._sign * self._score_func(y_true, y_pred, **scoring_kwargs)\n",
      "                        ^^^^^^^^^^^^^^^^^^^^^^^^^^^^^^^^^^^^^^^^^^^^^^^^^^\n",
      "  File \"/home/dylan/git/CAPSTONE_T316/venv/lib/python3.12/site-packages/sklearn/utils/_param_validation.py\", line 218, in wrapper\n",
      "    return func(*args, **kwargs)\n",
      "           ^^^^^^^^^^^^^^^^^^^^^\n",
      "  File \"/home/dylan/git/CAPSTONE_T316/venv/lib/python3.12/site-packages/sklearn/metrics/_regression.py\", line 489, in mean_absolute_percentage_error\n",
      "    _check_reg_targets_with_floating_dtype(\n",
      "  File \"/home/dylan/git/CAPSTONE_T316/venv/lib/python3.12/site-packages/sklearn/metrics/_regression.py\", line 209, in _check_reg_targets_with_floating_dtype\n",
      "    y_type, y_true, y_pred, sample_weight, multioutput = _check_reg_targets(\n",
      "                                                         ^^^^^^^^^^^^^^^^^^^\n",
      "  File \"/home/dylan/git/CAPSTONE_T316/venv/lib/python3.12/site-packages/sklearn/metrics/_regression.py\", line 127, in _check_reg_targets\n",
      "    raise ValueError(\n",
      "ValueError: y_true and y_pred have different number of output (1!=2)\n",
      "\n",
      "  warnings.warn(\n"
     ]
    },
    {
     "name": "stdout",
     "output_type": "stream",
     "text": [
      "[CV] END colsample_bylevel=1.0, depth=10, iterations=1000, l2_leaf_reg=7, learning_rate=0.05, min_child_samples=10, subsample=0.8; total time=12.9min\n"
     ]
    },
    {
     "name": "stderr",
     "output_type": "stream",
     "text": [
      "/home/dylan/git/CAPSTONE_T316/venv/lib/python3.12/site-packages/sklearn/model_selection/_validation.py:953: UserWarning: Scoring failed. The score on this train-test partition for these parameters will be set to nan. Details: \n",
      "Traceback (most recent call last):\n",
      "  File \"/home/dylan/git/CAPSTONE_T316/venv/lib/python3.12/site-packages/sklearn/model_selection/_validation.py\", line 942, in _score\n",
      "    scores = scorer(estimator, X_test, y_test, **score_params)\n",
      "             ^^^^^^^^^^^^^^^^^^^^^^^^^^^^^^^^^^^^^^^^^^^^^^^^^\n",
      "  File \"/home/dylan/git/CAPSTONE_T316/venv/lib/python3.12/site-packages/sklearn/metrics/_scorer.py\", line 308, in __call__\n",
      "    return self._score(partial(_cached_call, None), estimator, X, y_true, **_kwargs)\n",
      "           ^^^^^^^^^^^^^^^^^^^^^^^^^^^^^^^^^^^^^^^^^^^^^^^^^^^^^^^^^^^^^^^^^^^^^^^^^\n",
      "  File \"/home/dylan/git/CAPSTONE_T316/venv/lib/python3.12/site-packages/sklearn/metrics/_scorer.py\", line 408, in _score\n",
      "    return self._sign * self._score_func(y_true, y_pred, **scoring_kwargs)\n",
      "                        ^^^^^^^^^^^^^^^^^^^^^^^^^^^^^^^^^^^^^^^^^^^^^^^^^^\n",
      "  File \"/home/dylan/git/CAPSTONE_T316/venv/lib/python3.12/site-packages/sklearn/utils/_param_validation.py\", line 218, in wrapper\n",
      "    return func(*args, **kwargs)\n",
      "           ^^^^^^^^^^^^^^^^^^^^^\n",
      "  File \"/home/dylan/git/CAPSTONE_T316/venv/lib/python3.12/site-packages/sklearn/metrics/_regression.py\", line 489, in mean_absolute_percentage_error\n",
      "    _check_reg_targets_with_floating_dtype(\n",
      "  File \"/home/dylan/git/CAPSTONE_T316/venv/lib/python3.12/site-packages/sklearn/metrics/_regression.py\", line 209, in _check_reg_targets_with_floating_dtype\n",
      "    y_type, y_true, y_pred, sample_weight, multioutput = _check_reg_targets(\n",
      "                                                         ^^^^^^^^^^^^^^^^^^^\n",
      "  File \"/home/dylan/git/CAPSTONE_T316/venv/lib/python3.12/site-packages/sklearn/metrics/_regression.py\", line 127, in _check_reg_targets\n",
      "    raise ValueError(\n",
      "ValueError: y_true and y_pred have different number of output (1!=2)\n",
      "\n",
      "  warnings.warn(\n"
     ]
    },
    {
     "name": "stdout",
     "output_type": "stream",
     "text": [
      "[CV] END colsample_bylevel=1.0, depth=10, iterations=1000, l2_leaf_reg=7, learning_rate=0.05, min_child_samples=10, subsample=0.8; total time=13.2min\n"
     ]
    },
    {
     "name": "stderr",
     "output_type": "stream",
     "text": [
      "/home/dylan/git/CAPSTONE_T316/venv/lib/python3.12/site-packages/sklearn/model_selection/_validation.py:953: UserWarning: Scoring failed. The score on this train-test partition for these parameters will be set to nan. Details: \n",
      "Traceback (most recent call last):\n",
      "  File \"/home/dylan/git/CAPSTONE_T316/venv/lib/python3.12/site-packages/sklearn/model_selection/_validation.py\", line 942, in _score\n",
      "    scores = scorer(estimator, X_test, y_test, **score_params)\n",
      "             ^^^^^^^^^^^^^^^^^^^^^^^^^^^^^^^^^^^^^^^^^^^^^^^^^\n",
      "  File \"/home/dylan/git/CAPSTONE_T316/venv/lib/python3.12/site-packages/sklearn/metrics/_scorer.py\", line 308, in __call__\n",
      "    return self._score(partial(_cached_call, None), estimator, X, y_true, **_kwargs)\n",
      "           ^^^^^^^^^^^^^^^^^^^^^^^^^^^^^^^^^^^^^^^^^^^^^^^^^^^^^^^^^^^^^^^^^^^^^^^^^\n",
      "  File \"/home/dylan/git/CAPSTONE_T316/venv/lib/python3.12/site-packages/sklearn/metrics/_scorer.py\", line 408, in _score\n",
      "    return self._sign * self._score_func(y_true, y_pred, **scoring_kwargs)\n",
      "                        ^^^^^^^^^^^^^^^^^^^^^^^^^^^^^^^^^^^^^^^^^^^^^^^^^^\n",
      "  File \"/home/dylan/git/CAPSTONE_T316/venv/lib/python3.12/site-packages/sklearn/utils/_param_validation.py\", line 218, in wrapper\n",
      "    return func(*args, **kwargs)\n",
      "           ^^^^^^^^^^^^^^^^^^^^^\n",
      "  File \"/home/dylan/git/CAPSTONE_T316/venv/lib/python3.12/site-packages/sklearn/metrics/_regression.py\", line 489, in mean_absolute_percentage_error\n",
      "    _check_reg_targets_with_floating_dtype(\n",
      "  File \"/home/dylan/git/CAPSTONE_T316/venv/lib/python3.12/site-packages/sklearn/metrics/_regression.py\", line 209, in _check_reg_targets_with_floating_dtype\n",
      "    y_type, y_true, y_pred, sample_weight, multioutput = _check_reg_targets(\n",
      "                                                         ^^^^^^^^^^^^^^^^^^^\n",
      "  File \"/home/dylan/git/CAPSTONE_T316/venv/lib/python3.12/site-packages/sklearn/metrics/_regression.py\", line 127, in _check_reg_targets\n",
      "    raise ValueError(\n",
      "ValueError: y_true and y_pred have different number of output (1!=2)\n",
      "\n",
      "  warnings.warn(\n"
     ]
    },
    {
     "name": "stdout",
     "output_type": "stream",
     "text": [
      "[CV] END colsample_bylevel=0.9, depth=6, iterations=1000, l2_leaf_reg=5, learning_rate=0.05, min_child_samples=5, subsample=0.9; total time= 6.8min\n"
     ]
    },
    {
     "name": "stderr",
     "output_type": "stream",
     "text": [
      "/home/dylan/git/CAPSTONE_T316/venv/lib/python3.12/site-packages/sklearn/model_selection/_validation.py:953: UserWarning: Scoring failed. The score on this train-test partition for these parameters will be set to nan. Details: \n",
      "Traceback (most recent call last):\n",
      "  File \"/home/dylan/git/CAPSTONE_T316/venv/lib/python3.12/site-packages/sklearn/model_selection/_validation.py\", line 942, in _score\n",
      "    scores = scorer(estimator, X_test, y_test, **score_params)\n",
      "             ^^^^^^^^^^^^^^^^^^^^^^^^^^^^^^^^^^^^^^^^^^^^^^^^^\n",
      "  File \"/home/dylan/git/CAPSTONE_T316/venv/lib/python3.12/site-packages/sklearn/metrics/_scorer.py\", line 308, in __call__\n",
      "    return self._score(partial(_cached_call, None), estimator, X, y_true, **_kwargs)\n",
      "           ^^^^^^^^^^^^^^^^^^^^^^^^^^^^^^^^^^^^^^^^^^^^^^^^^^^^^^^^^^^^^^^^^^^^^^^^^\n",
      "  File \"/home/dylan/git/CAPSTONE_T316/venv/lib/python3.12/site-packages/sklearn/metrics/_scorer.py\", line 408, in _score\n",
      "    return self._sign * self._score_func(y_true, y_pred, **scoring_kwargs)\n",
      "                        ^^^^^^^^^^^^^^^^^^^^^^^^^^^^^^^^^^^^^^^^^^^^^^^^^^\n",
      "  File \"/home/dylan/git/CAPSTONE_T316/venv/lib/python3.12/site-packages/sklearn/utils/_param_validation.py\", line 218, in wrapper\n",
      "    return func(*args, **kwargs)\n",
      "           ^^^^^^^^^^^^^^^^^^^^^\n",
      "  File \"/home/dylan/git/CAPSTONE_T316/venv/lib/python3.12/site-packages/sklearn/metrics/_regression.py\", line 489, in mean_absolute_percentage_error\n",
      "    _check_reg_targets_with_floating_dtype(\n",
      "  File \"/home/dylan/git/CAPSTONE_T316/venv/lib/python3.12/site-packages/sklearn/metrics/_regression.py\", line 209, in _check_reg_targets_with_floating_dtype\n",
      "    y_type, y_true, y_pred, sample_weight, multioutput = _check_reg_targets(\n",
      "                                                         ^^^^^^^^^^^^^^^^^^^\n",
      "  File \"/home/dylan/git/CAPSTONE_T316/venv/lib/python3.12/site-packages/sklearn/metrics/_regression.py\", line 127, in _check_reg_targets\n",
      "    raise ValueError(\n",
      "ValueError: y_true and y_pred have different number of output (1!=2)\n",
      "\n",
      "  warnings.warn(\n"
     ]
    },
    {
     "name": "stdout",
     "output_type": "stream",
     "text": [
      "[CV] END colsample_bylevel=0.9, depth=6, iterations=1000, l2_leaf_reg=5, learning_rate=0.05, min_child_samples=5, subsample=0.9; total time= 6.8min\n"
     ]
    },
    {
     "name": "stderr",
     "output_type": "stream",
     "text": [
      "/home/dylan/git/CAPSTONE_T316/venv/lib/python3.12/site-packages/sklearn/model_selection/_validation.py:953: UserWarning: Scoring failed. The score on this train-test partition for these parameters will be set to nan. Details: \n",
      "Traceback (most recent call last):\n",
      "  File \"/home/dylan/git/CAPSTONE_T316/venv/lib/python3.12/site-packages/sklearn/model_selection/_validation.py\", line 942, in _score\n",
      "    scores = scorer(estimator, X_test, y_test, **score_params)\n",
      "             ^^^^^^^^^^^^^^^^^^^^^^^^^^^^^^^^^^^^^^^^^^^^^^^^^\n",
      "  File \"/home/dylan/git/CAPSTONE_T316/venv/lib/python3.12/site-packages/sklearn/metrics/_scorer.py\", line 308, in __call__\n",
      "    return self._score(partial(_cached_call, None), estimator, X, y_true, **_kwargs)\n",
      "           ^^^^^^^^^^^^^^^^^^^^^^^^^^^^^^^^^^^^^^^^^^^^^^^^^^^^^^^^^^^^^^^^^^^^^^^^^\n",
      "  File \"/home/dylan/git/CAPSTONE_T316/venv/lib/python3.12/site-packages/sklearn/metrics/_scorer.py\", line 408, in _score\n",
      "    return self._sign * self._score_func(y_true, y_pred, **scoring_kwargs)\n",
      "                        ^^^^^^^^^^^^^^^^^^^^^^^^^^^^^^^^^^^^^^^^^^^^^^^^^^\n",
      "  File \"/home/dylan/git/CAPSTONE_T316/venv/lib/python3.12/site-packages/sklearn/utils/_param_validation.py\", line 218, in wrapper\n",
      "    return func(*args, **kwargs)\n",
      "           ^^^^^^^^^^^^^^^^^^^^^\n",
      "  File \"/home/dylan/git/CAPSTONE_T316/venv/lib/python3.12/site-packages/sklearn/metrics/_regression.py\", line 489, in mean_absolute_percentage_error\n",
      "    _check_reg_targets_with_floating_dtype(\n",
      "  File \"/home/dylan/git/CAPSTONE_T316/venv/lib/python3.12/site-packages/sklearn/metrics/_regression.py\", line 209, in _check_reg_targets_with_floating_dtype\n",
      "    y_type, y_true, y_pred, sample_weight, multioutput = _check_reg_targets(\n",
      "                                                         ^^^^^^^^^^^^^^^^^^^\n",
      "  File \"/home/dylan/git/CAPSTONE_T316/venv/lib/python3.12/site-packages/sklearn/metrics/_regression.py\", line 127, in _check_reg_targets\n",
      "    raise ValueError(\n",
      "ValueError: y_true and y_pred have different number of output (1!=2)\n",
      "\n",
      "  warnings.warn(\n"
     ]
    },
    {
     "name": "stdout",
     "output_type": "stream",
     "text": [
      "[CV] END colsample_bylevel=0.9, depth=6, iterations=1000, l2_leaf_reg=5, learning_rate=0.05, min_child_samples=5, subsample=0.9; total time= 6.9min\n"
     ]
    },
    {
     "name": "stderr",
     "output_type": "stream",
     "text": [
      "/home/dylan/git/CAPSTONE_T316/venv/lib/python3.12/site-packages/sklearn/model_selection/_validation.py:953: UserWarning: Scoring failed. The score on this train-test partition for these parameters will be set to nan. Details: \n",
      "Traceback (most recent call last):\n",
      "  File \"/home/dylan/git/CAPSTONE_T316/venv/lib/python3.12/site-packages/sklearn/model_selection/_validation.py\", line 942, in _score\n",
      "    scores = scorer(estimator, X_test, y_test, **score_params)\n",
      "             ^^^^^^^^^^^^^^^^^^^^^^^^^^^^^^^^^^^^^^^^^^^^^^^^^\n",
      "  File \"/home/dylan/git/CAPSTONE_T316/venv/lib/python3.12/site-packages/sklearn/metrics/_scorer.py\", line 308, in __call__\n",
      "    return self._score(partial(_cached_call, None), estimator, X, y_true, **_kwargs)\n",
      "           ^^^^^^^^^^^^^^^^^^^^^^^^^^^^^^^^^^^^^^^^^^^^^^^^^^^^^^^^^^^^^^^^^^^^^^^^^\n",
      "  File \"/home/dylan/git/CAPSTONE_T316/venv/lib/python3.12/site-packages/sklearn/metrics/_scorer.py\", line 408, in _score\n",
      "    return self._sign * self._score_func(y_true, y_pred, **scoring_kwargs)\n",
      "                        ^^^^^^^^^^^^^^^^^^^^^^^^^^^^^^^^^^^^^^^^^^^^^^^^^^\n",
      "  File \"/home/dylan/git/CAPSTONE_T316/venv/lib/python3.12/site-packages/sklearn/utils/_param_validation.py\", line 218, in wrapper\n",
      "    return func(*args, **kwargs)\n",
      "           ^^^^^^^^^^^^^^^^^^^^^\n",
      "  File \"/home/dylan/git/CAPSTONE_T316/venv/lib/python3.12/site-packages/sklearn/metrics/_regression.py\", line 489, in mean_absolute_percentage_error\n",
      "    _check_reg_targets_with_floating_dtype(\n",
      "  File \"/home/dylan/git/CAPSTONE_T316/venv/lib/python3.12/site-packages/sklearn/metrics/_regression.py\", line 209, in _check_reg_targets_with_floating_dtype\n",
      "    y_type, y_true, y_pred, sample_weight, multioutput = _check_reg_targets(\n",
      "                                                         ^^^^^^^^^^^^^^^^^^^\n",
      "  File \"/home/dylan/git/CAPSTONE_T316/venv/lib/python3.12/site-packages/sklearn/metrics/_regression.py\", line 127, in _check_reg_targets\n",
      "    raise ValueError(\n",
      "ValueError: y_true and y_pred have different number of output (1!=2)\n",
      "\n",
      "  warnings.warn(\n"
     ]
    },
    {
     "name": "stdout",
     "output_type": "stream",
     "text": [
      "[CV] END colsample_bylevel=0.9, depth=8, iterations=1000, l2_leaf_reg=3, learning_rate=0.1, min_child_samples=5, subsample=0.8; total time= 9.3min\n"
     ]
    },
    {
     "name": "stderr",
     "output_type": "stream",
     "text": [
      "/home/dylan/git/CAPSTONE_T316/venv/lib/python3.12/site-packages/sklearn/model_selection/_validation.py:953: UserWarning: Scoring failed. The score on this train-test partition for these parameters will be set to nan. Details: \n",
      "Traceback (most recent call last):\n",
      "  File \"/home/dylan/git/CAPSTONE_T316/venv/lib/python3.12/site-packages/sklearn/model_selection/_validation.py\", line 942, in _score\n",
      "    scores = scorer(estimator, X_test, y_test, **score_params)\n",
      "             ^^^^^^^^^^^^^^^^^^^^^^^^^^^^^^^^^^^^^^^^^^^^^^^^^\n",
      "  File \"/home/dylan/git/CAPSTONE_T316/venv/lib/python3.12/site-packages/sklearn/metrics/_scorer.py\", line 308, in __call__\n",
      "    return self._score(partial(_cached_call, None), estimator, X, y_true, **_kwargs)\n",
      "           ^^^^^^^^^^^^^^^^^^^^^^^^^^^^^^^^^^^^^^^^^^^^^^^^^^^^^^^^^^^^^^^^^^^^^^^^^\n",
      "  File \"/home/dylan/git/CAPSTONE_T316/venv/lib/python3.12/site-packages/sklearn/metrics/_scorer.py\", line 408, in _score\n",
      "    return self._sign * self._score_func(y_true, y_pred, **scoring_kwargs)\n",
      "                        ^^^^^^^^^^^^^^^^^^^^^^^^^^^^^^^^^^^^^^^^^^^^^^^^^^\n",
      "  File \"/home/dylan/git/CAPSTONE_T316/venv/lib/python3.12/site-packages/sklearn/utils/_param_validation.py\", line 218, in wrapper\n",
      "    return func(*args, **kwargs)\n",
      "           ^^^^^^^^^^^^^^^^^^^^^\n",
      "  File \"/home/dylan/git/CAPSTONE_T316/venv/lib/python3.12/site-packages/sklearn/metrics/_regression.py\", line 489, in mean_absolute_percentage_error\n",
      "    _check_reg_targets_with_floating_dtype(\n",
      "  File \"/home/dylan/git/CAPSTONE_T316/venv/lib/python3.12/site-packages/sklearn/metrics/_regression.py\", line 209, in _check_reg_targets_with_floating_dtype\n",
      "    y_type, y_true, y_pred, sample_weight, multioutput = _check_reg_targets(\n",
      "                                                         ^^^^^^^^^^^^^^^^^^^\n",
      "  File \"/home/dylan/git/CAPSTONE_T316/venv/lib/python3.12/site-packages/sklearn/metrics/_regression.py\", line 127, in _check_reg_targets\n",
      "    raise ValueError(\n",
      "ValueError: y_true and y_pred have different number of output (1!=2)\n",
      "\n",
      "  warnings.warn(\n"
     ]
    },
    {
     "name": "stdout",
     "output_type": "stream",
     "text": [
      "[CV] END colsample_bylevel=0.9, depth=8, iterations=1000, l2_leaf_reg=3, learning_rate=0.1, min_child_samples=5, subsample=0.8; total time= 9.6min\n"
     ]
    },
    {
     "name": "stderr",
     "output_type": "stream",
     "text": [
      "/home/dylan/git/CAPSTONE_T316/venv/lib/python3.12/site-packages/sklearn/model_selection/_validation.py:953: UserWarning: Scoring failed. The score on this train-test partition for these parameters will be set to nan. Details: \n",
      "Traceback (most recent call last):\n",
      "  File \"/home/dylan/git/CAPSTONE_T316/venv/lib/python3.12/site-packages/sklearn/model_selection/_validation.py\", line 942, in _score\n",
      "    scores = scorer(estimator, X_test, y_test, **score_params)\n",
      "             ^^^^^^^^^^^^^^^^^^^^^^^^^^^^^^^^^^^^^^^^^^^^^^^^^\n",
      "  File \"/home/dylan/git/CAPSTONE_T316/venv/lib/python3.12/site-packages/sklearn/metrics/_scorer.py\", line 308, in __call__\n",
      "    return self._score(partial(_cached_call, None), estimator, X, y_true, **_kwargs)\n",
      "           ^^^^^^^^^^^^^^^^^^^^^^^^^^^^^^^^^^^^^^^^^^^^^^^^^^^^^^^^^^^^^^^^^^^^^^^^^\n",
      "  File \"/home/dylan/git/CAPSTONE_T316/venv/lib/python3.12/site-packages/sklearn/metrics/_scorer.py\", line 408, in _score\n",
      "    return self._sign * self._score_func(y_true, y_pred, **scoring_kwargs)\n",
      "                        ^^^^^^^^^^^^^^^^^^^^^^^^^^^^^^^^^^^^^^^^^^^^^^^^^^\n",
      "  File \"/home/dylan/git/CAPSTONE_T316/venv/lib/python3.12/site-packages/sklearn/utils/_param_validation.py\", line 218, in wrapper\n",
      "    return func(*args, **kwargs)\n",
      "           ^^^^^^^^^^^^^^^^^^^^^\n",
      "  File \"/home/dylan/git/CAPSTONE_T316/venv/lib/python3.12/site-packages/sklearn/metrics/_regression.py\", line 489, in mean_absolute_percentage_error\n",
      "    _check_reg_targets_with_floating_dtype(\n",
      "  File \"/home/dylan/git/CAPSTONE_T316/venv/lib/python3.12/site-packages/sklearn/metrics/_regression.py\", line 209, in _check_reg_targets_with_floating_dtype\n",
      "    y_type, y_true, y_pred, sample_weight, multioutput = _check_reg_targets(\n",
      "                                                         ^^^^^^^^^^^^^^^^^^^\n",
      "  File \"/home/dylan/git/CAPSTONE_T316/venv/lib/python3.12/site-packages/sklearn/metrics/_regression.py\", line 127, in _check_reg_targets\n",
      "    raise ValueError(\n",
      "ValueError: y_true and y_pred have different number of output (1!=2)\n",
      "\n",
      "  warnings.warn(\n"
     ]
    },
    {
     "name": "stdout",
     "output_type": "stream",
     "text": [
      "[CV] END colsample_bylevel=0.8, depth=6, iterations=1000, l2_leaf_reg=1, learning_rate=0.05, min_child_samples=10, subsample=0.8; total time= 6.5min\n"
     ]
    },
    {
     "name": "stderr",
     "output_type": "stream",
     "text": [
      "/home/dylan/git/CAPSTONE_T316/venv/lib/python3.12/site-packages/sklearn/model_selection/_validation.py:953: UserWarning: Scoring failed. The score on this train-test partition for these parameters will be set to nan. Details: \n",
      "Traceback (most recent call last):\n",
      "  File \"/home/dylan/git/CAPSTONE_T316/venv/lib/python3.12/site-packages/sklearn/model_selection/_validation.py\", line 942, in _score\n",
      "    scores = scorer(estimator, X_test, y_test, **score_params)\n",
      "             ^^^^^^^^^^^^^^^^^^^^^^^^^^^^^^^^^^^^^^^^^^^^^^^^^\n",
      "  File \"/home/dylan/git/CAPSTONE_T316/venv/lib/python3.12/site-packages/sklearn/metrics/_scorer.py\", line 308, in __call__\n",
      "    return self._score(partial(_cached_call, None), estimator, X, y_true, **_kwargs)\n",
      "           ^^^^^^^^^^^^^^^^^^^^^^^^^^^^^^^^^^^^^^^^^^^^^^^^^^^^^^^^^^^^^^^^^^^^^^^^^\n",
      "  File \"/home/dylan/git/CAPSTONE_T316/venv/lib/python3.12/site-packages/sklearn/metrics/_scorer.py\", line 408, in _score\n",
      "    return self._sign * self._score_func(y_true, y_pred, **scoring_kwargs)\n",
      "                        ^^^^^^^^^^^^^^^^^^^^^^^^^^^^^^^^^^^^^^^^^^^^^^^^^^\n",
      "  File \"/home/dylan/git/CAPSTONE_T316/venv/lib/python3.12/site-packages/sklearn/utils/_param_validation.py\", line 218, in wrapper\n",
      "    return func(*args, **kwargs)\n",
      "           ^^^^^^^^^^^^^^^^^^^^^\n",
      "  File \"/home/dylan/git/CAPSTONE_T316/venv/lib/python3.12/site-packages/sklearn/metrics/_regression.py\", line 489, in mean_absolute_percentage_error\n",
      "    _check_reg_targets_with_floating_dtype(\n",
      "  File \"/home/dylan/git/CAPSTONE_T316/venv/lib/python3.12/site-packages/sklearn/metrics/_regression.py\", line 209, in _check_reg_targets_with_floating_dtype\n",
      "    y_type, y_true, y_pred, sample_weight, multioutput = _check_reg_targets(\n",
      "                                                         ^^^^^^^^^^^^^^^^^^^\n",
      "  File \"/home/dylan/git/CAPSTONE_T316/venv/lib/python3.12/site-packages/sklearn/metrics/_regression.py\", line 127, in _check_reg_targets\n",
      "    raise ValueError(\n",
      "ValueError: y_true and y_pred have different number of output (1!=2)\n",
      "\n",
      "  warnings.warn(\n"
     ]
    },
    {
     "name": "stdout",
     "output_type": "stream",
     "text": [
      "[CV] END colsample_bylevel=0.8, depth=6, iterations=1000, l2_leaf_reg=1, learning_rate=0.05, min_child_samples=10, subsample=0.8; total time= 6.5min\n"
     ]
    },
    {
     "name": "stderr",
     "output_type": "stream",
     "text": [
      "/home/dylan/git/CAPSTONE_T316/venv/lib/python3.12/site-packages/sklearn/model_selection/_validation.py:953: UserWarning: Scoring failed. The score on this train-test partition for these parameters will be set to nan. Details: \n",
      "Traceback (most recent call last):\n",
      "  File \"/home/dylan/git/CAPSTONE_T316/venv/lib/python3.12/site-packages/sklearn/model_selection/_validation.py\", line 942, in _score\n",
      "    scores = scorer(estimator, X_test, y_test, **score_params)\n",
      "             ^^^^^^^^^^^^^^^^^^^^^^^^^^^^^^^^^^^^^^^^^^^^^^^^^\n",
      "  File \"/home/dylan/git/CAPSTONE_T316/venv/lib/python3.12/site-packages/sklearn/metrics/_scorer.py\", line 308, in __call__\n",
      "    return self._score(partial(_cached_call, None), estimator, X, y_true, **_kwargs)\n",
      "           ^^^^^^^^^^^^^^^^^^^^^^^^^^^^^^^^^^^^^^^^^^^^^^^^^^^^^^^^^^^^^^^^^^^^^^^^^\n",
      "  File \"/home/dylan/git/CAPSTONE_T316/venv/lib/python3.12/site-packages/sklearn/metrics/_scorer.py\", line 408, in _score\n",
      "    return self._sign * self._score_func(y_true, y_pred, **scoring_kwargs)\n",
      "                        ^^^^^^^^^^^^^^^^^^^^^^^^^^^^^^^^^^^^^^^^^^^^^^^^^^\n",
      "  File \"/home/dylan/git/CAPSTONE_T316/venv/lib/python3.12/site-packages/sklearn/utils/_param_validation.py\", line 218, in wrapper\n",
      "    return func(*args, **kwargs)\n",
      "           ^^^^^^^^^^^^^^^^^^^^^\n",
      "  File \"/home/dylan/git/CAPSTONE_T316/venv/lib/python3.12/site-packages/sklearn/metrics/_regression.py\", line 489, in mean_absolute_percentage_error\n",
      "    _check_reg_targets_with_floating_dtype(\n",
      "  File \"/home/dylan/git/CAPSTONE_T316/venv/lib/python3.12/site-packages/sklearn/metrics/_regression.py\", line 209, in _check_reg_targets_with_floating_dtype\n",
      "    y_type, y_true, y_pred, sample_weight, multioutput = _check_reg_targets(\n",
      "                                                         ^^^^^^^^^^^^^^^^^^^\n",
      "  File \"/home/dylan/git/CAPSTONE_T316/venv/lib/python3.12/site-packages/sklearn/metrics/_regression.py\", line 127, in _check_reg_targets\n",
      "    raise ValueError(\n",
      "ValueError: y_true and y_pred have different number of output (1!=2)\n",
      "\n",
      "  warnings.warn(\n"
     ]
    },
    {
     "name": "stdout",
     "output_type": "stream",
     "text": [
      "[CV] END colsample_bylevel=0.9, depth=8, iterations=1000, l2_leaf_reg=1, learning_rate=0.1, min_child_samples=10, subsample=1.0; total time= 9.7min\n"
     ]
    },
    {
     "name": "stderr",
     "output_type": "stream",
     "text": [
      "/home/dylan/git/CAPSTONE_T316/venv/lib/python3.12/site-packages/sklearn/model_selection/_validation.py:953: UserWarning: Scoring failed. The score on this train-test partition for these parameters will be set to nan. Details: \n",
      "Traceback (most recent call last):\n",
      "  File \"/home/dylan/git/CAPSTONE_T316/venv/lib/python3.12/site-packages/sklearn/model_selection/_validation.py\", line 942, in _score\n",
      "    scores = scorer(estimator, X_test, y_test, **score_params)\n",
      "             ^^^^^^^^^^^^^^^^^^^^^^^^^^^^^^^^^^^^^^^^^^^^^^^^^\n",
      "  File \"/home/dylan/git/CAPSTONE_T316/venv/lib/python3.12/site-packages/sklearn/metrics/_scorer.py\", line 308, in __call__\n",
      "    return self._score(partial(_cached_call, None), estimator, X, y_true, **_kwargs)\n",
      "           ^^^^^^^^^^^^^^^^^^^^^^^^^^^^^^^^^^^^^^^^^^^^^^^^^^^^^^^^^^^^^^^^^^^^^^^^^\n",
      "  File \"/home/dylan/git/CAPSTONE_T316/venv/lib/python3.12/site-packages/sklearn/metrics/_scorer.py\", line 408, in _score\n",
      "    return self._sign * self._score_func(y_true, y_pred, **scoring_kwargs)\n",
      "                        ^^^^^^^^^^^^^^^^^^^^^^^^^^^^^^^^^^^^^^^^^^^^^^^^^^\n",
      "  File \"/home/dylan/git/CAPSTONE_T316/venv/lib/python3.12/site-packages/sklearn/utils/_param_validation.py\", line 218, in wrapper\n",
      "    return func(*args, **kwargs)\n",
      "           ^^^^^^^^^^^^^^^^^^^^^\n",
      "  File \"/home/dylan/git/CAPSTONE_T316/venv/lib/python3.12/site-packages/sklearn/metrics/_regression.py\", line 489, in mean_absolute_percentage_error\n",
      "    _check_reg_targets_with_floating_dtype(\n",
      "  File \"/home/dylan/git/CAPSTONE_T316/venv/lib/python3.12/site-packages/sklearn/metrics/_regression.py\", line 209, in _check_reg_targets_with_floating_dtype\n",
      "    y_type, y_true, y_pred, sample_weight, multioutput = _check_reg_targets(\n",
      "                                                         ^^^^^^^^^^^^^^^^^^^\n",
      "  File \"/home/dylan/git/CAPSTONE_T316/venv/lib/python3.12/site-packages/sklearn/metrics/_regression.py\", line 127, in _check_reg_targets\n",
      "    raise ValueError(\n",
      "ValueError: y_true and y_pred have different number of output (1!=2)\n",
      "\n",
      "  warnings.warn(\n"
     ]
    },
    {
     "name": "stdout",
     "output_type": "stream",
     "text": [
      "[CV] END colsample_bylevel=0.9, depth=8, iterations=1000, l2_leaf_reg=1, learning_rate=0.1, min_child_samples=10, subsample=1.0; total time= 9.7min\n"
     ]
    },
    {
     "name": "stderr",
     "output_type": "stream",
     "text": [
      "/home/dylan/git/CAPSTONE_T316/venv/lib/python3.12/site-packages/sklearn/model_selection/_validation.py:953: UserWarning: Scoring failed. The score on this train-test partition for these parameters will be set to nan. Details: \n",
      "Traceback (most recent call last):\n",
      "  File \"/home/dylan/git/CAPSTONE_T316/venv/lib/python3.12/site-packages/sklearn/model_selection/_validation.py\", line 942, in _score\n",
      "    scores = scorer(estimator, X_test, y_test, **score_params)\n",
      "             ^^^^^^^^^^^^^^^^^^^^^^^^^^^^^^^^^^^^^^^^^^^^^^^^^\n",
      "  File \"/home/dylan/git/CAPSTONE_T316/venv/lib/python3.12/site-packages/sklearn/metrics/_scorer.py\", line 308, in __call__\n",
      "    return self._score(partial(_cached_call, None), estimator, X, y_true, **_kwargs)\n",
      "           ^^^^^^^^^^^^^^^^^^^^^^^^^^^^^^^^^^^^^^^^^^^^^^^^^^^^^^^^^^^^^^^^^^^^^^^^^\n",
      "  File \"/home/dylan/git/CAPSTONE_T316/venv/lib/python3.12/site-packages/sklearn/metrics/_scorer.py\", line 408, in _score\n",
      "    return self._sign * self._score_func(y_true, y_pred, **scoring_kwargs)\n",
      "                        ^^^^^^^^^^^^^^^^^^^^^^^^^^^^^^^^^^^^^^^^^^^^^^^^^^\n",
      "  File \"/home/dylan/git/CAPSTONE_T316/venv/lib/python3.12/site-packages/sklearn/utils/_param_validation.py\", line 218, in wrapper\n",
      "    return func(*args, **kwargs)\n",
      "           ^^^^^^^^^^^^^^^^^^^^^\n",
      "  File \"/home/dylan/git/CAPSTONE_T316/venv/lib/python3.12/site-packages/sklearn/metrics/_regression.py\", line 489, in mean_absolute_percentage_error\n",
      "    _check_reg_targets_with_floating_dtype(\n",
      "  File \"/home/dylan/git/CAPSTONE_T316/venv/lib/python3.12/site-packages/sklearn/metrics/_regression.py\", line 209, in _check_reg_targets_with_floating_dtype\n",
      "    y_type, y_true, y_pred, sample_weight, multioutput = _check_reg_targets(\n",
      "                                                         ^^^^^^^^^^^^^^^^^^^\n",
      "  File \"/home/dylan/git/CAPSTONE_T316/venv/lib/python3.12/site-packages/sklearn/metrics/_regression.py\", line 127, in _check_reg_targets\n",
      "    raise ValueError(\n",
      "ValueError: y_true and y_pred have different number of output (1!=2)\n",
      "\n",
      "  warnings.warn(\n"
     ]
    },
    {
     "name": "stdout",
     "output_type": "stream",
     "text": [
      "[CV] END colsample_bylevel=0.8, depth=6, iterations=1000, l2_leaf_reg=1, learning_rate=0.05, min_child_samples=10, subsample=0.8; total time= 6.5min\n"
     ]
    },
    {
     "name": "stderr",
     "output_type": "stream",
     "text": [
      "/home/dylan/git/CAPSTONE_T316/venv/lib/python3.12/site-packages/sklearn/model_selection/_validation.py:953: UserWarning: Scoring failed. The score on this train-test partition for these parameters will be set to nan. Details: \n",
      "Traceback (most recent call last):\n",
      "  File \"/home/dylan/git/CAPSTONE_T316/venv/lib/python3.12/site-packages/sklearn/model_selection/_validation.py\", line 942, in _score\n",
      "    scores = scorer(estimator, X_test, y_test, **score_params)\n",
      "             ^^^^^^^^^^^^^^^^^^^^^^^^^^^^^^^^^^^^^^^^^^^^^^^^^\n",
      "  File \"/home/dylan/git/CAPSTONE_T316/venv/lib/python3.12/site-packages/sklearn/metrics/_scorer.py\", line 308, in __call__\n",
      "    return self._score(partial(_cached_call, None), estimator, X, y_true, **_kwargs)\n",
      "           ^^^^^^^^^^^^^^^^^^^^^^^^^^^^^^^^^^^^^^^^^^^^^^^^^^^^^^^^^^^^^^^^^^^^^^^^^\n",
      "  File \"/home/dylan/git/CAPSTONE_T316/venv/lib/python3.12/site-packages/sklearn/metrics/_scorer.py\", line 408, in _score\n",
      "    return self._sign * self._score_func(y_true, y_pred, **scoring_kwargs)\n",
      "                        ^^^^^^^^^^^^^^^^^^^^^^^^^^^^^^^^^^^^^^^^^^^^^^^^^^\n",
      "  File \"/home/dylan/git/CAPSTONE_T316/venv/lib/python3.12/site-packages/sklearn/utils/_param_validation.py\", line 218, in wrapper\n",
      "    return func(*args, **kwargs)\n",
      "           ^^^^^^^^^^^^^^^^^^^^^\n",
      "  File \"/home/dylan/git/CAPSTONE_T316/venv/lib/python3.12/site-packages/sklearn/metrics/_regression.py\", line 489, in mean_absolute_percentage_error\n",
      "    _check_reg_targets_with_floating_dtype(\n",
      "  File \"/home/dylan/git/CAPSTONE_T316/venv/lib/python3.12/site-packages/sklearn/metrics/_regression.py\", line 209, in _check_reg_targets_with_floating_dtype\n",
      "    y_type, y_true, y_pred, sample_weight, multioutput = _check_reg_targets(\n",
      "                                                         ^^^^^^^^^^^^^^^^^^^\n",
      "  File \"/home/dylan/git/CAPSTONE_T316/venv/lib/python3.12/site-packages/sklearn/metrics/_regression.py\", line 127, in _check_reg_targets\n",
      "    raise ValueError(\n",
      "ValueError: y_true and y_pred have different number of output (1!=2)\n",
      "\n",
      "  warnings.warn(\n"
     ]
    },
    {
     "name": "stdout",
     "output_type": "stream",
     "text": [
      "[CV] END colsample_bylevel=0.9, depth=8, iterations=1000, l2_leaf_reg=1, learning_rate=0.1, min_child_samples=10, subsample=1.0; total time= 9.8min\n"
     ]
    },
    {
     "name": "stderr",
     "output_type": "stream",
     "text": [
      "/home/dylan/git/CAPSTONE_T316/venv/lib/python3.12/site-packages/sklearn/model_selection/_validation.py:953: UserWarning: Scoring failed. The score on this train-test partition for these parameters will be set to nan. Details: \n",
      "Traceback (most recent call last):\n",
      "  File \"/home/dylan/git/CAPSTONE_T316/venv/lib/python3.12/site-packages/sklearn/model_selection/_validation.py\", line 942, in _score\n",
      "    scores = scorer(estimator, X_test, y_test, **score_params)\n",
      "             ^^^^^^^^^^^^^^^^^^^^^^^^^^^^^^^^^^^^^^^^^^^^^^^^^\n",
      "  File \"/home/dylan/git/CAPSTONE_T316/venv/lib/python3.12/site-packages/sklearn/metrics/_scorer.py\", line 308, in __call__\n",
      "    return self._score(partial(_cached_call, None), estimator, X, y_true, **_kwargs)\n",
      "           ^^^^^^^^^^^^^^^^^^^^^^^^^^^^^^^^^^^^^^^^^^^^^^^^^^^^^^^^^^^^^^^^^^^^^^^^^\n",
      "  File \"/home/dylan/git/CAPSTONE_T316/venv/lib/python3.12/site-packages/sklearn/metrics/_scorer.py\", line 408, in _score\n",
      "    return self._sign * self._score_func(y_true, y_pred, **scoring_kwargs)\n",
      "                        ^^^^^^^^^^^^^^^^^^^^^^^^^^^^^^^^^^^^^^^^^^^^^^^^^^\n",
      "  File \"/home/dylan/git/CAPSTONE_T316/venv/lib/python3.12/site-packages/sklearn/utils/_param_validation.py\", line 218, in wrapper\n",
      "    return func(*args, **kwargs)\n",
      "           ^^^^^^^^^^^^^^^^^^^^^\n",
      "  File \"/home/dylan/git/CAPSTONE_T316/venv/lib/python3.12/site-packages/sklearn/metrics/_regression.py\", line 489, in mean_absolute_percentage_error\n",
      "    _check_reg_targets_with_floating_dtype(\n",
      "  File \"/home/dylan/git/CAPSTONE_T316/venv/lib/python3.12/site-packages/sklearn/metrics/_regression.py\", line 209, in _check_reg_targets_with_floating_dtype\n",
      "    y_type, y_true, y_pred, sample_weight, multioutput = _check_reg_targets(\n",
      "                                                         ^^^^^^^^^^^^^^^^^^^\n",
      "  File \"/home/dylan/git/CAPSTONE_T316/venv/lib/python3.12/site-packages/sklearn/metrics/_regression.py\", line 127, in _check_reg_targets\n",
      "    raise ValueError(\n",
      "ValueError: y_true and y_pred have different number of output (1!=2)\n",
      "\n",
      "  warnings.warn(\n"
     ]
    },
    {
     "name": "stdout",
     "output_type": "stream",
     "text": [
      "[CV] END colsample_bylevel=1.0, depth=10, iterations=1000, l2_leaf_reg=1, learning_rate=0.05, min_child_samples=5, subsample=1.0; total time=13.5min\n"
     ]
    },
    {
     "name": "stderr",
     "output_type": "stream",
     "text": [
      "/home/dylan/git/CAPSTONE_T316/venv/lib/python3.12/site-packages/sklearn/model_selection/_validation.py:953: UserWarning: Scoring failed. The score on this train-test partition for these parameters will be set to nan. Details: \n",
      "Traceback (most recent call last):\n",
      "  File \"/home/dylan/git/CAPSTONE_T316/venv/lib/python3.12/site-packages/sklearn/model_selection/_validation.py\", line 942, in _score\n",
      "    scores = scorer(estimator, X_test, y_test, **score_params)\n",
      "             ^^^^^^^^^^^^^^^^^^^^^^^^^^^^^^^^^^^^^^^^^^^^^^^^^\n",
      "  File \"/home/dylan/git/CAPSTONE_T316/venv/lib/python3.12/site-packages/sklearn/metrics/_scorer.py\", line 308, in __call__\n",
      "    return self._score(partial(_cached_call, None), estimator, X, y_true, **_kwargs)\n",
      "           ^^^^^^^^^^^^^^^^^^^^^^^^^^^^^^^^^^^^^^^^^^^^^^^^^^^^^^^^^^^^^^^^^^^^^^^^^\n",
      "  File \"/home/dylan/git/CAPSTONE_T316/venv/lib/python3.12/site-packages/sklearn/metrics/_scorer.py\", line 408, in _score\n",
      "    return self._sign * self._score_func(y_true, y_pred, **scoring_kwargs)\n",
      "                        ^^^^^^^^^^^^^^^^^^^^^^^^^^^^^^^^^^^^^^^^^^^^^^^^^^\n",
      "  File \"/home/dylan/git/CAPSTONE_T316/venv/lib/python3.12/site-packages/sklearn/utils/_param_validation.py\", line 218, in wrapper\n",
      "    return func(*args, **kwargs)\n",
      "           ^^^^^^^^^^^^^^^^^^^^^\n",
      "  File \"/home/dylan/git/CAPSTONE_T316/venv/lib/python3.12/site-packages/sklearn/metrics/_regression.py\", line 489, in mean_absolute_percentage_error\n",
      "    _check_reg_targets_with_floating_dtype(\n",
      "  File \"/home/dylan/git/CAPSTONE_T316/venv/lib/python3.12/site-packages/sklearn/metrics/_regression.py\", line 209, in _check_reg_targets_with_floating_dtype\n",
      "    y_type, y_true, y_pred, sample_weight, multioutput = _check_reg_targets(\n",
      "                                                         ^^^^^^^^^^^^^^^^^^^\n",
      "  File \"/home/dylan/git/CAPSTONE_T316/venv/lib/python3.12/site-packages/sklearn/metrics/_regression.py\", line 127, in _check_reg_targets\n",
      "    raise ValueError(\n",
      "ValueError: y_true and y_pred have different number of output (1!=2)\n",
      "\n",
      "  warnings.warn(\n"
     ]
    },
    {
     "name": "stdout",
     "output_type": "stream",
     "text": [
      "[CV] END colsample_bylevel=1.0, depth=10, iterations=1000, l2_leaf_reg=1, learning_rate=0.05, min_child_samples=5, subsample=1.0; total time=13.6min\n"
     ]
    },
    {
     "name": "stderr",
     "output_type": "stream",
     "text": [
      "/home/dylan/git/CAPSTONE_T316/venv/lib/python3.12/site-packages/sklearn/model_selection/_validation.py:953: UserWarning: Scoring failed. The score on this train-test partition for these parameters will be set to nan. Details: \n",
      "Traceback (most recent call last):\n",
      "  File \"/home/dylan/git/CAPSTONE_T316/venv/lib/python3.12/site-packages/sklearn/model_selection/_validation.py\", line 942, in _score\n",
      "    scores = scorer(estimator, X_test, y_test, **score_params)\n",
      "             ^^^^^^^^^^^^^^^^^^^^^^^^^^^^^^^^^^^^^^^^^^^^^^^^^\n",
      "  File \"/home/dylan/git/CAPSTONE_T316/venv/lib/python3.12/site-packages/sklearn/metrics/_scorer.py\", line 308, in __call__\n",
      "    return self._score(partial(_cached_call, None), estimator, X, y_true, **_kwargs)\n",
      "           ^^^^^^^^^^^^^^^^^^^^^^^^^^^^^^^^^^^^^^^^^^^^^^^^^^^^^^^^^^^^^^^^^^^^^^^^^\n",
      "  File \"/home/dylan/git/CAPSTONE_T316/venv/lib/python3.12/site-packages/sklearn/metrics/_scorer.py\", line 408, in _score\n",
      "    return self._sign * self._score_func(y_true, y_pred, **scoring_kwargs)\n",
      "                        ^^^^^^^^^^^^^^^^^^^^^^^^^^^^^^^^^^^^^^^^^^^^^^^^^^\n",
      "  File \"/home/dylan/git/CAPSTONE_T316/venv/lib/python3.12/site-packages/sklearn/utils/_param_validation.py\", line 218, in wrapper\n",
      "    return func(*args, **kwargs)\n",
      "           ^^^^^^^^^^^^^^^^^^^^^\n",
      "  File \"/home/dylan/git/CAPSTONE_T316/venv/lib/python3.12/site-packages/sklearn/metrics/_regression.py\", line 489, in mean_absolute_percentage_error\n",
      "    _check_reg_targets_with_floating_dtype(\n",
      "  File \"/home/dylan/git/CAPSTONE_T316/venv/lib/python3.12/site-packages/sklearn/metrics/_regression.py\", line 209, in _check_reg_targets_with_floating_dtype\n",
      "    y_type, y_true, y_pred, sample_weight, multioutput = _check_reg_targets(\n",
      "                                                         ^^^^^^^^^^^^^^^^^^^\n",
      "  File \"/home/dylan/git/CAPSTONE_T316/venv/lib/python3.12/site-packages/sklearn/metrics/_regression.py\", line 127, in _check_reg_targets\n",
      "    raise ValueError(\n",
      "ValueError: y_true and y_pred have different number of output (1!=2)\n",
      "\n",
      "  warnings.warn(\n"
     ]
    },
    {
     "name": "stdout",
     "output_type": "stream",
     "text": [
      "[CV] END colsample_bylevel=1.0, depth=10, iterations=1000, l2_leaf_reg=1, learning_rate=0.05, min_child_samples=5, subsample=1.0; total time=13.6min\n"
     ]
    },
    {
     "name": "stderr",
     "output_type": "stream",
     "text": [
      "/home/dylan/git/CAPSTONE_T316/venv/lib/python3.12/site-packages/sklearn/model_selection/_validation.py:953: UserWarning: Scoring failed. The score on this train-test partition for these parameters will be set to nan. Details: \n",
      "Traceback (most recent call last):\n",
      "  File \"/home/dylan/git/CAPSTONE_T316/venv/lib/python3.12/site-packages/sklearn/model_selection/_validation.py\", line 942, in _score\n",
      "    scores = scorer(estimator, X_test, y_test, **score_params)\n",
      "             ^^^^^^^^^^^^^^^^^^^^^^^^^^^^^^^^^^^^^^^^^^^^^^^^^\n",
      "  File \"/home/dylan/git/CAPSTONE_T316/venv/lib/python3.12/site-packages/sklearn/metrics/_scorer.py\", line 308, in __call__\n",
      "    return self._score(partial(_cached_call, None), estimator, X, y_true, **_kwargs)\n",
      "           ^^^^^^^^^^^^^^^^^^^^^^^^^^^^^^^^^^^^^^^^^^^^^^^^^^^^^^^^^^^^^^^^^^^^^^^^^\n",
      "  File \"/home/dylan/git/CAPSTONE_T316/venv/lib/python3.12/site-packages/sklearn/metrics/_scorer.py\", line 408, in _score\n",
      "    return self._sign * self._score_func(y_true, y_pred, **scoring_kwargs)\n",
      "                        ^^^^^^^^^^^^^^^^^^^^^^^^^^^^^^^^^^^^^^^^^^^^^^^^^^\n",
      "  File \"/home/dylan/git/CAPSTONE_T316/venv/lib/python3.12/site-packages/sklearn/utils/_param_validation.py\", line 218, in wrapper\n",
      "    return func(*args, **kwargs)\n",
      "           ^^^^^^^^^^^^^^^^^^^^^\n",
      "  File \"/home/dylan/git/CAPSTONE_T316/venv/lib/python3.12/site-packages/sklearn/metrics/_regression.py\", line 489, in mean_absolute_percentage_error\n",
      "    _check_reg_targets_with_floating_dtype(\n",
      "  File \"/home/dylan/git/CAPSTONE_T316/venv/lib/python3.12/site-packages/sklearn/metrics/_regression.py\", line 209, in _check_reg_targets_with_floating_dtype\n",
      "    y_type, y_true, y_pred, sample_weight, multioutput = _check_reg_targets(\n",
      "                                                         ^^^^^^^^^^^^^^^^^^^\n",
      "  File \"/home/dylan/git/CAPSTONE_T316/venv/lib/python3.12/site-packages/sklearn/metrics/_regression.py\", line 127, in _check_reg_targets\n",
      "    raise ValueError(\n",
      "ValueError: y_true and y_pred have different number of output (1!=2)\n",
      "\n",
      "  warnings.warn(\n"
     ]
    },
    {
     "name": "stdout",
     "output_type": "stream",
     "text": [
      "[CV] END colsample_bylevel=0.8, depth=8, iterations=1500, l2_leaf_reg=1, learning_rate=0.1, min_child_samples=5, subsample=0.8; total time=12.9min\n"
     ]
    },
    {
     "name": "stderr",
     "output_type": "stream",
     "text": [
      "/home/dylan/git/CAPSTONE_T316/venv/lib/python3.12/site-packages/sklearn/model_selection/_validation.py:953: UserWarning: Scoring failed. The score on this train-test partition for these parameters will be set to nan. Details: \n",
      "Traceback (most recent call last):\n",
      "  File \"/home/dylan/git/CAPSTONE_T316/venv/lib/python3.12/site-packages/sklearn/model_selection/_validation.py\", line 942, in _score\n",
      "    scores = scorer(estimator, X_test, y_test, **score_params)\n",
      "             ^^^^^^^^^^^^^^^^^^^^^^^^^^^^^^^^^^^^^^^^^^^^^^^^^\n",
      "  File \"/home/dylan/git/CAPSTONE_T316/venv/lib/python3.12/site-packages/sklearn/metrics/_scorer.py\", line 308, in __call__\n",
      "    return self._score(partial(_cached_call, None), estimator, X, y_true, **_kwargs)\n",
      "           ^^^^^^^^^^^^^^^^^^^^^^^^^^^^^^^^^^^^^^^^^^^^^^^^^^^^^^^^^^^^^^^^^^^^^^^^^\n",
      "  File \"/home/dylan/git/CAPSTONE_T316/venv/lib/python3.12/site-packages/sklearn/metrics/_scorer.py\", line 408, in _score\n",
      "    return self._sign * self._score_func(y_true, y_pred, **scoring_kwargs)\n",
      "                        ^^^^^^^^^^^^^^^^^^^^^^^^^^^^^^^^^^^^^^^^^^^^^^^^^^\n",
      "  File \"/home/dylan/git/CAPSTONE_T316/venv/lib/python3.12/site-packages/sklearn/utils/_param_validation.py\", line 218, in wrapper\n",
      "    return func(*args, **kwargs)\n",
      "           ^^^^^^^^^^^^^^^^^^^^^\n",
      "  File \"/home/dylan/git/CAPSTONE_T316/venv/lib/python3.12/site-packages/sklearn/metrics/_regression.py\", line 489, in mean_absolute_percentage_error\n",
      "    _check_reg_targets_with_floating_dtype(\n",
      "  File \"/home/dylan/git/CAPSTONE_T316/venv/lib/python3.12/site-packages/sklearn/metrics/_regression.py\", line 209, in _check_reg_targets_with_floating_dtype\n",
      "    y_type, y_true, y_pred, sample_weight, multioutput = _check_reg_targets(\n",
      "                                                         ^^^^^^^^^^^^^^^^^^^\n",
      "  File \"/home/dylan/git/CAPSTONE_T316/venv/lib/python3.12/site-packages/sklearn/metrics/_regression.py\", line 127, in _check_reg_targets\n",
      "    raise ValueError(\n",
      "ValueError: y_true and y_pred have different number of output (1!=2)\n",
      "\n",
      "  warnings.warn(\n"
     ]
    },
    {
     "name": "stdout",
     "output_type": "stream",
     "text": [
      "[CV] END colsample_bylevel=0.8, depth=8, iterations=1500, l2_leaf_reg=1, learning_rate=0.1, min_child_samples=5, subsample=0.8; total time=13.3min\n"
     ]
    },
    {
     "name": "stderr",
     "output_type": "stream",
     "text": [
      "/home/dylan/git/CAPSTONE_T316/venv/lib/python3.12/site-packages/sklearn/model_selection/_validation.py:953: UserWarning: Scoring failed. The score on this train-test partition for these parameters will be set to nan. Details: \n",
      "Traceback (most recent call last):\n",
      "  File \"/home/dylan/git/CAPSTONE_T316/venv/lib/python3.12/site-packages/sklearn/model_selection/_validation.py\", line 942, in _score\n",
      "    scores = scorer(estimator, X_test, y_test, **score_params)\n",
      "             ^^^^^^^^^^^^^^^^^^^^^^^^^^^^^^^^^^^^^^^^^^^^^^^^^\n",
      "  File \"/home/dylan/git/CAPSTONE_T316/venv/lib/python3.12/site-packages/sklearn/metrics/_scorer.py\", line 308, in __call__\n",
      "    return self._score(partial(_cached_call, None), estimator, X, y_true, **_kwargs)\n",
      "           ^^^^^^^^^^^^^^^^^^^^^^^^^^^^^^^^^^^^^^^^^^^^^^^^^^^^^^^^^^^^^^^^^^^^^^^^^\n",
      "  File \"/home/dylan/git/CAPSTONE_T316/venv/lib/python3.12/site-packages/sklearn/metrics/_scorer.py\", line 408, in _score\n",
      "    return self._sign * self._score_func(y_true, y_pred, **scoring_kwargs)\n",
      "                        ^^^^^^^^^^^^^^^^^^^^^^^^^^^^^^^^^^^^^^^^^^^^^^^^^^\n",
      "  File \"/home/dylan/git/CAPSTONE_T316/venv/lib/python3.12/site-packages/sklearn/utils/_param_validation.py\", line 218, in wrapper\n",
      "    return func(*args, **kwargs)\n",
      "           ^^^^^^^^^^^^^^^^^^^^^\n",
      "  File \"/home/dylan/git/CAPSTONE_T316/venv/lib/python3.12/site-packages/sklearn/metrics/_regression.py\", line 489, in mean_absolute_percentage_error\n",
      "    _check_reg_targets_with_floating_dtype(\n",
      "  File \"/home/dylan/git/CAPSTONE_T316/venv/lib/python3.12/site-packages/sklearn/metrics/_regression.py\", line 209, in _check_reg_targets_with_floating_dtype\n",
      "    y_type, y_true, y_pred, sample_weight, multioutput = _check_reg_targets(\n",
      "                                                         ^^^^^^^^^^^^^^^^^^^\n",
      "  File \"/home/dylan/git/CAPSTONE_T316/venv/lib/python3.12/site-packages/sklearn/metrics/_regression.py\", line 127, in _check_reg_targets\n",
      "    raise ValueError(\n",
      "ValueError: y_true and y_pred have different number of output (1!=2)\n",
      "\n",
      "  warnings.warn(\n"
     ]
    },
    {
     "name": "stdout",
     "output_type": "stream",
     "text": [
      "[CV] END colsample_bylevel=0.8, depth=8, iterations=1500, l2_leaf_reg=1, learning_rate=0.1, min_child_samples=5, subsample=0.8; total time=13.0min\n"
     ]
    },
    {
     "name": "stderr",
     "output_type": "stream",
     "text": [
      "/home/dylan/git/CAPSTONE_T316/venv/lib/python3.12/site-packages/sklearn/model_selection/_validation.py:953: UserWarning: Scoring failed. The score on this train-test partition for these parameters will be set to nan. Details: \n",
      "Traceback (most recent call last):\n",
      "  File \"/home/dylan/git/CAPSTONE_T316/venv/lib/python3.12/site-packages/sklearn/model_selection/_validation.py\", line 942, in _score\n",
      "    scores = scorer(estimator, X_test, y_test, **score_params)\n",
      "             ^^^^^^^^^^^^^^^^^^^^^^^^^^^^^^^^^^^^^^^^^^^^^^^^^\n",
      "  File \"/home/dylan/git/CAPSTONE_T316/venv/lib/python3.12/site-packages/sklearn/metrics/_scorer.py\", line 308, in __call__\n",
      "    return self._score(partial(_cached_call, None), estimator, X, y_true, **_kwargs)\n",
      "           ^^^^^^^^^^^^^^^^^^^^^^^^^^^^^^^^^^^^^^^^^^^^^^^^^^^^^^^^^^^^^^^^^^^^^^^^^\n",
      "  File \"/home/dylan/git/CAPSTONE_T316/venv/lib/python3.12/site-packages/sklearn/metrics/_scorer.py\", line 408, in _score\n",
      "    return self._sign * self._score_func(y_true, y_pred, **scoring_kwargs)\n",
      "                        ^^^^^^^^^^^^^^^^^^^^^^^^^^^^^^^^^^^^^^^^^^^^^^^^^^\n",
      "  File \"/home/dylan/git/CAPSTONE_T316/venv/lib/python3.12/site-packages/sklearn/utils/_param_validation.py\", line 218, in wrapper\n",
      "    return func(*args, **kwargs)\n",
      "           ^^^^^^^^^^^^^^^^^^^^^\n",
      "  File \"/home/dylan/git/CAPSTONE_T316/venv/lib/python3.12/site-packages/sklearn/metrics/_regression.py\", line 489, in mean_absolute_percentage_error\n",
      "    _check_reg_targets_with_floating_dtype(\n",
      "  File \"/home/dylan/git/CAPSTONE_T316/venv/lib/python3.12/site-packages/sklearn/metrics/_regression.py\", line 209, in _check_reg_targets_with_floating_dtype\n",
      "    y_type, y_true, y_pred, sample_weight, multioutput = _check_reg_targets(\n",
      "                                                         ^^^^^^^^^^^^^^^^^^^\n",
      "  File \"/home/dylan/git/CAPSTONE_T316/venv/lib/python3.12/site-packages/sklearn/metrics/_regression.py\", line 127, in _check_reg_targets\n",
      "    raise ValueError(\n",
      "ValueError: y_true and y_pred have different number of output (1!=2)\n",
      "\n",
      "  warnings.warn(\n"
     ]
    },
    {
     "name": "stdout",
     "output_type": "stream",
     "text": [
      "[CV] END colsample_bylevel=1.0, depth=8, iterations=1500, l2_leaf_reg=7, learning_rate=0.1, min_child_samples=10, subsample=1.0; total time=11.9min\n"
     ]
    },
    {
     "name": "stderr",
     "output_type": "stream",
     "text": [
      "/home/dylan/git/CAPSTONE_T316/venv/lib/python3.12/site-packages/sklearn/model_selection/_validation.py:953: UserWarning: Scoring failed. The score on this train-test partition for these parameters will be set to nan. Details: \n",
      "Traceback (most recent call last):\n",
      "  File \"/home/dylan/git/CAPSTONE_T316/venv/lib/python3.12/site-packages/sklearn/model_selection/_validation.py\", line 942, in _score\n",
      "    scores = scorer(estimator, X_test, y_test, **score_params)\n",
      "             ^^^^^^^^^^^^^^^^^^^^^^^^^^^^^^^^^^^^^^^^^^^^^^^^^\n",
      "  File \"/home/dylan/git/CAPSTONE_T316/venv/lib/python3.12/site-packages/sklearn/metrics/_scorer.py\", line 308, in __call__\n",
      "    return self._score(partial(_cached_call, None), estimator, X, y_true, **_kwargs)\n",
      "           ^^^^^^^^^^^^^^^^^^^^^^^^^^^^^^^^^^^^^^^^^^^^^^^^^^^^^^^^^^^^^^^^^^^^^^^^^\n",
      "  File \"/home/dylan/git/CAPSTONE_T316/venv/lib/python3.12/site-packages/sklearn/metrics/_scorer.py\", line 408, in _score\n",
      "    return self._sign * self._score_func(y_true, y_pred, **scoring_kwargs)\n",
      "                        ^^^^^^^^^^^^^^^^^^^^^^^^^^^^^^^^^^^^^^^^^^^^^^^^^^\n",
      "  File \"/home/dylan/git/CAPSTONE_T316/venv/lib/python3.12/site-packages/sklearn/utils/_param_validation.py\", line 218, in wrapper\n",
      "    return func(*args, **kwargs)\n",
      "           ^^^^^^^^^^^^^^^^^^^^^\n",
      "  File \"/home/dylan/git/CAPSTONE_T316/venv/lib/python3.12/site-packages/sklearn/metrics/_regression.py\", line 489, in mean_absolute_percentage_error\n",
      "    _check_reg_targets_with_floating_dtype(\n",
      "  File \"/home/dylan/git/CAPSTONE_T316/venv/lib/python3.12/site-packages/sklearn/metrics/_regression.py\", line 209, in _check_reg_targets_with_floating_dtype\n",
      "    y_type, y_true, y_pred, sample_weight, multioutput = _check_reg_targets(\n",
      "                                                         ^^^^^^^^^^^^^^^^^^^\n",
      "  File \"/home/dylan/git/CAPSTONE_T316/venv/lib/python3.12/site-packages/sklearn/metrics/_regression.py\", line 127, in _check_reg_targets\n",
      "    raise ValueError(\n",
      "ValueError: y_true and y_pred have different number of output (1!=2)\n",
      "\n",
      "  warnings.warn(\n"
     ]
    },
    {
     "name": "stdout",
     "output_type": "stream",
     "text": [
      "[CV] END colsample_bylevel=1.0, depth=8, iterations=1500, l2_leaf_reg=7, learning_rate=0.1, min_child_samples=10, subsample=1.0; total time=11.2min\n"
     ]
    },
    {
     "name": "stderr",
     "output_type": "stream",
     "text": [
      "/home/dylan/git/CAPSTONE_T316/venv/lib/python3.12/site-packages/sklearn/model_selection/_validation.py:953: UserWarning: Scoring failed. The score on this train-test partition for these parameters will be set to nan. Details: \n",
      "Traceback (most recent call last):\n",
      "  File \"/home/dylan/git/CAPSTONE_T316/venv/lib/python3.12/site-packages/sklearn/model_selection/_validation.py\", line 942, in _score\n",
      "    scores = scorer(estimator, X_test, y_test, **score_params)\n",
      "             ^^^^^^^^^^^^^^^^^^^^^^^^^^^^^^^^^^^^^^^^^^^^^^^^^\n",
      "  File \"/home/dylan/git/CAPSTONE_T316/venv/lib/python3.12/site-packages/sklearn/metrics/_scorer.py\", line 308, in __call__\n",
      "    return self._score(partial(_cached_call, None), estimator, X, y_true, **_kwargs)\n",
      "           ^^^^^^^^^^^^^^^^^^^^^^^^^^^^^^^^^^^^^^^^^^^^^^^^^^^^^^^^^^^^^^^^^^^^^^^^^\n",
      "  File \"/home/dylan/git/CAPSTONE_T316/venv/lib/python3.12/site-packages/sklearn/metrics/_scorer.py\", line 408, in _score\n",
      "    return self._sign * self._score_func(y_true, y_pred, **scoring_kwargs)\n",
      "                        ^^^^^^^^^^^^^^^^^^^^^^^^^^^^^^^^^^^^^^^^^^^^^^^^^^\n",
      "  File \"/home/dylan/git/CAPSTONE_T316/venv/lib/python3.12/site-packages/sklearn/utils/_param_validation.py\", line 218, in wrapper\n",
      "    return func(*args, **kwargs)\n",
      "           ^^^^^^^^^^^^^^^^^^^^^\n",
      "  File \"/home/dylan/git/CAPSTONE_T316/venv/lib/python3.12/site-packages/sklearn/metrics/_regression.py\", line 489, in mean_absolute_percentage_error\n",
      "    _check_reg_targets_with_floating_dtype(\n",
      "  File \"/home/dylan/git/CAPSTONE_T316/venv/lib/python3.12/site-packages/sklearn/metrics/_regression.py\", line 209, in _check_reg_targets_with_floating_dtype\n",
      "    y_type, y_true, y_pred, sample_weight, multioutput = _check_reg_targets(\n",
      "                                                         ^^^^^^^^^^^^^^^^^^^\n",
      "  File \"/home/dylan/git/CAPSTONE_T316/venv/lib/python3.12/site-packages/sklearn/metrics/_regression.py\", line 127, in _check_reg_targets\n",
      "    raise ValueError(\n",
      "ValueError: y_true and y_pred have different number of output (1!=2)\n",
      "\n",
      "  warnings.warn(\n"
     ]
    },
    {
     "name": "stdout",
     "output_type": "stream",
     "text": [
      "[CV] END colsample_bylevel=1.0, depth=8, iterations=1500, l2_leaf_reg=7, learning_rate=0.1, min_child_samples=10, subsample=1.0; total time=11.1min\n"
     ]
    },
    {
     "name": "stderr",
     "output_type": "stream",
     "text": [
      "/home/dylan/git/CAPSTONE_T316/venv/lib/python3.12/site-packages/sklearn/model_selection/_validation.py:953: UserWarning: Scoring failed. The score on this train-test partition for these parameters will be set to nan. Details: \n",
      "Traceback (most recent call last):\n",
      "  File \"/home/dylan/git/CAPSTONE_T316/venv/lib/python3.12/site-packages/sklearn/model_selection/_validation.py\", line 942, in _score\n",
      "    scores = scorer(estimator, X_test, y_test, **score_params)\n",
      "             ^^^^^^^^^^^^^^^^^^^^^^^^^^^^^^^^^^^^^^^^^^^^^^^^^\n",
      "  File \"/home/dylan/git/CAPSTONE_T316/venv/lib/python3.12/site-packages/sklearn/metrics/_scorer.py\", line 308, in __call__\n",
      "    return self._score(partial(_cached_call, None), estimator, X, y_true, **_kwargs)\n",
      "           ^^^^^^^^^^^^^^^^^^^^^^^^^^^^^^^^^^^^^^^^^^^^^^^^^^^^^^^^^^^^^^^^^^^^^^^^^\n",
      "  File \"/home/dylan/git/CAPSTONE_T316/venv/lib/python3.12/site-packages/sklearn/metrics/_scorer.py\", line 408, in _score\n",
      "    return self._sign * self._score_func(y_true, y_pred, **scoring_kwargs)\n",
      "                        ^^^^^^^^^^^^^^^^^^^^^^^^^^^^^^^^^^^^^^^^^^^^^^^^^^\n",
      "  File \"/home/dylan/git/CAPSTONE_T316/venv/lib/python3.12/site-packages/sklearn/utils/_param_validation.py\", line 218, in wrapper\n",
      "    return func(*args, **kwargs)\n",
      "           ^^^^^^^^^^^^^^^^^^^^^\n",
      "  File \"/home/dylan/git/CAPSTONE_T316/venv/lib/python3.12/site-packages/sklearn/metrics/_regression.py\", line 489, in mean_absolute_percentage_error\n",
      "    _check_reg_targets_with_floating_dtype(\n",
      "  File \"/home/dylan/git/CAPSTONE_T316/venv/lib/python3.12/site-packages/sklearn/metrics/_regression.py\", line 209, in _check_reg_targets_with_floating_dtype\n",
      "    y_type, y_true, y_pred, sample_weight, multioutput = _check_reg_targets(\n",
      "                                                         ^^^^^^^^^^^^^^^^^^^\n",
      "  File \"/home/dylan/git/CAPSTONE_T316/venv/lib/python3.12/site-packages/sklearn/metrics/_regression.py\", line 127, in _check_reg_targets\n",
      "    raise ValueError(\n",
      "ValueError: y_true and y_pred have different number of output (1!=2)\n",
      "\n",
      "  warnings.warn(\n"
     ]
    },
    {
     "name": "stdout",
     "output_type": "stream",
     "text": [
      "[CV] END colsample_bylevel=0.8, depth=10, iterations=1500, l2_leaf_reg=1, learning_rate=0.1, min_child_samples=5, subsample=0.8; total time=12.5min\n"
     ]
    },
    {
     "name": "stderr",
     "output_type": "stream",
     "text": [
      "/home/dylan/git/CAPSTONE_T316/venv/lib/python3.12/site-packages/sklearn/model_selection/_validation.py:953: UserWarning: Scoring failed. The score on this train-test partition for these parameters will be set to nan. Details: \n",
      "Traceback (most recent call last):\n",
      "  File \"/home/dylan/git/CAPSTONE_T316/venv/lib/python3.12/site-packages/sklearn/model_selection/_validation.py\", line 942, in _score\n",
      "    scores = scorer(estimator, X_test, y_test, **score_params)\n",
      "             ^^^^^^^^^^^^^^^^^^^^^^^^^^^^^^^^^^^^^^^^^^^^^^^^^\n",
      "  File \"/home/dylan/git/CAPSTONE_T316/venv/lib/python3.12/site-packages/sklearn/metrics/_scorer.py\", line 308, in __call__\n",
      "    return self._score(partial(_cached_call, None), estimator, X, y_true, **_kwargs)\n",
      "           ^^^^^^^^^^^^^^^^^^^^^^^^^^^^^^^^^^^^^^^^^^^^^^^^^^^^^^^^^^^^^^^^^^^^^^^^^\n",
      "  File \"/home/dylan/git/CAPSTONE_T316/venv/lib/python3.12/site-packages/sklearn/metrics/_scorer.py\", line 408, in _score\n",
      "    return self._sign * self._score_func(y_true, y_pred, **scoring_kwargs)\n",
      "                        ^^^^^^^^^^^^^^^^^^^^^^^^^^^^^^^^^^^^^^^^^^^^^^^^^^\n",
      "  File \"/home/dylan/git/CAPSTONE_T316/venv/lib/python3.12/site-packages/sklearn/utils/_param_validation.py\", line 218, in wrapper\n",
      "    return func(*args, **kwargs)\n",
      "           ^^^^^^^^^^^^^^^^^^^^^\n",
      "  File \"/home/dylan/git/CAPSTONE_T316/venv/lib/python3.12/site-packages/sklearn/metrics/_regression.py\", line 489, in mean_absolute_percentage_error\n",
      "    _check_reg_targets_with_floating_dtype(\n",
      "  File \"/home/dylan/git/CAPSTONE_T316/venv/lib/python3.12/site-packages/sklearn/metrics/_regression.py\", line 209, in _check_reg_targets_with_floating_dtype\n",
      "    y_type, y_true, y_pred, sample_weight, multioutput = _check_reg_targets(\n",
      "                                                         ^^^^^^^^^^^^^^^^^^^\n",
      "  File \"/home/dylan/git/CAPSTONE_T316/venv/lib/python3.12/site-packages/sklearn/metrics/_regression.py\", line 127, in _check_reg_targets\n",
      "    raise ValueError(\n",
      "ValueError: y_true and y_pred have different number of output (1!=2)\n",
      "\n",
      "  warnings.warn(\n"
     ]
    },
    {
     "name": "stdout",
     "output_type": "stream",
     "text": [
      "[CV] END colsample_bylevel=0.8, depth=10, iterations=1500, l2_leaf_reg=1, learning_rate=0.1, min_child_samples=5, subsample=0.8; total time=10.7min\n"
     ]
    },
    {
     "name": "stderr",
     "output_type": "stream",
     "text": [
      "/home/dylan/git/CAPSTONE_T316/venv/lib/python3.12/site-packages/sklearn/model_selection/_validation.py:953: UserWarning: Scoring failed. The score on this train-test partition for these parameters will be set to nan. Details: \n",
      "Traceback (most recent call last):\n",
      "  File \"/home/dylan/git/CAPSTONE_T316/venv/lib/python3.12/site-packages/sklearn/model_selection/_validation.py\", line 942, in _score\n",
      "    scores = scorer(estimator, X_test, y_test, **score_params)\n",
      "             ^^^^^^^^^^^^^^^^^^^^^^^^^^^^^^^^^^^^^^^^^^^^^^^^^\n",
      "  File \"/home/dylan/git/CAPSTONE_T316/venv/lib/python3.12/site-packages/sklearn/metrics/_scorer.py\", line 308, in __call__\n",
      "    return self._score(partial(_cached_call, None), estimator, X, y_true, **_kwargs)\n",
      "           ^^^^^^^^^^^^^^^^^^^^^^^^^^^^^^^^^^^^^^^^^^^^^^^^^^^^^^^^^^^^^^^^^^^^^^^^^\n",
      "  File \"/home/dylan/git/CAPSTONE_T316/venv/lib/python3.12/site-packages/sklearn/metrics/_scorer.py\", line 408, in _score\n",
      "    return self._sign * self._score_func(y_true, y_pred, **scoring_kwargs)\n",
      "                        ^^^^^^^^^^^^^^^^^^^^^^^^^^^^^^^^^^^^^^^^^^^^^^^^^^\n",
      "  File \"/home/dylan/git/CAPSTONE_T316/venv/lib/python3.12/site-packages/sklearn/utils/_param_validation.py\", line 218, in wrapper\n",
      "    return func(*args, **kwargs)\n",
      "           ^^^^^^^^^^^^^^^^^^^^^\n",
      "  File \"/home/dylan/git/CAPSTONE_T316/venv/lib/python3.12/site-packages/sklearn/metrics/_regression.py\", line 489, in mean_absolute_percentage_error\n",
      "    _check_reg_targets_with_floating_dtype(\n",
      "  File \"/home/dylan/git/CAPSTONE_T316/venv/lib/python3.12/site-packages/sklearn/metrics/_regression.py\", line 209, in _check_reg_targets_with_floating_dtype\n",
      "    y_type, y_true, y_pred, sample_weight, multioutput = _check_reg_targets(\n",
      "                                                         ^^^^^^^^^^^^^^^^^^^\n",
      "  File \"/home/dylan/git/CAPSTONE_T316/venv/lib/python3.12/site-packages/sklearn/metrics/_regression.py\", line 127, in _check_reg_targets\n",
      "    raise ValueError(\n",
      "ValueError: y_true and y_pred have different number of output (1!=2)\n",
      "\n",
      "  warnings.warn(\n",
      "/home/dylan/git/CAPSTONE_T316/venv/lib/python3.12/site-packages/sklearn/model_selection/_search.py:1135: UserWarning: One or more of the test scores are non-finite: [nan nan nan nan nan nan nan nan nan nan nan nan nan nan nan nan nan nan\n",
      " nan nan nan nan nan nan nan]\n",
      "  warnings.warn(\n"
     ]
    },
    {
     "name": "stdout",
     "output_type": "stream",
     "text": [
      "[CV] END colsample_bylevel=0.8, depth=10, iterations=1500, l2_leaf_reg=1, learning_rate=0.1, min_child_samples=5, subsample=0.8; total time=10.4min\n",
      "Best params: {'subsample': 1.0, 'min_child_samples': 10, 'learning_rate': 0.1, 'l2_leaf_reg': 7, 'iterations': 1500, 'depth': 10, 'colsample_bylevel': 0.8}\n",
      "Best CV score (MAPE): nan\n"
     ]
    }
   ],
   "source": [
    "random_search.fit(\n",
    "    X_train, y_train,\n",
    "    cat_features=cat_feature_indices,\n",
    "    early_stopping_rounds=200\n",
    ")\n",
    "\n",
    "print(\"Best params:\", random_search.best_params_)\n",
    "print(\"Best CV score (MAPE):\", -random_search.best_score_)"
   ]
  },
  {
   "cell_type": "code",
   "execution_count": 11,
   "id": "5ca30fe1",
   "metadata": {},
   "outputs": [
    {
     "name": "stdout",
     "output_type": "stream",
     "text": [
      "0:\tlearn: 0.3642721\ttest: 0.3881007\tbest: 0.3881007 (0)\ttotal: 71.2ms\tremaining: 1m 46s\n",
      "100:\tlearn: 0.1975562\ttest: 0.2166657\tbest: 0.2166657 (100)\ttotal: 5.51s\tremaining: 1m 16s\n",
      "200:\tlearn: 0.1836784\ttest: 0.2042403\tbest: 0.2042403 (200)\ttotal: 10.9s\tremaining: 1m 10s\n",
      "300:\tlearn: 0.1786763\ttest: 0.2007749\tbest: 0.2007749 (300)\ttotal: 17s\tremaining: 1m 7s\n",
      "400:\tlearn: 0.1753213\ttest: 0.1986571\tbest: 0.1986571 (400)\ttotal: 20.9s\tremaining: 57.3s\n",
      "500:\tlearn: 0.1722534\ttest: 0.1965435\tbest: 0.1965435 (500)\ttotal: 24.4s\tremaining: 48.7s\n",
      "600:\tlearn: 0.1702265\ttest: 0.1953207\tbest: 0.1953207 (600)\ttotal: 28.1s\tremaining: 42.1s\n",
      "700:\tlearn: 0.1685481\ttest: 0.1944144\tbest: 0.1944138 (696)\ttotal: 32.3s\tremaining: 36.8s\n",
      "800:\tlearn: 0.1671177\ttest: 0.1935086\tbest: 0.1935086 (800)\ttotal: 35.8s\tremaining: 31.3s\n",
      "900:\tlearn: 0.1657252\ttest: 0.1927492\tbest: 0.1927491 (898)\ttotal: 40s\tremaining: 26.6s\n",
      "1000:\tlearn: 0.1644155\ttest: 0.1925529\tbest: 0.1924318 (964)\ttotal: 43.7s\tremaining: 21.8s\n",
      "1100:\tlearn: 0.1633963\ttest: 0.1921330\tbest: 0.1921203 (1097)\ttotal: 47.1s\tremaining: 17.1s\n",
      "1200:\tlearn: 0.1623796\ttest: 0.1918005\tbest: 0.1917966 (1198)\ttotal: 50.3s\tremaining: 12.5s\n",
      "1300:\tlearn: 0.1613105\ttest: 0.1913532\tbest: 0.1913409 (1297)\ttotal: 55s\tremaining: 8.4s\n",
      "1400:\tlearn: 0.1603528\ttest: 0.1910547\tbest: 0.1910066 (1381)\ttotal: 58.5s\tremaining: 4.13s\n",
      "1499:\tlearn: 0.1593904\ttest: 0.1906501\tbest: 0.1906501 (1499)\ttotal: 1m 1s\tremaining: 0us\n",
      "\n",
      "bestTest = 0.1906501095\n",
      "bestIteration = 1499\n",
      "\n"
     ]
    },
    {
     "data": {
      "text/plain": [
       "<catboost.core.CatBoostRegressor at 0x7f49328fa900>"
      ]
     },
     "execution_count": 11,
     "metadata": {},
     "output_type": "execute_result"
    }
   ],
   "source": [
    "best_params = random_search.best_params_\n",
    "\n",
    "best_model = CatBoostRegressor(\n",
    "    **best_params,\n",
    "    cat_features=cat_feature_indices,\n",
    "    eval_metric='MAPE',\n",
    "    random_seed=42,\n",
    "    verbose=100\n",
    ")\n",
    "\n",
    "best_model.fit(\n",
    "    X_train, y_train,\n",
    "    eval_set=(X_val, y_val),\n",
    "    use_best_model=True,\n",
    "    early_stopping_rounds=200\n",
    ")"
   ]
  },
  {
   "cell_type": "code",
   "execution_count": 12,
   "id": "2adf10ea",
   "metadata": {},
   "outputs": [
    {
     "name": "stdout",
     "output_type": "stream",
     "text": [
      "MAE: 92.24721801261886\n",
      "RMSE: 154.71174544787067\n",
      "MAPE: 17.29%\n"
     ]
    }
   ],
   "source": [
    "y_pred = best_model.predict(X_test)\n",
    "print(\"MAE:\", mean_absolute_error(y_test, y_pred))\n",
    "print(\"RMSE:\", np.sqrt(mean_squared_error(y_test, y_pred)))\n",
    "mape = mean_absolute_percentage_error(y_test, y_pred)\n",
    "print(f\"MAPE: {mape:.2f}%\")"
   ]
  },
  {
   "cell_type": "code",
   "execution_count": 13,
   "id": "2f9941ac",
   "metadata": {},
   "outputs": [
    {
     "data": {
      "image/png": "[encoded data removed]",
      "text/plain": [
       "<Figure size 800x500 with 1 Axes>"
      ]
     },
     "metadata": {},
     "output_type": "display_data"
    }
   ],
   "source": [
    "evals_result = best_model.get_evals_result()\n",
    "\n",
    "# Plot loss curves\n",
    "plt.figure(figsize=(8,5))\n",
    "plt.plot(evals_result['learn']['RMSE'], label='Training loss')\n",
    "plt.plot(evals_result['validation']['RMSE'], label='Validation loss')\n",
    "plt.xlabel('Iterations')\n",
    "plt.ylabel('RMSE')\n",
    "plt.legend()\n",
    "plt.title('Training vs Validation Loss')\n",
    "plt.show()"
   ]
  },
  {
   "cell_type": "code",
   "execution_count": 14,
   "id": "2aa9220a",
   "metadata": {},
   "outputs": [
    {
     "data": {
      "image/png": "[encoded data removed]",
      "text/plain": [
       "<Figure size 800x600 with 1 Axes>"
      ]
     },
     "metadata": {},
     "output_type": "display_data"
    }
   ],
   "source": [
    "residuals = y_test - y_pred\n",
    "plt.figure(figsize=(8,6))\n",
    "plt.scatter(y_pred, residuals, alpha=0.5)\n",
    "plt.axhline(0, color='red', linestyle='--')\n",
    "plt.xlabel(\"Predicted Price\")\n",
    "plt.ylabel(\"Residual (Actual - Predicted)\")\n",
    "plt.title(\"Residual Plot\")\n",
    "plt.show()"
   ]
  },
  {
   "cell_type": "code",
   "execution_count": 15,
   "id": "84f47e68",
   "metadata": {},
   "outputs": [
    {
     "data": {
      "image/png": "[encoded data removed]",
      "text/plain": [
       "<Figure size 800x600 with 1 Axes>"
      ]
     },
     "metadata": {},
     "output_type": "display_data"
    }
   ],
   "source": [
    "plt.figure(figsize=(8,6))\n",
    "plt.hist(residuals, bins=50, edgecolor='k', alpha=0.7)\n",
    "plt.axvline(0, color='red', linestyle='--')\n",
    "plt.xlabel(\"Error\")\n",
    "plt.ylabel(\"Frequency\")\n",
    "plt.title(\"Distribution of Prediction Errors\")\n",
    "plt.show()"
   ]
  },
  {
   "cell_type": "code",
   "execution_count": 16,
   "id": "56cc106b",
   "metadata": {},
   "outputs": [
    {
     "data": {
      "image/png": "[encoded data removed]",
      "text/plain": [
       "<Figure size 1000x600 with 1 Axes>"
      ]
     },
     "metadata": {},
     "output_type": "display_data"
    }
   ],
   "source": [
    "importance = best_model.get_feature_importance()\n",
    "feature_names = X_train.columns  # or your list of feature names\n",
    "\n",
    "plt.figure(figsize=(10,6))\n",
    "plt.barh(feature_names, importance)\n",
    "plt.xlabel('Feature Importance')\n",
    "plt.title('CatBoost Feature Importance')\n",
    "plt.show()"
   ]
  },
  {
   "cell_type": "code",
   "execution_count": 17,
   "id": "be3d8cb6",
   "metadata": {},
   "outputs": [
    {
     "name": "stderr",
     "output_type": "stream",
     "text": [
      "/home/dylan/git/CAPSTONE_T316/venv/lib/python3.12/site-packages/tqdm/auto.py:21: TqdmWarning: IProgress not found. Please update jupyter and ipywidgets. See https://ipywidgets.readthedocs.io/en/stable/user_install.html\n",
      "  from .autonotebook import tqdm as notebook_tqdm\n"
     ]
    },
    {
     "data": {
      "image/png": "[encoded data removed]",
      "text/plain": [
       "<Figure size 800x430 with 2 Axes>"
      ]
     },
     "metadata": {},
     "output_type": "display_data"
    }
   ],
   "source": [
    "import shap\n",
    "\n",
    "explainer = shap.TreeExplainer(best_model)\n",
    "shap_values = explainer.shap_values(X_test)\n",
    "\n",
    "shap.summary_plot(shap_values, X_test)\n"
   ]
  },
  {
   "cell_type": "code",
   "execution_count": 18,
   "id": "9319f53f",
   "metadata": {},
   "outputs": [],
   "source": [
    "best_model.save_model('models/logbook_model.cbm')"
   ]
  }
 ],
 "metadata": {
  "kernelspec": {
   "display_name": "venv",
   "language": "python",
   "name": "python3"
  },
  "language_info": {
   "codemirror_mode": {
    "name": "ipython",
    "version": 3
   },
   "file_extension": ".py",
   "mimetype": "text/x-python",
   "name": "python",
   "nbconvert_exporter": "python",
   "pygments_lexer": "ipython3",
   "version": "3.12.3"
  }
 },
 "nbformat": 4,
 "nbformat_minor": 5
}
