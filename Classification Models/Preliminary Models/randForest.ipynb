{
 "cells": [
  {
   "cell_type": "code",
   "execution_count": null,
   "id": "275d0c7c",
   "metadata": {},
   "outputs": [],
   "source": [
    "import pandas as pd\n",
    "import numpy as np\n",
    "import matplotlib.pyplot as plt\n",
    "import seaborn as sns\n",
    "import math\n",
    "\n",
    "from sklearn.model_selection import train_test_split, RandomizedSearchCV, GridSearchCV\n",
    "from sklearn.metrics import confusion_matrix, classification_report, accuracy_score, ConfusionMatrixDisplay\n",
    "from sklearn.ensemble import RandomForestRegressor\n",
    "from sklearn.compose import ColumnTransformer\n",
    "from sklearn.preprocessing import OrdinalEncoder, OneHotEncoder, StandardScaler\n",
    "from sklearn.pipeline import Pipeline\n",
    "from sklearn.impute import SimpleImputer\n",
    "from sklearn.metrics import mean_absolute_error, mean_squared_error\n",
    "from sklearn.metrics import r2_score\n",
    "\n",
    "from imblearn.pipeline import Pipeline as ImbPipeline\n",
    "from imblearn.over_sampling import SMOTE\n",
    "from category_encoders import TargetEncoder\n"
   ]
  },
  {
   "cell_type": "markdown",
   "id": "5c49937c",
   "metadata": {},
   "source": [
    "# Data Preprocessing and Loading"
   ]
  },
  {
   "cell_type": "code",
   "execution_count": null,
   "id": "1917e4fd",
   "metadata": {},
   "outputs": [],
   "source": [
    "df = pd.read_csv('../Final Model/data/preprocessed_data.csv', encoding='windows-1252')"
   ]
  },
  {
   "cell_type": "code",
   "execution_count": null,
   "id": "646d85d9",
   "metadata": {},
   "outputs": [],
   "source": [
    "df.shape"
   ]
  },
  {
   "cell_type": "code",
   "execution_count": null,
   "id": "2d09f383",
   "metadata": {},
   "outputs": [],
   "source": [
    "# Keep only rows where Label is not zero\n",
    "df = df[df['Label'] != 0]\n",
    "\n",
    "# (Optional) Drop the Label column if you don't need it anymore\n",
    "df = df.drop(columns=['Label'])\n",
    "\n",
    "df.shape"
   ]
  },
  {
   "cell_type": "code",
   "execution_count": null,
   "id": "df1d91dd",
   "metadata": {},
   "outputs": [],
   "source": [
    "df = df[df['BTicketType'] == 'Repair']\n",
    "\n",
    "df.shape"
   ]
  },
  {
   "cell_type": "code",
   "execution_count": null,
   "id": "190f5825",
   "metadata": {},
   "outputs": [],
   "source": [
    "df.head()"
   ]
  },
  {
   "cell_type": "code",
   "execution_count": null,
   "id": "dd3dac1e",
   "metadata": {},
   "outputs": [],
   "source": [
    "X = df.drop(columns=['AdjustedPrice'])\n",
    "y = df['AdjustedPrice']"
   ]
  },
  {
   "cell_type": "code",
   "execution_count": null,
   "id": "caaeb0be",
   "metadata": {},
   "outputs": [],
   "source": [
    "X_train, X_test, y_train, y_test = train_test_split(X, y, test_size=0.2, random_state=42)"
   ]
  },
  {
   "cell_type": "markdown",
   "id": "8b6d1122",
   "metadata": {},
   "source": [
    "# Random Forest Model"
   ]
  },
  {
   "cell_type": "code",
   "execution_count": null,
   "id": "89d47f5a",
   "metadata": {},
   "outputs": [],
   "source": [
    "# Identify column types\n",
    "numeric_features = X_train.select_dtypes(include=['int64', 'float64']).columns\n",
    "categorical_features = X_train.select_dtypes(include=['object', 'category']).columns\n",
    "\n",
    "# Preprocessing for numeric features\n",
    "numeric_transformer = Pipeline(steps=[\n",
    "    ('imputer', SimpleImputer(strategy='mean')), # Impute missing values with mean\n",
    "    ('scaler', StandardScaler()) # Scale numeric features (standardize))\n",
    "])\n",
    "categorical_transformer = Pipeline([\n",
    "    ('imputer', SimpleImputer(strategy='most_frequent')), # Impute missing values with most frequent\n",
    "    ('target_encoder', TargetEncoder()) # Encode categorical features using target encoding\n",
    "])\n",
    "\n",
    "\n",
    "# Combine preprocessors\n",
    "\n",
    "preprocessor = ColumnTransformer(\n",
    "    transformers=[\n",
    "        ('num', numeric_transformer, numeric_features),\n",
    "        ('cat', categorical_transformer, categorical_features)\n",
    "    ]\n",
    ")\n",
    "\n",
    "# Create a pipeline with preprocessing and classifier\n",
    "\n",
    "pipeline = ImbPipeline(steps=[\n",
    "    ('preprocessor', preprocessor),\n",
    "    ('regressor', RandomForestRegressor(random_state=42))\n",
    "])\n",
    "\n",
    "# Hyperparameter grid for Random Forest Random Forest\n",
    "param_grid = {\n",
    "    'regressor__n_estimators': [100, 200, 300],\n",
    "    'regressor__max_depth': [10, 20, None],\n",
    "    'regressor__min_samples_split': [2, 4, 8],\n",
    "    'regressor__min_samples_leaf': [1, 2, 4, 8],\n",
    "    'regressor__max_features': [None, 'sqrt', 'log2'],\n",
    "    'regressor__bootstrap': [True, False]\n",
    "}\n",
    "\n",
    "# Randomized search for hyperparameter tuning\n",
    "random_search = RandomizedSearchCV(\n",
    "    pipeline,\n",
    "    param_distributions=param_grid,\n",
    "    n_iter=50,  # number of parameter settings sampled\n",
    "    cv=3,\n",
    "    scoring='neg_mean_absolute_error',\n",
    "    n_jobs=-1,\n",
    "    verbose=2,\n",
    "    random_state=42\n",
    ")\n",
    "\n",
    "# Fit the model\n",
    "random_search.fit(X_train, y_train)\n",
    "\n",
    "# Predict on test set\n",
    "y_pred = random_search.predict(X_test)\n",
    "\n"
   ]
  },
  {
   "cell_type": "code",
   "execution_count": null,
   "id": "5478febc",
   "metadata": {},
   "outputs": [],
   "source": [
    "# Evaluate\n",
    "mae = mean_absolute_error(y_test, y_pred)\n",
    "rmse = math.sqrt(mean_squared_error(y_test, y_pred))\n",
    "mape = np.mean(np.abs((y_test - y_pred) / y_test)) * 100\n",
    "\n",
    "# Best parameters\n",
    "print(\"Best Parameters:\", random_search.best_params_)\n",
    "print(f\"Test MAE: {mae:.2f}\")\n",
    "print(f\"Test MAPE: {mape:.2f}\")\n",
    "print(f\"Test RMSE: {rmse:.2f}\")\n",
    "# Approval decision based on ±20% margin\n",
    "margin = 0.20\n",
    "approval = np.abs(y_test - y_pred) / y_pred <= margin\n",
    "approval_rate = approval.mean()\n",
    "print(f\"Approval Rate (±{margin*100:.0f}% margin): {approval_rate:.2%}\")"
   ]
  },
  {
   "cell_type": "code",
   "execution_count": null,
   "id": "bc47d8b2",
   "metadata": {},
   "outputs": [],
   "source": [
    "plt.figure(figsize=(8,6))\n",
    "plt.scatter(y_test, y_pred, alpha=0.5)\n",
    "plt.plot([y_test.min(), y_test.max()], [y_test.min(), y_test.max()], 'k--', label='Perfect Prediction')\n",
    "\n",
    "# ±10% bounds\n",
    "lower_bound = y_test * 0.9\n",
    "upper_bound = y_test * 1.1\n",
    "plt.fill_between(y_test, lower_bound, upper_bound, color='orange', alpha=0.2, label='±10% Margin')\n",
    "\n",
    "plt.xlabel(\"Actual Price\")\n",
    "plt.ylabel(\"Predicted Price\")\n",
    "plt.title(\"Predicted vs Actual Prices\")\n",
    "plt.legend()\n",
    "plt.xlim(0, 20000)\n",
    "plt.ylim(0, 20000)\n",
    "plt.show()"
   ]
  },
  {
   "cell_type": "code",
   "execution_count": null,
   "id": "ee02755d",
   "metadata": {},
   "outputs": [],
   "source": [
    "r2 = r2_score(y_test, y_pred)\n",
    "print(f\"R² Score: {r2:.4f}\")"
   ]
  },
  {
   "cell_type": "code",
   "execution_count": null,
   "id": "5a9b5bba",
   "metadata": {},
   "outputs": [],
   "source": [
    "residuals = y_test - y_pred\n",
    "plt.figure(figsize=(8,6))\n",
    "plt.scatter(y_pred, residuals, alpha=0.5)\n",
    "plt.axhline(0, color='red', linestyle='--')\n",
    "plt.xlabel(\"Predicted Price\")\n",
    "plt.ylabel(\"Residual (Actual - Predicted)\")\n",
    "plt.title(\"Residual Plot\")\n",
    "plt.show()"
   ]
  },
  {
   "cell_type": "code",
   "execution_count": null,
   "id": "277048a8",
   "metadata": {},
   "outputs": [],
   "source": [
    "plt.figure(figsize=(8,6))\n",
    "plt.hist(residuals, bins=50, edgecolor='k', alpha=0.7)\n",
    "plt.axvline(0, color='red', linestyle='--')\n",
    "plt.xlabel(\"Error\")\n",
    "plt.ylabel(\"Frequency\")\n",
    "plt.title(\"Distribution of Prediction Errors\")\n",
    "plt.show()"
   ]
  },
  {
   "cell_type": "code",
   "execution_count": null,
   "id": "529b5c76",
   "metadata": {},
   "outputs": [],
   "source": [
    "# Extract the fitted preprocessor from the best pipeline\n",
    "fitted_preprocessor = random_search.best_estimator_.named_steps['preprocessor']\n",
    "\n",
    "# Now get the feature names\n",
    "feature_names = fitted_preprocessor.get_feature_names_out()\n",
    "\n",
    "# Get feature importances from the trained RandomForest\n",
    "importances = random_search.best_estimator_.named_steps['regressor'].feature_importances_\n",
    "\n",
    "# Create a Series for sorting and plotting\n",
    "feat_imp = pd.Series(importances, index=feature_names).sort_values(ascending=False)\n",
    "\n",
    "# Plot the feature importances\n",
    "import matplotlib.pyplot as plt\n",
    "\n",
    "plt.figure(figsize=(10,6))\n",
    "feat_imp.plot(kind='bar')\n",
    "plt.title(\"Feature Importances from Random Forest\")\n",
    "plt.ylabel(\"Importance Score\")\n",
    "plt.show()"
   ]
  },
  {
   "cell_type": "code",
   "execution_count": null,
   "id": "559e5f92",
   "metadata": {},
   "outputs": [],
   "source": [
    "approval = ((y_pred >= y_test * 0.9) & (y_pred <= y_test * 1.1)).astype(int)\n",
    "price_bins = pd.cut(y_test, bins=10)\n",
    "approval_rate = pd.DataFrame({\"PriceBin\": price_bins, \"Approved\": approval}).groupby(\"PriceBin\").mean()\n",
    "\n",
    "approval_rate.plot(kind='bar', legend=False, figsize=(10,6))\n",
    "plt.ylabel(\"Approval Rate\")\n",
    "plt.title(\"Approval Rate by Price Bin\")\n",
    "plt.show()"
   ]
  },
  {
   "cell_type": "code",
   "execution_count": null,
   "id": "ff3c6c46",
   "metadata": {},
   "outputs": [],
   "source": [
    "print(df['Label'].value_counts(normalize=True))"
   ]
  }
 ],
 "metadata": {
  "kernelspec": {
   "display_name": "Python 3",
   "language": "python",
   "name": "python3"
  },
  "language_info": {
   "codemirror_mode": {
    "name": "ipython",
    "version": 3
   },
   "file_extension": ".py",
   "mimetype": "text/x-python",
   "name": "python",
   "nbconvert_exporter": "python",
   "pygments_lexer": "ipython3",
   "version": "3.12.0"
  }
 },
 "nbformat": 4,
 "nbformat_minor": 5
}
