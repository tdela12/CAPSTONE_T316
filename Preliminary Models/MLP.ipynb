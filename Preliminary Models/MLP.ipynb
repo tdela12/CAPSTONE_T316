{
 "cells": [
  {
   "cell_type": "markdown",
   "id": "4cc1092b",
   "metadata": {},
   "source": [
    "# Multi-Layer Perceptron Model Investigation\n"
   ]
  },
  {
   "cell_type": "code",
   "execution_count": 3,
   "id": "d1ce79fb",
   "metadata": {},
   "outputs": [],
   "source": [
    "# Import required modules\n",
    "\n",
    "import pandas as pd\n",
    "import sklearn\n",
    "from sklearn.neural_network import MLPClassifier\n",
    "from sklearn.model_selection import train_test_split\n",
    "from sklearn.preprocessing import StandardScaler\n",
    "\n",
    "import category_encoders as ce\n",
    "import matplotlib.pyplot as plt\n",
    "import seaborn as sns\n",
    "import numpy as np"
   ]
  },
  {
   "cell_type": "code",
   "execution_count": null,
   "id": "13f67e67",
   "metadata": {},
   "outputs": [],
   "source": []
  },
  {
   "cell_type": "markdown",
   "id": "8e7e7968",
   "metadata": {},
   "source": [
    "## Pre-processing"
   ]
  },
  {
   "cell_type": "code",
   "execution_count": 4,
   "id": "5908531c",
   "metadata": {},
   "outputs": [
    {
     "data": {
      "text/html": [
       "<div>\n",
       "<style scoped>\n",
       "    .dataframe tbody tr th:only-of-type {\n",
       "        vertical-align: middle;\n",
       "    }\n",
       "\n",
       "    .dataframe tbody tr th {\n",
       "        vertical-align: top;\n",
       "    }\n",
       "\n",
       "    .dataframe thead th {\n",
       "        text-align: right;\n",
       "    }\n",
       "</style>\n",
       "<table border=\"1\" class=\"dataframe\">\n",
       "  <thead>\n",
       "    <tr style=\"text-align: right;\">\n",
       "      <th></th>\n",
       "      <th>Quarter</th>\n",
       "      <th>CPI</th>\n",
       "    </tr>\n",
       "  </thead>\n",
       "  <tbody>\n",
       "    <tr>\n",
       "      <th>0</th>\n",
       "      <td>2021Q1</td>\n",
       "      <td>117.9</td>\n",
       "    </tr>\n",
       "    <tr>\n",
       "      <th>1</th>\n",
       "      <td>2021Q2</td>\n",
       "      <td>118.8</td>\n",
       "    </tr>\n",
       "    <tr>\n",
       "      <th>2</th>\n",
       "      <td>2021Q3</td>\n",
       "      <td>119.7</td>\n",
       "    </tr>\n",
       "    <tr>\n",
       "      <th>3</th>\n",
       "      <td>2021Q4</td>\n",
       "      <td>121.3</td>\n",
       "    </tr>\n",
       "    <tr>\n",
       "      <th>4</th>\n",
       "      <td>2022Q1</td>\n",
       "      <td>123.9</td>\n",
       "    </tr>\n",
       "  </tbody>\n",
       "</table>\n",
       "</div>"
      ],
      "text/plain": [
       "  Quarter    CPI\n",
       "0  2021Q1  117.9\n",
       "1  2021Q2  118.8\n",
       "2  2021Q3  119.7\n",
       "3  2021Q4  121.3\n",
       "4  2022Q1  123.9"
      ]
     },
     "execution_count": 4,
     "metadata": {},
     "output_type": "execute_result"
    }
   ],
   "source": [
    "# Read in Data\n",
    "df = pd.read_csv('data/data.csv')\n",
    "cpi = pd.read_csv('data/cpi.csv')\n",
    "df.head()\n",
    "cpi.head()"
   ]
  },
  {
   "cell_type": "code",
   "execution_count": 5,
   "id": "47b1969b",
   "metadata": {},
   "outputs": [],
   "source": [
    "# Assign priority: 'completed' gets highest priority (lowest number)\n",
    "\n",
    "df['status_priority'] = df['BStatusAfterSubmitted'].apply(lambda x: 0 if x == '33. Approved' else 1)\n",
    "\n",
    "# Define the columns used to detect duplicates (all except 'status' and 'status_priority')\n",
    "dedup_cols = [col for col in df.columns if col not in ['BookingID','BTicketID','BStatusAfterSubmitted', 'BStatusFromDateTimeAEST', 'status_priority' ]]\n",
    "\n",
    "# Sort so that 'completed' comes last within each group of duplicate rows\n",
    "df_sorted = df.sort_values(by=dedup_cols + ['status_priority'])\n",
    "\n",
    "# Drop duplicates based on all columns except status, keeping the preferred row (last)\n",
    "df_deduped = df_sorted.drop_duplicates(subset=dedup_cols, keep='last')\n",
    "\n",
    "# Drop the helper column\n",
    "df_deduped = df_deduped.drop(columns='status_priority')\n",
    "\n",
    "df = df_deduped\n",
    "#df_deduped.shape[0]\n",
    "\n"
   ]
  },
  {
   "cell_type": "markdown",
   "id": "f2fc8aeb",
   "metadata": {},
   "source": [
    "### Feature Selection"
   ]
  },
  {
   "cell_type": "code",
   "execution_count": 6,
   "id": "8cee9c99",
   "metadata": {},
   "outputs": [
    {
     "name": "stderr",
     "output_type": "stream",
     "text": [
      "/tmp/ipykernel_69618/2419186590.py:4: UserWarning: Could not infer format, so each element will be parsed individually, falling back to `dateutil`. To ensure parsing is consistent and as-expected, please specify a format.\n",
      "  cpi['Quarter'] = pd.to_datetime(cpi['Quarter']).dt.to_period('Q');\n"
     ]
    }
   ],
   "source": [
    "# Price adjustment for inflation\n",
    "df['BCreatedDateAEST'] = pd.to_datetime(df['BCreatedDateAEST'],  dayfirst=True);\n",
    "df['Quarter'] = df['BCreatedDateAEST'].dt.to_period('Q');\n",
    "cpi['Quarter'] = pd.to_datetime(cpi['Quarter']).dt.to_period('Q');\n",
    "base_cpi = cpi['CPI'].iloc[-1]"
   ]
  },
  {
   "cell_type": "code",
   "execution_count": 7,
   "id": "1d5fc1b9",
   "metadata": {},
   "outputs": [],
   "source": [
    "# Create a column for the adjusted price \n",
    "merged_df = df.merge(cpi, on='Quarter');\n",
    "merged_df['Quarter'] = df['BCreatedDateAEST'].dt.quarter;\n",
    "\n",
    "#Round to two decimal places to remain consistent with the existing data\n",
    "merged_df['adjusted_price'] = round(merged_df['PriceIncGSTRaw'] * (base_cpi / merged_df['CPI']), 2)"
   ]
  },
  {
   "cell_type": "code",
   "execution_count": 8,
   "id": "4cc9054e",
   "metadata": {},
   "outputs": [
    {
     "data": {
      "text/html": [
       "<div>\n",
       "<style scoped>\n",
       "    .dataframe tbody tr th:only-of-type {\n",
       "        vertical-align: middle;\n",
       "    }\n",
       "\n",
       "    .dataframe tbody tr th {\n",
       "        vertical-align: top;\n",
       "    }\n",
       "\n",
       "    .dataframe thead th {\n",
       "        text-align: right;\n",
       "    }\n",
       "</style>\n",
       "<table border=\"1\" class=\"dataframe\">\n",
       "  <thead>\n",
       "    <tr style=\"text-align: right;\">\n",
       "      <th></th>\n",
       "      <th>FCID</th>\n",
       "      <th>BookingID</th>\n",
       "      <th>BCreatedDateAEST</th>\n",
       "      <th>BStatusHistoryID</th>\n",
       "      <th>BStatusAfterSubmitted</th>\n",
       "      <th>BStatusFromDateTimeAEST</th>\n",
       "      <th>BStatusSetByBizRules</th>\n",
       "      <th>BTicketID</th>\n",
       "      <th>BTicketType</th>\n",
       "      <th>TaskName</th>\n",
       "      <th>IsCustomService</th>\n",
       "      <th>IsCustomRepair</th>\n",
       "      <th>PriceIncGSTRaw</th>\n",
       "      <th>VYMM</th>\n",
       "      <th>VMakeModel</th>\n",
       "      <th>VMake</th>\n",
       "      <th>VYear</th>\n",
       "      <th>BShopID</th>\n",
       "      <th>BShopPostcode</th>\n",
       "      <th>BShopState</th>\n",
       "      <th>BShopRegionName</th>\n",
       "      <th>BShopRegionClass</th>\n",
       "      <th>Quarter</th>\n",
       "      <th>CPI</th>\n",
       "      <th>adjusted_price</th>\n",
       "    </tr>\n",
       "  </thead>\n",
       "  <tbody>\n",
       "    <tr>\n",
       "      <th>0</th>\n",
       "      <td>1</td>\n",
       "      <td>402660</td>\n",
       "      <td>2021-02-01</td>\n",
       "      <td>2357659</td>\n",
       "      <td>33. Approved</td>\n",
       "      <td>1/02/2021 7:46</td>\n",
       "      <td>NaN</td>\n",
       "      <td>617590</td>\n",
       "      <td>Log</td>\n",
       "      <td>Logbook Service - 240,000 km / 144 months</td>\n",
       "      <td>0</td>\n",
       "      <td>0</td>\n",
       "      <td>327.60</td>\n",
       "      <td>2019 TOYOTA HIACE</td>\n",
       "      <td>TOYOTA HIACE</td>\n",
       "      <td>TOYOTA</td>\n",
       "      <td>2019</td>\n",
       "      <td>14232</td>\n",
       "      <td>2289</td>\n",
       "      <td>NSW</td>\n",
       "      <td>Newcastle</td>\n",
       "      <td>2</td>\n",
       "      <td>2.0</td>\n",
       "      <td>117.9</td>\n",
       "      <td>387.34</td>\n",
       "    </tr>\n",
       "    <tr>\n",
       "      <th>1</th>\n",
       "      <td>1</td>\n",
       "      <td>402726</td>\n",
       "      <td>2021-02-01</td>\n",
       "      <td>2357875</td>\n",
       "      <td>23. Req. HA</td>\n",
       "      <td>1/02/2021 10:11</td>\n",
       "      <td>NaN</td>\n",
       "      <td>617693</td>\n",
       "      <td>Log</td>\n",
       "      <td>Logbook Service - 70,000 km / 42 months</td>\n",
       "      <td>0</td>\n",
       "      <td>0</td>\n",
       "      <td>198.88</td>\n",
       "      <td>2017 TOYOTA RAV4</td>\n",
       "      <td>TOYOTA RAV4</td>\n",
       "      <td>TOYOTA</td>\n",
       "      <td>2017</td>\n",
       "      <td>16975</td>\n",
       "      <td>4551</td>\n",
       "      <td>QLD</td>\n",
       "      <td>Sunshine Coast</td>\n",
       "      <td>1</td>\n",
       "      <td>2.0</td>\n",
       "      <td>117.9</td>\n",
       "      <td>235.15</td>\n",
       "    </tr>\n",
       "    <tr>\n",
       "      <th>2</th>\n",
       "      <td>1</td>\n",
       "      <td>402727</td>\n",
       "      <td>2021-02-01</td>\n",
       "      <td>2357877</td>\n",
       "      <td>33. Approved</td>\n",
       "      <td>1/02/2021 10:11</td>\n",
       "      <td>NaN</td>\n",
       "      <td>617694</td>\n",
       "      <td>Log</td>\n",
       "      <td>Logbook Service - 110,000 km / 66 months</td>\n",
       "      <td>0</td>\n",
       "      <td>0</td>\n",
       "      <td>330.00</td>\n",
       "      <td>2018 TOYOTA HILUX</td>\n",
       "      <td>TOYOTA HILUX</td>\n",
       "      <td>TOYOTA</td>\n",
       "      <td>2018</td>\n",
       "      <td>3589</td>\n",
       "      <td>4064</td>\n",
       "      <td>QLD</td>\n",
       "      <td>Brisbane</td>\n",
       "      <td>1</td>\n",
       "      <td>1.0</td>\n",
       "      <td>117.9</td>\n",
       "      <td>390.18</td>\n",
       "    </tr>\n",
       "    <tr>\n",
       "      <th>3</th>\n",
       "      <td>1</td>\n",
       "      <td>402768</td>\n",
       "      <td>2021-02-01</td>\n",
       "      <td>2357992</td>\n",
       "      <td>33. Approved</td>\n",
       "      <td>1/02/2021 11:25</td>\n",
       "      <td>NaN</td>\n",
       "      <td>617759</td>\n",
       "      <td>Capped</td>\n",
       "      <td>Capped Price Service - 30,000 km</td>\n",
       "      <td>0</td>\n",
       "      <td>0</td>\n",
       "      <td>274.00</td>\n",
       "      <td>2018 HYUNDAI KONA</td>\n",
       "      <td>HYUNDAI KONA</td>\n",
       "      <td>HYUNDAI</td>\n",
       "      <td>2018</td>\n",
       "      <td>17069</td>\n",
       "      <td>6056</td>\n",
       "      <td>WA</td>\n",
       "      <td>Perth</td>\n",
       "      <td>2</td>\n",
       "      <td>1.0</td>\n",
       "      <td>117.9</td>\n",
       "      <td>323.97</td>\n",
       "    </tr>\n",
       "    <tr>\n",
       "      <th>4</th>\n",
       "      <td>1</td>\n",
       "      <td>402778</td>\n",
       "      <td>2021-02-01</td>\n",
       "      <td>2358026</td>\n",
       "      <td>33. Approved</td>\n",
       "      <td>1/02/2021 11:48</td>\n",
       "      <td>NaN</td>\n",
       "      <td>617776</td>\n",
       "      <td>Log</td>\n",
       "      <td>Logbook Service - 100,000 km / 60 months</td>\n",
       "      <td>0</td>\n",
       "      <td>0</td>\n",
       "      <td>498.85</td>\n",
       "      <td>2019 TOYOTA YARIS</td>\n",
       "      <td>TOYOTA YARIS</td>\n",
       "      <td>TOYOTA</td>\n",
       "      <td>2019</td>\n",
       "      <td>14225</td>\n",
       "      <td>3066</td>\n",
       "      <td>VIC</td>\n",
       "      <td>Melbourne</td>\n",
       "      <td>1</td>\n",
       "      <td>1.0</td>\n",
       "      <td>117.9</td>\n",
       "      <td>589.82</td>\n",
       "    </tr>\n",
       "  </tbody>\n",
       "</table>\n",
       "</div>"
      ],
      "text/plain": [
       "   FCID  BookingID BCreatedDateAEST  BStatusHistoryID BStatusAfterSubmitted  \\\n",
       "0     1     402660       2021-02-01           2357659          33. Approved   \n",
       "1     1     402726       2021-02-01           2357875           23. Req. HA   \n",
       "2     1     402727       2021-02-01           2357877          33. Approved   \n",
       "3     1     402768       2021-02-01           2357992          33. Approved   \n",
       "4     1     402778       2021-02-01           2358026          33. Approved   \n",
       "\n",
       "  BStatusFromDateTimeAEST  BStatusSetByBizRules  BTicketID BTicketType  \\\n",
       "0          1/02/2021 7:46                   NaN     617590         Log   \n",
       "1         1/02/2021 10:11                   NaN     617693         Log   \n",
       "2         1/02/2021 10:11                   NaN     617694         Log   \n",
       "3         1/02/2021 11:25                   NaN     617759      Capped   \n",
       "4         1/02/2021 11:48                   NaN     617776         Log   \n",
       "\n",
       "                                    TaskName  IsCustomService  IsCustomRepair  \\\n",
       "0  Logbook Service - 240,000 km / 144 months                0               0   \n",
       "1    Logbook Service - 70,000 km / 42 months                0               0   \n",
       "2   Logbook Service - 110,000 km / 66 months                0               0   \n",
       "3           Capped Price Service - 30,000 km                0               0   \n",
       "4   Logbook Service - 100,000 km / 60 months                0               0   \n",
       "\n",
       "   PriceIncGSTRaw               VYMM    VMakeModel    VMake  VYear  BShopID  \\\n",
       "0          327.60  2019 TOYOTA HIACE  TOYOTA HIACE   TOYOTA   2019    14232   \n",
       "1          198.88   2017 TOYOTA RAV4   TOYOTA RAV4   TOYOTA   2017    16975   \n",
       "2          330.00  2018 TOYOTA HILUX  TOYOTA HILUX   TOYOTA   2018     3589   \n",
       "3          274.00  2018 HYUNDAI KONA  HYUNDAI KONA  HYUNDAI   2018    17069   \n",
       "4          498.85  2019 TOYOTA YARIS  TOYOTA YARIS   TOYOTA   2019    14225   \n",
       "\n",
       "   BShopPostcode BShopState BShopRegionName  BShopRegionClass  Quarter    CPI  \\\n",
       "0           2289        NSW       Newcastle                 2      2.0  117.9   \n",
       "1           4551        QLD  Sunshine Coast                 1      2.0  117.9   \n",
       "2           4064        QLD        Brisbane                 1      1.0  117.9   \n",
       "3           6056         WA           Perth                 2      1.0  117.9   \n",
       "4           3066        VIC       Melbourne                 1      1.0  117.9   \n",
       "\n",
       "   adjusted_price  \n",
       "0          387.34  \n",
       "1          235.15  \n",
       "2          390.18  \n",
       "3          323.97  \n",
       "4          589.82  "
      ]
     },
     "execution_count": 8,
     "metadata": {},
     "output_type": "execute_result"
    }
   ],
   "source": [
    "# Display merged dataset\n",
    "pd.set_option('display.max_columns', None)\n",
    "\n",
    "merged_df.head()"
   ]
  },
  {
   "cell_type": "code",
   "execution_count": 9,
   "id": "e825f6fa",
   "metadata": {},
   "outputs": [
    {
     "data": {
      "text/html": [
       "<div>\n",
       "<style scoped>\n",
       "    .dataframe tbody tr th:only-of-type {\n",
       "        vertical-align: middle;\n",
       "    }\n",
       "\n",
       "    .dataframe tbody tr th {\n",
       "        vertical-align: top;\n",
       "    }\n",
       "\n",
       "    .dataframe thead th {\n",
       "        text-align: right;\n",
       "    }\n",
       "</style>\n",
       "<table border=\"1\" class=\"dataframe\">\n",
       "  <thead>\n",
       "    <tr style=\"text-align: right;\">\n",
       "      <th></th>\n",
       "      <th>VMake</th>\n",
       "      <th>VMakeModel</th>\n",
       "      <th>VYear</th>\n",
       "      <th>adjusted_price</th>\n",
       "      <th>TaskName</th>\n",
       "      <th>BShopRegionName</th>\n",
       "      <th>Label</th>\n",
       "    </tr>\n",
       "  </thead>\n",
       "  <tbody>\n",
       "    <tr>\n",
       "      <th>0</th>\n",
       "      <td>TOYOTA</td>\n",
       "      <td>TOYOTA HIACE</td>\n",
       "      <td>2019</td>\n",
       "      <td>387.34</td>\n",
       "      <td>Logbook Service - 240,000 km / 144 months</td>\n",
       "      <td>Newcastle</td>\n",
       "      <td>1</td>\n",
       "    </tr>\n",
       "    <tr>\n",
       "      <th>2</th>\n",
       "      <td>TOYOTA</td>\n",
       "      <td>TOYOTA HILUX</td>\n",
       "      <td>2018</td>\n",
       "      <td>390.18</td>\n",
       "      <td>Logbook Service - 110,000 km / 66 months</td>\n",
       "      <td>Brisbane</td>\n",
       "      <td>1</td>\n",
       "    </tr>\n",
       "    <tr>\n",
       "      <th>3</th>\n",
       "      <td>HYUNDAI</td>\n",
       "      <td>HYUNDAI KONA</td>\n",
       "      <td>2018</td>\n",
       "      <td>323.97</td>\n",
       "      <td>Capped Price Service - 30,000 km</td>\n",
       "      <td>Perth</td>\n",
       "      <td>1</td>\n",
       "    </tr>\n",
       "    <tr>\n",
       "      <th>4</th>\n",
       "      <td>TOYOTA</td>\n",
       "      <td>TOYOTA YARIS</td>\n",
       "      <td>2019</td>\n",
       "      <td>589.82</td>\n",
       "      <td>Logbook Service - 100,000 km / 60 months</td>\n",
       "      <td>Melbourne</td>\n",
       "      <td>1</td>\n",
       "    </tr>\n",
       "    <tr>\n",
       "      <th>5</th>\n",
       "      <td>TOYOTA</td>\n",
       "      <td>TOYOTA YARIS</td>\n",
       "      <td>2019</td>\n",
       "      <td>39.02</td>\n",
       "      <td>Custom Repair</td>\n",
       "      <td>Melbourne</td>\n",
       "      <td>1</td>\n",
       "    </tr>\n",
       "  </tbody>\n",
       "</table>\n",
       "</div>"
      ],
      "text/plain": [
       "     VMake    VMakeModel  VYear  adjusted_price  \\\n",
       "0   TOYOTA  TOYOTA HIACE   2019          387.34   \n",
       "2   TOYOTA  TOYOTA HILUX   2018          390.18   \n",
       "3  HYUNDAI  HYUNDAI KONA   2018          323.97   \n",
       "4   TOYOTA  TOYOTA YARIS   2019          589.82   \n",
       "5   TOYOTA  TOYOTA YARIS   2019           39.02   \n",
       "\n",
       "                                    TaskName BShopRegionName  Label  \n",
       "0  Logbook Service - 240,000 km / 144 months       Newcastle      1  \n",
       "2   Logbook Service - 110,000 km / 66 months        Brisbane      1  \n",
       "3           Capped Price Service - 30,000 km           Perth      1  \n",
       "4   Logbook Service - 100,000 km / 60 months       Melbourne      1  \n",
       "5                              Custom Repair       Melbourne      1  "
      ]
     },
     "execution_count": 9,
     "metadata": {},
     "output_type": "execute_result"
    }
   ],
   "source": [
    "\n",
    "columns_to_keep = ['BStatusAfterSubmitted', 'VMake', 'VMakeModel', 'VYear', 'adjusted_price', 'TaskName', 'BShopRegionName']\n",
    "df_filtered = merged_df[columns_to_keep]\n",
    "df_filtered = df_filtered[df_filtered['BStatusAfterSubmitted'].isin(['33. Approved', '16. Req. Changes'])]\n",
    "df_filtered['Label'] = df_filtered['BStatusAfterSubmitted'].map({'33. Approved': 1, '16. Req. Changes': 0})\n",
    "df_filtered = df_filtered.drop('BStatusAfterSubmitted', axis=1)\n",
    "df_filtered.head()"
   ]
  },
  {
   "cell_type": "markdown",
   "id": "7268b112",
   "metadata": {},
   "source": [
    "### Data Splitting\n"
   ]
  },
  {
   "cell_type": "code",
   "execution_count": 39,
   "id": "c857f805",
   "metadata": {},
   "outputs": [
    {
     "name": "stdout",
     "output_type": "stream",
     "text": [
      "Index(['VMake', 'VMakeModel', 'VYear', 'adjusted_price', 'TaskName',\n",
      "       'BShopRegionName'],\n",
      "      dtype='object')\n",
      "Index(['VMake', 'VMakeModel', 'VYear', 'adjusted_price', 'TaskName',\n",
      "       'BShopRegionName'],\n",
      "      dtype='object')\n",
      "Index(['VMake', 'VMakeModel', 'VYear', 'adjusted_price', 'TaskName',\n",
      "       'BShopRegionName'],\n",
      "      dtype='object')\n"
     ]
    }
   ],
   "source": [
    "\n",
    "# Separate features and target\n",
    "X = df_filtered.drop('Label', axis=1)\n",
    "y = df_filtered['Label']\n",
    "\n",
    "# First split into train and temp (temp will be split into val and test)\n",
    "train_X, temp_X, train_Y, temp_Y = train_test_split(\n",
    "    X, y, test_size=0.25, random_state=42, stratify=y\n",
    ")\n",
    "\n",
    "# Then split temp into validation and test (half-half)\n",
    "val_X, test_X, val_Y, test_Y = train_test_split(\n",
    "    temp_X, temp_Y, test_size=0.5, random_state=42, stratify=temp_Y\n",
    ")\n",
    "\n",
    "print(train_X.columns)\n",
    "print(val_X.columns)\n",
    "print(test_X.columns)"
   ]
  },
  {
   "cell_type": "code",
   "execution_count": 11,
   "id": "bc9cef38",
   "metadata": {},
   "outputs": [
    {
     "name": "stdout",
     "output_type": "stream",
     "text": [
      "After Binary Encoding (train_X columns): Index(['VMake_0', 'VMake_1', 'VMake_2', 'VMake_3', 'VMake_4', 'VMake_5',\n",
      "       'VMake_6', 'VMake_7', 'VMakeModel_0', 'VMakeModel_1', 'VMakeModel_2',\n",
      "       'VMakeModel_3', 'VMakeModel_4', 'VMakeModel_5', 'VMakeModel_6',\n",
      "       'VMakeModel_7', 'VMakeModel_8', 'VMakeModel_9', 'VMakeModel_10',\n",
      "       'VYear_0', 'VYear_1', 'VYear_2', 'VYear_3', 'VYear_4', 'VYear_5',\n",
      "       'adjusted_price', 'TaskName_0', 'TaskName_1', 'TaskName_2',\n",
      "       'TaskName_3', 'TaskName_4', 'TaskName_5', 'TaskName_6', 'TaskName_7',\n",
      "       'TaskName_8', 'TaskName_9', 'TaskName_10', 'BShopRegionName_0',\n",
      "       'BShopRegionName_1', 'BShopRegionName_2', 'BShopRegionName_3',\n",
      "       'BShopRegionName_4', 'BShopRegionName_5', 'BShopRegionName_6'],\n",
      "      dtype='object')\n"
     ]
    }
   ],
   "source": [
    "#Binary Encodes Task name, VYMM, VMake and Shop region name\n",
    "binary_encoder = ce.BinaryEncoder(cols=['VMake', 'VYear', 'VMakeModel', 'TaskName', 'BShopRegionName'])\n",
    "Encoded_train_X = binary_encoder.fit_transform(train_X)\n",
    "Encoded_val_X = binary_encoder.transform(val_X)\n",
    "Encoded_test_X = binary_encoder.transform(test_X)\n",
    "print(\"After Binary Encoding (train_X columns):\", Encoded_train_X.columns)\n",
    "\n",
    "#Encoded_train_X.head()\n",
    "#Encoded_val_X.head()\n",
    "#Encoded_test_X.head()\n",
    "\n",
    "#When data is split, ensure that fit is ONLY applied to the train dataset, then proceed to transform both train and test."
   ]
  },
  {
   "cell_type": "markdown",
   "id": "45ee0996",
   "metadata": {},
   "source": [
    "### Scaling"
   ]
  },
  {
   "cell_type": "code",
   "execution_count": 12,
   "id": "0f324cb7",
   "metadata": {},
   "outputs": [],
   "source": [
    "# Initialize the scaler\n",
    "scaler = StandardScaler()\n",
    "\n",
    "# Fit on training data, transform train, val, and test\n",
    "\n",
    "train_X_scaled = scaler.fit_transform(Encoded_train_X)\n",
    "val_X_scaled = scaler.transform(Encoded_val_X)\n",
    "test_X_scaled = scaler.transform(Encoded_test_X)\n"
   ]
  },
  {
   "cell_type": "markdown",
   "id": "4a092903",
   "metadata": {},
   "source": [
    "## Training the Model"
   ]
  },
  {
   "cell_type": "code",
   "execution_count": 28,
   "id": "7f007e1e",
   "metadata": {},
   "outputs": [
    {
     "name": "stdout",
     "output_type": "stream",
     "text": [
      "Fitting 2 folds for each of 5 candidates, totalling 10 fits\n",
      "[CV] END activation=relu, alpha=0.0019182496720710062, batch_size=36, hidden_layer_sizes=(50,), learning_rate=adaptive, learning_rate_init=0.00621653160488281, solver=adam; total time= 2.3min\n",
      "[CV] END activation=relu, alpha=0.0019182496720710062, batch_size=36, hidden_layer_sizes=(50,), learning_rate=adaptive, learning_rate_init=0.00621653160488281, solver=adam; total time= 4.0min\n",
      "[CV] END activation=tanh, alpha=0.008065429868602328, batch_size=30, hidden_layer_sizes=(100, 50), learning_rate=adaptive, learning_rate_init=0.006086584841970367, solver=adam; total time= 5.0min\n",
      "[CV] END activation=relu, alpha=0.006608884729488529, batch_size=68, hidden_layer_sizes=(100,), learning_rate=adaptive, learning_rate_init=0.008424426408004218, solver=sgd; total time= 8.2min\n",
      "[CV] END activation=tanh, alpha=0.008065429868602328, batch_size=30, hidden_layer_sizes=(100, 50), learning_rate=adaptive, learning_rate_init=0.006086584841970367, solver=adam; total time= 8.7min\n",
      "[CV] END activation=relu, alpha=0.006608884729488529, batch_size=68, hidden_layer_sizes=(100,), learning_rate=adaptive, learning_rate_init=0.008424426408004218, solver=sgd; total time= 9.9min\n"
     ]
    },
    {
     "name": "stderr",
     "output_type": "stream",
     "text": [
      "/home/theodc/git/CAPSTONE_T316/.venv/lib/python3.10/site-packages/sklearn/neural_network/_multilayer_perceptron.py:691: ConvergenceWarning: Stochastic Optimizer: Maximum iterations (300) reached and the optimization hasn't converged yet.\n",
      "  warnings.warn(\n"
     ]
    },
    {
     "name": "stdout",
     "output_type": "stream",
     "text": [
      "[CV] END activation=relu, alpha=0.0016599452033620266, batch_size=90, hidden_layer_sizes=(100, 50), learning_rate=adaptive, learning_rate_init=0.0034370861113902185, solver=sgd; total time=10.8min\n"
     ]
    },
    {
     "name": "stderr",
     "output_type": "stream",
     "text": [
      "/home/theodc/git/CAPSTONE_T316/.venv/lib/python3.10/site-packages/sklearn/neural_network/_multilayer_perceptron.py:691: ConvergenceWarning: Stochastic Optimizer: Maximum iterations (300) reached and the optimization hasn't converged yet.\n",
      "  warnings.warn(\n"
     ]
    },
    {
     "name": "stdout",
     "output_type": "stream",
     "text": [
      "[CV] END activation=relu, alpha=0.0003306242504141576, batch_size=106, hidden_layer_sizes=(100, 50), learning_rate=constant, learning_rate_init=0.0014949386065204184, solver=sgd; total time= 8.6min\n"
     ]
    },
    {
     "name": "stderr",
     "output_type": "stream",
     "text": [
      "/home/theodc/git/CAPSTONE_T316/.venv/lib/python3.10/site-packages/sklearn/neural_network/_multilayer_perceptron.py:691: ConvergenceWarning: Stochastic Optimizer: Maximum iterations (300) reached and the optimization hasn't converged yet.\n",
      "  warnings.warn(\n"
     ]
    },
    {
     "name": "stdout",
     "output_type": "stream",
     "text": [
      "[CV] END activation=relu, alpha=0.0016599452033620266, batch_size=90, hidden_layer_sizes=(100, 50), learning_rate=adaptive, learning_rate_init=0.0034370861113902185, solver=sgd; total time=11.2min\n"
     ]
    },
    {
     "name": "stderr",
     "output_type": "stream",
     "text": [
      "/home/theodc/git/CAPSTONE_T316/.venv/lib/python3.10/site-packages/sklearn/neural_network/_multilayer_perceptron.py:691: ConvergenceWarning: Stochastic Optimizer: Maximum iterations (300) reached and the optimization hasn't converged yet.\n",
      "  warnings.warn(\n"
     ]
    },
    {
     "name": "stdout",
     "output_type": "stream",
     "text": [
      "[CV] END activation=relu, alpha=0.0003306242504141576, batch_size=106, hidden_layer_sizes=(100, 50), learning_rate=constant, learning_rate_init=0.0014949386065204184, solver=sgd; total time= 7.4min\n",
      "\n",
      "🕒 Randomized Search took: 823.45 seconds\n",
      "🧠 Training best model took: 139.95 seconds\n",
      "\n",
      "✅ Best Parameters: {'activation': 'relu', 'alpha': np.float64(0.0019182496720710062), 'batch_size': 36, 'hidden_layer_sizes': (50,), 'learning_rate': 'adaptive', 'learning_rate_init': np.float64(0.00621653160488281), 'solver': 'adam'}\n",
      "📈 Best CV Score: 0.6349\n"
     ]
    }
   ],
   "source": [
    "from sklearn.model_selection import RandomizedSearchCV\n",
    "from sklearn.neural_network import MLPClassifier\n",
    "from scipy.stats import uniform, randint\n",
    "from time import time\n",
    "\n",
    "# Define the model\n",
    "mlp = MLPClassifier(max_iter=300, random_state=42)\n",
    "\n",
    "# Define hyperparameter search space\n",
    "params = {\n",
    "    'hidden_layer_sizes': [(50,), (100,), (100, 50), (50, 100), (100, 100)],\n",
    "    'activation': ['tanh', 'relu'],\n",
    "    'solver': ['adam', 'sgd'],\n",
    "    'alpha': uniform(0.0001, 0.01),\n",
    "    'learning_rate': ['constant', 'adaptive'],\n",
    "    'learning_rate_init': uniform(0.0001, 0.01),\n",
    "    'batch_size': randint(16, 128),\n",
    "}\n",
    "\n",
    "# Time the random search\n",
    "search_start = time()\n",
    "\n",
    "random_search = RandomizedSearchCV(\n",
    "    mlp,\n",
    "    param_distributions=params,\n",
    "    n_iter=5,\n",
    "    scoring='accuracy',\n",
    "    cv=2,\n",
    "    verbose=2,\n",
    "    random_state=42,\n",
    "    n_jobs=-1,\n",
    "    return_train_score=True\n",
    ")\n",
    "\n",
    "# Fit the random search\n",
    "random_search.fit(train_X_scaled, train_Y)\n",
    "\n",
    "search_end = time()\n",
    "print(f\"\\n🕒 Randomized Search took: {search_end - search_start:.2f} seconds\")\n",
    "\n",
    "# Time the best model training\n",
    "best_mlp = random_search.best_estimator_\n",
    "train_start = time()\n",
    "best_mlp.fit(train_X_scaled, train_Y)\n",
    "train_end = time()\n",
    "print(f\"🧠 Training best model took: {train_end - train_start:.2f} seconds\")\n",
    "\n",
    "# Print best parameters\n",
    "print(\"\\n✅ Best Parameters:\", random_search.best_params_)\n",
    "print(f\"📈 Best CV Score: {random_search.best_score_:.4f}\")"
   ]
  },
  {
   "cell_type": "markdown",
   "id": "2eb1b17a",
   "metadata": {},
   "source": [
    "## Evaluation"
   ]
  },
  {
   "cell_type": "code",
   "execution_count": 46,
   "id": "2250a016",
   "metadata": {},
   "outputs": [
    {
     "name": "stdout",
     "output_type": "stream",
     "text": [
      "Train score: 0.6586187289507064\n",
      "Test score: 0.6368825034442039\n"
     ]
    }
   ],
   "source": [
    "# 8. Evaluate\n",
    "y_pred = best_mlp.predict(test_X_scaled)\n",
    "y_proba = best_mlp.predict_proba(test_X_scaled)[:, 1]  # For ROC/AUC\n",
    "\n",
    "print(\"Train score:\", best_mlp.score(train_X_scaled, train_Y))\n",
    "print(\"Test score:\", best_mlp.score(test_X_scaled, test_Y)) \n"
   ]
  },
  {
   "cell_type": "code",
   "execution_count": 43,
   "id": "4b391a1e",
   "metadata": {},
   "outputs": [
    {
     "name": "stdout",
     "output_type": "stream",
     "text": [
      "(15243,)\n",
      "(15243,)\n"
     ]
    }
   ],
   "source": [
    "print(test_Y.shape)\n",
    "print(y_pred.shape)\n"
   ]
  },
  {
   "cell_type": "code",
   "execution_count": 51,
   "id": "4d20ee72",
   "metadata": {},
   "outputs": [
    {
     "name": "stdout",
     "output_type": "stream",
     "text": [
      "Accuracy: 0.6368825034442039\n",
      "Precision: 0.5690936106983655\n",
      "Recall: 0.31916666666666665\n",
      "F1 Score: 0.40896956753870795\n",
      "ROC AUC: 0.6658305384254751\n",
      "Confusion Matrix:\n",
      " [[7793 1450]\n",
      " [4085 1915]]\n"
     ]
    }
   ],
   "source": [
    "\n",
    "from sklearn.metrics import accuracy_score, precision_score, recall_score, f1_score , confusion_matrix, roc_auc_score\n",
    "print(\"Accuracy:\", accuracy_score(test_Y, y_pred))\n",
    "print(\"Precision:\", precision_score(test_Y, y_pred))\n",
    "print(\"Recall:\", recall_score(test_Y, y_pred))\n",
    "print(\"F1 Score:\", f1_score(test_Y, y_pred))\n",
    "print(\"ROC AUC:\", roc_auc_score(test_Y, y_proba))\n",
    "print(\"Confusion Matrix:\\n\", confusion_matrix(test_Y, y_pred))"
   ]
  },
  {
   "cell_type": "code",
   "execution_count": 20,
   "id": "c65142f4",
   "metadata": {},
   "outputs": [],
   "source": [
    "from sklearn.metrics import confusion_matrix, classification_report, accuracy_score, ConfusionMatrixDisplay\n",
    "\n",
    "# Confidence score at the moment is its confidence in their prediction being correct\n",
    "# Currently at 1 because its overfitting and is hence over confident \n",
    "def eval_classification_performance(model, train_X, y_train, eval_X, y_eval):\n",
    "    \"\"\"\n",
    "    Evaluates a scikit-learn classification model on training and an evaluation dataset,\n",
    "    displays confusion matrices, prints a classification report, and shows average confidence.\n",
    "\n",
    "    Args:\n",
    "        model: Trained scikit-learn classification model.\n",
    "        train_X: Training features (pandas DataFrame).\n",
    "        y_train: Training target (pandas Series).\n",
    "        eval_X: Evaluation features (pandas DataFrame - typically validation or test).\n",
    "        y_eval: Evaluation target (pandas Series - typically validation or test).\n",
    "    \"\"\"\n",
    "    print(\"Evaluating model performance...\")\n",
    "\n",
    "    train_pred_labels = model.predict(train_X)\n",
    "\n",
    "    eval_pred_labels = model.predict(eval_X)\n",
    "\n",
    "    eval_pred_proba = model.predict_proba(eval_X)\n",
    "\n",
    "    eval_confidence_in_prediction = np.max(eval_pred_proba, axis=1)\n",
    "\n",
    "    train_acc = accuracy_score(y_train, train_pred_labels)\n",
    "    eval_acc = accuracy_score(y_eval, eval_pred_labels) \n",
    "\n",
    "    print(f\"Training Accuracy: {train_acc:.4f}\")\n",
    "    print(f\"Evaluation Accuracy: {eval_acc:.4f}\") \n",
    "\n",
    "    print(f\"Average Confidence in Predicted Class on Evaluation Set: {np.mean(eval_confidence_in_prediction):.4f}\")\n",
    "\n",
    "    fig, axes = plt.subplots(1, 2, figsize=(15, 6)) \n",
    "\n",
    "    ConfusionMatrixDisplay.from_predictions(y_train, train_pred_labels, normalize='true', ax=axes[0])\n",
    "    axes[0].set_title(f\"Training Set Performance: Accuracy={train_acc:.2f}\")\n",
    "    axes[0].set_xlabel(\"Predicted label\")\n",
    "    axes[0].set_ylabel(\"True label\")\n",
    "\n",
    "    ConfusionMatrixDisplay.from_predictions(y_eval, eval_pred_labels, normalize='true', ax=axes[1])\n",
    "    axes[1].set_title(f\"Evaluation Set Performance: Accuracy={eval_acc:.2f}\") \n",
    "    axes[1].set_xlabel(\"Predicted label\")\n",
    "    axes[1].set_ylabel(\"True label\")\n",
    "\n",
    "\n",
    "    plt.tight_layout()\n",
    "    plt.show()\n",
    "\n",
    "    print(\"\\nEvaluation Set Classification Report:\") \n",
    "    \n",
    "    print(classification_report(y_eval, eval_pred_labels))\n",
    "\n"
   ]
  },
  {
   "cell_type": "code",
   "execution_count": 45,
   "id": "83f77b30",
   "metadata": {},
   "outputs": [
    {
     "name": "stdout",
     "output_type": "stream",
     "text": [
      "Evaluating model performance...\n",
      "Training Accuracy: 0.6586\n",
      "Evaluation Accuracy: 0.6369\n",
      "Average Confidence in Predicted Class on Evaluation Set: 0.6621\n"
     ]
    },
    {
     "data": {
      "image/png": "[encoded data removed]",
      "text/plain": [
       "<Figure size 1500x600 with 4 Axes>"
      ]
     },
     "metadata": {},
     "output_type": "display_data"
    },
    {
     "name": "stdout",
     "output_type": "stream",
     "text": [
      "\n",
      "Evaluation Set Classification Report:\n",
      "              precision    recall  f1-score   support\n",
      "\n",
      "           0       0.66      0.84      0.74      9243\n",
      "           1       0.57      0.32      0.41      6000\n",
      "\n",
      "    accuracy                           0.64     15243\n",
      "   macro avg       0.61      0.58      0.57     15243\n",
      "weighted avg       0.62      0.64      0.61     15243\n",
      "\n"
     ]
    }
   ],
   "source": [
    "eval_classification_performance(best_mlp, train_X_scaled, train_Y, test_X_scaled, test_Y)"
   ]
  },
  {
   "cell_type": "code",
   "execution_count": 52,
   "id": "b178ef18",
   "metadata": {},
   "outputs": [
    {
     "data": {
      "image/png": "[encoded data removed]",
      "text/plain": [
       "<Figure size 600x400 with 1 Axes>"
      ]
     },
     "metadata": {},
     "output_type": "display_data"
    }
   ],
   "source": [
    "from sklearn.metrics import roc_curve\n",
    "import matplotlib.pyplot as plt\n",
    "\n",
    "fpr, tpr, thresholds = roc_curve(test_Y, y_proba)\n",
    "\n",
    "plt.figure(figsize=(6, 4))\n",
    "plt.plot(fpr, tpr, label=f\"ROC Curve (AUC = {roc_auc_score(test_Y, y_proba):.2f})\")\n",
    "plt.plot([0, 1], [0, 1], '--', color='gray')\n",
    "plt.xlabel(\"False Positive Rate\")\n",
    "plt.ylabel(\"True Positive Rate\")\n",
    "plt.title(\"ROC Curve\")\n",
    "plt.legend()\n",
    "plt.grid(True)\n",
    "plt.show()"
   ]
  },
  {
   "cell_type": "code",
   "execution_count": 58,
   "id": "af33bfa0",
   "metadata": {},
   "outputs": [],
   "source": [
    "X_test_enc = Encoded_test_X.copy()\n",
    "\n",
    "for col in X_test_enc.select_dtypes(['category']).columns:\n",
    "    X_test_enc[col] = X_test_enc[col].cat.set_categories(Encoded_train_X[col].cat.categories)\n",
    "    X_test_enc[col] = X_test_enc[col].cat.codes"
   ]
  },
  {
   "cell_type": "code",
   "execution_count": 1,
   "id": "5f4951bd",
   "metadata": {},
   "outputs": [
    {
     "name": "stderr",
     "output_type": "stream",
     "text": [
      "/home/theodc/git/CAPSTONE_T316/.venv/lib/python3.10/site-packages/tqdm/auto.py:21: TqdmWarning: IProgress not found. Please update jupyter and ipywidgets. See https://ipywidgets.readthedocs.io/en/stable/user_install.html\n",
      "  from .autonotebook import tqdm as notebook_tqdm\n"
     ]
    },
    {
     "ename": "NameError",
     "evalue": "name 'best_mlp' is not defined",
     "output_type": "error",
     "traceback": [
      "\u001b[0;31m---------------------------------------------------------------------------\u001b[0m",
      "\u001b[0;31mNameError\u001b[0m                                 Traceback (most recent call last)",
      "Cell \u001b[0;32mIn[1], line 3\u001b[0m\n\u001b[1;32m      1\u001b[0m \u001b[38;5;28;01mimport\u001b[39;00m\u001b[38;5;250m \u001b[39m\u001b[38;5;21;01mshap\u001b[39;00m\n\u001b[0;32m----> 3\u001b[0m explainer \u001b[38;5;241m=\u001b[39m shap\u001b[38;5;241m.\u001b[39mExplainer(\u001b[43mbest_mlp\u001b[49m\u001b[38;5;241m.\u001b[39mpredict, train_X_scaled)\n\u001b[1;32m      4\u001b[0m shap_values \u001b[38;5;241m=\u001b[39m explainer(X_test_enc)  \u001b[38;5;66;03m# Note the parentheses instead of .shap_values()\u001b[39;00m\n\u001b[1;32m      5\u001b[0m shap\u001b[38;5;241m.\u001b[39msummary_plot(shap_values, test_X_scaled)\n",
      "\u001b[0;31mNameError\u001b[0m: name 'best_mlp' is not defined"
     ]
    }
   ],
   "source": [
    "import shap\n",
    "\n",
    "explainer = shap.Explainer(best_mlp.predict, train_X_scaled)\n",
    "shap_values = explainer(X_test_enc)  # Note the parentheses instead of .shap_values()\n",
    "shap.summary_plot(shap_values, test_X_scaled)\n",
    "\n",
    "\n",
    "# Individual prediction explanation\n",
    "shap.plots.waterfall(shap_values[0])  # for the first sample\n",
    "\n",
    "# Visualize global feature importance\n",
    "shap.plots.beeswarm(shap_values)"
   ]
  }
 ],
 "metadata": {
  "kernelspec": {
   "display_name": ".venv",
   "language": "python",
   "name": "python3"
  },
  "language_info": {
   "codemirror_mode": {
    "name": "ipython",
    "version": 3
   },
   "file_extension": ".py",
   "mimetype": "text/x-python",
   "name": "python",
   "nbconvert_exporter": "python",
   "pygments_lexer": "ipython3",
   "version": "3.10.12"
  }
 },
 "nbformat": 4,
 "nbformat_minor": 5
}
