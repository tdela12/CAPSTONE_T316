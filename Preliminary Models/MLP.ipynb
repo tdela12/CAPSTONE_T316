{
 "cells": [
  {
   "cell_type": "markdown",
   "id": "4cc1092b",
   "metadata": {},
   "source": [
    "# Multi-Layer Perceptron Model Investigation\n"
   ]
  },
  {
   "cell_type": "code",
   "execution_count": 1,
   "id": "d1ce79fb",
   "metadata": {},
   "outputs": [],
   "source": [
    "# Import required modules\n",
    "\n",
    "import pandas as pd\n",
    "import sklearn\n",
    "from sklearn.neural_network import MLPClassifier\n",
    "from sklearn.model_selection import train_test_split\n",
    "from sklearn.preprocessing import StandardScaler\n",
    "\n",
    "import category_encoders as ce\n",
    "import matplotlib.pyplot as plt\n",
    "import seaborn as sns\n",
    "import numpy as np"
   ]
  },
  {
   "cell_type": "markdown",
   "id": "8e7e7968",
   "metadata": {},
   "source": [
    "## Pre-processing"
   ]
  },
  {
   "cell_type": "code",
   "execution_count": 2,
   "id": "5908531c",
   "metadata": {},
   "outputs": [
    {
     "name": "stderr",
     "output_type": "stream",
     "text": [
      "/tmp/ipykernel_2264/949920952.py:2: DtypeWarning: Columns (20) have mixed types. Specify dtype option on import or set low_memory=False.\n",
      "  df = pd.read_csv('data/data.csv', encoding = 'latin1')\n"
     ]
    },
    {
     "data": {
      "text/html": [
       "<div>\n",
       "<style scoped>\n",
       "    .dataframe tbody tr th:only-of-type {\n",
       "        vertical-align: middle;\n",
       "    }\n",
       "\n",
       "    .dataframe tbody tr th {\n",
       "        vertical-align: top;\n",
       "    }\n",
       "\n",
       "    .dataframe thead th {\n",
       "        text-align: right;\n",
       "    }\n",
       "</style>\n",
       "<table border=\"1\" class=\"dataframe\">\n",
       "  <thead>\n",
       "    <tr style=\"text-align: right;\">\n",
       "      <th></th>\n",
       "      <th>Quarter</th>\n",
       "      <th>CPI</th>\n",
       "    </tr>\n",
       "  </thead>\n",
       "  <tbody>\n",
       "    <tr>\n",
       "      <th>0</th>\n",
       "      <td>2021Q1</td>\n",
       "      <td>117.9</td>\n",
       "    </tr>\n",
       "    <tr>\n",
       "      <th>1</th>\n",
       "      <td>2021Q2</td>\n",
       "      <td>118.8</td>\n",
       "    </tr>\n",
       "    <tr>\n",
       "      <th>2</th>\n",
       "      <td>2021Q3</td>\n",
       "      <td>119.7</td>\n",
       "    </tr>\n",
       "    <tr>\n",
       "      <th>3</th>\n",
       "      <td>2021Q4</td>\n",
       "      <td>121.3</td>\n",
       "    </tr>\n",
       "    <tr>\n",
       "      <th>4</th>\n",
       "      <td>2022Q1</td>\n",
       "      <td>123.9</td>\n",
       "    </tr>\n",
       "  </tbody>\n",
       "</table>\n",
       "</div>"
      ],
      "text/plain": [
       "  Quarter    CPI\n",
       "0  2021Q1  117.9\n",
       "1  2021Q2  118.8\n",
       "2  2021Q3  119.7\n",
       "3  2021Q4  121.3\n",
       "4  2022Q1  123.9"
      ]
     },
     "execution_count": 2,
     "metadata": {},
     "output_type": "execute_result"
    }
   ],
   "source": [
    "# Read in Data\n",
    "df = pd.read_csv('data/data.csv', encoding = 'latin1')\n",
    "cpi = pd.read_csv('data/cpi.csv')\n",
    "df.head()\n",
    "cpi.head()"
   ]
  },
  {
   "cell_type": "code",
   "execution_count": 3,
   "id": "f8689acc",
   "metadata": {},
   "outputs": [],
   "source": [
    "df = df.drop_duplicates(subset=[col for col in df.columns if col not in ['BookingID', 'BCreatedDateAEST', 'BStatusFinal', 'BTicketID' ]])"
   ]
  },
  {
   "cell_type": "code",
   "execution_count": 4,
   "id": "47b1969b",
   "metadata": {},
   "outputs": [],
   "source": [
    "# Assign priority: 'completed' gets highest priority (lowest number)\n",
    "\n",
    "df['status_priority'] = df['BStatusAfterSubmitted'].apply(lambda x: 0 if x == '33. Approved' else 1)\n",
    "\n",
    "# Define the columns used to detect duplicates (all except 'status' and 'status_priority')\n",
    "dedup_cols = [col for col in df.columns if col not in ['BStatusAfterSubmitted', 'BStatusFromDateTimeAEST', 'status_priority']]\n",
    "\n",
    "# Sort so that 'completed' comes last within each group of duplicate rows\n",
    "df_sorted = df.sort_values(by=dedup_cols + ['status_priority'])\n",
    "\n",
    "# Drop duplicates based on all columns except status, keeping the preferred row (last)\n",
    "df_deduped = df_sorted.drop_duplicates(subset=dedup_cols, keep='last')\n",
    "\n",
    "# Drop the helper column\n",
    "df_deduped = df_deduped.drop(columns='status_priority')\n",
    "\n",
    "df = df_deduped\n",
    "#df_deduped.shape[0]\n",
    "\n"
   ]
  },
  {
   "cell_type": "markdown",
   "id": "f2fc8aeb",
   "metadata": {},
   "source": [
    "### Feature Selection"
   ]
  },
  {
   "cell_type": "code",
   "execution_count": 18,
   "id": "8cee9c99",
   "metadata": {},
   "outputs": [],
   "source": [
    "# Price adjustment for inflation\n",
    "df['BCreatedDateAEST'] = pd.to_datetime(df['BCreatedDateAEST'],  dayfirst=False);\n",
    "df['Quarter'] = df['BCreatedDateAEST'].dt.quarter;\n",
    "cpi['Quarter'] = cpi['Quarter'].dt.to_timestamp().dt.quarter;\n",
    "base_cpi = cpi['CPI'].iloc[-1]"
   ]
  },
  {
   "cell_type": "code",
   "execution_count": 19,
   "id": "1d5fc1b9",
   "metadata": {},
   "outputs": [
    {
     "ename": "",
     "evalue": "",
     "output_type": "error",
     "traceback": [
      "\u001b[1;31mThe Kernel crashed while executing code in the current cell or a previous cell. \n",
      "\u001b[1;31mPlease review the code in the cell(s) to identify a possible cause of the failure. \n",
      "\u001b[1;31mClick <a href='https://aka.ms/vscodeJupyterKernelCrash'>here</a> for more info. \n",
      "\u001b[1;31mView Jupyter <a href='command:jupyter.viewOutput'>log</a> for further details."
     ]
    }
   ],
   "source": [
    "# Create a column for the adjusted price \n",
    "df = df.merge(cpi, on='Quarter');\n",
    "df['Quarter'] = df['BCreatedDateAEST'].dt.quarter;\n",
    "\n",
    "#Round to two decimal places to remain consistent with the existing data\n",
    "df['adjusted_price'] = round(df['PriceIncGSTRaw'] * (base_cpi / df['CPI']), 2)"
   ]
  },
  {
   "cell_type": "code",
   "execution_count": 7,
   "id": "4cc9054e",
   "metadata": {},
   "outputs": [
    {
     "data": {
      "text/html": [
       "<div>\n",
       "<style scoped>\n",
       "    .dataframe tbody tr th:only-of-type {\n",
       "        vertical-align: middle;\n",
       "    }\n",
       "\n",
       "    .dataframe tbody tr th {\n",
       "        vertical-align: top;\n",
       "    }\n",
       "\n",
       "    .dataframe thead th {\n",
       "        text-align: right;\n",
       "    }\n",
       "</style>\n",
       "<table border=\"1\" class=\"dataframe\">\n",
       "  <thead>\n",
       "    <tr style=\"text-align: right;\">\n",
       "      <th></th>\n",
       "      <th>FCID</th>\n",
       "      <th>BookingID</th>\n",
       "      <th>BCreatedDateAEST</th>\n",
       "      <th>BStatusAfterSubmitted</th>\n",
       "      <th>BStatusFromDateTimeAEST</th>\n",
       "      <th>BStatusFinal</th>\n",
       "      <th>BTicketID</th>\n",
       "      <th>BTicketType</th>\n",
       "      <th>TaskName</th>\n",
       "      <th>IsCustomService</th>\n",
       "      <th>IsCustomRepair</th>\n",
       "      <th>IsDeleted</th>\n",
       "      <th>PriceIncGSTRaw</th>\n",
       "      <th>VYMM</th>\n",
       "      <th>VMakeModel</th>\n",
       "      <th>VMake</th>\n",
       "      <th>VYear</th>\n",
       "      <th>VMid</th>\n",
       "      <th>VRego</th>\n",
       "      <th>BShopID</th>\n",
       "      <th>BShopPostcode</th>\n",
       "      <th>BShopState</th>\n",
       "      <th>BShopRegionName</th>\n",
       "      <th>BShopRegionClass</th>\n",
       "      <th>Quarter</th>\n",
       "      <th>CPI</th>\n",
       "      <th>adjusted_price</th>\n",
       "    </tr>\n",
       "  </thead>\n",
       "  <tbody>\n",
       "    <tr>\n",
       "      <th>0</th>\n",
       "      <td>1</td>\n",
       "      <td>392968</td>\n",
       "      <td>2021-01-03</td>\n",
       "      <td>33. Approved</td>\n",
       "      <td>2021-01-03 14:14:33</td>\n",
       "      <td>64. Completed</td>\n",
       "      <td>600825</td>\n",
       "      <td>Log</td>\n",
       "      <td>Logbook Service - 75,000 km / 60 months</td>\n",
       "      <td>0</td>\n",
       "      <td>0</td>\n",
       "      <td>False</td>\n",
       "      <td>858.37</td>\n",
       "      <td>2015 HYUNDAI I30</td>\n",
       "      <td>HYUNDAI I30</td>\n",
       "      <td>HYUNDAI</td>\n",
       "      <td>2015.0</td>\n",
       "      <td>HYU39370</td>\n",
       "      <td>DCZ03G</td>\n",
       "      <td>14351</td>\n",
       "      <td>2019</td>\n",
       "      <td>NSW</td>\n",
       "      <td>Sydney</td>\n",
       "      <td>1.0</td>\n",
       "      <td>1</td>\n",
       "      <td>117.9</td>\n",
       "      <td>1014.90</td>\n",
       "    </tr>\n",
       "    <tr>\n",
       "      <th>1</th>\n",
       "      <td>1</td>\n",
       "      <td>393040</td>\n",
       "      <td>2021-01-04</td>\n",
       "      <td>33. Approved</td>\n",
       "      <td>2021-01-04 08:50:45</td>\n",
       "      <td>64. Completed</td>\n",
       "      <td>600971</td>\n",
       "      <td>Tyres</td>\n",
       "      <td>((Tyres))</td>\n",
       "      <td>0</td>\n",
       "      <td>0</td>\n",
       "      <td>False</td>\n",
       "      <td>82.50</td>\n",
       "      <td>2016 KIA SPORTAGE</td>\n",
       "      <td>KIA SPORTAGE</td>\n",
       "      <td>KIA</td>\n",
       "      <td>2016.0</td>\n",
       "      <td>KIA39610</td>\n",
       "      <td>DHJ24P</td>\n",
       "      <td>17969</td>\n",
       "      <td>2232</td>\n",
       "      <td>NSW</td>\n",
       "      <td>Sydney</td>\n",
       "      <td>1.0</td>\n",
       "      <td>1</td>\n",
       "      <td>117.9</td>\n",
       "      <td>97.54</td>\n",
       "    </tr>\n",
       "    <tr>\n",
       "      <th>2</th>\n",
       "      <td>1</td>\n",
       "      <td>393045</td>\n",
       "      <td>2021-01-04</td>\n",
       "      <td>33. Approved</td>\n",
       "      <td>2021-01-22 14:30:26</td>\n",
       "      <td>64. Completed</td>\n",
       "      <td>600977</td>\n",
       "      <td>Capped</td>\n",
       "      <td>Capped Price Service - 90,000 km</td>\n",
       "      <td>0</td>\n",
       "      <td>0</td>\n",
       "      <td>False</td>\n",
       "      <td>931.00</td>\n",
       "      <td>2018 MITSUBISHI TRITON</td>\n",
       "      <td>MITSUBISHI TRITON</td>\n",
       "      <td>MITSUBISHI</td>\n",
       "      <td>2018.0</td>\n",
       "      <td>MIT38449</td>\n",
       "      <td>DVA72S</td>\n",
       "      <td>16569</td>\n",
       "      <td>2606</td>\n",
       "      <td>ACT</td>\n",
       "      <td>Canberra</td>\n",
       "      <td>2.0</td>\n",
       "      <td>1</td>\n",
       "      <td>117.9</td>\n",
       "      <td>1100.78</td>\n",
       "    </tr>\n",
       "    <tr>\n",
       "      <th>3</th>\n",
       "      <td>1</td>\n",
       "      <td>393045</td>\n",
       "      <td>2021-01-04</td>\n",
       "      <td>33. Approved</td>\n",
       "      <td>2021-01-22 14:30:26</td>\n",
       "      <td>64. Completed</td>\n",
       "      <td>601272</td>\n",
       "      <td>Repair</td>\n",
       "      <td>Custom Repair</td>\n",
       "      <td>0</td>\n",
       "      <td>1</td>\n",
       "      <td>False</td>\n",
       "      <td>61.29</td>\n",
       "      <td>2018 MITSUBISHI TRITON</td>\n",
       "      <td>MITSUBISHI TRITON</td>\n",
       "      <td>MITSUBISHI</td>\n",
       "      <td>2018.0</td>\n",
       "      <td>MIT38449</td>\n",
       "      <td>DVA72S</td>\n",
       "      <td>16569</td>\n",
       "      <td>2606</td>\n",
       "      <td>ACT</td>\n",
       "      <td>Canberra</td>\n",
       "      <td>2.0</td>\n",
       "      <td>1</td>\n",
       "      <td>117.9</td>\n",
       "      <td>72.47</td>\n",
       "    </tr>\n",
       "    <tr>\n",
       "      <th>4</th>\n",
       "      <td>1</td>\n",
       "      <td>393045</td>\n",
       "      <td>2021-01-04</td>\n",
       "      <td>33. Approved</td>\n",
       "      <td>2021-01-22 14:30:26</td>\n",
       "      <td>64. Completed</td>\n",
       "      <td>601273</td>\n",
       "      <td>Repair</td>\n",
       "      <td>Rocker/Valve Cover Gasket Replacement</td>\n",
       "      <td>0</td>\n",
       "      <td>0</td>\n",
       "      <td>False</td>\n",
       "      <td>440.00</td>\n",
       "      <td>2018 MITSUBISHI TRITON</td>\n",
       "      <td>MITSUBISHI TRITON</td>\n",
       "      <td>MITSUBISHI</td>\n",
       "      <td>2018.0</td>\n",
       "      <td>MIT38449</td>\n",
       "      <td>DVA72S</td>\n",
       "      <td>16569</td>\n",
       "      <td>2606</td>\n",
       "      <td>ACT</td>\n",
       "      <td>Canberra</td>\n",
       "      <td>2.0</td>\n",
       "      <td>1</td>\n",
       "      <td>117.9</td>\n",
       "      <td>520.24</td>\n",
       "    </tr>\n",
       "  </tbody>\n",
       "</table>\n",
       "</div>"
      ],
      "text/plain": [
       "   FCID  BookingID BCreatedDateAEST BStatusAfterSubmitted  \\\n",
       "0     1     392968       2021-01-03          33. Approved   \n",
       "1     1     393040       2021-01-04          33. Approved   \n",
       "2     1     393045       2021-01-04          33. Approved   \n",
       "3     1     393045       2021-01-04          33. Approved   \n",
       "4     1     393045       2021-01-04          33. Approved   \n",
       "\n",
       "  BStatusFromDateTimeAEST   BStatusFinal  BTicketID BTicketType  \\\n",
       "0     2021-01-03 14:14:33  64. Completed     600825         Log   \n",
       "1     2021-01-04 08:50:45  64. Completed     600971       Tyres   \n",
       "2     2021-01-22 14:30:26  64. Completed     600977      Capped   \n",
       "3     2021-01-22 14:30:26  64. Completed     601272      Repair   \n",
       "4     2021-01-22 14:30:26  64. Completed     601273      Repair   \n",
       "\n",
       "                                  TaskName  IsCustomService  IsCustomRepair  \\\n",
       "0  Logbook Service - 75,000 km / 60 months                0               0   \n",
       "1                                ((Tyres))                0               0   \n",
       "2         Capped Price Service - 90,000 km                0               0   \n",
       "3                            Custom Repair                0               1   \n",
       "4    Rocker/Valve Cover Gasket Replacement                0               0   \n",
       "\n",
       "   IsDeleted  PriceIncGSTRaw                    VYMM         VMakeModel  \\\n",
       "0      False          858.37        2015 HYUNDAI I30        HYUNDAI I30   \n",
       "1      False           82.50       2016 KIA SPORTAGE       KIA SPORTAGE   \n",
       "2      False          931.00  2018 MITSUBISHI TRITON  MITSUBISHI TRITON   \n",
       "3      False           61.29  2018 MITSUBISHI TRITON  MITSUBISHI TRITON   \n",
       "4      False          440.00  2018 MITSUBISHI TRITON  MITSUBISHI TRITON   \n",
       "\n",
       "        VMake   VYear      VMid   VRego  BShopID BShopPostcode BShopState  \\\n",
       "0     HYUNDAI  2015.0  HYU39370  DCZ03G    14351          2019        NSW   \n",
       "1         KIA  2016.0  KIA39610  DHJ24P    17969          2232        NSW   \n",
       "2  MITSUBISHI  2018.0  MIT38449  DVA72S    16569          2606        ACT   \n",
       "3  MITSUBISHI  2018.0  MIT38449  DVA72S    16569          2606        ACT   \n",
       "4  MITSUBISHI  2018.0  MIT38449  DVA72S    16569          2606        ACT   \n",
       "\n",
       "  BShopRegionName  BShopRegionClass  Quarter    CPI  adjusted_price  \n",
       "0          Sydney               1.0        1  117.9         1014.90  \n",
       "1          Sydney               1.0        1  117.9           97.54  \n",
       "2        Canberra               2.0        1  117.9         1100.78  \n",
       "3        Canberra               2.0        1  117.9           72.47  \n",
       "4        Canberra               2.0        1  117.9          520.24  "
      ]
     },
     "execution_count": 7,
     "metadata": {},
     "output_type": "execute_result"
    }
   ],
   "source": [
    "# Display merged dataset\n",
    "pd.set_option('display.max_columns', None)\n",
    "\n",
    "df.head()"
   ]
  },
  {
   "cell_type": "code",
   "execution_count": 8,
   "id": "e825f6fa",
   "metadata": {},
   "outputs": [
    {
     "data": {
      "text/html": [
       "<div>\n",
       "<style scoped>\n",
       "    .dataframe tbody tr th:only-of-type {\n",
       "        vertical-align: middle;\n",
       "    }\n",
       "\n",
       "    .dataframe tbody tr th {\n",
       "        vertical-align: top;\n",
       "    }\n",
       "\n",
       "    .dataframe thead th {\n",
       "        text-align: right;\n",
       "    }\n",
       "</style>\n",
       "<table border=\"1\" class=\"dataframe\">\n",
       "  <thead>\n",
       "    <tr style=\"text-align: right;\">\n",
       "      <th></th>\n",
       "      <th>BStatusAfterSubmitted</th>\n",
       "      <th>VMake</th>\n",
       "      <th>VMakeModel</th>\n",
       "      <th>VYear</th>\n",
       "      <th>adjusted_price</th>\n",
       "      <th>TaskName</th>\n",
       "      <th>BShopRegionName</th>\n",
       "      <th>Label</th>\n",
       "    </tr>\n",
       "  </thead>\n",
       "  <tbody>\n",
       "    <tr>\n",
       "      <th>0</th>\n",
       "      <td>33. Approved</td>\n",
       "      <td>HYUNDAI</td>\n",
       "      <td>HYUNDAI I30</td>\n",
       "      <td>2015.0</td>\n",
       "      <td>1014.90</td>\n",
       "      <td>Logbook Service - 75,000 km / 60 months</td>\n",
       "      <td>Sydney</td>\n",
       "      <td>1</td>\n",
       "    </tr>\n",
       "    <tr>\n",
       "      <th>1</th>\n",
       "      <td>33. Approved</td>\n",
       "      <td>KIA</td>\n",
       "      <td>KIA SPORTAGE</td>\n",
       "      <td>2016.0</td>\n",
       "      <td>97.54</td>\n",
       "      <td>((Tyres))</td>\n",
       "      <td>Sydney</td>\n",
       "      <td>1</td>\n",
       "    </tr>\n",
       "    <tr>\n",
       "      <th>2</th>\n",
       "      <td>33. Approved</td>\n",
       "      <td>MITSUBISHI</td>\n",
       "      <td>MITSUBISHI TRITON</td>\n",
       "      <td>2018.0</td>\n",
       "      <td>1100.78</td>\n",
       "      <td>Capped Price Service - 90,000 km</td>\n",
       "      <td>Canberra</td>\n",
       "      <td>1</td>\n",
       "    </tr>\n",
       "    <tr>\n",
       "      <th>3</th>\n",
       "      <td>33. Approved</td>\n",
       "      <td>MITSUBISHI</td>\n",
       "      <td>MITSUBISHI TRITON</td>\n",
       "      <td>2018.0</td>\n",
       "      <td>72.47</td>\n",
       "      <td>Custom Repair</td>\n",
       "      <td>Canberra</td>\n",
       "      <td>1</td>\n",
       "    </tr>\n",
       "    <tr>\n",
       "      <th>4</th>\n",
       "      <td>33. Approved</td>\n",
       "      <td>MITSUBISHI</td>\n",
       "      <td>MITSUBISHI TRITON</td>\n",
       "      <td>2018.0</td>\n",
       "      <td>520.24</td>\n",
       "      <td>Rocker/Valve Cover Gasket Replacement</td>\n",
       "      <td>Canberra</td>\n",
       "      <td>1</td>\n",
       "    </tr>\n",
       "  </tbody>\n",
       "</table>\n",
       "</div>"
      ],
      "text/plain": [
       "  BStatusAfterSubmitted       VMake         VMakeModel   VYear  \\\n",
       "0          33. Approved     HYUNDAI        HYUNDAI I30  2015.0   \n",
       "1          33. Approved         KIA       KIA SPORTAGE  2016.0   \n",
       "2          33. Approved  MITSUBISHI  MITSUBISHI TRITON  2018.0   \n",
       "3          33. Approved  MITSUBISHI  MITSUBISHI TRITON  2018.0   \n",
       "4          33. Approved  MITSUBISHI  MITSUBISHI TRITON  2018.0   \n",
       "\n",
       "   adjusted_price                                 TaskName BShopRegionName  \\\n",
       "0         1014.90  Logbook Service - 75,000 km / 60 months          Sydney   \n",
       "1           97.54                                ((Tyres))          Sydney   \n",
       "2         1100.78         Capped Price Service - 90,000 km        Canberra   \n",
       "3           72.47                            Custom Repair        Canberra   \n",
       "4          520.24    Rocker/Valve Cover Gasket Replacement        Canberra   \n",
       "\n",
       "   Label  \n",
       "0      1  \n",
       "1      1  \n",
       "2      1  \n",
       "3      1  \n",
       "4      1  "
      ]
     },
     "execution_count": 8,
     "metadata": {},
     "output_type": "execute_result"
    }
   ],
   "source": [
    "\n",
    "columns_to_keep = ['BStatusAfterSubmitted', 'VMake', 'VMakeModel', 'VYear', 'adjusted_price', 'TaskName', 'BShopRegionName']\n",
    "df = df[columns_to_keep]\n",
    "df['Label'] = df['BStatusAfterSubmitted'].map({'33. Approved': 1, '16. Requires Changes': 0, '29. Rejected': 0})\n",
    "df_filtered = df.drop('BStatusAfterSubmitted', axis=1)\n",
    "df.head()"
   ]
  },
  {
   "cell_type": "markdown",
   "id": "7268b112",
   "metadata": {},
   "source": [
    "### Data Splitting\n"
   ]
  },
  {
   "cell_type": "code",
   "execution_count": null,
   "id": "c857f805",
   "metadata": {},
   "outputs": [
    {
     "name": "stdout",
     "output_type": "stream",
     "text": [
      "Index(['BStatusAfterSubmitted', 'VMake', 'VMakeModel', 'VYear',\n",
      "       'adjusted_price', 'TaskName', 'BShopRegionName'],\n",
      "      dtype='object')\n",
      "Index(['BStatusAfterSubmitted', 'VMake', 'VMakeModel', 'VYear',\n",
      "       'adjusted_price', 'TaskName', 'BShopRegionName'],\n",
      "      dtype='object')\n"
     ]
    },
    {
     "ename": "",
     "evalue": "",
     "output_type": "error",
     "traceback": [
      "\u001b[1;31mThe Kernel crashed while executing code in the current cell or a previous cell. \n",
      "\u001b[1;31mPlease review the code in the cell(s) to identify a possible cause of the failure. \n",
      "\u001b[1;31mClick <a href='https://aka.ms/vscodeJupyterKernelCrash'>here</a> for more info. \n",
      "\u001b[1;31mView Jupyter <a href='command:jupyter.viewOutput'>log</a> for further details."
     ]
    }
   ],
   "source": [
    "\n",
    "# Separate features and target\n",
    "X = df.drop('Label', axis=1)\n",
    "y = df['Label']\n",
    "\n",
    "# First split into train and temp (temp will be split into val and test)\n",
    "train_X, test_X, train_Y, test_Y = train_test_split(\n",
    "    X, y, test_size=0.2, random_state=42, stratify=y\n",
    ")\n",
    "\n",
    "print(train_X.columns)\n",
    "print(test_X.columns)"
   ]
  },
  {
   "cell_type": "code",
   "execution_count": null,
   "id": "bc9cef38",
   "metadata": {},
   "outputs": [],
   "source": [
    "#Binary Encodes Task name, VYMM, VMake and Shop region name\n",
    "binary_encoder = ce.BinaryEncoder(cols=['VMake', 'VYear', 'VMakeModel', 'TaskName', 'BShopRegionName'])\n",
    "Encoded_train_X = binary_encoder.fit_transform(train_X)\n",
    "Encoded_test_X = binary_encoder.transform(test_X)\n",
    "print(\"After Binary Encoding (train_X columns):\", Encoded_train_X.columns)\n",
    "\n",
    "#Encoded_train_X.head()\n",
    "#Encoded_val_X.head()\n",
    "#Encoded_test_X.head()\n",
    "\n",
    "#When data is split, ensure that fit is ONLY applied to the train dataset, then proceed to transform both train and test."
   ]
  },
  {
   "cell_type": "code",
   "execution_count": null,
   "id": "6117e051",
   "metadata": {},
   "outputs": [],
   "source": [
    "# STEP 1: Work with pandas DataFrames for encoding\n",
    "X_train_enc = Encoded_train_X.copy()\n",
    "X_test_enc = Encoded_test_X.copy()\n",
    "\n",
    "# Example: convert category columns to codes\n",
    "for col in X_train_enc.select_dtypes(['category']).columns:\n",
    "    X_test_enc[col] = X_test_enc[col].astype('category')\n",
    "    X_test_enc[col] = X_test_enc[col].cat.set_categories(X_train_enc[col].cat.categories)\n",
    "    X_train_enc[col] = X_train_enc[col].cat.codes\n",
    "    X_test_enc[col] = X_test_enc[col].cat.codes"
   ]
  },
  {
   "cell_type": "markdown",
   "id": "45ee0996",
   "metadata": {},
   "source": [
    "### Scaling"
   ]
  },
  {
   "cell_type": "code",
   "execution_count": null,
   "id": "0f324cb7",
   "metadata": {},
   "outputs": [
    {
     "ename": "",
     "evalue": "",
     "output_type": "error",
     "traceback": [
      "\u001b[1;31mThe Kernel crashed while executing code in the current cell or a previous cell. \n",
      "\u001b[1;31mPlease review the code in the cell(s) to identify a possible cause of the failure. \n",
      "\u001b[1;31mClick <a href='https://aka.ms/vscodeJupyterKernelCrash'>here</a> for more info. \n",
      "\u001b[1;31mView Jupyter <a href='command:jupyter.viewOutput'>log</a> for further details."
     ]
    }
   ],
   "source": [
    "# Initialize the scaler\n",
    "scaler = StandardScaler()\n",
    "\n",
    "# Batch-wise partial fitting\n",
    "batch_size = 1000\n",
    "num_rows = Encoded_train_X.shape[0]\n",
    "\n",
    "for i in range(0, num_rows, batch_size):\n",
    "    batch = Encoded_train_X[i:i+batch_size]\n",
    "    scaler.partial_fit(batch)\n",
    "\n",
    "# Now use the fitted scaler to transform in batches\n",
    "train_X_scaled = np.empty_like(Encoded_train_X)\n",
    "\n",
    "for i in range(0, num_rows, batch_size):\n",
    "    batch = Encoded_train_X[i:i+batch_size]\n",
    "    train_X_scaled[i:i+batch_size] = scaler.transform(batch)\n"
   ]
  },
  {
   "cell_type": "markdown",
   "id": "4a092903",
   "metadata": {},
   "source": [
    "## Training the Model"
   ]
  },
  {
   "cell_type": "code",
   "execution_count": null,
   "id": "7f007e1e",
   "metadata": {},
   "outputs": [
    {
     "name": "stdout",
     "output_type": "stream",
     "text": [
      "Fitting 2 folds for each of 3 candidates, totalling 6 fits\n",
      "[CV] END activation=tanh, alpha=0.008065429868602328, batch_size=30, hidden_layer_sizes=(100, 50), learning_rate=adaptive, learning_rate_init=0.006086584841970367, solver=adam; total time= 7.5min\n",
      "[CV] END activation=tanh, alpha=0.008065429868602328, batch_size=30, hidden_layer_sizes=(100, 50), learning_rate=adaptive, learning_rate_init=0.006086584841970367, solver=adam; total time= 8.7min\n",
      "[CV] END activation=relu, alpha=0.006608884729488529, batch_size=68, hidden_layer_sizes=(100,), learning_rate=adaptive, learning_rate_init=0.008424426408004218, solver=sgd; total time=10.2min\n",
      "[CV] END activation=relu, alpha=0.006608884729488529, batch_size=68, hidden_layer_sizes=(100,), learning_rate=adaptive, learning_rate_init=0.008424426408004218, solver=sgd; total time=10.3min\n"
     ]
    },
    {
     "name": "stderr",
     "output_type": "stream",
     "text": [
      "/home/theodc/git/CAPSTONE_T316/.venv/lib/python3.10/site-packages/sklearn/neural_network/_multilayer_perceptron.py:691: ConvergenceWarning: Stochastic Optimizer: Maximum iterations (300) reached and the optimization hasn't converged yet.\n",
      "  warnings.warn(\n"
     ]
    },
    {
     "name": "stdout",
     "output_type": "stream",
     "text": [
      "[CV] END activation=relu, alpha=0.0016599452033620266, batch_size=90, hidden_layer_sizes=(100, 50), learning_rate=adaptive, learning_rate_init=0.0034370861113902185, solver=sgd; total time=11.5min\n"
     ]
    },
    {
     "name": "stderr",
     "output_type": "stream",
     "text": [
      "/home/theodc/git/CAPSTONE_T316/.venv/lib/python3.10/site-packages/sklearn/neural_network/_multilayer_perceptron.py:691: ConvergenceWarning: Stochastic Optimizer: Maximum iterations (300) reached and the optimization hasn't converged yet.\n",
      "  warnings.warn(\n"
     ]
    },
    {
     "name": "stdout",
     "output_type": "stream",
     "text": [
      "[CV] END activation=relu, alpha=0.0016599452033620266, batch_size=90, hidden_layer_sizes=(100, 50), learning_rate=adaptive, learning_rate_init=0.0034370861113902185, solver=sgd; total time=11.6min\n",
      "\n",
      "🕒 Randomized Search took: 851.90 seconds\n",
      "🧠 Training best model took: 207.70 seconds\n",
      "\n",
      "✅ Best Parameters: {'activation': 'tanh', 'alpha': np.float64(0.008065429868602328), 'batch_size': 30, 'hidden_layer_sizes': (100, 50), 'learning_rate': 'adaptive', 'learning_rate_init': np.float64(0.006086584841970367), 'solver': 'adam'}\n",
      "📈 Best CV Score: 0.6301\n"
     ]
    }
   ],
   "source": [
    "from sklearn.model_selection import RandomizedSearchCV\n",
    "from sklearn.neural_network import MLPClassifier\n",
    "from scipy.stats import uniform, randint\n",
    "from time import time\n",
    "\n",
    "# Define the model\n",
    "mlp = MLPClassifier(max_iter=300, random_state=42)\n",
    "\n",
    "# Define hyperparameter search space\n",
    "params = {\n",
    "    'hidden_layer_sizes': [(50,), (100,), (100, 50), (50, 100), (100, 100)],\n",
    "    'activation': ['tanh', 'relu'],\n",
    "    'solver': ['adam', 'sgd'],\n",
    "    'alpha': uniform(0.0001, 0.01),\n",
    "    'learning_rate': ['constant', 'adaptive'],\n",
    "    'learning_rate_init': uniform(0.0001, 0.01),\n",
    "    'batch_size': randint(16, 128),\n",
    "}\n",
    "\n",
    "# Time the random search\n",
    "search_start = time()\n",
    "\n",
    "random_search = RandomizedSearchCV(\n",
    "    mlp,\n",
    "    param_distributions=params,\n",
    "    n_iter=3,\n",
    "    scoring='accuracy',\n",
    "    cv=2,\n",
    "    verbose=2,\n",
    "    random_state=42,\n",
    "    n_jobs=-1,\n",
    "    return_train_score=True\n",
    ")\n",
    "\n",
    "# Fit the random search\n",
    "random_search.fit(train_X_scaled, train_Y)\n",
    "\n",
    "search_end = time()\n",
    "print(f\"\\n🕒 Randomized Search took: {search_end - search_start:.2f} seconds\")\n",
    "\n",
    "# Time the best model training\n",
    "best_mlp = random_search.best_estimator_\n",
    "train_start = time()\n",
    "best_mlp.fit(train_X_scaled, train_Y)\n",
    "train_end = time()\n",
    "print(f\"🧠 Training best model took: {train_end - train_start:.2f} seconds\")\n",
    "\n",
    "# Print best parameters\n",
    "print(\"\\n✅ Best Parameters:\", random_search.best_params_)\n",
    "print(f\"📈 Best CV Score: {random_search.best_score_:.4f}\")"
   ]
  },
  {
   "cell_type": "markdown",
   "id": "2eb1b17a",
   "metadata": {},
   "source": [
    "## Evaluation"
   ]
  },
  {
   "cell_type": "code",
   "execution_count": null,
   "id": "2250a016",
   "metadata": {},
   "outputs": [
    {
     "name": "stdout",
     "output_type": "stream",
     "text": [
      "Train score: 0.6338625727157416\n",
      "Test score: 0.6238929344617201\n"
     ]
    }
   ],
   "source": [
    "# 8. Evaluate\n",
    "y_pred = best_mlp.predict(test_X_scaled)\n",
    "y_proba = best_mlp.predict_proba(test_X_scaled)[:, 1]  # For ROC/AUC\n",
    "\n",
    "print(\"Train score:\", best_mlp.score(train_X_scaled, train_Y))\n",
    "print(\"Test score:\", best_mlp.score(test_X_scaled, test_Y)) \n"
   ]
  },
  {
   "cell_type": "code",
   "execution_count": null,
   "id": "4b391a1e",
   "metadata": {},
   "outputs": [
    {
     "name": "stdout",
     "output_type": "stream",
     "text": [
      "(15243,)\n",
      "(15243,)\n"
     ]
    }
   ],
   "source": [
    "print(test_Y.shape)\n",
    "print(y_pred.shape)\n"
   ]
  },
  {
   "cell_type": "code",
   "execution_count": null,
   "id": "4d20ee72",
   "metadata": {},
   "outputs": [
    {
     "name": "stdout",
     "output_type": "stream",
     "text": [
      "Accuracy: 0.6238929344617201\n",
      "Precision: 0.5376162299239222\n",
      "Recall: 0.318\n",
      "F1 Score: 0.3996229971724788\n",
      "ROC AUC: 0.6422786793609578\n",
      "Confusion Matrix:\n",
      " [[7602 1641]\n",
      " [4092 1908]]\n"
     ]
    }
   ],
   "source": [
    "\n",
    "from sklearn.metrics import accuracy_score, precision_score, recall_score, f1_score , confusion_matrix, roc_auc_score\n",
    "print(\"Accuracy:\", accuracy_score(test_Y, y_pred))\n",
    "print(\"Precision:\", precision_score(test_Y, y_pred))\n",
    "print(\"Recall:\", recall_score(test_Y, y_pred))\n",
    "print(\"F1 Score:\", f1_score(test_Y, y_pred))\n",
    "print(\"ROC AUC:\", roc_auc_score(test_Y, y_proba))\n",
    "print(\"Confusion Matrix:\\n\", confusion_matrix(test_Y, y_pred))"
   ]
  },
  {
   "cell_type": "code",
   "execution_count": null,
   "id": "c65142f4",
   "metadata": {},
   "outputs": [],
   "source": [
    "from sklearn.metrics import confusion_matrix, classification_report, accuracy_score, ConfusionMatrixDisplay\n",
    "\n",
    "# Confidence score at the moment is its confidence in their prediction being correct\n",
    "# Currently at 1 because its overfitting and is hence over confident \n",
    "def eval_classification_performance(model, train_X, y_train, eval_X, y_eval):\n",
    "    \"\"\"\n",
    "    Evaluates a scikit-learn classification model on training and an evaluation dataset,\n",
    "    displays confusion matrices, prints a classification report, and shows average confidence.\n",
    "\n",
    "    Args:\n",
    "        model: Trained scikit-learn classification model.\n",
    "        train_X: Training features (pandas DataFrame).\n",
    "        y_train: Training target (pandas Series).\n",
    "        eval_X: Evaluation features (pandas DataFrame - typically validation or test).\n",
    "        y_eval: Evaluation target (pandas Series - typically validation or test).\n",
    "    \"\"\"\n",
    "    print(\"Evaluating model performance...\")\n",
    "\n",
    "    train_pred_labels = model.predict(train_X)\n",
    "\n",
    "    eval_pred_labels = model.predict(eval_X)\n",
    "\n",
    "    eval_pred_proba = model.predict_proba(eval_X)\n",
    "\n",
    "    eval_confidence_in_prediction = np.max(eval_pred_proba, axis=1)\n",
    "\n",
    "    train_acc = accuracy_score(y_train, train_pred_labels)\n",
    "    eval_acc = accuracy_score(y_eval, eval_pred_labels) \n",
    "\n",
    "    print(f\"Training Accuracy: {train_acc:.4f}\")\n",
    "    print(f\"Evaluation Accuracy: {eval_acc:.4f}\") \n",
    "\n",
    "    print(f\"Average Confidence in Predicted Class on Evaluation Set: {np.mean(eval_confidence_in_prediction):.4f}\")\n",
    "\n",
    "    fig, axes = plt.subplots(1, 2, figsize=(15, 6)) \n",
    "\n",
    "    ConfusionMatrixDisplay.from_predictions(y_train, train_pred_labels, normalize='true', ax=axes[0])\n",
    "    axes[0].set_title(f\"Training Set Performance: Accuracy={train_acc:.2f}\")\n",
    "    axes[0].set_xlabel(\"Predicted label\")\n",
    "    axes[0].set_ylabel(\"True label\")\n",
    "\n",
    "    ConfusionMatrixDisplay.from_predictions(y_eval, eval_pred_labels, normalize='true', ax=axes[1])\n",
    "    axes[1].set_title(f\"Evaluation Set Performance: Accuracy={eval_acc:.2f}\") \n",
    "    axes[1].set_xlabel(\"Predicted label\")\n",
    "    axes[1].set_ylabel(\"True label\")\n",
    "\n",
    "\n",
    "    plt.tight_layout()\n",
    "    plt.show()\n",
    "\n",
    "    print(\"\\nEvaluation Set Classification Report:\") \n",
    "    \n",
    "    print(classification_report(y_eval, eval_pred_labels))\n",
    "\n"
   ]
  },
  {
   "cell_type": "code",
   "execution_count": null,
   "id": "83f77b30",
   "metadata": {},
   "outputs": [
    {
     "name": "stdout",
     "output_type": "stream",
     "text": [
      "Evaluating model performance...\n",
      "Training Accuracy: 0.6339\n",
      "Evaluation Accuracy: 0.6239\n",
      "Average Confidence in Predicted Class on Evaluation Set: 0.6199\n"
     ]
    },
    {
     "data": {
      "image/png": "[encoded data removed]",
      "text/plain": [
       "<Figure size 1500x600 with 4 Axes>"
      ]
     },
     "metadata": {},
     "output_type": "display_data"
    },
    {
     "name": "stdout",
     "output_type": "stream",
     "text": [
      "\n",
      "Evaluation Set Classification Report:\n",
      "              precision    recall  f1-score   support\n",
      "\n",
      "           0       0.65      0.82      0.73      9243\n",
      "           1       0.54      0.32      0.40      6000\n",
      "\n",
      "    accuracy                           0.62     15243\n",
      "   macro avg       0.59      0.57      0.56     15243\n",
      "weighted avg       0.61      0.62      0.60     15243\n",
      "\n"
     ]
    }
   ],
   "source": [
    "eval_classification_performance(best_mlp, train_X_scaled, train_Y, test_X_scaled, test_Y)"
   ]
  },
  {
   "cell_type": "code",
   "execution_count": null,
   "id": "b178ef18",
   "metadata": {},
   "outputs": [
    {
     "data": {
      "image/png": "[encoded data removed]",
      "text/plain": [
       "<Figure size 600x400 with 1 Axes>"
      ]
     },
     "metadata": {},
     "output_type": "display_data"
    }
   ],
   "source": [
    "from sklearn.metrics import roc_curve\n",
    "import matplotlib.pyplot as plt\n",
    "\n",
    "fpr, tpr, thresholds = roc_curve(test_Y, y_proba)\n",
    "\n",
    "plt.figure(figsize=(6, 4))\n",
    "plt.plot(fpr, tpr, label=f\"ROC Curve (AUC = {roc_auc_score(test_Y, y_proba):.2f})\")\n",
    "plt.plot([0, 1], [0, 1], '--', color='gray')\n",
    "plt.xlabel(\"False Positive Rate\")\n",
    "plt.ylabel(\"True Positive Rate\")\n",
    "plt.title(\"ROC Curve\")\n",
    "plt.legend()\n",
    "plt.grid(True)\n",
    "plt.show()"
   ]
  }
 ],
 "metadata": {
  "kernelspec": {
   "display_name": ".venv",
   "language": "python",
   "name": "python3"
  },
  "language_info": {
   "codemirror_mode": {
    "name": "ipython",
    "version": 3
   },
   "file_extension": ".py",
   "mimetype": "text/x-python",
   "name": "python",
   "nbconvert_exporter": "python",
   "pygments_lexer": "ipython3",
   "version": "3.10.12"
  }
 },
 "nbformat": 4,
 "nbformat_minor": 5
}
