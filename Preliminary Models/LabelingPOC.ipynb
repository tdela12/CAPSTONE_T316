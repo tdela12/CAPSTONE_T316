{
 "cells": [
  {
   "cell_type": "markdown",
   "id": "284679a8",
   "metadata": {},
   "source": [
    "# Proof of Concept: How Data Could be Sorted into Approved / Not Approved"
   ]
  },
  {
   "cell_type": "code",
   "execution_count": 83,
   "id": "b2b375fd",
   "metadata": {},
   "outputs": [],
   "source": [
    "import pandas as pd"
   ]
  },
  {
   "cell_type": "markdown",
   "id": "222524e7",
   "metadata": {},
   "source": [
    "## Interpreting the data"
   ]
  },
  {
   "cell_type": "code",
   "execution_count": 84,
   "id": "55b2c036",
   "metadata": {},
   "outputs": [
    {
     "data": {
      "text/html": [
       "<div>\n",
       "<style scoped>\n",
       "    .dataframe tbody tr th:only-of-type {\n",
       "        vertical-align: middle;\n",
       "    }\n",
       "\n",
       "    .dataframe tbody tr th {\n",
       "        vertical-align: top;\n",
       "    }\n",
       "\n",
       "    .dataframe thead th {\n",
       "        text-align: right;\n",
       "    }\n",
       "</style>\n",
       "<table border=\"1\" class=\"dataframe\">\n",
       "  <thead>\n",
       "    <tr style=\"text-align: right;\">\n",
       "      <th></th>\n",
       "      <th>bookingID</th>\n",
       "      <th>ticketID</th>\n",
       "      <th>price</th>\n",
       "      <th>status</th>\n",
       "    </tr>\n",
       "  </thead>\n",
       "  <tbody>\n",
       "    <tr>\n",
       "      <th>0</th>\n",
       "      <td>1</td>\n",
       "      <td>1</td>\n",
       "      <td>10</td>\n",
       "      <td>not completed</td>\n",
       "    </tr>\n",
       "    <tr>\n",
       "      <th>1</th>\n",
       "      <td>1</td>\n",
       "      <td>1</td>\n",
       "      <td>20</td>\n",
       "      <td>completed</td>\n",
       "    </tr>\n",
       "    <tr>\n",
       "      <th>2</th>\n",
       "      <td>2</td>\n",
       "      <td>2</td>\n",
       "      <td>10</td>\n",
       "      <td>not completed</td>\n",
       "    </tr>\n",
       "    <tr>\n",
       "      <th>3</th>\n",
       "      <td>2</td>\n",
       "      <td>3</td>\n",
       "      <td>20</td>\n",
       "      <td>not completed</td>\n",
       "    </tr>\n",
       "    <tr>\n",
       "      <th>4</th>\n",
       "      <td>2</td>\n",
       "      <td>2</td>\n",
       "      <td>30</td>\n",
       "      <td>completed</td>\n",
       "    </tr>\n",
       "    <tr>\n",
       "      <th>5</th>\n",
       "      <td>2</td>\n",
       "      <td>3</td>\n",
       "      <td>20</td>\n",
       "      <td>completed</td>\n",
       "    </tr>\n",
       "  </tbody>\n",
       "</table>\n",
       "</div>"
      ],
      "text/plain": [
       "   bookingID  ticketID  price         status\n",
       "0          1         1     10  not completed\n",
       "1          1         1     20      completed\n",
       "2          2         2     10  not completed\n",
       "3          2         3     20  not completed\n",
       "4          2         2     30      completed\n",
       "5          2         3     20      completed"
      ]
     },
     "execution_count": 84,
     "metadata": {},
     "output_type": "execute_result"
    }
   ],
   "source": [
    "df = pd.read_csv('mock.csv')\n",
    "df.head(6)"
   ]
  },
  {
   "cell_type": "markdown",
   "id": "33a3360a",
   "metadata": {},
   "source": [
    "### What can we see?\n",
    "-  Row entries have two status states, not completed and completed. \n",
    "- Completed implies that an order has been approved, and hence all tickets in the booking were fine to be approved\n",
    "- Not completed implies that an order has not been approved. This means a single or multiple ticket in the order could not be approved. It does not mean that all tickets in the order could not be approved\n",
    "- If a row matches another row in all categories except status, it is assumed the ticket was fine to be approved from the beginning. and only the entry with the completed status should be preserved\n",
    "- If the row has no other matches in all categories, the approval state can be set based on the status\n",
    "\n",
    "### What Steps should we take?\n",
    "1. Remove duplicate rows with the status not completed\n",
    "2. Create a column with the final approval state\n",
    "\n",
    "## Processing the Data"
   ]
  },
  {
   "cell_type": "code",
   "execution_count": 85,
   "id": "90713322",
   "metadata": {},
   "outputs": [
    {
     "data": {
      "text/html": [
       "<div>\n",
       "<style scoped>\n",
       "    .dataframe tbody tr th:only-of-type {\n",
       "        vertical-align: middle;\n",
       "    }\n",
       "\n",
       "    .dataframe tbody tr th {\n",
       "        vertical-align: top;\n",
       "    }\n",
       "\n",
       "    .dataframe thead th {\n",
       "        text-align: right;\n",
       "    }\n",
       "</style>\n",
       "<table border=\"1\" class=\"dataframe\">\n",
       "  <thead>\n",
       "    <tr style=\"text-align: right;\">\n",
       "      <th></th>\n",
       "      <th>bookingID</th>\n",
       "      <th>ticketID</th>\n",
       "      <th>price</th>\n",
       "      <th>approval_status</th>\n",
       "    </tr>\n",
       "  </thead>\n",
       "  <tbody>\n",
       "    <tr>\n",
       "      <th>0</th>\n",
       "      <td>1</td>\n",
       "      <td>1</td>\n",
       "      <td>10</td>\n",
       "      <td>not approved</td>\n",
       "    </tr>\n",
       "    <tr>\n",
       "      <th>1</th>\n",
       "      <td>1</td>\n",
       "      <td>1</td>\n",
       "      <td>20</td>\n",
       "      <td>approved</td>\n",
       "    </tr>\n",
       "    <tr>\n",
       "      <th>2</th>\n",
       "      <td>2</td>\n",
       "      <td>2</td>\n",
       "      <td>10</td>\n",
       "      <td>not approved</td>\n",
       "    </tr>\n",
       "    <tr>\n",
       "      <th>4</th>\n",
       "      <td>2</td>\n",
       "      <td>2</td>\n",
       "      <td>30</td>\n",
       "      <td>approved</td>\n",
       "    </tr>\n",
       "    <tr>\n",
       "      <th>5</th>\n",
       "      <td>2</td>\n",
       "      <td>3</td>\n",
       "      <td>20</td>\n",
       "      <td>not approved</td>\n",
       "    </tr>\n",
       "  </tbody>\n",
       "</table>\n",
       "</div>"
      ],
      "text/plain": [
       "   bookingID  ticketID  price approval_status\n",
       "0          1         1     10    not approved\n",
       "1          1         1     20        approved\n",
       "2          2         2     10    not approved\n",
       "4          2         2     30        approved\n",
       "5          2         3     20    not approved"
      ]
     },
     "execution_count": 85,
     "metadata": {},
     "output_type": "execute_result"
    }
   ],
   "source": [
    "# Assign priority: 'completed' gets highest priority (lowest number)\n",
    "df['status_priority'] = df['status'].apply(lambda x: 0 if x == 'completed' else 1)\n",
    "\n",
    "# Define the columns used to detect duplicates (all except 'status' and 'status_priority')\n",
    "dedup_cols = [col for col in df.columns if col not in ['status', 'status_priority']]\n",
    "\n",
    "# Sort so that 'completed' comes last within each group of duplicate rows\n",
    "df_sorted = df.sort_values(by=dedup_cols + ['status_priority'])\n",
    "\n",
    "# Drop duplicates based on all columns except status, keeping the preferred row (last)\n",
    "df_deduped = df_sorted.drop_duplicates(subset=dedup_cols, keep='last')\n",
    "\n",
    "# Drop the helper column\n",
    "df_deduped = df_deduped.drop(columns='status_priority')\n",
    "\n",
    "# Replace status column with approval labels\n",
    "df_deduped['approval_status'] = df_deduped['status'].apply(lambda x: 'approved' if x == 'completed' else 'not approved')\n",
    "df_deduped.drop(columns='status', inplace=True)\n",
    "df_deduped.head(6)\n"
   ]
  },
  {
   "cell_type": "markdown",
   "id": "bc447919",
   "metadata": {},
   "source": []
  }
 ],
 "metadata": {
  "kernelspec": {
   "display_name": "venv",
   "language": "python",
   "name": "python3"
  },
  "language_info": {
   "codemirror_mode": {
    "name": "ipython",
    "version": 3
   },
   "file_extension": ".py",
   "mimetype": "text/x-python",
   "name": "python",
   "nbconvert_exporter": "python",
   "pygments_lexer": "ipython3",
   "version": "3.12.3"
  }
 },
 "nbformat": 4,
 "nbformat_minor": 5
}
