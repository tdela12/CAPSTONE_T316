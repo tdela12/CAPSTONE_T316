{
 "cells": [
  {
   "cell_type": "markdown",
   "id": "842cff3a",
   "metadata": {},
   "source": [
    "# OneClassSVM Model"
   ]
  }
 ],
 "metadata": {
  "language_info": {
   "name": "python"
  }
 },
 "nbformat": 4,
 "nbformat_minor": 5
}
