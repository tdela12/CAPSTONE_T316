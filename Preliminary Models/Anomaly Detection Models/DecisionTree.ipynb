{
 "cells": [
  {
   "cell_type": "markdown",
   "id": "62552210",
   "metadata": {},
   "source": [
    "# Decision Tree\n",
    "\n",
    "## Import Statements"
   ]
  },
  {
   "cell_type": "code",
   "execution_count": 1,
   "id": "64f1e7b8",
   "metadata": {},
   "outputs": [],
   "source": [
    "import pandas as pd\n",
    "import numpy as np\n",
    "from sklearn.preprocessing import StandardScaler, OneHotEncoder\n",
    "from sklearn.compose import ColumnTransformer\n",
    "from sklearn.pipeline import Pipeline\n",
    "from category_encoders import OneHotEncoder\n",
    "from sklearn.model_selection import train_test_split\n",
    "from sklearn.tree import DecisionTreeRegressor\n",
    "from sklearn.metrics import mean_squared_error, mean_absolute_error, r2_score\n",
    "from sklearn.metrics import confusion_matrix, classification_report"
   ]
  },
  {
   "cell_type": "markdown",
   "id": "632baa8b",
   "metadata": {},
   "source": [
    "## Data Import"
   ]
  },
  {
   "cell_type": "code",
   "execution_count": 2,
   "id": "cd79fe86",
   "metadata": {},
   "outputs": [
    {
     "data": {
      "text/plain": [
       "np.float64(5.987466197364467)"
      ]
     },
     "execution_count": 2,
     "metadata": {},
     "output_type": "execute_result"
    }
   ],
   "source": [
    "df = pd.read_csv('data/preprocessed_data.csv')\n",
    "df.head()\n",
    "(df['Label'] == 1).sum() / (df['Label'] == 0).sum()\n"
   ]
  },
  {
   "cell_type": "markdown",
   "id": "eadb1ac4",
   "metadata": {},
   "source": [
    "## Extract Features and Labels"
   ]
  },
  {
   "cell_type": "code",
   "execution_count": 3,
   "id": "8eaa7182",
   "metadata": {},
   "outputs": [],
   "source": [
    "X = df.drop(columns=['AdjustedPrice', 'Label']) # Removing price and label features\n",
    "y = df['AdjustedPrice'] # Predict Price"
   ]
  },
  {
   "cell_type": "markdown",
   "id": "dd374026",
   "metadata": {},
   "source": [
    "## Train Val Test Split"
   ]
  },
  {
   "cell_type": "code",
   "execution_count": 4,
   "id": "b49b0789",
   "metadata": {},
   "outputs": [],
   "source": [
    "X_train, X_temp, y_train, y_temp = train_test_split(X, y, test_size=0.2, random_state=42)\n",
    "X_val, X_test, y_val, y_test = train_test_split(X_temp, y_temp, test_size=0.5, random_state=42)"
   ]
  },
  {
   "cell_type": "markdown",
   "id": "faf96f2d",
   "metadata": {},
   "source": [
    "## Encoding Data"
   ]
  },
  {
   "cell_type": "code",
   "execution_count": 5,
   "id": "3020ec3d",
   "metadata": {},
   "outputs": [],
   "source": [
    "train_features = ['VMakeModel', 'VYear']\n",
    "eval_features = ['VMakeModel', 'VYear']\n",
    "\n",
    "# Preprocessing Columns\n",
    "categorical_cols = ['VMakeModel', 'VMake'] #One Hot Encoding\n",
    "numerical_cols = ['VYear', 'Distance', 'Months'] # Standardising \n",
    "\n",
    "preprocessor = ColumnTransformer(\n",
    "    transformers=[\n",
    "        ('onehot', OneHotEncoder(handle_unknown='ignore'), categorical_cols),\n",
    "        ('scaler', StandardScaler(), numerical_cols)\n",
    "    ],\n",
    "    remainder='passthrough'\n",
    ")"
   ]
  },
  {
   "cell_type": "markdown",
   "id": "1ad11d46",
   "metadata": {},
   "source": [
    "## Create and Training the Model"
   ]
  },
  {
   "cell_type": "code",
   "execution_count": 6,
   "id": "e6a49b1a",
   "metadata": {},
   "outputs": [],
   "source": [
    "pipeline = Pipeline(steps=[\n",
    "    ('preprocessor', preprocessor),\n",
    "    ('regressor', DecisionTreeRegressor(random_state=42))\n",
    "])\n",
    "\n",
    "pipeline.fit(X_train, y_train) # Training pipeline on training data\n",
    "\n",
    "y_train_pred = pipeline.predict(X_train) # Predicting training data for baseline"
   ]
  },
  {
   "cell_type": "markdown",
   "id": "fdc50e8b",
   "metadata": {},
   "source": [
    "## Evaluation"
   ]
  },
  {
   "cell_type": "code",
   "execution_count": null,
   "id": "75913666",
   "metadata": {},
   "outputs": [
    {
     "name": "stdout",
     "output_type": "stream",
     "text": [
      "Anomaly Threshold: 452.17\n"
     ]
    }
   ],
   "source": [
    "# Predicting validation data to calculate anomaly threshold\n",
    "y_val_pred_prices = pipeline.predict(X_val)\n",
    "residuals = np.abs(y_val - y_val_pred_prices)\n",
    "\n",
    "# Anomaly Threshold Calculation\n",
    "anomaly_threshold = np.percentile(residuals, 95) # Threshold determined by 95th percentile\n",
    "# mean_residual = np.mean(residuals)\n",
    "# std_residual = np.std(residuals)\n",
    "# anomaly_threshold = mean_residual + (2 * std_residual)\n",
    "print(f\"Anomaly Threshold: {anomaly_threshold:.2f}\")\n",
    "\n",
    "# Appling anomaly detection on the test data and evaluating\n",
    "y_test_pred_prices = pipeline.predict(X_test)\n",
    "y_pred_anomaly_labels = (np.abs(y_test - y_test_pred_prices) > anomaly_threshold).astype(int)\n",
    "\n",
    "# Using the Labels from the test set for evaluation\n",
    "y_true_labels = df.loc[y_test.index, 'Label']\n"
   ]
  },
  {
   "cell_type": "code",
   "execution_count": 8,
   "id": "163b6687",
   "metadata": {},
   "outputs": [
    {
     "name": "stdout",
     "output_type": "stream",
     "text": [
      "Anomaly Detection Evaluation\n",
      "Confusion Matrix:\n",
      "[[ 2129   159]\n",
      " [13618   373]]\n",
      "\n",
      "Classification Report:\n",
      "              precision    recall  f1-score   support\n",
      "\n",
      "           0       0.14      0.93      0.24      2288\n",
      "           1       0.70      0.03      0.05     13991\n",
      "\n",
      "    accuracy                           0.15     16279\n",
      "   macro avg       0.42      0.48      0.14     16279\n",
      "weighted avg       0.62      0.15      0.08     16279\n",
      "\n"
     ]
    }
   ],
   "source": [
    "# Applying the anomaly detection on the test data and evaluating\n",
    "y_test_pred_prices = pipeline.predict(X_test)\n",
    "y_pred_anomaly_labels = (np.abs(y_test - y_test_pred_prices) > anomaly_threshold).astype(int)\n",
    "\n",
    "# Using the Labels from the test set for evaluation\n",
    "y_true_labels = df.loc[y_test.index, 'Label']\n",
    "\n",
    "print(\"Anomaly Detection Evaluation\")\n",
    "print(\"Confusion Matrix:\")\n",
    "print(confusion_matrix(y_true_labels, y_pred_anomaly_labels))\n",
    "\n",
    "print(\"\\nClassification Report:\")\n",
    "print(classification_report(y_true_labels, y_pred_anomaly_labels))"
   ]
  },
  {
   "cell_type": "markdown",
   "id": "d1f92738",
   "metadata": {},
   "source": [
    "Overall model performs poorly as expected, Overfits alot due to not picking up complex details"
   ]
  },
  {
   "cell_type": "markdown",
   "id": "1b76bdf8",
   "metadata": {},
   "source": []
  }
 ],
 "metadata": {
  "kernelspec": {
   "display_name": "venv",
   "language": "python",
   "name": "python3"
  },
  "language_info": {
   "codemirror_mode": {
    "name": "ipython",
    "version": 3
   },
   "file_extension": ".py",
   "mimetype": "text/x-python",
   "name": "python",
   "nbconvert_exporter": "python",
   "pygments_lexer": "ipython3",
   "version": "3.12.3"
  }
 },
 "nbformat": 4,
 "nbformat_minor": 5
}
